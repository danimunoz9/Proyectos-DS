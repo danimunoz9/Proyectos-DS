{
  "nbformat": 4,
  "nbformat_minor": 0,
  "metadata": {
    "colab": {
      "provenance": []
    },
    "kernelspec": {
      "name": "python3",
      "display_name": "Python 3"
    },
    "language_info": {
      "name": "python"
    }
  },
  "cells": [
    {
      "cell_type": "markdown",
      "source": [
        "# Google Analytics Customer Revenue"
      ],
      "metadata": {
        "id": "Ure_k3LlpXwi"
      }
    },
    {
      "cell_type": "markdown",
      "source": [
        "## Import libreries"
      ],
      "metadata": {
        "id": "BLYXV9H7qDM-"
      }
    },
    {
      "cell_type": "code",
      "source": [
        "import numpy as np\n",
        "import pandas as pd\n",
        "\n",
        "import matplotlib.pyplot as plt\n",
        "import seaborn as sns\n",
        "\n",
        "import sys\n",
        "import os\n"
      ],
      "metadata": {
        "id": "g6dv4ILPqF6l"
      },
      "execution_count": null,
      "outputs": []
    },
    {
      "cell_type": "code",
      "source": [
        "import random\n",
        "import json\n",
        "from pandas.io.json import json_normalize\n",
        "\n",
        "from scipy import stats\n",
        "from datetime import datetime\n",
        "\n",
        "from sklearn import model_selection\n",
        "import xgboost as xgb \n",
        "import lightgbm as lgb\n"
      ],
      "metadata": {
        "id": "cK-uctvhqS6E"
      },
      "execution_count": null,
      "outputs": []
    },
    {
      "cell_type": "code",
      "source": [
        "from google.colab import drive\n",
        "drive.mount('/content/gdrive')"
      ],
      "metadata": {
        "colab": {
          "base_uri": "https://localhost:8080/"
        },
        "id": "4Ktz0ugcrLoZ",
        "outputId": "e48b3f84-3bc9-41f8-9f72-511b7441c36f"
      },
      "execution_count": null,
      "outputs": [
        {
          "output_type": "stream",
          "name": "stdout",
          "text": [
            "Drive already mounted at /content/gdrive; to attempt to forcibly remount, call drive.mount(\"/content/gdrive\", force_remount=True).\n"
          ]
        }
      ]
    },
    {
      "cell_type": "markdown",
      "source": [
        "## Import data"
      ],
      "metadata": {
        "id": "U5-gmfqsrujv"
      }
    },
    {
      "cell_type": "code",
      "source": [
        "columns = ['device','geoNetwork','totals']"
      ],
      "metadata": {
        "id": "wjKaoRwysIt2"
      },
      "execution_count": null,
      "outputs": []
    },
    {
      "cell_type": "code",
      "source": [
        "p = 0.1"
      ],
      "metadata": {
        "id": "15obtR0JsNhE"
      },
      "execution_count": null,
      "outputs": []
    },
    {
      "cell_type": "code",
      "source": [
        "def json_read(df):\n",
        "    data_frame = file_dir + df\n",
        "    \n",
        "    df = pd.read_csv(data_frame, \n",
        "                     converters={column: json.loads for column in columns}, \n",
        "                     dtype={'fullVisitorId': 'str'}, \n",
        "                     skiprows=lambda i: i>0 and random.random() > p)\n",
        "    \n",
        "    for column in columns: \n",
        "        column_as_df = json_normalize(df[column]) \n",
        "        column_as_df.columns = [f\"{column}.{subcolumn}\" for subcolumn in column_as_df.columns] \n",
        "        df = df.drop(column, axis=1).merge(column_as_df, right_index=True, left_index=True)\n",
        "        \n",
        "    print(f\"Loaded {os.path.basename(data_frame)}. Shape: {df.shape}\")\n",
        "    return df"
      ],
      "metadata": {
        "id": "dOq4piO5sRkz"
      },
      "execution_count": null,
      "outputs": []
    },
    {
      "cell_type": "code",
      "source": [
        "file_dir = '/content/gdrive/MyDrive/MASTER DS/ML. Supervisado'\n",
        "file_name = '/GACR_def.csv'"
      ],
      "metadata": {
        "id": "YaO82orMtMl7"
      },
      "execution_count": null,
      "outputs": []
    },
    {
      "cell_type": "code",
      "source": [
        "%%time\n",
        "random.seed(42)\n",
        "df = json_read(file_name)"
      ],
      "metadata": {
        "colab": {
          "base_uri": "https://localhost:8080/"
        },
        "id": "4rU1xRn9tne1",
        "outputId": "62a21134-ca65-4e15-a6ca-e67d9901bd01"
      },
      "execution_count": null,
      "outputs": [
        {
          "output_type": "stream",
          "name": "stderr",
          "text": [
            "/usr/local/lib/python3.7/dist-packages/ipykernel_launcher.py:10: FutureWarning: pandas.io.json.json_normalize is deprecated, use pandas.json_normalize instead\n",
            "  # Remove the CWD from sys.path while we load stuff.\n"
          ]
        },
        {
          "output_type": "stream",
          "name": "stdout",
          "text": [
            "Loaded GACR_def.csv. Shape: (90249, 42)\n",
            "CPU times: user 11.3 s, sys: 1.58 s, total: 12.9 s\n",
            "Wall time: 15.5 s\n"
          ]
        }
      ]
    },
    {
      "cell_type": "code",
      "source": [
        "df.shape"
      ],
      "metadata": {
        "colab": {
          "base_uri": "https://localhost:8080/"
        },
        "id": "A1EfBYQwyejg",
        "outputId": "1db752cb-5d52-4827-ef7b-c460710cd3a6"
      },
      "execution_count": null,
      "outputs": [
        {
          "output_type": "execute_result",
          "data": {
            "text/plain": [
              "(90249, 42)"
            ]
          },
          "metadata": {},
          "execution_count": 212
        }
      ]
    },
    {
      "cell_type": "markdown",
      "source": [
        "## EDA"
      ],
      "metadata": {
        "id": "oo6yK_ba0O3G"
      }
    },
    {
      "cell_type": "code",
      "source": [
        "df.info(verbose = False)"
      ],
      "metadata": {
        "colab": {
          "base_uri": "https://localhost:8080/"
        },
        "id": "VRSMHKRM0S7M",
        "outputId": "7ef25a29-dbf8-4dfb-e2a5-e582440a37f2"
      },
      "execution_count": null,
      "outputs": [
        {
          "output_type": "stream",
          "name": "stdout",
          "text": [
            "<class 'pandas.core.frame.DataFrame'>\n",
            "RangeIndex: 90249 entries, 0 to 90248\n",
            "Columns: 42 entries, Unnamed: 0 to totals.transactionRevenue\n",
            "dtypes: bool(1), int64(5), object(36)\n",
            "memory usage: 28.3+ MB\n"
          ]
        }
      ]
    },
    {
      "cell_type": "code",
      "source": [
        "df.head().T"
      ],
      "metadata": {
        "colab": {
          "base_uri": "https://localhost:8080/",
          "height": 1000
        },
        "id": "67Nt85dB0XN8",
        "outputId": "fd695fe8-4bec-4b32-ba32-39dd573374a7"
      },
      "execution_count": null,
      "outputs": [
        {
          "output_type": "execute_result",
          "data": {
            "text/html": [
              "\n",
              "  <div id=\"df-8a009499-72d9-4a15-8030-0044a3ec5891\">\n",
              "    <div class=\"colab-df-container\">\n",
              "      <div>\n",
              "<style scoped>\n",
              "    .dataframe tbody tr th:only-of-type {\n",
              "        vertical-align: middle;\n",
              "    }\n",
              "\n",
              "    .dataframe tbody tr th {\n",
              "        vertical-align: top;\n",
              "    }\n",
              "\n",
              "    .dataframe thead th {\n",
              "        text-align: right;\n",
              "    }\n",
              "</style>\n",
              "<table border=\"1\" class=\"dataframe\">\n",
              "  <thead>\n",
              "    <tr style=\"text-align: right;\">\n",
              "      <th></th>\n",
              "      <th>0</th>\n",
              "      <th>1</th>\n",
              "      <th>2</th>\n",
              "      <th>3</th>\n",
              "      <th>4</th>\n",
              "    </tr>\n",
              "  </thead>\n",
              "  <tbody>\n",
              "    <tr>\n",
              "      <th>Unnamed: 0</th>\n",
              "      <td>1</td>\n",
              "      <td>7</td>\n",
              "      <td>9</td>\n",
              "      <td>12</td>\n",
              "      <td>19</td>\n",
              "    </tr>\n",
              "    <tr>\n",
              "      <th>channelGrouping</th>\n",
              "      <td>Organic Search</td>\n",
              "      <td>Organic Search</td>\n",
              "      <td>Organic Search</td>\n",
              "      <td>Organic Search</td>\n",
              "      <td>Organic Search</td>\n",
              "    </tr>\n",
              "    <tr>\n",
              "      <th>date</th>\n",
              "      <td>20160902</td>\n",
              "      <td>20160902</td>\n",
              "      <td>20160902</td>\n",
              "      <td>20160902</td>\n",
              "      <td>20160902</td>\n",
              "    </tr>\n",
              "    <tr>\n",
              "      <th>fullVisitorId</th>\n",
              "      <td>377306020877927890</td>\n",
              "      <td>537222803633850821</td>\n",
              "      <td>9499785259412240342</td>\n",
              "      <td>357659889600827884</td>\n",
              "      <td>3696906537737368442</td>\n",
              "    </tr>\n",
              "    <tr>\n",
              "      <th>sessionId</th>\n",
              "      <td>377306020877927890_1472880147</td>\n",
              "      <td>537222803633850821_1472812602</td>\n",
              "      <td>9499785259412240342_1472812272</td>\n",
              "      <td>357659889600827884_1472839882</td>\n",
              "      <td>3696906537737368442_1472856874</td>\n",
              "    </tr>\n",
              "    <tr>\n",
              "      <th>socialEngagementType</th>\n",
              "      <td>Not Socially Engaged</td>\n",
              "      <td>Not Socially Engaged</td>\n",
              "      <td>Not Socially Engaged</td>\n",
              "      <td>Not Socially Engaged</td>\n",
              "      <td>Not Socially Engaged</td>\n",
              "    </tr>\n",
              "    <tr>\n",
              "      <th>visitId</th>\n",
              "      <td>1472880147</td>\n",
              "      <td>1472812602</td>\n",
              "      <td>1472812272</td>\n",
              "      <td>1472839882</td>\n",
              "      <td>1472856874</td>\n",
              "    </tr>\n",
              "    <tr>\n",
              "      <th>visitNumber</th>\n",
              "      <td>1</td>\n",
              "      <td>1</td>\n",
              "      <td>1</td>\n",
              "      <td>1</td>\n",
              "      <td>1</td>\n",
              "    </tr>\n",
              "    <tr>\n",
              "      <th>visitStartTime</th>\n",
              "      <td>1472880147</td>\n",
              "      <td>1472812602</td>\n",
              "      <td>1472812272</td>\n",
              "      <td>1472839882</td>\n",
              "      <td>1472856874</td>\n",
              "    </tr>\n",
              "    <tr>\n",
              "      <th>device.browser</th>\n",
              "      <td>Firefox</td>\n",
              "      <td>Chrome</td>\n",
              "      <td>Firefox</td>\n",
              "      <td>Safari</td>\n",
              "      <td>Chrome</td>\n",
              "    </tr>\n",
              "    <tr>\n",
              "      <th>device.browserVersion</th>\n",
              "      <td>not available in demo dataset</td>\n",
              "      <td>not available in demo dataset</td>\n",
              "      <td>not available in demo dataset</td>\n",
              "      <td>not available in demo dataset</td>\n",
              "      <td>not available in demo dataset</td>\n",
              "    </tr>\n",
              "    <tr>\n",
              "      <th>device.browserSize</th>\n",
              "      <td>not available in demo dataset</td>\n",
              "      <td>not available in demo dataset</td>\n",
              "      <td>not available in demo dataset</td>\n",
              "      <td>not available in demo dataset</td>\n",
              "      <td>not available in demo dataset</td>\n",
              "    </tr>\n",
              "    <tr>\n",
              "      <th>device.operatingSystem</th>\n",
              "      <td>Macintosh</td>\n",
              "      <td>Windows</td>\n",
              "      <td>Windows</td>\n",
              "      <td>iOS</td>\n",
              "      <td>Windows</td>\n",
              "    </tr>\n",
              "    <tr>\n",
              "      <th>device.operatingSystemVersion</th>\n",
              "      <td>not available in demo dataset</td>\n",
              "      <td>not available in demo dataset</td>\n",
              "      <td>not available in demo dataset</td>\n",
              "      <td>not available in demo dataset</td>\n",
              "      <td>not available in demo dataset</td>\n",
              "    </tr>\n",
              "    <tr>\n",
              "      <th>device.isMobile</th>\n",
              "      <td>False</td>\n",
              "      <td>False</td>\n",
              "      <td>False</td>\n",
              "      <td>True</td>\n",
              "      <td>False</td>\n",
              "    </tr>\n",
              "    <tr>\n",
              "      <th>device.mobileDeviceBranding</th>\n",
              "      <td>not available in demo dataset</td>\n",
              "      <td>not available in demo dataset</td>\n",
              "      <td>not available in demo dataset</td>\n",
              "      <td>not available in demo dataset</td>\n",
              "      <td>not available in demo dataset</td>\n",
              "    </tr>\n",
              "    <tr>\n",
              "      <th>device.mobileDeviceModel</th>\n",
              "      <td>not available in demo dataset</td>\n",
              "      <td>not available in demo dataset</td>\n",
              "      <td>not available in demo dataset</td>\n",
              "      <td>not available in demo dataset</td>\n",
              "      <td>not available in demo dataset</td>\n",
              "    </tr>\n",
              "    <tr>\n",
              "      <th>device.mobileInputSelector</th>\n",
              "      <td>not available in demo dataset</td>\n",
              "      <td>not available in demo dataset</td>\n",
              "      <td>not available in demo dataset</td>\n",
              "      <td>not available in demo dataset</td>\n",
              "      <td>not available in demo dataset</td>\n",
              "    </tr>\n",
              "    <tr>\n",
              "      <th>device.mobileDeviceInfo</th>\n",
              "      <td>not available in demo dataset</td>\n",
              "      <td>not available in demo dataset</td>\n",
              "      <td>not available in demo dataset</td>\n",
              "      <td>not available in demo dataset</td>\n",
              "      <td>not available in demo dataset</td>\n",
              "    </tr>\n",
              "    <tr>\n",
              "      <th>device.mobileDeviceMarketingName</th>\n",
              "      <td>not available in demo dataset</td>\n",
              "      <td>not available in demo dataset</td>\n",
              "      <td>not available in demo dataset</td>\n",
              "      <td>not available in demo dataset</td>\n",
              "      <td>not available in demo dataset</td>\n",
              "    </tr>\n",
              "    <tr>\n",
              "      <th>device.flashVersion</th>\n",
              "      <td>not available in demo dataset</td>\n",
              "      <td>not available in demo dataset</td>\n",
              "      <td>not available in demo dataset</td>\n",
              "      <td>not available in demo dataset</td>\n",
              "      <td>not available in demo dataset</td>\n",
              "    </tr>\n",
              "    <tr>\n",
              "      <th>device.language</th>\n",
              "      <td>not available in demo dataset</td>\n",
              "      <td>not available in demo dataset</td>\n",
              "      <td>not available in demo dataset</td>\n",
              "      <td>not available in demo dataset</td>\n",
              "      <td>not available in demo dataset</td>\n",
              "    </tr>\n",
              "    <tr>\n",
              "      <th>device.screenColors</th>\n",
              "      <td>not available in demo dataset</td>\n",
              "      <td>not available in demo dataset</td>\n",
              "      <td>not available in demo dataset</td>\n",
              "      <td>not available in demo dataset</td>\n",
              "      <td>not available in demo dataset</td>\n",
              "    </tr>\n",
              "    <tr>\n",
              "      <th>device.screenResolution</th>\n",
              "      <td>not available in demo dataset</td>\n",
              "      <td>not available in demo dataset</td>\n",
              "      <td>not available in demo dataset</td>\n",
              "      <td>not available in demo dataset</td>\n",
              "      <td>not available in demo dataset</td>\n",
              "    </tr>\n",
              "    <tr>\n",
              "      <th>device.deviceCategory</th>\n",
              "      <td>desktop</td>\n",
              "      <td>desktop</td>\n",
              "      <td>desktop</td>\n",
              "      <td>mobile</td>\n",
              "      <td>desktop</td>\n",
              "    </tr>\n",
              "    <tr>\n",
              "      <th>geoNetwork.continent</th>\n",
              "      <td>Oceania</td>\n",
              "      <td>Oceania</td>\n",
              "      <td>Europe</td>\n",
              "      <td>Asia</td>\n",
              "      <td>Americas</td>\n",
              "    </tr>\n",
              "    <tr>\n",
              "      <th>geoNetwork.subContinent</th>\n",
              "      <td>Australasia</td>\n",
              "      <td>Australasia</td>\n",
              "      <td>Western Europe</td>\n",
              "      <td>Western Asia</td>\n",
              "      <td>South America</td>\n",
              "    </tr>\n",
              "    <tr>\n",
              "      <th>geoNetwork.country</th>\n",
              "      <td>Australia</td>\n",
              "      <td>Australia</td>\n",
              "      <td>Netherlands</td>\n",
              "      <td>Turkey</td>\n",
              "      <td>Argentina</td>\n",
              "    </tr>\n",
              "    <tr>\n",
              "      <th>geoNetwork.region</th>\n",
              "      <td>not available in demo dataset</td>\n",
              "      <td>Queensland</td>\n",
              "      <td>not available in demo dataset</td>\n",
              "      <td>Izmir</td>\n",
              "      <td>Buenos Aires</td>\n",
              "    </tr>\n",
              "    <tr>\n",
              "      <th>geoNetwork.metro</th>\n",
              "      <td>not available in demo dataset</td>\n",
              "      <td>(not set)</td>\n",
              "      <td>not available in demo dataset</td>\n",
              "      <td>(not set)</td>\n",
              "      <td>(not set)</td>\n",
              "    </tr>\n",
              "    <tr>\n",
              "      <th>geoNetwork.city</th>\n",
              "      <td>not available in demo dataset</td>\n",
              "      <td>Brisbane</td>\n",
              "      <td>not available in demo dataset</td>\n",
              "      <td>Izmir</td>\n",
              "      <td>Buenos Aires</td>\n",
              "    </tr>\n",
              "    <tr>\n",
              "      <th>geoNetwork.cityId</th>\n",
              "      <td>not available in demo dataset</td>\n",
              "      <td>not available in demo dataset</td>\n",
              "      <td>not available in demo dataset</td>\n",
              "      <td>not available in demo dataset</td>\n",
              "      <td>not available in demo dataset</td>\n",
              "    </tr>\n",
              "    <tr>\n",
              "      <th>geoNetwork.networkDomain</th>\n",
              "      <td>dodo.net.au</td>\n",
              "      <td>bigpond.net.au</td>\n",
              "      <td>chello.nl</td>\n",
              "      <td>unknown.unknown</td>\n",
              "      <td>phonevision.com.ar</td>\n",
              "    </tr>\n",
              "    <tr>\n",
              "      <th>geoNetwork.latitude</th>\n",
              "      <td>not available in demo dataset</td>\n",
              "      <td>not available in demo dataset</td>\n",
              "      <td>not available in demo dataset</td>\n",
              "      <td>not available in demo dataset</td>\n",
              "      <td>not available in demo dataset</td>\n",
              "    </tr>\n",
              "    <tr>\n",
              "      <th>geoNetwork.longitude</th>\n",
              "      <td>not available in demo dataset</td>\n",
              "      <td>not available in demo dataset</td>\n",
              "      <td>not available in demo dataset</td>\n",
              "      <td>not available in demo dataset</td>\n",
              "      <td>not available in demo dataset</td>\n",
              "    </tr>\n",
              "    <tr>\n",
              "      <th>geoNetwork.networkLocation</th>\n",
              "      <td>not available in demo dataset</td>\n",
              "      <td>not available in demo dataset</td>\n",
              "      <td>not available in demo dataset</td>\n",
              "      <td>not available in demo dataset</td>\n",
              "      <td>not available in demo dataset</td>\n",
              "    </tr>\n",
              "    <tr>\n",
              "      <th>totals.visits</th>\n",
              "      <td>1</td>\n",
              "      <td>1</td>\n",
              "      <td>1</td>\n",
              "      <td>1</td>\n",
              "      <td>1</td>\n",
              "    </tr>\n",
              "    <tr>\n",
              "      <th>totals.hits</th>\n",
              "      <td>1</td>\n",
              "      <td>1</td>\n",
              "      <td>1</td>\n",
              "      <td>1</td>\n",
              "      <td>1</td>\n",
              "    </tr>\n",
              "    <tr>\n",
              "      <th>totals.pageviews</th>\n",
              "      <td>1</td>\n",
              "      <td>1</td>\n",
              "      <td>1</td>\n",
              "      <td>1</td>\n",
              "      <td>1</td>\n",
              "    </tr>\n",
              "    <tr>\n",
              "      <th>totals.bounces</th>\n",
              "      <td>1</td>\n",
              "      <td>1</td>\n",
              "      <td>1</td>\n",
              "      <td>1</td>\n",
              "      <td>1</td>\n",
              "    </tr>\n",
              "    <tr>\n",
              "      <th>totals.newVisits</th>\n",
              "      <td>1</td>\n",
              "      <td>1</td>\n",
              "      <td>1</td>\n",
              "      <td>1</td>\n",
              "      <td>1</td>\n",
              "    </tr>\n",
              "    <tr>\n",
              "      <th>totals.transactionRevenue</th>\n",
              "      <td>NaN</td>\n",
              "      <td>NaN</td>\n",
              "      <td>NaN</td>\n",
              "      <td>NaN</td>\n",
              "      <td>NaN</td>\n",
              "    </tr>\n",
              "  </tbody>\n",
              "</table>\n",
              "</div>\n",
              "      <button class=\"colab-df-convert\" onclick=\"convertToInteractive('df-8a009499-72d9-4a15-8030-0044a3ec5891')\"\n",
              "              title=\"Convert this dataframe to an interactive table.\"\n",
              "              style=\"display:none;\">\n",
              "        \n",
              "  <svg xmlns=\"http://www.w3.org/2000/svg\" height=\"24px\"viewBox=\"0 0 24 24\"\n",
              "       width=\"24px\">\n",
              "    <path d=\"M0 0h24v24H0V0z\" fill=\"none\"/>\n",
              "    <path d=\"M18.56 5.44l.94 2.06.94-2.06 2.06-.94-2.06-.94-.94-2.06-.94 2.06-2.06.94zm-11 1L8.5 8.5l.94-2.06 2.06-.94-2.06-.94L8.5 2.5l-.94 2.06-2.06.94zm10 10l.94 2.06.94-2.06 2.06-.94-2.06-.94-.94-2.06-.94 2.06-2.06.94z\"/><path d=\"M17.41 7.96l-1.37-1.37c-.4-.4-.92-.59-1.43-.59-.52 0-1.04.2-1.43.59L10.3 9.45l-7.72 7.72c-.78.78-.78 2.05 0 2.83L4 21.41c.39.39.9.59 1.41.59.51 0 1.02-.2 1.41-.59l7.78-7.78 2.81-2.81c.8-.78.8-2.07 0-2.86zM5.41 20L4 18.59l7.72-7.72 1.47 1.35L5.41 20z\"/>\n",
              "  </svg>\n",
              "      </button>\n",
              "      \n",
              "  <style>\n",
              "    .colab-df-container {\n",
              "      display:flex;\n",
              "      flex-wrap:wrap;\n",
              "      gap: 12px;\n",
              "    }\n",
              "\n",
              "    .colab-df-convert {\n",
              "      background-color: #E8F0FE;\n",
              "      border: none;\n",
              "      border-radius: 50%;\n",
              "      cursor: pointer;\n",
              "      display: none;\n",
              "      fill: #1967D2;\n",
              "      height: 32px;\n",
              "      padding: 0 0 0 0;\n",
              "      width: 32px;\n",
              "    }\n",
              "\n",
              "    .colab-df-convert:hover {\n",
              "      background-color: #E2EBFA;\n",
              "      box-shadow: 0px 1px 2px rgba(60, 64, 67, 0.3), 0px 1px 3px 1px rgba(60, 64, 67, 0.15);\n",
              "      fill: #174EA6;\n",
              "    }\n",
              "\n",
              "    [theme=dark] .colab-df-convert {\n",
              "      background-color: #3B4455;\n",
              "      fill: #D2E3FC;\n",
              "    }\n",
              "\n",
              "    [theme=dark] .colab-df-convert:hover {\n",
              "      background-color: #434B5C;\n",
              "      box-shadow: 0px 1px 3px 1px rgba(0, 0, 0, 0.15);\n",
              "      filter: drop-shadow(0px 1px 2px rgba(0, 0, 0, 0.3));\n",
              "      fill: #FFFFFF;\n",
              "    }\n",
              "  </style>\n",
              "\n",
              "      <script>\n",
              "        const buttonEl =\n",
              "          document.querySelector('#df-8a009499-72d9-4a15-8030-0044a3ec5891 button.colab-df-convert');\n",
              "        buttonEl.style.display =\n",
              "          google.colab.kernel.accessAllowed ? 'block' : 'none';\n",
              "\n",
              "        async function convertToInteractive(key) {\n",
              "          const element = document.querySelector('#df-8a009499-72d9-4a15-8030-0044a3ec5891');\n",
              "          const dataTable =\n",
              "            await google.colab.kernel.invokeFunction('convertToInteractive',\n",
              "                                                     [key], {});\n",
              "          if (!dataTable) return;\n",
              "\n",
              "          const docLinkHtml = 'Like what you see? Visit the ' +\n",
              "            '<a target=\"_blank\" href=https://colab.research.google.com/notebooks/data_table.ipynb>data table notebook</a>'\n",
              "            + ' to learn more about interactive tables.';\n",
              "          element.innerHTML = '';\n",
              "          dataTable['output_type'] = 'display_data';\n",
              "          await google.colab.output.renderOutput(dataTable, element);\n",
              "          const docLink = document.createElement('div');\n",
              "          docLink.innerHTML = docLinkHtml;\n",
              "          element.appendChild(docLink);\n",
              "        }\n",
              "      </script>\n",
              "    </div>\n",
              "  </div>\n",
              "  "
            ],
            "text/plain": [
              "                                                              0  ...                               4\n",
              "Unnamed: 0                                                    1  ...                              19\n",
              "channelGrouping                                  Organic Search  ...                  Organic Search\n",
              "date                                                   20160902  ...                        20160902\n",
              "fullVisitorId                                377306020877927890  ...             3696906537737368442\n",
              "sessionId                         377306020877927890_1472880147  ...  3696906537737368442_1472856874\n",
              "socialEngagementType                       Not Socially Engaged  ...            Not Socially Engaged\n",
              "visitId                                              1472880147  ...                      1472856874\n",
              "visitNumber                                                   1  ...                               1\n",
              "visitStartTime                                       1472880147  ...                      1472856874\n",
              "device.browser                                          Firefox  ...                          Chrome\n",
              "device.browserVersion             not available in demo dataset  ...   not available in demo dataset\n",
              "device.browserSize                not available in demo dataset  ...   not available in demo dataset\n",
              "device.operatingSystem                                Macintosh  ...                         Windows\n",
              "device.operatingSystemVersion     not available in demo dataset  ...   not available in demo dataset\n",
              "device.isMobile                                           False  ...                           False\n",
              "device.mobileDeviceBranding       not available in demo dataset  ...   not available in demo dataset\n",
              "device.mobileDeviceModel          not available in demo dataset  ...   not available in demo dataset\n",
              "device.mobileInputSelector        not available in demo dataset  ...   not available in demo dataset\n",
              "device.mobileDeviceInfo           not available in demo dataset  ...   not available in demo dataset\n",
              "device.mobileDeviceMarketingName  not available in demo dataset  ...   not available in demo dataset\n",
              "device.flashVersion               not available in demo dataset  ...   not available in demo dataset\n",
              "device.language                   not available in demo dataset  ...   not available in demo dataset\n",
              "device.screenColors               not available in demo dataset  ...   not available in demo dataset\n",
              "device.screenResolution           not available in demo dataset  ...   not available in demo dataset\n",
              "device.deviceCategory                                   desktop  ...                         desktop\n",
              "geoNetwork.continent                                    Oceania  ...                        Americas\n",
              "geoNetwork.subContinent                             Australasia  ...                   South America\n",
              "geoNetwork.country                                    Australia  ...                       Argentina\n",
              "geoNetwork.region                 not available in demo dataset  ...                    Buenos Aires\n",
              "geoNetwork.metro                  not available in demo dataset  ...                       (not set)\n",
              "geoNetwork.city                   not available in demo dataset  ...                    Buenos Aires\n",
              "geoNetwork.cityId                 not available in demo dataset  ...   not available in demo dataset\n",
              "geoNetwork.networkDomain                            dodo.net.au  ...              phonevision.com.ar\n",
              "geoNetwork.latitude               not available in demo dataset  ...   not available in demo dataset\n",
              "geoNetwork.longitude              not available in demo dataset  ...   not available in demo dataset\n",
              "geoNetwork.networkLocation        not available in demo dataset  ...   not available in demo dataset\n",
              "totals.visits                                                 1  ...                               1\n",
              "totals.hits                                                   1  ...                               1\n",
              "totals.pageviews                                              1  ...                               1\n",
              "totals.bounces                                                1  ...                               1\n",
              "totals.newVisits                                              1  ...                               1\n",
              "totals.transactionRevenue                                   NaN  ...                             NaN\n",
              "\n",
              "[42 rows x 5 columns]"
            ]
          },
          "metadata": {},
          "execution_count": 214
        }
      ]
    },
    {
      "cell_type": "code",
      "source": [
        "#PONEMOS EL SESSIONID COMO INDICE  \n",
        "df.set_index('sessionId', inplace = True)"
      ],
      "metadata": {
        "id": "OFt0rHKW1hoe"
      },
      "execution_count": null,
      "outputs": []
    },
    {
      "cell_type": "code",
      "source": [
        "#ELIMINAMOS LAS OTRAS DOS QE TAMBIEN NOS DAN INDICES\n",
        "df_ids = ['fullVisitorId','visitId']"
      ],
      "metadata": {
        "id": "E2DKv_RK4wgf"
      },
      "execution_count": null,
      "outputs": []
    },
    {
      "cell_type": "code",
      "source": [
        "df.drop(df_ids, axis =1, inplace = True)"
      ],
      "metadata": {
        "id": "hUFBu_Pu6ReM"
      },
      "execution_count": null,
      "outputs": []
    },
    {
      "cell_type": "code",
      "source": [
        "#VEMOS qué variables son numéricas"
      ],
      "metadata": {
        "id": "ED2Rux7d6Vg-"
      },
      "execution_count": null,
      "outputs": []
    },
    {
      "cell_type": "code",
      "source": [
        "df.describe(include = np.number).T"
      ],
      "metadata": {
        "colab": {
          "base_uri": "https://localhost:8080/",
          "height": 175
        },
        "id": "ETBe_1V36Y4h",
        "outputId": "6a7fada6-3e59-4f4b-ae5b-ef22a45182d2"
      },
      "execution_count": null,
      "outputs": [
        {
          "output_type": "execute_result",
          "data": {
            "text/html": [
              "\n",
              "  <div id=\"df-03a9f4b8-5c73-4e1b-9f95-6d7785821ea6\">\n",
              "    <div class=\"colab-df-container\">\n",
              "      <div>\n",
              "<style scoped>\n",
              "    .dataframe tbody tr th:only-of-type {\n",
              "        vertical-align: middle;\n",
              "    }\n",
              "\n",
              "    .dataframe tbody tr th {\n",
              "        vertical-align: top;\n",
              "    }\n",
              "\n",
              "    .dataframe thead th {\n",
              "        text-align: right;\n",
              "    }\n",
              "</style>\n",
              "<table border=\"1\" class=\"dataframe\">\n",
              "  <thead>\n",
              "    <tr style=\"text-align: right;\">\n",
              "      <th></th>\n",
              "      <th>count</th>\n",
              "      <th>mean</th>\n",
              "      <th>std</th>\n",
              "      <th>min</th>\n",
              "      <th>25%</th>\n",
              "      <th>50%</th>\n",
              "      <th>75%</th>\n",
              "      <th>max</th>\n",
              "    </tr>\n",
              "  </thead>\n",
              "  <tbody>\n",
              "    <tr>\n",
              "      <th>Unnamed: 0</th>\n",
              "      <td>90249.0</td>\n",
              "      <td>4.517847e+05</td>\n",
              "      <td>2.613238e+05</td>\n",
              "      <td>1.000000e+00</td>\n",
              "      <td>2.254420e+05</td>\n",
              "      <td>4.512880e+05</td>\n",
              "      <td>6.777830e+05</td>\n",
              "      <td>9.036510e+05</td>\n",
              "    </tr>\n",
              "    <tr>\n",
              "      <th>date</th>\n",
              "      <td>90249.0</td>\n",
              "      <td>2.016587e+07</td>\n",
              "      <td>4.697879e+03</td>\n",
              "      <td>2.016080e+07</td>\n",
              "      <td>2.016103e+07</td>\n",
              "      <td>2.017011e+07</td>\n",
              "      <td>2.017042e+07</td>\n",
              "      <td>2.017080e+07</td>\n",
              "    </tr>\n",
              "    <tr>\n",
              "      <th>visitNumber</th>\n",
              "      <td>90249.0</td>\n",
              "      <td>2.241920e+00</td>\n",
              "      <td>8.800759e+00</td>\n",
              "      <td>1.000000e+00</td>\n",
              "      <td>1.000000e+00</td>\n",
              "      <td>1.000000e+00</td>\n",
              "      <td>1.000000e+00</td>\n",
              "      <td>3.930000e+02</td>\n",
              "    </tr>\n",
              "    <tr>\n",
              "      <th>visitStartTime</th>\n",
              "      <td>90249.0</td>\n",
              "      <td>1.484998e+09</td>\n",
              "      <td>9.021906e+06</td>\n",
              "      <td>1.470039e+09</td>\n",
              "      <td>1.477560e+09</td>\n",
              "      <td>1.483901e+09</td>\n",
              "      <td>1.492727e+09</td>\n",
              "      <td>1.501657e+09</td>\n",
              "    </tr>\n",
              "  </tbody>\n",
              "</table>\n",
              "</div>\n",
              "      <button class=\"colab-df-convert\" onclick=\"convertToInteractive('df-03a9f4b8-5c73-4e1b-9f95-6d7785821ea6')\"\n",
              "              title=\"Convert this dataframe to an interactive table.\"\n",
              "              style=\"display:none;\">\n",
              "        \n",
              "  <svg xmlns=\"http://www.w3.org/2000/svg\" height=\"24px\"viewBox=\"0 0 24 24\"\n",
              "       width=\"24px\">\n",
              "    <path d=\"M0 0h24v24H0V0z\" fill=\"none\"/>\n",
              "    <path d=\"M18.56 5.44l.94 2.06.94-2.06 2.06-.94-2.06-.94-.94-2.06-.94 2.06-2.06.94zm-11 1L8.5 8.5l.94-2.06 2.06-.94-2.06-.94L8.5 2.5l-.94 2.06-2.06.94zm10 10l.94 2.06.94-2.06 2.06-.94-2.06-.94-.94-2.06-.94 2.06-2.06.94z\"/><path d=\"M17.41 7.96l-1.37-1.37c-.4-.4-.92-.59-1.43-.59-.52 0-1.04.2-1.43.59L10.3 9.45l-7.72 7.72c-.78.78-.78 2.05 0 2.83L4 21.41c.39.39.9.59 1.41.59.51 0 1.02-.2 1.41-.59l7.78-7.78 2.81-2.81c.8-.78.8-2.07 0-2.86zM5.41 20L4 18.59l7.72-7.72 1.47 1.35L5.41 20z\"/>\n",
              "  </svg>\n",
              "      </button>\n",
              "      \n",
              "  <style>\n",
              "    .colab-df-container {\n",
              "      display:flex;\n",
              "      flex-wrap:wrap;\n",
              "      gap: 12px;\n",
              "    }\n",
              "\n",
              "    .colab-df-convert {\n",
              "      background-color: #E8F0FE;\n",
              "      border: none;\n",
              "      border-radius: 50%;\n",
              "      cursor: pointer;\n",
              "      display: none;\n",
              "      fill: #1967D2;\n",
              "      height: 32px;\n",
              "      padding: 0 0 0 0;\n",
              "      width: 32px;\n",
              "    }\n",
              "\n",
              "    .colab-df-convert:hover {\n",
              "      background-color: #E2EBFA;\n",
              "      box-shadow: 0px 1px 2px rgba(60, 64, 67, 0.3), 0px 1px 3px 1px rgba(60, 64, 67, 0.15);\n",
              "      fill: #174EA6;\n",
              "    }\n",
              "\n",
              "    [theme=dark] .colab-df-convert {\n",
              "      background-color: #3B4455;\n",
              "      fill: #D2E3FC;\n",
              "    }\n",
              "\n",
              "    [theme=dark] .colab-df-convert:hover {\n",
              "      background-color: #434B5C;\n",
              "      box-shadow: 0px 1px 3px 1px rgba(0, 0, 0, 0.15);\n",
              "      filter: drop-shadow(0px 1px 2px rgba(0, 0, 0, 0.3));\n",
              "      fill: #FFFFFF;\n",
              "    }\n",
              "  </style>\n",
              "\n",
              "      <script>\n",
              "        const buttonEl =\n",
              "          document.querySelector('#df-03a9f4b8-5c73-4e1b-9f95-6d7785821ea6 button.colab-df-convert');\n",
              "        buttonEl.style.display =\n",
              "          google.colab.kernel.accessAllowed ? 'block' : 'none';\n",
              "\n",
              "        async function convertToInteractive(key) {\n",
              "          const element = document.querySelector('#df-03a9f4b8-5c73-4e1b-9f95-6d7785821ea6');\n",
              "          const dataTable =\n",
              "            await google.colab.kernel.invokeFunction('convertToInteractive',\n",
              "                                                     [key], {});\n",
              "          if (!dataTable) return;\n",
              "\n",
              "          const docLinkHtml = 'Like what you see? Visit the ' +\n",
              "            '<a target=\"_blank\" href=https://colab.research.google.com/notebooks/data_table.ipynb>data table notebook</a>'\n",
              "            + ' to learn more about interactive tables.';\n",
              "          element.innerHTML = '';\n",
              "          dataTable['output_type'] = 'display_data';\n",
              "          await google.colab.output.renderOutput(dataTable, element);\n",
              "          const docLink = document.createElement('div');\n",
              "          docLink.innerHTML = docLinkHtml;\n",
              "          element.appendChild(docLink);\n",
              "        }\n",
              "      </script>\n",
              "    </div>\n",
              "  </div>\n",
              "  "
            ],
            "text/plain": [
              "                  count          mean  ...           75%           max\n",
              "Unnamed: 0      90249.0  4.517847e+05  ...  6.777830e+05  9.036510e+05\n",
              "date            90249.0  2.016587e+07  ...  2.017042e+07  2.017080e+07\n",
              "visitNumber     90249.0  2.241920e+00  ...  1.000000e+00  3.930000e+02\n",
              "visitStartTime  90249.0  1.484998e+09  ...  1.492727e+09  1.501657e+09\n",
              "\n",
              "[4 rows x 8 columns]"
            ]
          },
          "metadata": {},
          "execution_count": 219
        }
      ]
    },
    {
      "cell_type": "code",
      "source": [
        "#VEMOS LAS COLUMNAS CATEGORICAS\n",
        "df.describe(exclude = np.number).T"
      ],
      "metadata": {
        "colab": {
          "base_uri": "https://localhost:8080/",
          "height": 1000
        },
        "id": "NM8NE1qS7C6e",
        "outputId": "0f2ce912-6d24-4027-f0c5-5523248a581a"
      },
      "execution_count": null,
      "outputs": [
        {
          "output_type": "execute_result",
          "data": {
            "text/html": [
              "\n",
              "  <div id=\"df-ca45b549-3fe0-488f-bf77-3dce10b48f55\">\n",
              "    <div class=\"colab-df-container\">\n",
              "      <div>\n",
              "<style scoped>\n",
              "    .dataframe tbody tr th:only-of-type {\n",
              "        vertical-align: middle;\n",
              "    }\n",
              "\n",
              "    .dataframe tbody tr th {\n",
              "        vertical-align: top;\n",
              "    }\n",
              "\n",
              "    .dataframe thead th {\n",
              "        text-align: right;\n",
              "    }\n",
              "</style>\n",
              "<table border=\"1\" class=\"dataframe\">\n",
              "  <thead>\n",
              "    <tr style=\"text-align: right;\">\n",
              "      <th></th>\n",
              "      <th>count</th>\n",
              "      <th>unique</th>\n",
              "      <th>top</th>\n",
              "      <th>freq</th>\n",
              "    </tr>\n",
              "  </thead>\n",
              "  <tbody>\n",
              "    <tr>\n",
              "      <th>channelGrouping</th>\n",
              "      <td>90249</td>\n",
              "      <td>8</td>\n",
              "      <td>Organic Search</td>\n",
              "      <td>37993</td>\n",
              "    </tr>\n",
              "    <tr>\n",
              "      <th>socialEngagementType</th>\n",
              "      <td>90249</td>\n",
              "      <td>1</td>\n",
              "      <td>Not Socially Engaged</td>\n",
              "      <td>90249</td>\n",
              "    </tr>\n",
              "    <tr>\n",
              "      <th>device.browser</th>\n",
              "      <td>90249</td>\n",
              "      <td>32</td>\n",
              "      <td>Chrome</td>\n",
              "      <td>62130</td>\n",
              "    </tr>\n",
              "    <tr>\n",
              "      <th>device.browserVersion</th>\n",
              "      <td>90249</td>\n",
              "      <td>1</td>\n",
              "      <td>not available in demo dataset</td>\n",
              "      <td>90249</td>\n",
              "    </tr>\n",
              "    <tr>\n",
              "      <th>device.browserSize</th>\n",
              "      <td>90249</td>\n",
              "      <td>1</td>\n",
              "      <td>not available in demo dataset</td>\n",
              "      <td>90249</td>\n",
              "    </tr>\n",
              "    <tr>\n",
              "      <th>device.operatingSystem</th>\n",
              "      <td>90249</td>\n",
              "      <td>14</td>\n",
              "      <td>Windows</td>\n",
              "      <td>34835</td>\n",
              "    </tr>\n",
              "    <tr>\n",
              "      <th>device.operatingSystemVersion</th>\n",
              "      <td>90249</td>\n",
              "      <td>1</td>\n",
              "      <td>not available in demo dataset</td>\n",
              "      <td>90249</td>\n",
              "    </tr>\n",
              "    <tr>\n",
              "      <th>device.isMobile</th>\n",
              "      <td>90249</td>\n",
              "      <td>2</td>\n",
              "      <td>False</td>\n",
              "      <td>66496</td>\n",
              "    </tr>\n",
              "    <tr>\n",
              "      <th>device.mobileDeviceBranding</th>\n",
              "      <td>90249</td>\n",
              "      <td>1</td>\n",
              "      <td>not available in demo dataset</td>\n",
              "      <td>90249</td>\n",
              "    </tr>\n",
              "    <tr>\n",
              "      <th>device.mobileDeviceModel</th>\n",
              "      <td>90249</td>\n",
              "      <td>1</td>\n",
              "      <td>not available in demo dataset</td>\n",
              "      <td>90249</td>\n",
              "    </tr>\n",
              "    <tr>\n",
              "      <th>device.mobileInputSelector</th>\n",
              "      <td>90249</td>\n",
              "      <td>1</td>\n",
              "      <td>not available in demo dataset</td>\n",
              "      <td>90249</td>\n",
              "    </tr>\n",
              "    <tr>\n",
              "      <th>device.mobileDeviceInfo</th>\n",
              "      <td>90249</td>\n",
              "      <td>1</td>\n",
              "      <td>not available in demo dataset</td>\n",
              "      <td>90249</td>\n",
              "    </tr>\n",
              "    <tr>\n",
              "      <th>device.mobileDeviceMarketingName</th>\n",
              "      <td>90249</td>\n",
              "      <td>1</td>\n",
              "      <td>not available in demo dataset</td>\n",
              "      <td>90249</td>\n",
              "    </tr>\n",
              "    <tr>\n",
              "      <th>device.flashVersion</th>\n",
              "      <td>90249</td>\n",
              "      <td>1</td>\n",
              "      <td>not available in demo dataset</td>\n",
              "      <td>90249</td>\n",
              "    </tr>\n",
              "    <tr>\n",
              "      <th>device.language</th>\n",
              "      <td>90249</td>\n",
              "      <td>1</td>\n",
              "      <td>not available in demo dataset</td>\n",
              "      <td>90249</td>\n",
              "    </tr>\n",
              "    <tr>\n",
              "      <th>device.screenColors</th>\n",
              "      <td>90249</td>\n",
              "      <td>1</td>\n",
              "      <td>not available in demo dataset</td>\n",
              "      <td>90249</td>\n",
              "    </tr>\n",
              "    <tr>\n",
              "      <th>device.screenResolution</th>\n",
              "      <td>90249</td>\n",
              "      <td>1</td>\n",
              "      <td>not available in demo dataset</td>\n",
              "      <td>90249</td>\n",
              "    </tr>\n",
              "    <tr>\n",
              "      <th>device.deviceCategory</th>\n",
              "      <td>90249</td>\n",
              "      <td>3</td>\n",
              "      <td>desktop</td>\n",
              "      <td>66492</td>\n",
              "    </tr>\n",
              "    <tr>\n",
              "      <th>geoNetwork.continent</th>\n",
              "      <td>90249</td>\n",
              "      <td>6</td>\n",
              "      <td>Americas</td>\n",
              "      <td>44972</td>\n",
              "    </tr>\n",
              "    <tr>\n",
              "      <th>geoNetwork.subContinent</th>\n",
              "      <td>90249</td>\n",
              "      <td>23</td>\n",
              "      <td>Northern America</td>\n",
              "      <td>39026</td>\n",
              "    </tr>\n",
              "    <tr>\n",
              "      <th>geoNetwork.country</th>\n",
              "      <td>90249</td>\n",
              "      <td>194</td>\n",
              "      <td>United States</td>\n",
              "      <td>36452</td>\n",
              "    </tr>\n",
              "    <tr>\n",
              "      <th>geoNetwork.region</th>\n",
              "      <td>90249</td>\n",
              "      <td>339</td>\n",
              "      <td>not available in demo dataset</td>\n",
              "      <td>50610</td>\n",
              "    </tr>\n",
              "    <tr>\n",
              "      <th>geoNetwork.metro</th>\n",
              "      <td>90249</td>\n",
              "      <td>82</td>\n",
              "      <td>not available in demo dataset</td>\n",
              "      <td>50610</td>\n",
              "    </tr>\n",
              "    <tr>\n",
              "      <th>geoNetwork.city</th>\n",
              "      <td>90249</td>\n",
              "      <td>546</td>\n",
              "      <td>not available in demo dataset</td>\n",
              "      <td>50610</td>\n",
              "    </tr>\n",
              "    <tr>\n",
              "      <th>geoNetwork.cityId</th>\n",
              "      <td>90249</td>\n",
              "      <td>1</td>\n",
              "      <td>not available in demo dataset</td>\n",
              "      <td>90249</td>\n",
              "    </tr>\n",
              "    <tr>\n",
              "      <th>geoNetwork.networkDomain</th>\n",
              "      <td>90249</td>\n",
              "      <td>7110</td>\n",
              "      <td>(not set)</td>\n",
              "      <td>24439</td>\n",
              "    </tr>\n",
              "    <tr>\n",
              "      <th>geoNetwork.latitude</th>\n",
              "      <td>90249</td>\n",
              "      <td>1</td>\n",
              "      <td>not available in demo dataset</td>\n",
              "      <td>90249</td>\n",
              "    </tr>\n",
              "    <tr>\n",
              "      <th>geoNetwork.longitude</th>\n",
              "      <td>90249</td>\n",
              "      <td>1</td>\n",
              "      <td>not available in demo dataset</td>\n",
              "      <td>90249</td>\n",
              "    </tr>\n",
              "    <tr>\n",
              "      <th>geoNetwork.networkLocation</th>\n",
              "      <td>90249</td>\n",
              "      <td>1</td>\n",
              "      <td>not available in demo dataset</td>\n",
              "      <td>90249</td>\n",
              "    </tr>\n",
              "    <tr>\n",
              "      <th>totals.visits</th>\n",
              "      <td>90249</td>\n",
              "      <td>1</td>\n",
              "      <td>1</td>\n",
              "      <td>90249</td>\n",
              "    </tr>\n",
              "    <tr>\n",
              "      <th>totals.hits</th>\n",
              "      <td>90249</td>\n",
              "      <td>162</td>\n",
              "      <td>1</td>\n",
              "      <td>44737</td>\n",
              "    </tr>\n",
              "    <tr>\n",
              "      <th>totals.pageviews</th>\n",
              "      <td>90236</td>\n",
              "      <td>123</td>\n",
              "      <td>1</td>\n",
              "      <td>45320</td>\n",
              "    </tr>\n",
              "    <tr>\n",
              "      <th>totals.bounces</th>\n",
              "      <td>45130</td>\n",
              "      <td>1</td>\n",
              "      <td>1</td>\n",
              "      <td>45130</td>\n",
              "    </tr>\n",
              "    <tr>\n",
              "      <th>totals.newVisits</th>\n",
              "      <td>69990</td>\n",
              "      <td>1</td>\n",
              "      <td>1</td>\n",
              "      <td>69990</td>\n",
              "    </tr>\n",
              "    <tr>\n",
              "      <th>totals.transactionRevenue</th>\n",
              "      <td>1177</td>\n",
              "      <td>829</td>\n",
              "      <td>16990000</td>\n",
              "      <td>25</td>\n",
              "    </tr>\n",
              "  </tbody>\n",
              "</table>\n",
              "</div>\n",
              "      <button class=\"colab-df-convert\" onclick=\"convertToInteractive('df-ca45b549-3fe0-488f-bf77-3dce10b48f55')\"\n",
              "              title=\"Convert this dataframe to an interactive table.\"\n",
              "              style=\"display:none;\">\n",
              "        \n",
              "  <svg xmlns=\"http://www.w3.org/2000/svg\" height=\"24px\"viewBox=\"0 0 24 24\"\n",
              "       width=\"24px\">\n",
              "    <path d=\"M0 0h24v24H0V0z\" fill=\"none\"/>\n",
              "    <path d=\"M18.56 5.44l.94 2.06.94-2.06 2.06-.94-2.06-.94-.94-2.06-.94 2.06-2.06.94zm-11 1L8.5 8.5l.94-2.06 2.06-.94-2.06-.94L8.5 2.5l-.94 2.06-2.06.94zm10 10l.94 2.06.94-2.06 2.06-.94-2.06-.94-.94-2.06-.94 2.06-2.06.94z\"/><path d=\"M17.41 7.96l-1.37-1.37c-.4-.4-.92-.59-1.43-.59-.52 0-1.04.2-1.43.59L10.3 9.45l-7.72 7.72c-.78.78-.78 2.05 0 2.83L4 21.41c.39.39.9.59 1.41.59.51 0 1.02-.2 1.41-.59l7.78-7.78 2.81-2.81c.8-.78.8-2.07 0-2.86zM5.41 20L4 18.59l7.72-7.72 1.47 1.35L5.41 20z\"/>\n",
              "  </svg>\n",
              "      </button>\n",
              "      \n",
              "  <style>\n",
              "    .colab-df-container {\n",
              "      display:flex;\n",
              "      flex-wrap:wrap;\n",
              "      gap: 12px;\n",
              "    }\n",
              "\n",
              "    .colab-df-convert {\n",
              "      background-color: #E8F0FE;\n",
              "      border: none;\n",
              "      border-radius: 50%;\n",
              "      cursor: pointer;\n",
              "      display: none;\n",
              "      fill: #1967D2;\n",
              "      height: 32px;\n",
              "      padding: 0 0 0 0;\n",
              "      width: 32px;\n",
              "    }\n",
              "\n",
              "    .colab-df-convert:hover {\n",
              "      background-color: #E2EBFA;\n",
              "      box-shadow: 0px 1px 2px rgba(60, 64, 67, 0.3), 0px 1px 3px 1px rgba(60, 64, 67, 0.15);\n",
              "      fill: #174EA6;\n",
              "    }\n",
              "\n",
              "    [theme=dark] .colab-df-convert {\n",
              "      background-color: #3B4455;\n",
              "      fill: #D2E3FC;\n",
              "    }\n",
              "\n",
              "    [theme=dark] .colab-df-convert:hover {\n",
              "      background-color: #434B5C;\n",
              "      box-shadow: 0px 1px 3px 1px rgba(0, 0, 0, 0.15);\n",
              "      filter: drop-shadow(0px 1px 2px rgba(0, 0, 0, 0.3));\n",
              "      fill: #FFFFFF;\n",
              "    }\n",
              "  </style>\n",
              "\n",
              "      <script>\n",
              "        const buttonEl =\n",
              "          document.querySelector('#df-ca45b549-3fe0-488f-bf77-3dce10b48f55 button.colab-df-convert');\n",
              "        buttonEl.style.display =\n",
              "          google.colab.kernel.accessAllowed ? 'block' : 'none';\n",
              "\n",
              "        async function convertToInteractive(key) {\n",
              "          const element = document.querySelector('#df-ca45b549-3fe0-488f-bf77-3dce10b48f55');\n",
              "          const dataTable =\n",
              "            await google.colab.kernel.invokeFunction('convertToInteractive',\n",
              "                                                     [key], {});\n",
              "          if (!dataTable) return;\n",
              "\n",
              "          const docLinkHtml = 'Like what you see? Visit the ' +\n",
              "            '<a target=\"_blank\" href=https://colab.research.google.com/notebooks/data_table.ipynb>data table notebook</a>'\n",
              "            + ' to learn more about interactive tables.';\n",
              "          element.innerHTML = '';\n",
              "          dataTable['output_type'] = 'display_data';\n",
              "          await google.colab.output.renderOutput(dataTable, element);\n",
              "          const docLink = document.createElement('div');\n",
              "          docLink.innerHTML = docLinkHtml;\n",
              "          element.appendChild(docLink);\n",
              "        }\n",
              "      </script>\n",
              "    </div>\n",
              "  </div>\n",
              "  "
            ],
            "text/plain": [
              "                                  count  ...   freq\n",
              "channelGrouping                   90249  ...  37993\n",
              "socialEngagementType              90249  ...  90249\n",
              "device.browser                    90249  ...  62130\n",
              "device.browserVersion             90249  ...  90249\n",
              "device.browserSize                90249  ...  90249\n",
              "device.operatingSystem            90249  ...  34835\n",
              "device.operatingSystemVersion     90249  ...  90249\n",
              "device.isMobile                   90249  ...  66496\n",
              "device.mobileDeviceBranding       90249  ...  90249\n",
              "device.mobileDeviceModel          90249  ...  90249\n",
              "device.mobileInputSelector        90249  ...  90249\n",
              "device.mobileDeviceInfo           90249  ...  90249\n",
              "device.mobileDeviceMarketingName  90249  ...  90249\n",
              "device.flashVersion               90249  ...  90249\n",
              "device.language                   90249  ...  90249\n",
              "device.screenColors               90249  ...  90249\n",
              "device.screenResolution           90249  ...  90249\n",
              "device.deviceCategory             90249  ...  66492\n",
              "geoNetwork.continent              90249  ...  44972\n",
              "geoNetwork.subContinent           90249  ...  39026\n",
              "geoNetwork.country                90249  ...  36452\n",
              "geoNetwork.region                 90249  ...  50610\n",
              "geoNetwork.metro                  90249  ...  50610\n",
              "geoNetwork.city                   90249  ...  50610\n",
              "geoNetwork.cityId                 90249  ...  90249\n",
              "geoNetwork.networkDomain          90249  ...  24439\n",
              "geoNetwork.latitude               90249  ...  90249\n",
              "geoNetwork.longitude              90249  ...  90249\n",
              "geoNetwork.networkLocation        90249  ...  90249\n",
              "totals.visits                     90249  ...  90249\n",
              "totals.hits                       90249  ...  44737\n",
              "totals.pageviews                  90236  ...  45320\n",
              "totals.bounces                    45130  ...  45130\n",
              "totals.newVisits                  69990  ...  69990\n",
              "totals.transactionRevenue          1177  ...     25\n",
              "\n",
              "[35 rows x 4 columns]"
            ]
          },
          "metadata": {},
          "execution_count": 220
        }
      ]
    },
    {
      "cell_type": "code",
      "source": [
        "#\n",
        "df['totals.bounces'].nunique(dropna = False) == 1"
      ],
      "metadata": {
        "colab": {
          "base_uri": "https://localhost:8080/"
        },
        "id": "3rHr1yVu7E5F",
        "outputId": "76597f7b-ae02-4a52-e909-c84cdf8d35b7"
      },
      "execution_count": null,
      "outputs": [
        {
          "output_type": "execute_result",
          "data": {
            "text/plain": [
              "False"
            ]
          },
          "metadata": {},
          "execution_count": 221
        }
      ]
    },
    {
      "cell_type": "code",
      "source": [
        "df['totals.bounces'].describe()"
      ],
      "metadata": {
        "colab": {
          "base_uri": "https://localhost:8080/"
        },
        "id": "63Cy_UrvWdRe",
        "outputId": "f2465281-6902-4363-ebc9-67a50c57c8c7"
      },
      "execution_count": null,
      "outputs": [
        {
          "output_type": "execute_result",
          "data": {
            "text/plain": [
              "count     45130\n",
              "unique        1\n",
              "top           1\n",
              "freq      45130\n",
              "Name: totals.bounces, dtype: object"
            ]
          },
          "metadata": {},
          "execution_count": 222
        }
      ]
    },
    {
      "cell_type": "code",
      "source": [
        "#CREAMOS UNA LISTA DE COLUMNAS CONSTANTES\n",
        "constant_columns = []"
      ],
      "metadata": {
        "id": "UEk9ASo5-mWn"
      },
      "execution_count": null,
      "outputs": []
    },
    {
      "cell_type": "code",
      "source": [
        "df.nunique?"
      ],
      "metadata": {
        "id": "55qYVEfTW6IO"
      },
      "execution_count": null,
      "outputs": []
    },
    {
      "cell_type": "code",
      "source": [
        "#HACEMOS UN FOR LOOP QUE BUSQUE POR CADA COLUMNA CUALES DE ELLOS TENIAN UNA SOLA ETIQUETA CONSIDERANDO TAMBIEN LOS NULOS Y LUEGO GENERAMOS LA LISTA\n",
        "for col in df.columns:\n",
        "  if df[col].nunique(dropna = False) == 1:\n",
        "    constant_columns.append(col)\n",
        "    #df.drop(col, axis = 1, inplace = True)"
      ],
      "metadata": {
        "id": "NZWw4LbF-d0L"
      },
      "execution_count": null,
      "outputs": []
    },
    {
      "cell_type": "code",
      "source": [
        "#GENERAMOS LA LISTA\n",
        "constant_columns = [col for col in df.columns if df[col].nunique(dropna = False) == 1 ]"
      ],
      "metadata": {
        "id": "G6CMVdWD-59O"
      },
      "execution_count": null,
      "outputs": []
    },
    {
      "cell_type": "code",
      "source": [
        "#VEMOS LA CANTIDAD DE COLUMNAS QUE QUEDARON CON ESTA CARACTERISTICA\n",
        "len(constant_columns)"
      ],
      "metadata": {
        "colab": {
          "base_uri": "https://localhost:8080/"
        },
        "id": "gpkSKIls_91b",
        "outputId": "a522872a-2885-4ae7-e504-7b710108ca9d"
      },
      "execution_count": null,
      "outputs": [
        {
          "output_type": "execute_result",
          "data": {
            "text/plain": [
              "18"
            ]
          },
          "metadata": {},
          "execution_count": 227
        }
      ]
    },
    {
      "cell_type": "code",
      "source": [
        "#LAS ELIMINAMOS YA QUE NO ME APORTARAN MUCHA INFORMACION PARA EL DESICION TREE\n",
        "df.drop(constant_columns, axis = 1 , inplace = True)"
      ],
      "metadata": {
        "id": "P-GVlXLN_lSv"
      },
      "execution_count": null,
      "outputs": []
    },
    {
      "cell_type": "code",
      "source": [
        "#VEO QUE ME QUEDARON 21 COLUMNAS AHORA \n",
        "df.shape"
      ],
      "metadata": {
        "colab": {
          "base_uri": "https://localhost:8080/"
        },
        "id": "bnt4Dfm-_rs0",
        "outputId": "960eea13-85ab-4354-8621-ae2f15db391d"
      },
      "execution_count": null,
      "outputs": [
        {
          "output_type": "execute_result",
          "data": {
            "text/plain": [
              "(90249, 21)"
            ]
          },
          "metadata": {},
          "execution_count": 229
        }
      ]
    },
    {
      "cell_type": "code",
      "source": [
        "df.head().T"
      ],
      "metadata": {
        "colab": {
          "base_uri": "https://localhost:8080/",
          "height": 707
        },
        "id": "41y0QyWm_vgj",
        "outputId": "11e0517c-0a25-409c-b0cd-d2542566e624"
      },
      "execution_count": null,
      "outputs": [
        {
          "output_type": "execute_result",
          "data": {
            "text/html": [
              "\n",
              "  <div id=\"df-058d444c-5185-4d67-b4ed-cb7f4c8b6dea\">\n",
              "    <div class=\"colab-df-container\">\n",
              "      <div>\n",
              "<style scoped>\n",
              "    .dataframe tbody tr th:only-of-type {\n",
              "        vertical-align: middle;\n",
              "    }\n",
              "\n",
              "    .dataframe tbody tr th {\n",
              "        vertical-align: top;\n",
              "    }\n",
              "\n",
              "    .dataframe thead th {\n",
              "        text-align: right;\n",
              "    }\n",
              "</style>\n",
              "<table border=\"1\" class=\"dataframe\">\n",
              "  <thead>\n",
              "    <tr style=\"text-align: right;\">\n",
              "      <th>sessionId</th>\n",
              "      <th>377306020877927890_1472880147</th>\n",
              "      <th>537222803633850821_1472812602</th>\n",
              "      <th>9499785259412240342_1472812272</th>\n",
              "      <th>357659889600827884_1472839882</th>\n",
              "      <th>3696906537737368442_1472856874</th>\n",
              "    </tr>\n",
              "  </thead>\n",
              "  <tbody>\n",
              "    <tr>\n",
              "      <th>Unnamed: 0</th>\n",
              "      <td>1</td>\n",
              "      <td>7</td>\n",
              "      <td>9</td>\n",
              "      <td>12</td>\n",
              "      <td>19</td>\n",
              "    </tr>\n",
              "    <tr>\n",
              "      <th>channelGrouping</th>\n",
              "      <td>Organic Search</td>\n",
              "      <td>Organic Search</td>\n",
              "      <td>Organic Search</td>\n",
              "      <td>Organic Search</td>\n",
              "      <td>Organic Search</td>\n",
              "    </tr>\n",
              "    <tr>\n",
              "      <th>date</th>\n",
              "      <td>20160902</td>\n",
              "      <td>20160902</td>\n",
              "      <td>20160902</td>\n",
              "      <td>20160902</td>\n",
              "      <td>20160902</td>\n",
              "    </tr>\n",
              "    <tr>\n",
              "      <th>visitNumber</th>\n",
              "      <td>1</td>\n",
              "      <td>1</td>\n",
              "      <td>1</td>\n",
              "      <td>1</td>\n",
              "      <td>1</td>\n",
              "    </tr>\n",
              "    <tr>\n",
              "      <th>visitStartTime</th>\n",
              "      <td>1472880147</td>\n",
              "      <td>1472812602</td>\n",
              "      <td>1472812272</td>\n",
              "      <td>1472839882</td>\n",
              "      <td>1472856874</td>\n",
              "    </tr>\n",
              "    <tr>\n",
              "      <th>device.browser</th>\n",
              "      <td>Firefox</td>\n",
              "      <td>Chrome</td>\n",
              "      <td>Firefox</td>\n",
              "      <td>Safari</td>\n",
              "      <td>Chrome</td>\n",
              "    </tr>\n",
              "    <tr>\n",
              "      <th>device.operatingSystem</th>\n",
              "      <td>Macintosh</td>\n",
              "      <td>Windows</td>\n",
              "      <td>Windows</td>\n",
              "      <td>iOS</td>\n",
              "      <td>Windows</td>\n",
              "    </tr>\n",
              "    <tr>\n",
              "      <th>device.isMobile</th>\n",
              "      <td>False</td>\n",
              "      <td>False</td>\n",
              "      <td>False</td>\n",
              "      <td>True</td>\n",
              "      <td>False</td>\n",
              "    </tr>\n",
              "    <tr>\n",
              "      <th>device.deviceCategory</th>\n",
              "      <td>desktop</td>\n",
              "      <td>desktop</td>\n",
              "      <td>desktop</td>\n",
              "      <td>mobile</td>\n",
              "      <td>desktop</td>\n",
              "    </tr>\n",
              "    <tr>\n",
              "      <th>geoNetwork.continent</th>\n",
              "      <td>Oceania</td>\n",
              "      <td>Oceania</td>\n",
              "      <td>Europe</td>\n",
              "      <td>Asia</td>\n",
              "      <td>Americas</td>\n",
              "    </tr>\n",
              "    <tr>\n",
              "      <th>geoNetwork.subContinent</th>\n",
              "      <td>Australasia</td>\n",
              "      <td>Australasia</td>\n",
              "      <td>Western Europe</td>\n",
              "      <td>Western Asia</td>\n",
              "      <td>South America</td>\n",
              "    </tr>\n",
              "    <tr>\n",
              "      <th>geoNetwork.country</th>\n",
              "      <td>Australia</td>\n",
              "      <td>Australia</td>\n",
              "      <td>Netherlands</td>\n",
              "      <td>Turkey</td>\n",
              "      <td>Argentina</td>\n",
              "    </tr>\n",
              "    <tr>\n",
              "      <th>geoNetwork.region</th>\n",
              "      <td>not available in demo dataset</td>\n",
              "      <td>Queensland</td>\n",
              "      <td>not available in demo dataset</td>\n",
              "      <td>Izmir</td>\n",
              "      <td>Buenos Aires</td>\n",
              "    </tr>\n",
              "    <tr>\n",
              "      <th>geoNetwork.metro</th>\n",
              "      <td>not available in demo dataset</td>\n",
              "      <td>(not set)</td>\n",
              "      <td>not available in demo dataset</td>\n",
              "      <td>(not set)</td>\n",
              "      <td>(not set)</td>\n",
              "    </tr>\n",
              "    <tr>\n",
              "      <th>geoNetwork.city</th>\n",
              "      <td>not available in demo dataset</td>\n",
              "      <td>Brisbane</td>\n",
              "      <td>not available in demo dataset</td>\n",
              "      <td>Izmir</td>\n",
              "      <td>Buenos Aires</td>\n",
              "    </tr>\n",
              "    <tr>\n",
              "      <th>geoNetwork.networkDomain</th>\n",
              "      <td>dodo.net.au</td>\n",
              "      <td>bigpond.net.au</td>\n",
              "      <td>chello.nl</td>\n",
              "      <td>unknown.unknown</td>\n",
              "      <td>phonevision.com.ar</td>\n",
              "    </tr>\n",
              "    <tr>\n",
              "      <th>totals.hits</th>\n",
              "      <td>1</td>\n",
              "      <td>1</td>\n",
              "      <td>1</td>\n",
              "      <td>1</td>\n",
              "      <td>1</td>\n",
              "    </tr>\n",
              "    <tr>\n",
              "      <th>totals.pageviews</th>\n",
              "      <td>1</td>\n",
              "      <td>1</td>\n",
              "      <td>1</td>\n",
              "      <td>1</td>\n",
              "      <td>1</td>\n",
              "    </tr>\n",
              "    <tr>\n",
              "      <th>totals.bounces</th>\n",
              "      <td>1</td>\n",
              "      <td>1</td>\n",
              "      <td>1</td>\n",
              "      <td>1</td>\n",
              "      <td>1</td>\n",
              "    </tr>\n",
              "    <tr>\n",
              "      <th>totals.newVisits</th>\n",
              "      <td>1</td>\n",
              "      <td>1</td>\n",
              "      <td>1</td>\n",
              "      <td>1</td>\n",
              "      <td>1</td>\n",
              "    </tr>\n",
              "    <tr>\n",
              "      <th>totals.transactionRevenue</th>\n",
              "      <td>NaN</td>\n",
              "      <td>NaN</td>\n",
              "      <td>NaN</td>\n",
              "      <td>NaN</td>\n",
              "      <td>NaN</td>\n",
              "    </tr>\n",
              "  </tbody>\n",
              "</table>\n",
              "</div>\n",
              "      <button class=\"colab-df-convert\" onclick=\"convertToInteractive('df-058d444c-5185-4d67-b4ed-cb7f4c8b6dea')\"\n",
              "              title=\"Convert this dataframe to an interactive table.\"\n",
              "              style=\"display:none;\">\n",
              "        \n",
              "  <svg xmlns=\"http://www.w3.org/2000/svg\" height=\"24px\"viewBox=\"0 0 24 24\"\n",
              "       width=\"24px\">\n",
              "    <path d=\"M0 0h24v24H0V0z\" fill=\"none\"/>\n",
              "    <path d=\"M18.56 5.44l.94 2.06.94-2.06 2.06-.94-2.06-.94-.94-2.06-.94 2.06-2.06.94zm-11 1L8.5 8.5l.94-2.06 2.06-.94-2.06-.94L8.5 2.5l-.94 2.06-2.06.94zm10 10l.94 2.06.94-2.06 2.06-.94-2.06-.94-.94-2.06-.94 2.06-2.06.94z\"/><path d=\"M17.41 7.96l-1.37-1.37c-.4-.4-.92-.59-1.43-.59-.52 0-1.04.2-1.43.59L10.3 9.45l-7.72 7.72c-.78.78-.78 2.05 0 2.83L4 21.41c.39.39.9.59 1.41.59.51 0 1.02-.2 1.41-.59l7.78-7.78 2.81-2.81c.8-.78.8-2.07 0-2.86zM5.41 20L4 18.59l7.72-7.72 1.47 1.35L5.41 20z\"/>\n",
              "  </svg>\n",
              "      </button>\n",
              "      \n",
              "  <style>\n",
              "    .colab-df-container {\n",
              "      display:flex;\n",
              "      flex-wrap:wrap;\n",
              "      gap: 12px;\n",
              "    }\n",
              "\n",
              "    .colab-df-convert {\n",
              "      background-color: #E8F0FE;\n",
              "      border: none;\n",
              "      border-radius: 50%;\n",
              "      cursor: pointer;\n",
              "      display: none;\n",
              "      fill: #1967D2;\n",
              "      height: 32px;\n",
              "      padding: 0 0 0 0;\n",
              "      width: 32px;\n",
              "    }\n",
              "\n",
              "    .colab-df-convert:hover {\n",
              "      background-color: #E2EBFA;\n",
              "      box-shadow: 0px 1px 2px rgba(60, 64, 67, 0.3), 0px 1px 3px 1px rgba(60, 64, 67, 0.15);\n",
              "      fill: #174EA6;\n",
              "    }\n",
              "\n",
              "    [theme=dark] .colab-df-convert {\n",
              "      background-color: #3B4455;\n",
              "      fill: #D2E3FC;\n",
              "    }\n",
              "\n",
              "    [theme=dark] .colab-df-convert:hover {\n",
              "      background-color: #434B5C;\n",
              "      box-shadow: 0px 1px 3px 1px rgba(0, 0, 0, 0.15);\n",
              "      filter: drop-shadow(0px 1px 2px rgba(0, 0, 0, 0.3));\n",
              "      fill: #FFFFFF;\n",
              "    }\n",
              "  </style>\n",
              "\n",
              "      <script>\n",
              "        const buttonEl =\n",
              "          document.querySelector('#df-058d444c-5185-4d67-b4ed-cb7f4c8b6dea button.colab-df-convert');\n",
              "        buttonEl.style.display =\n",
              "          google.colab.kernel.accessAllowed ? 'block' : 'none';\n",
              "\n",
              "        async function convertToInteractive(key) {\n",
              "          const element = document.querySelector('#df-058d444c-5185-4d67-b4ed-cb7f4c8b6dea');\n",
              "          const dataTable =\n",
              "            await google.colab.kernel.invokeFunction('convertToInteractive',\n",
              "                                                     [key], {});\n",
              "          if (!dataTable) return;\n",
              "\n",
              "          const docLinkHtml = 'Like what you see? Visit the ' +\n",
              "            '<a target=\"_blank\" href=https://colab.research.google.com/notebooks/data_table.ipynb>data table notebook</a>'\n",
              "            + ' to learn more about interactive tables.';\n",
              "          element.innerHTML = '';\n",
              "          dataTable['output_type'] = 'display_data';\n",
              "          await google.colab.output.renderOutput(dataTable, element);\n",
              "          const docLink = document.createElement('div');\n",
              "          docLink.innerHTML = docLinkHtml;\n",
              "          element.appendChild(docLink);\n",
              "        }\n",
              "      </script>\n",
              "    </div>\n",
              "  </div>\n",
              "  "
            ],
            "text/plain": [
              "sessionId                  377306020877927890_1472880147  ... 3696906537737368442_1472856874\n",
              "Unnamed: 0                                             1  ...                             19\n",
              "channelGrouping                           Organic Search  ...                 Organic Search\n",
              "date                                            20160902  ...                       20160902\n",
              "visitNumber                                            1  ...                              1\n",
              "visitStartTime                                1472880147  ...                     1472856874\n",
              "device.browser                                   Firefox  ...                         Chrome\n",
              "device.operatingSystem                         Macintosh  ...                        Windows\n",
              "device.isMobile                                    False  ...                          False\n",
              "device.deviceCategory                            desktop  ...                        desktop\n",
              "geoNetwork.continent                             Oceania  ...                       Americas\n",
              "geoNetwork.subContinent                      Australasia  ...                  South America\n",
              "geoNetwork.country                             Australia  ...                      Argentina\n",
              "geoNetwork.region          not available in demo dataset  ...                   Buenos Aires\n",
              "geoNetwork.metro           not available in demo dataset  ...                      (not set)\n",
              "geoNetwork.city            not available in demo dataset  ...                   Buenos Aires\n",
              "geoNetwork.networkDomain                     dodo.net.au  ...             phonevision.com.ar\n",
              "totals.hits                                            1  ...                              1\n",
              "totals.pageviews                                       1  ...                              1\n",
              "totals.bounces                                         1  ...                              1\n",
              "totals.newVisits                                       1  ...                              1\n",
              "totals.transactionRevenue                            NaN  ...                            NaN\n",
              "\n",
              "[21 rows x 5 columns]"
            ]
          },
          "metadata": {},
          "execution_count": 230
        }
      ]
    },
    {
      "cell_type": "code",
      "source": [
        "df.drop('Unnamed: 0', axis = 1, inplace = True)"
      ],
      "metadata": {
        "id": "VoIfLtbLAItu"
      },
      "execution_count": null,
      "outputs": []
    },
    {
      "cell_type": "code",
      "source": [
        "#GENERO UNA VARIABLE DESCRIPTIVA DEL DATAFRAME\n",
        "df_description = df.describe(include = 'all').T"
      ],
      "metadata": {
        "id": "GSxH5hR0ALtt"
      },
      "execution_count": null,
      "outputs": []
    },
    {
      "cell_type": "code",
      "source": [
        "#AHORA UNA VEZ TENGO LIMPIAS LAS COLUMNAS CON LAS QUE VOY A TRABAJAR IMPORTO UN EXCEL PARA IR EDITANDO Y VIENDO QUE VOY HACIENDO EN CADA COLUMNA \n",
        "from google.colab import files\n",
        "df_description.to_excel('df_description_ds2111.xlsx')\n",
        "files.download('df_description_ds2111.xlsx')"
      ],
      "metadata": {
        "id": "sJDzOgzVAVI6",
        "colab": {
          "base_uri": "https://localhost:8080/",
          "height": 17
        },
        "outputId": "bc011741-88e6-4a5e-f6de-dadaf41bf044"
      },
      "execution_count": null,
      "outputs": [
        {
          "output_type": "display_data",
          "data": {
            "application/javascript": [
              "\n",
              "    async function download(id, filename, size) {\n",
              "      if (!google.colab.kernel.accessAllowed) {\n",
              "        return;\n",
              "      }\n",
              "      const div = document.createElement('div');\n",
              "      const label = document.createElement('label');\n",
              "      label.textContent = `Downloading \"${filename}\": `;\n",
              "      div.appendChild(label);\n",
              "      const progress = document.createElement('progress');\n",
              "      progress.max = size;\n",
              "      div.appendChild(progress);\n",
              "      document.body.appendChild(div);\n",
              "\n",
              "      const buffers = [];\n",
              "      let downloaded = 0;\n",
              "\n",
              "      const channel = await google.colab.kernel.comms.open(id);\n",
              "      // Send a message to notify the kernel that we're ready.\n",
              "      channel.send({})\n",
              "\n",
              "      for await (const message of channel.messages) {\n",
              "        // Send a message to notify the kernel that we're ready.\n",
              "        channel.send({})\n",
              "        if (message.buffers) {\n",
              "          for (const buffer of message.buffers) {\n",
              "            buffers.push(buffer);\n",
              "            downloaded += buffer.byteLength;\n",
              "            progress.value = downloaded;\n",
              "          }\n",
              "        }\n",
              "      }\n",
              "      const blob = new Blob(buffers, {type: 'application/binary'});\n",
              "      const a = document.createElement('a');\n",
              "      a.href = window.URL.createObjectURL(blob);\n",
              "      a.download = filename;\n",
              "      div.appendChild(a);\n",
              "      a.click();\n",
              "      div.remove();\n",
              "    }\n",
              "  "
            ],
            "text/plain": [
              "<IPython.core.display.Javascript object>"
            ]
          },
          "metadata": {}
        },
        {
          "output_type": "display_data",
          "data": {
            "application/javascript": [
              "download(\"download_3ecddef8-5930-4de3-a69a-c0e7599665ef\", \"df_description_ds2111.xlsx\", 6345)"
            ],
            "text/plain": [
              "<IPython.core.display.Javascript object>"
            ]
          },
          "metadata": {}
        }
      ]
    },
    {
      "cell_type": "markdown",
      "source": [
        "## Target Analysis"
      ],
      "metadata": {
        "id": "UH1KSGHNAmlb"
      }
    },
    {
      "cell_type": "code",
      "source": [
        "#DEFINO CUAL ES EL TARGET QUE SON LOS INGRESOS POR TRANSACCIONES \n",
        "TARGET = 'totals.transactionRevenue'"
      ],
      "metadata": {
        "id": "X7rABKKLAosZ"
      },
      "execution_count": null,
      "outputs": []
    },
    {
      "cell_type": "code",
      "source": [
        "df[TARGET].describe()"
      ],
      "metadata": {
        "colab": {
          "base_uri": "https://localhost:8080/"
        },
        "id": "JpGSLHeUAsoD",
        "outputId": "cc7cd92b-632a-4380-cb36-621d047cb41e"
      },
      "execution_count": null,
      "outputs": [
        {
          "output_type": "execute_result",
          "data": {
            "text/plain": [
              "count         1177\n",
              "unique         829\n",
              "top       16990000\n",
              "freq            25\n",
              "Name: totals.transactionRevenue, dtype: object"
            ]
          },
          "metadata": {},
          "execution_count": 235
        }
      ]
    },
    {
      "cell_type": "code",
      "source": [
        "#VEO QUE me lo coge como object -> es numerico"
      ],
      "metadata": {
        "id": "9pOnWjofAzY-"
      },
      "execution_count": null,
      "outputs": []
    },
    {
      "cell_type": "code",
      "source": [
        "#LO PASO A VARIABLE NUMERICA \n",
        "df[TARGET] = df[TARGET].astype(float)"
      ],
      "metadata": {
        "id": "4I1x4F7wA2Yx"
      },
      "execution_count": null,
      "outputs": []
    },
    {
      "cell_type": "code",
      "source": [
        "df[TARGET].describe()"
      ],
      "metadata": {
        "colab": {
          "base_uri": "https://localhost:8080/"
        },
        "id": "OoGYD0LjA47P",
        "outputId": "8ff1a243-680e-4b60-e804-14346d841461"
      },
      "execution_count": null,
      "outputs": [
        {
          "output_type": "execute_result",
          "data": {
            "text/plain": [
              "count    1.177000e+03\n",
              "mean     1.451774e+08\n",
              "std      5.465525e+08\n",
              "min      9.000000e+04\n",
              "25%      2.399000e+07\n",
              "50%      5.002000e+07\n",
              "75%      1.045500e+08\n",
              "max      1.602375e+10\n",
              "Name: totals.transactionRevenue, dtype: float64"
            ]
          },
          "metadata": {},
          "execution_count": 238
        }
      ]
    },
    {
      "cell_type": "code",
      "source": [
        "#elimino nulos del target\n",
        "\n",
        "df[TARGET].fillna(0.0, inplace = True)"
      ],
      "metadata": {
        "id": "CiLpSqlDA_ZD"
      },
      "execution_count": null,
      "outputs": []
    },
    {
      "cell_type": "code",
      "source": [
        "df[TARGET].describe()"
      ],
      "metadata": {
        "colab": {
          "base_uri": "https://localhost:8080/"
        },
        "id": "WZozjSmpBFbR",
        "outputId": "176af82a-5a9d-49e5-86f4-732cc5ba7fa8"
      },
      "execution_count": null,
      "outputs": [
        {
          "output_type": "execute_result",
          "data": {
            "text/plain": [
              "count    9.024900e+04\n",
              "mean     1.893359e+06\n",
              "std      6.452778e+07\n",
              "min      0.000000e+00\n",
              "25%      0.000000e+00\n",
              "50%      0.000000e+00\n",
              "75%      0.000000e+00\n",
              "max      1.602375e+10\n",
              "Name: totals.transactionRevenue, dtype: float64"
            ]
          },
          "metadata": {},
          "execution_count": 240
        }
      ]
    },
    {
      "cell_type": "code",
      "source": [
        "#AHORA REVISO CUALES Y CUANTS SON AQUELLAS SESIONES QUE SI HICIERON UNA COMPRA, HACIENDO EL TARGET MAYOR A 0\n",
        "df[df[TARGET] >0][TARGET]"
      ],
      "metadata": {
        "colab": {
          "base_uri": "https://localhost:8080/"
        },
        "id": "_Eq9mUNVBU2n",
        "outputId": "c490ea64-d2cd-4e6f-f2b6-ee8ab6e6627a"
      },
      "execution_count": null,
      "outputs": [
        {
          "output_type": "execute_result",
          "data": {
            "text/plain": [
              "sessionId\n",
              "4755168908070236728_1472849608     63840000.0\n",
              "8007300615127214527_1472850417     35390000.0\n",
              "1881458907401964229_1472849525    103240000.0\n",
              "0643132668463442280_1472867400     25680000.0\n",
              "7168226225550508027_1485452166    593910000.0\n",
              "                                     ...     \n",
              "1677668617700674850_1499647144     67730000.0\n",
              "9710480501909231921_1483562473    155970000.0\n",
              "2591017631506070831_1483561743    135920000.0\n",
              "6726478899201625475_1483541553     23180000.0\n",
              "3301001176863952275_1483599074     22970000.0\n",
              "Name: totals.transactionRevenue, Length: 1177, dtype: float64"
            ]
          },
          "metadata": {},
          "execution_count": 241
        }
      ]
    },
    {
      "cell_type": "code",
      "source": [
        "#PARA QUE LOS NUMEROS ESTEN MAS CLAROS DIVIDO LOS VALORES ANTERIORES POR MIL\n",
        "df[df[TARGET] >0][TARGET]/1000000"
      ],
      "metadata": {
        "colab": {
          "base_uri": "https://localhost:8080/"
        },
        "id": "_xXtMb2tByzY",
        "outputId": "6d05a432-49b5-43e2-e157-8b5b1e2d746f"
      },
      "execution_count": null,
      "outputs": [
        {
          "output_type": "execute_result",
          "data": {
            "text/plain": [
              "sessionId\n",
              "4755168908070236728_1472849608     63.84\n",
              "8007300615127214527_1472850417     35.39\n",
              "1881458907401964229_1472849525    103.24\n",
              "0643132668463442280_1472867400     25.68\n",
              "7168226225550508027_1485452166    593.91\n",
              "                                   ...  \n",
              "1677668617700674850_1499647144     67.73\n",
              "9710480501909231921_1483562473    155.97\n",
              "2591017631506070831_1483561743    135.92\n",
              "6726478899201625475_1483541553     23.18\n",
              "3301001176863952275_1483599074     22.97\n",
              "Name: totals.transactionRevenue, Length: 1177, dtype: float64"
            ]
          },
          "metadata": {},
          "execution_count": 242
        }
      ]
    },
    {
      "cell_type": "code",
      "source": [
        "#AGREGO EL TARGET AL DATAFRAME\n",
        "df[TARGET] = df[TARGET]/1000000"
      ],
      "metadata": {
        "id": "mAIkPNsKB6q3"
      },
      "execution_count": null,
      "outputs": []
    },
    {
      "cell_type": "code",
      "source": [
        "df[TARGET].describe()"
      ],
      "metadata": {
        "colab": {
          "base_uri": "https://localhost:8080/"
        },
        "id": "mrWxR0_lCz-4",
        "outputId": "796516bf-a5fa-4dba-82e8-d3ae08ecbef2"
      },
      "execution_count": null,
      "outputs": [
        {
          "output_type": "execute_result",
          "data": {
            "text/plain": [
              "count    90249.000000\n",
              "mean         1.893359\n",
              "std         64.527785\n",
              "min          0.000000\n",
              "25%          0.000000\n",
              "50%          0.000000\n",
              "75%          0.000000\n",
              "max      16023.750000\n",
              "Name: totals.transactionRevenue, dtype: float64"
            ]
          },
          "metadata": {},
          "execution_count": 244
        }
      ]
    },
    {
      "cell_type": "code",
      "source": [
        "df[df[TARGET] >0][TARGET].describe()"
      ],
      "metadata": {
        "colab": {
          "base_uri": "https://localhost:8080/"
        },
        "id": "2GvONrqGDJI8",
        "outputId": "5341bb4b-0806-48ec-a153-4d2d83c92d34"
      },
      "execution_count": null,
      "outputs": [
        {
          "output_type": "execute_result",
          "data": {
            "text/plain": [
              "count     1177.000000\n",
              "mean       145.177375\n",
              "std        546.552506\n",
              "min          0.090000\n",
              "25%         23.990000\n",
              "50%         50.020000\n",
              "75%        104.550000\n",
              "max      16023.750000\n",
              "Name: totals.transactionRevenue, dtype: float64"
            ]
          },
          "metadata": {},
          "execution_count": 245
        }
      ]
    },
    {
      "cell_type": "code",
      "source": [
        "#HAGO QUE LA COLUMNA DEL TARGET SEA IGUAL A SOLO AQUELLOS QUE SI HICIERON UNA COMPRA\n",
        "\n",
        "df['visitWithTransaction'] = (df[TARGET] >0).astype(int)"
      ],
      "metadata": {
        "id": "Vpz4o3sYDqQv"
      },
      "execution_count": null,
      "outputs": []
    },
    {
      "cell_type": "code",
      "source": [
        "#VEO LA MEDIA Y VEMOS QUE HAY MUY POCAS COMPRAS, POR LO CUAL AL MODELO LE COSTARA PREDECIR CUANDO ALGUIEN HACE UNA COMPRA\n",
        "#Y AUN MAS PREDECIR VALORES ALTOS DE COMPRAS\n",
        "df['visitWithTransaction'].mean()*100"
      ],
      "metadata": {
        "colab": {
          "base_uri": "https://localhost:8080/"
        },
        "id": "AiJY86ElD1Ha",
        "outputId": "8203113f-6321-4ffe-95d7-8f5ffcada6b3"
      },
      "execution_count": null,
      "outputs": [
        {
          "output_type": "execute_result",
          "data": {
            "text/plain": [
              "1.3041695752861526"
            ]
          },
          "metadata": {},
          "execution_count": 247
        }
      ]
    },
    {
      "cell_type": "code",
      "source": [
        "#HAGO UN PLOT DE LA DISTRIBUCION DEL TARGET\n",
        "plt.figure(figsize = (15,5))\n",
        "\n",
        "sns.distplot(df[TARGET])"
      ],
      "metadata": {
        "colab": {
          "base_uri": "https://localhost:8080/",
          "height": 406
        },
        "id": "2Wuco6bKD9tP",
        "outputId": "22f44dfa-59e6-44d9-a060-bcb1ec2d7714"
      },
      "execution_count": null,
      "outputs": [
        {
          "output_type": "stream",
          "name": "stderr",
          "text": [
            "/usr/local/lib/python3.7/dist-packages/seaborn/distributions.py:2619: FutureWarning: `distplot` is a deprecated function and will be removed in a future version. Please adapt your code to use either `displot` (a figure-level function with similar flexibility) or `histplot` (an axes-level function for histograms).\n",
            "  warnings.warn(msg, FutureWarning)\n"
          ]
        },
        {
          "output_type": "execute_result",
          "data": {
            "text/plain": [
              "<matplotlib.axes._subplots.AxesSubplot at 0x7f1729790490>"
            ]
          },
          "metadata": {},
          "execution_count": 248
        },
        {
          "output_type": "display_data",
          "data": {
            "image/png": "[encoded data removed]",
            "text/plain": [
              "<Figure size 1080x360 with 1 Axes>"
            ]
          },
          "metadata": {
            "needs_background": "light"
          }
        }
      ]
    },
    {
      "cell_type": "code",
      "source": [
        "#AHORA PLOTEO SOLO AQUELLOS VALORES QUE HICIERON COMPRAS\n",
        "plt.figure(figsize = (15,5))\n",
        "\n",
        "sns.distplot(df[df['visitWithTransaction'] == 1][TARGET])"
      ],
      "metadata": {
        "colab": {
          "base_uri": "https://localhost:8080/",
          "height": 406
        },
        "id": "co0aSK_QERtL",
        "outputId": "acbecc23-3f41-4eb2-d719-750dbe57fef5"
      },
      "execution_count": null,
      "outputs": [
        {
          "output_type": "stream",
          "name": "stderr",
          "text": [
            "/usr/local/lib/python3.7/dist-packages/seaborn/distributions.py:2619: FutureWarning: `distplot` is a deprecated function and will be removed in a future version. Please adapt your code to use either `displot` (a figure-level function with similar flexibility) or `histplot` (an axes-level function for histograms).\n",
            "  warnings.warn(msg, FutureWarning)\n"
          ]
        },
        {
          "output_type": "execute_result",
          "data": {
            "text/plain": [
              "<matplotlib.axes._subplots.AxesSubplot at 0x7f17296ff710>"
            ]
          },
          "metadata": {},
          "execution_count": 249
        },
        {
          "output_type": "display_data",
          "data": {
            "image/png": "[encoded data removed]",
            "text/plain": [
              "<Figure size 1080x360 with 1 Axes>"
            ]
          },
          "metadata": {
            "needs_background": "light"
          }
        }
      ]
    },
    {
      "cell_type": "code",
      "source": [
        "#ESTO LO HAGO PARA QUE LOS QUE SEAN CEROS NO SE ME HAGAN INFINITO EN EL LOGARITMO\n",
        "def suma_uno(x):\n",
        "  return x +1"
      ],
      "metadata": {
        "id": "RZy_iZxZIKeL"
      },
      "execution_count": null,
      "outputs": []
    },
    {
      "cell_type": "code",
      "source": [
        "#PARA QUE MEJORE LA DISTRIBUCION DEL TARGET LO HAGO LOGARITMICO \n",
        "TARGET_LN = 'totals.transactionRevenueLN'"
      ],
      "metadata": {
        "id": "C8_9E9t0JYN4"
      },
      "execution_count": null,
      "outputs": []
    },
    {
      "cell_type": "code",
      "source": [
        "#EL APPLY Y LAMBDA ME PERMITE PONER CUALQUIER FUNCION\n",
        "df[TARGET_LN] = df[TARGET].apply(lambda x: np.log1p(x))"
      ],
      "metadata": {
        "id": "NlkWQzYYH3Ck"
      },
      "execution_count": null,
      "outputs": []
    },
    {
      "cell_type": "code",
      "source": [
        "#AHORA SI PLOTEO EL TARGET LOGARIRMICO Y TENGO UNA DISTRIBUCION MAS PARECIDA A LA NORMAL\n",
        "plt.figure(figsize = (15,5))\n",
        "\n",
        "sns.distplot(df[df['visitWithTransaction'] == 1][TARGET_LN], fit = stats.norm)"
      ],
      "metadata": {
        "colab": {
          "base_uri": "https://localhost:8080/",
          "height": 406
        },
        "id": "aSwmI6fwI-u9",
        "outputId": "b6d293be-61ff-4857-e300-bcc19cef8f2c"
      },
      "execution_count": null,
      "outputs": [
        {
          "output_type": "stream",
          "name": "stderr",
          "text": [
            "/usr/local/lib/python3.7/dist-packages/seaborn/distributions.py:2619: FutureWarning: `distplot` is a deprecated function and will be removed in a future version. Please adapt your code to use either `displot` (a figure-level function with similar flexibility) or `histplot` (an axes-level function for histograms).\n",
            "  warnings.warn(msg, FutureWarning)\n"
          ]
        },
        {
          "output_type": "execute_result",
          "data": {
            "text/plain": [
              "<matplotlib.axes._subplots.AxesSubplot at 0x7f1729973e90>"
            ]
          },
          "metadata": {},
          "execution_count": 253
        },
        {
          "output_type": "display_data",
          "data": {
            "image/png": "[encoded data removed]",
            "text/plain": [
              "<Figure size 1080x360 with 1 Axes>"
            ]
          },
          "metadata": {
            "needs_background": "light"
          }
        }
      ]
    },
    {
      "cell_type": "markdown",
      "source": [
        "## Device Browser"
      ],
      "metadata": {
        "id": "O_7MRw6jKIWw"
      }
    },
    {
      "cell_type": "code",
      "source": [
        "#OMIENZO ANALIZANDO LA VARIABLES CATEGORICAS DE TIPO DE DISPOSIVO, VEO QUE HAY 32 ETIQUETAS Y QUE HAY 8 QUE SON MAS SIGNIFICATIVAS\n",
        "df['device.browser'].describe()"
      ],
      "metadata": {
        "colab": {
          "base_uri": "https://localhost:8080/"
        },
        "id": "WCEummLRIgvE",
        "outputId": "cbfa072e-8e04-478d-ea58-f7e5a9af1d28"
      },
      "execution_count": null,
      "outputs": [
        {
          "output_type": "execute_result",
          "data": {
            "text/plain": [
              "count      90249\n",
              "unique        32\n",
              "top       Chrome\n",
              "freq       62130\n",
              "Name: device.browser, dtype: object"
            ]
          },
          "metadata": {},
          "execution_count": 254
        }
      ]
    },
    {
      "cell_type": "code",
      "source": [
        "#AQUI HAGO UNA LISTA DE QUELLOS QUE SON MAS FRECUENTES\n",
        "top_browsers = df['device.browser'].value_counts().head(8)"
      ],
      "metadata": {
        "id": "t0mapPisKcOy"
      },
      "execution_count": null,
      "outputs": []
    },
    {
      "cell_type": "code",
      "source": [
        "\n",
        "top_browsers_list = top_browsers.index.to_list()"
      ],
      "metadata": {
        "id": "c0AFAzIWLgjj"
      },
      "execution_count": null,
      "outputs": []
    },
    {
      "cell_type": "code",
      "source": [
        "#CREO OTRA COLUMNA PARA TODOS AQUELLOS QUE SEAN MINORITARIOS Y LA LLAMO OTROS\n",
        "top_browsers_list.append('Others')"
      ],
      "metadata": {
        "id": "XBhmFYW0LxQ8"
      },
      "execution_count": null,
      "outputs": []
    },
    {
      "cell_type": "code",
      "source": [
        "top_browsers_list = list(set(top_browsers_list))"
      ],
      "metadata": {
        "id": "-kVahrXsw4hL"
      },
      "execution_count": null,
      "outputs": []
    },
    {
      "cell_type": "code",
      "source": [
        "#HAY 4 TIPOS DE CATEGORIAS DISTINTAS EN PYTHON, EL CATEGORICAL Y OBJECT SON PRACTICAMENTE LO MISMO, LA DIFERENCIA ESTA EN QUE EN AMBAS\n",
        "#POR DETRAS PYTHON LO GRABA EN UNA TABLA, EN ESTA TABLITA QE TIENE PUEDE SER ESTATICA O DINAMICA, EN EL OBJECT LA VA ACTUALIZANDO\n",
        "#PERO EN EL CATEGORICAL LO UNICO QUE ME VA A PERMITIR ES QUE HAYA ESAS ETIQUETAS, SI ENCUENTRO OTRA DISTINTA LA PONE EN OTHERS\n",
        "df['device.browser'] = pd.Categorical(df['device.browser'], categories = top_browsers_list)"
      ],
      "metadata": {
        "id": "UARBUGelL7vr"
      },
      "execution_count": null,
      "outputs": []
    },
    {
      "cell_type": "code",
      "source": [
        "#AHORA VEO CUANTOS SERVIDORES QUEDAON\n",
        "df['device.browser'].value_counts(dropna = False)"
      ],
      "metadata": {
        "colab": {
          "base_uri": "https://localhost:8080/"
        },
        "id": "lMB0lu3dMHnP",
        "outputId": "1ba27e78-6b6d-45d6-eee6-37958a90b5b1"
      },
      "execution_count": null,
      "outputs": [
        {
          "output_type": "execute_result",
          "data": {
            "text/plain": [
              "Chrome               62130\n",
              "Safari               18207\n",
              "Firefox               3569\n",
              "Internet Explorer     1930\n",
              "NaN                   1350\n",
              "Edge                  1020\n",
              "Android Webview        785\n",
              "Safari (in-app)        661\n",
              "Opera Mini             597\n",
              "Others                   0\n",
              "Name: device.browser, dtype: int64"
            ]
          },
          "metadata": {},
          "execution_count": 260
        }
      ]
    },
    {
      "cell_type": "code",
      "source": [
        "#RELLENO LOS NULOS Y LOS PONGO EN OTHERS\n",
        "df['device.browser'].fillna('Others', inplace = True)"
      ],
      "metadata": {
        "id": "RPw4DNE_MMTz"
      },
      "execution_count": null,
      "outputs": []
    },
    {
      "cell_type": "code",
      "source": [
        "df['device.browser'].value_counts(dropna = False)"
      ],
      "metadata": {
        "colab": {
          "base_uri": "https://localhost:8080/"
        },
        "id": "fTZrh8OpMaRw",
        "outputId": "ffbc72cf-1fef-4b89-aab6-9ed99ba05b7d"
      },
      "execution_count": null,
      "outputs": [
        {
          "output_type": "execute_result",
          "data": {
            "text/plain": [
              "Chrome               62130\n",
              "Safari               18207\n",
              "Firefox               3569\n",
              "Internet Explorer     1930\n",
              "Others                1350\n",
              "Edge                  1020\n",
              "Android Webview        785\n",
              "Safari (in-app)        661\n",
              "Opera Mini             597\n",
              "Name: device.browser, dtype: int64"
            ]
          },
          "metadata": {},
          "execution_count": 262
        }
      ]
    },
    {
      "cell_type": "markdown",
      "source": [
        "### Analisis de la variable"
      ],
      "metadata": {
        "id": "-O53lRFJxfrf"
      }
    },
    {
      "cell_type": "code",
      "source": [
        "#ANALIZO LA VARIABLE CON RESPECTO AL TARGET, PARA ESTO HACEMOS UNA PIVOT TABLE QUE ERA UNA TABLA DONDE METIAMOS\n",
        "#DOS VARIABLES PARA VER COMO SE CORRELAIONABAN Y COMO FUNCIONES DE AGREGACION PONEMOS EL LEN Y EL NP MEDIAN\n",
        "#MIRO PARA CADA ETIQUETA DEL BROWSER CUANTAS COMPRAS TENGO Y LA MEDIA DE ESE TARGET \n",
        "#TENGO QUE TENER CUIDADO CUANDO ELIJO EL TARGET, PORQUE EL TARGET SOLO SIN LOG ME VA A DAR DATOS MUY TIRADOS A LA IZQUIERDA\n",
        "#Y EN ESTE CASO LA MEDIA NO SERA MUY REPRESENTATIVA\n",
        "#ENTONCES O TOMO EL TARGET LN Y CALCULO LA MEDIA, O SIGO UTILIZANDO TARGET SOLO Y METO LA MEDIANA (VALORES MAS FRECUENTES)\n",
        "results_df = df[df[TARGET] >0].pivot_table(index = 'device.browser', values = TARGET, aggfunc = [len, np.median] )"
      ],
      "metadata": {
        "id": "ioOkUu3Ax3jQ"
      },
      "execution_count": null,
      "outputs": []
    },
    {
      "cell_type": "code",
      "source": [
        "df[df[TARGET] >0].pivot_table(index = 'device.browser', values = TARGET, aggfunc = [len, np.median] )"
      ],
      "metadata": {
        "colab": {
          "base_uri": "https://localhost:8080/",
          "height": 331
        },
        "id": "fP3TgfnKLDoU",
        "outputId": "fa2516ef-042c-4307-f92e-065b6a997bc2"
      },
      "execution_count": null,
      "outputs": [
        {
          "output_type": "execute_result",
          "data": {
            "text/html": [
              "\n",
              "  <div id=\"df-89d4eb45-c8a0-4fad-837c-95c95c696f96\">\n",
              "    <div class=\"colab-df-container\">\n",
              "      <div>\n",
              "<style scoped>\n",
              "    .dataframe tbody tr th:only-of-type {\n",
              "        vertical-align: middle;\n",
              "    }\n",
              "\n",
              "    .dataframe tbody tr th {\n",
              "        vertical-align: top;\n",
              "    }\n",
              "\n",
              "    .dataframe thead tr th {\n",
              "        text-align: left;\n",
              "    }\n",
              "\n",
              "    .dataframe thead tr:last-of-type th {\n",
              "        text-align: right;\n",
              "    }\n",
              "</style>\n",
              "<table border=\"1\" class=\"dataframe\">\n",
              "  <thead>\n",
              "    <tr>\n",
              "      <th></th>\n",
              "      <th>len</th>\n",
              "      <th>median</th>\n",
              "    </tr>\n",
              "    <tr>\n",
              "      <th></th>\n",
              "      <th>totals.transactionRevenue</th>\n",
              "      <th>totals.transactionRevenue</th>\n",
              "    </tr>\n",
              "    <tr>\n",
              "      <th>device.browser</th>\n",
              "      <th></th>\n",
              "      <th></th>\n",
              "    </tr>\n",
              "  </thead>\n",
              "  <tbody>\n",
              "    <tr>\n",
              "      <th>Edge</th>\n",
              "      <td>10.0</td>\n",
              "      <td>20.905</td>\n",
              "    </tr>\n",
              "    <tr>\n",
              "      <th>Chrome</th>\n",
              "      <td>1065.0</td>\n",
              "      <td>52.600</td>\n",
              "    </tr>\n",
              "    <tr>\n",
              "      <th>Firefox</th>\n",
              "      <td>17.0</td>\n",
              "      <td>20.980</td>\n",
              "    </tr>\n",
              "    <tr>\n",
              "      <th>Safari</th>\n",
              "      <td>74.0</td>\n",
              "      <td>26.450</td>\n",
              "    </tr>\n",
              "    <tr>\n",
              "      <th>Android Webview</th>\n",
              "      <td>1.0</td>\n",
              "      <td>49.990</td>\n",
              "    </tr>\n",
              "    <tr>\n",
              "      <th>Others</th>\n",
              "      <td>2.0</td>\n",
              "      <td>63.240</td>\n",
              "    </tr>\n",
              "    <tr>\n",
              "      <th>Internet Explorer</th>\n",
              "      <td>8.0</td>\n",
              "      <td>16.980</td>\n",
              "    </tr>\n",
              "  </tbody>\n",
              "</table>\n",
              "</div>\n",
              "      <button class=\"colab-df-convert\" onclick=\"convertToInteractive('df-89d4eb45-c8a0-4fad-837c-95c95c696f96')\"\n",
              "              title=\"Convert this dataframe to an interactive table.\"\n",
              "              style=\"display:none;\">\n",
              "        \n",
              "  <svg xmlns=\"http://www.w3.org/2000/svg\" height=\"24px\"viewBox=\"0 0 24 24\"\n",
              "       width=\"24px\">\n",
              "    <path d=\"M0 0h24v24H0V0z\" fill=\"none\"/>\n",
              "    <path d=\"M18.56 5.44l.94 2.06.94-2.06 2.06-.94-2.06-.94-.94-2.06-.94 2.06-2.06.94zm-11 1L8.5 8.5l.94-2.06 2.06-.94-2.06-.94L8.5 2.5l-.94 2.06-2.06.94zm10 10l.94 2.06.94-2.06 2.06-.94-2.06-.94-.94-2.06-.94 2.06-2.06.94z\"/><path d=\"M17.41 7.96l-1.37-1.37c-.4-.4-.92-.59-1.43-.59-.52 0-1.04.2-1.43.59L10.3 9.45l-7.72 7.72c-.78.78-.78 2.05 0 2.83L4 21.41c.39.39.9.59 1.41.59.51 0 1.02-.2 1.41-.59l7.78-7.78 2.81-2.81c.8-.78.8-2.07 0-2.86zM5.41 20L4 18.59l7.72-7.72 1.47 1.35L5.41 20z\"/>\n",
              "  </svg>\n",
              "      </button>\n",
              "      \n",
              "  <style>\n",
              "    .colab-df-container {\n",
              "      display:flex;\n",
              "      flex-wrap:wrap;\n",
              "      gap: 12px;\n",
              "    }\n",
              "\n",
              "    .colab-df-convert {\n",
              "      background-color: #E8F0FE;\n",
              "      border: none;\n",
              "      border-radius: 50%;\n",
              "      cursor: pointer;\n",
              "      display: none;\n",
              "      fill: #1967D2;\n",
              "      height: 32px;\n",
              "      padding: 0 0 0 0;\n",
              "      width: 32px;\n",
              "    }\n",
              "\n",
              "    .colab-df-convert:hover {\n",
              "      background-color: #E2EBFA;\n",
              "      box-shadow: 0px 1px 2px rgba(60, 64, 67, 0.3), 0px 1px 3px 1px rgba(60, 64, 67, 0.15);\n",
              "      fill: #174EA6;\n",
              "    }\n",
              "\n",
              "    [theme=dark] .colab-df-convert {\n",
              "      background-color: #3B4455;\n",
              "      fill: #D2E3FC;\n",
              "    }\n",
              "\n",
              "    [theme=dark] .colab-df-convert:hover {\n",
              "      background-color: #434B5C;\n",
              "      box-shadow: 0px 1px 3px 1px rgba(0, 0, 0, 0.15);\n",
              "      filter: drop-shadow(0px 1px 2px rgba(0, 0, 0, 0.3));\n",
              "      fill: #FFFFFF;\n",
              "    }\n",
              "  </style>\n",
              "\n",
              "      <script>\n",
              "        const buttonEl =\n",
              "          document.querySelector('#df-89d4eb45-c8a0-4fad-837c-95c95c696f96 button.colab-df-convert');\n",
              "        buttonEl.style.display =\n",
              "          google.colab.kernel.accessAllowed ? 'block' : 'none';\n",
              "\n",
              "        async function convertToInteractive(key) {\n",
              "          const element = document.querySelector('#df-89d4eb45-c8a0-4fad-837c-95c95c696f96');\n",
              "          const dataTable =\n",
              "            await google.colab.kernel.invokeFunction('convertToInteractive',\n",
              "                                                     [key], {});\n",
              "          if (!dataTable) return;\n",
              "\n",
              "          const docLinkHtml = 'Like what you see? Visit the ' +\n",
              "            '<a target=\"_blank\" href=https://colab.research.google.com/notebooks/data_table.ipynb>data table notebook</a>'\n",
              "            + ' to learn more about interactive tables.';\n",
              "          element.innerHTML = '';\n",
              "          dataTable['output_type'] = 'display_data';\n",
              "          await google.colab.output.renderOutput(dataTable, element);\n",
              "          const docLink = document.createElement('div');\n",
              "          docLink.innerHTML = docLinkHtml;\n",
              "          element.appendChild(docLink);\n",
              "        }\n",
              "      </script>\n",
              "    </div>\n",
              "  </div>\n",
              "  "
            ],
            "text/plain": [
              "                                        len                    median\n",
              "                  totals.transactionRevenue totals.transactionRevenue\n",
              "device.browser                                                       \n",
              "Edge                                   10.0                    20.905\n",
              "Chrome                               1065.0                    52.600\n",
              "Firefox                                17.0                    20.980\n",
              "Safari                                 74.0                    26.450\n",
              "Android Webview                         1.0                    49.990\n",
              "Others                                  2.0                    63.240\n",
              "Internet Explorer                       8.0                    16.980"
            ]
          },
          "metadata": {},
          "execution_count": 264
        }
      ]
    },
    {
      "cell_type": "code",
      "source": [
        "#UNA VEZ QUE DEFINI LA COLUMNA RESULTADOS RENOMBRO LAS COLUMNAS Y PONGO TRANSACCIONES(AL LARGO) Y LA MEDIANA MEDIAN DE INGRESOS\n",
        "results_df.columns = ['transactions', 'median_revenue']"
      ],
      "metadata": {
        "id": "TrhtVEQ1ylRm"
      },
      "execution_count": null,
      "outputs": []
    },
    {
      "cell_type": "code",
      "source": [
        "#AQUI AGREGO OTRA COLUMNA QUE INDICA EL NUMERO DATOS POR CADA ETIQUETA\n",
        "results_df['n_rows'] = df['device.browser'].value_counts()"
      ],
      "metadata": {
        "id": "QzGRMzqlzCn4"
      },
      "execution_count": null,
      "outputs": []
    },
    {
      "cell_type": "code",
      "source": [
        "results_df"
      ],
      "metadata": {
        "colab": {
          "base_uri": "https://localhost:8080/",
          "height": 300
        },
        "id": "1hO_6rM6rteK",
        "outputId": "c62c61be-f8d1-42e4-8aeb-91b4b3564984"
      },
      "execution_count": null,
      "outputs": [
        {
          "output_type": "execute_result",
          "data": {
            "text/html": [
              "\n",
              "  <div id=\"df-7503301e-e1da-4bc6-b4ac-93e1d1d0478a\">\n",
              "    <div class=\"colab-df-container\">\n",
              "      <div>\n",
              "<style scoped>\n",
              "    .dataframe tbody tr th:only-of-type {\n",
              "        vertical-align: middle;\n",
              "    }\n",
              "\n",
              "    .dataframe tbody tr th {\n",
              "        vertical-align: top;\n",
              "    }\n",
              "\n",
              "    .dataframe thead th {\n",
              "        text-align: right;\n",
              "    }\n",
              "</style>\n",
              "<table border=\"1\" class=\"dataframe\">\n",
              "  <thead>\n",
              "    <tr style=\"text-align: right;\">\n",
              "      <th></th>\n",
              "      <th>transactions</th>\n",
              "      <th>median_revenue</th>\n",
              "      <th>n_rows</th>\n",
              "    </tr>\n",
              "    <tr>\n",
              "      <th>device.browser</th>\n",
              "      <th></th>\n",
              "      <th></th>\n",
              "      <th></th>\n",
              "    </tr>\n",
              "  </thead>\n",
              "  <tbody>\n",
              "    <tr>\n",
              "      <th>Edge</th>\n",
              "      <td>10.0</td>\n",
              "      <td>20.905</td>\n",
              "      <td>1020</td>\n",
              "    </tr>\n",
              "    <tr>\n",
              "      <th>Chrome</th>\n",
              "      <td>1065.0</td>\n",
              "      <td>52.600</td>\n",
              "      <td>62130</td>\n",
              "    </tr>\n",
              "    <tr>\n",
              "      <th>Firefox</th>\n",
              "      <td>17.0</td>\n",
              "      <td>20.980</td>\n",
              "      <td>3569</td>\n",
              "    </tr>\n",
              "    <tr>\n",
              "      <th>Safari</th>\n",
              "      <td>74.0</td>\n",
              "      <td>26.450</td>\n",
              "      <td>18207</td>\n",
              "    </tr>\n",
              "    <tr>\n",
              "      <th>Android Webview</th>\n",
              "      <td>1.0</td>\n",
              "      <td>49.990</td>\n",
              "      <td>785</td>\n",
              "    </tr>\n",
              "    <tr>\n",
              "      <th>Others</th>\n",
              "      <td>2.0</td>\n",
              "      <td>63.240</td>\n",
              "      <td>1350</td>\n",
              "    </tr>\n",
              "    <tr>\n",
              "      <th>Internet Explorer</th>\n",
              "      <td>8.0</td>\n",
              "      <td>16.980</td>\n",
              "      <td>1930</td>\n",
              "    </tr>\n",
              "  </tbody>\n",
              "</table>\n",
              "</div>\n",
              "      <button class=\"colab-df-convert\" onclick=\"convertToInteractive('df-7503301e-e1da-4bc6-b4ac-93e1d1d0478a')\"\n",
              "              title=\"Convert this dataframe to an interactive table.\"\n",
              "              style=\"display:none;\">\n",
              "        \n",
              "  <svg xmlns=\"http://www.w3.org/2000/svg\" height=\"24px\"viewBox=\"0 0 24 24\"\n",
              "       width=\"24px\">\n",
              "    <path d=\"M0 0h24v24H0V0z\" fill=\"none\"/>\n",
              "    <path d=\"M18.56 5.44l.94 2.06.94-2.06 2.06-.94-2.06-.94-.94-2.06-.94 2.06-2.06.94zm-11 1L8.5 8.5l.94-2.06 2.06-.94-2.06-.94L8.5 2.5l-.94 2.06-2.06.94zm10 10l.94 2.06.94-2.06 2.06-.94-2.06-.94-.94-2.06-.94 2.06-2.06.94z\"/><path d=\"M17.41 7.96l-1.37-1.37c-.4-.4-.92-.59-1.43-.59-.52 0-1.04.2-1.43.59L10.3 9.45l-7.72 7.72c-.78.78-.78 2.05 0 2.83L4 21.41c.39.39.9.59 1.41.59.51 0 1.02-.2 1.41-.59l7.78-7.78 2.81-2.81c.8-.78.8-2.07 0-2.86zM5.41 20L4 18.59l7.72-7.72 1.47 1.35L5.41 20z\"/>\n",
              "  </svg>\n",
              "      </button>\n",
              "      \n",
              "  <style>\n",
              "    .colab-df-container {\n",
              "      display:flex;\n",
              "      flex-wrap:wrap;\n",
              "      gap: 12px;\n",
              "    }\n",
              "\n",
              "    .colab-df-convert {\n",
              "      background-color: #E8F0FE;\n",
              "      border: none;\n",
              "      border-radius: 50%;\n",
              "      cursor: pointer;\n",
              "      display: none;\n",
              "      fill: #1967D2;\n",
              "      height: 32px;\n",
              "      padding: 0 0 0 0;\n",
              "      width: 32px;\n",
              "    }\n",
              "\n",
              "    .colab-df-convert:hover {\n",
              "      background-color: #E2EBFA;\n",
              "      box-shadow: 0px 1px 2px rgba(60, 64, 67, 0.3), 0px 1px 3px 1px rgba(60, 64, 67, 0.15);\n",
              "      fill: #174EA6;\n",
              "    }\n",
              "\n",
              "    [theme=dark] .colab-df-convert {\n",
              "      background-color: #3B4455;\n",
              "      fill: #D2E3FC;\n",
              "    }\n",
              "\n",
              "    [theme=dark] .colab-df-convert:hover {\n",
              "      background-color: #434B5C;\n",
              "      box-shadow: 0px 1px 3px 1px rgba(0, 0, 0, 0.15);\n",
              "      filter: drop-shadow(0px 1px 2px rgba(0, 0, 0, 0.3));\n",
              "      fill: #FFFFFF;\n",
              "    }\n",
              "  </style>\n",
              "\n",
              "      <script>\n",
              "        const buttonEl =\n",
              "          document.querySelector('#df-7503301e-e1da-4bc6-b4ac-93e1d1d0478a button.colab-df-convert');\n",
              "        buttonEl.style.display =\n",
              "          google.colab.kernel.accessAllowed ? 'block' : 'none';\n",
              "\n",
              "        async function convertToInteractive(key) {\n",
              "          const element = document.querySelector('#df-7503301e-e1da-4bc6-b4ac-93e1d1d0478a');\n",
              "          const dataTable =\n",
              "            await google.colab.kernel.invokeFunction('convertToInteractive',\n",
              "                                                     [key], {});\n",
              "          if (!dataTable) return;\n",
              "\n",
              "          const docLinkHtml = 'Like what you see? Visit the ' +\n",
              "            '<a target=\"_blank\" href=https://colab.research.google.com/notebooks/data_table.ipynb>data table notebook</a>'\n",
              "            + ' to learn more about interactive tables.';\n",
              "          element.innerHTML = '';\n",
              "          dataTable['output_type'] = 'display_data';\n",
              "          await google.colab.output.renderOutput(dataTable, element);\n",
              "          const docLink = document.createElement('div');\n",
              "          docLink.innerHTML = docLinkHtml;\n",
              "          element.appendChild(docLink);\n",
              "        }\n",
              "      </script>\n",
              "    </div>\n",
              "  </div>\n",
              "  "
            ],
            "text/plain": [
              "                   transactions  median_revenue  n_rows\n",
              "device.browser                                         \n",
              "Edge                       10.0          20.905    1020\n",
              "Chrome                   1065.0          52.600   62130\n",
              "Firefox                    17.0          20.980    3569\n",
              "Safari                     74.0          26.450   18207\n",
              "Android Webview             1.0          49.990     785\n",
              "Others                      2.0          63.240    1350\n",
              "Internet Explorer           8.0          16.980    1930"
            ]
          },
          "metadata": {},
          "execution_count": 268
        }
      ]
    },
    {
      "cell_type": "code",
      "source": [
        "df['device.browser'].value_counts()"
      ],
      "metadata": {
        "colab": {
          "base_uri": "https://localhost:8080/"
        },
        "id": "gbalvvEzLRya",
        "outputId": "b3535aa4-bb96-44fc-c179-94614e312f45"
      },
      "execution_count": null,
      "outputs": [
        {
          "output_type": "execute_result",
          "data": {
            "text/plain": [
              "Chrome               62130\n",
              "Safari               18207\n",
              "Firefox               3569\n",
              "Internet Explorer     1930\n",
              "Others                1350\n",
              "Edge                  1020\n",
              "Android Webview        785\n",
              "Safari (in-app)        661\n",
              "Opera Mini             597\n",
              "Name: device.browser, dtype: int64"
            ]
          },
          "metadata": {},
          "execution_count": 75
        }
      ]
    },
    {
      "cell_type": "code",
      "source": [
        "#DEL RESULTADO ANTERIOR HAGO UNA COLUMNA DE PORCENTAJE\n",
        "results_df['pct_rows'] = df['device.browser'].value_counts(normalize = True)"
      ],
      "metadata": {
        "id": "NOsIv2qJzQ7C"
      },
      "execution_count": null,
      "outputs": []
    },
    {
      "cell_type": "code",
      "source": [
        "#ENTONCES AHORA TENEMOS EL TOTAL DE VISITAS VERSUS LA CANTIDAD DE TRANSACCIONES, HACEMOS LA DIFERENCIA ENTRE AMBOS \n",
        "#Y TENEMOS EL % DE TRANSACCIONES SOBRE EL TOTAL DE VISITAS \n",
        "results_df['pct_transactions'] = results_df['transactions'] / results_df['n_rows']"
      ],
      "metadata": {
        "id": "hcqlj34LzUKx"
      },
      "execution_count": null,
      "outputs": []
    },
    {
      "cell_type": "code",
      "source": [
        "#AGREGO TODAS LAS COLUMNAS AL DATAFRAME, LAS ORDENO \n",
        "#NUM DE FILAS TOTALES (N_ROWS)\n",
        "#PORCENTAJE Q REPRESENTAN SOBRE EL TOTAL\n",
        "#NUMERO TOTAL DE TRANSACCIONES\n",
        "#PORCENTAJE DE TRANSACCIONES\n",
        "#Y LA MEDIA QUE SE GASTA\n",
        "results_df = results_df[['n_rows','pct_rows','transactions','pct_transactions','median_revenue']]"
      ],
      "metadata": {
        "id": "FUCMrqeBzjZ7"
      },
      "execution_count": null,
      "outputs": []
    },
    {
      "cell_type": "code",
      "source": [
        "#SERA IMPORTANTE ESTA VARIABLE PARA PREDECIR EL IMPORTE? ENTENDER QUIEN COMPRA Y QUIEN NO Y ENTRE ESOS QUE COMPRE CUANTO GASTARAN\n",
        "#EL ALGORITMO VERA QUE SI BIEN EN CHROME ES MAS ALTO EL PORCENTAJE DE COMPRA EN OTROS GASTAN MAS PERO SON MENOS LOS QUE COMPRAN\n",
        "results_df"
      ],
      "metadata": {
        "colab": {
          "base_uri": "https://localhost:8080/",
          "height": 300
        },
        "id": "15xk-cSHzzZx",
        "outputId": "a4f527c2-227e-43c3-e965-c912e7ab780c"
      },
      "execution_count": null,
      "outputs": [
        {
          "output_type": "execute_result",
          "data": {
            "text/html": [
              "\n",
              "  <div id=\"df-ee5851f4-b790-46f3-996d-ea8c8b247a4b\">\n",
              "    <div class=\"colab-df-container\">\n",
              "      <div>\n",
              "<style scoped>\n",
              "    .dataframe tbody tr th:only-of-type {\n",
              "        vertical-align: middle;\n",
              "    }\n",
              "\n",
              "    .dataframe tbody tr th {\n",
              "        vertical-align: top;\n",
              "    }\n",
              "\n",
              "    .dataframe thead th {\n",
              "        text-align: right;\n",
              "    }\n",
              "</style>\n",
              "<table border=\"1\" class=\"dataframe\">\n",
              "  <thead>\n",
              "    <tr style=\"text-align: right;\">\n",
              "      <th></th>\n",
              "      <th>n_rows</th>\n",
              "      <th>pct_rows</th>\n",
              "      <th>transactions</th>\n",
              "      <th>pct_transactions</th>\n",
              "      <th>median_revenue</th>\n",
              "    </tr>\n",
              "    <tr>\n",
              "      <th>device.browser</th>\n",
              "      <th></th>\n",
              "      <th></th>\n",
              "      <th></th>\n",
              "      <th></th>\n",
              "      <th></th>\n",
              "    </tr>\n",
              "  </thead>\n",
              "  <tbody>\n",
              "    <tr>\n",
              "      <th>Edge</th>\n",
              "      <td>1020</td>\n",
              "      <td>0.011302</td>\n",
              "      <td>10.0</td>\n",
              "      <td>0.009804</td>\n",
              "      <td>20.905</td>\n",
              "    </tr>\n",
              "    <tr>\n",
              "      <th>Chrome</th>\n",
              "      <td>62130</td>\n",
              "      <td>0.688429</td>\n",
              "      <td>1065.0</td>\n",
              "      <td>0.017141</td>\n",
              "      <td>52.600</td>\n",
              "    </tr>\n",
              "    <tr>\n",
              "      <th>Firefox</th>\n",
              "      <td>3569</td>\n",
              "      <td>0.039546</td>\n",
              "      <td>17.0</td>\n",
              "      <td>0.004763</td>\n",
              "      <td>20.980</td>\n",
              "    </tr>\n",
              "    <tr>\n",
              "      <th>Safari</th>\n",
              "      <td>18207</td>\n",
              "      <td>0.201742</td>\n",
              "      <td>74.0</td>\n",
              "      <td>0.004064</td>\n",
              "      <td>26.450</td>\n",
              "    </tr>\n",
              "    <tr>\n",
              "      <th>Android Webview</th>\n",
              "      <td>785</td>\n",
              "      <td>0.008698</td>\n",
              "      <td>1.0</td>\n",
              "      <td>0.001274</td>\n",
              "      <td>49.990</td>\n",
              "    </tr>\n",
              "    <tr>\n",
              "      <th>Others</th>\n",
              "      <td>1350</td>\n",
              "      <td>0.014959</td>\n",
              "      <td>2.0</td>\n",
              "      <td>0.001481</td>\n",
              "      <td>63.240</td>\n",
              "    </tr>\n",
              "    <tr>\n",
              "      <th>Internet Explorer</th>\n",
              "      <td>1930</td>\n",
              "      <td>0.021385</td>\n",
              "      <td>8.0</td>\n",
              "      <td>0.004145</td>\n",
              "      <td>16.980</td>\n",
              "    </tr>\n",
              "  </tbody>\n",
              "</table>\n",
              "</div>\n",
              "      <button class=\"colab-df-convert\" onclick=\"convertToInteractive('df-ee5851f4-b790-46f3-996d-ea8c8b247a4b')\"\n",
              "              title=\"Convert this dataframe to an interactive table.\"\n",
              "              style=\"display:none;\">\n",
              "        \n",
              "  <svg xmlns=\"http://www.w3.org/2000/svg\" height=\"24px\"viewBox=\"0 0 24 24\"\n",
              "       width=\"24px\">\n",
              "    <path d=\"M0 0h24v24H0V0z\" fill=\"none\"/>\n",
              "    <path d=\"M18.56 5.44l.94 2.06.94-2.06 2.06-.94-2.06-.94-.94-2.06-.94 2.06-2.06.94zm-11 1L8.5 8.5l.94-2.06 2.06-.94-2.06-.94L8.5 2.5l-.94 2.06-2.06.94zm10 10l.94 2.06.94-2.06 2.06-.94-2.06-.94-.94-2.06-.94 2.06-2.06.94z\"/><path d=\"M17.41 7.96l-1.37-1.37c-.4-.4-.92-.59-1.43-.59-.52 0-1.04.2-1.43.59L10.3 9.45l-7.72 7.72c-.78.78-.78 2.05 0 2.83L4 21.41c.39.39.9.59 1.41.59.51 0 1.02-.2 1.41-.59l7.78-7.78 2.81-2.81c.8-.78.8-2.07 0-2.86zM5.41 20L4 18.59l7.72-7.72 1.47 1.35L5.41 20z\"/>\n",
              "  </svg>\n",
              "      </button>\n",
              "      \n",
              "  <style>\n",
              "    .colab-df-container {\n",
              "      display:flex;\n",
              "      flex-wrap:wrap;\n",
              "      gap: 12px;\n",
              "    }\n",
              "\n",
              "    .colab-df-convert {\n",
              "      background-color: #E8F0FE;\n",
              "      border: none;\n",
              "      border-radius: 50%;\n",
              "      cursor: pointer;\n",
              "      display: none;\n",
              "      fill: #1967D2;\n",
              "      height: 32px;\n",
              "      padding: 0 0 0 0;\n",
              "      width: 32px;\n",
              "    }\n",
              "\n",
              "    .colab-df-convert:hover {\n",
              "      background-color: #E2EBFA;\n",
              "      box-shadow: 0px 1px 2px rgba(60, 64, 67, 0.3), 0px 1px 3px 1px rgba(60, 64, 67, 0.15);\n",
              "      fill: #174EA6;\n",
              "    }\n",
              "\n",
              "    [theme=dark] .colab-df-convert {\n",
              "      background-color: #3B4455;\n",
              "      fill: #D2E3FC;\n",
              "    }\n",
              "\n",
              "    [theme=dark] .colab-df-convert:hover {\n",
              "      background-color: #434B5C;\n",
              "      box-shadow: 0px 1px 3px 1px rgba(0, 0, 0, 0.15);\n",
              "      filter: drop-shadow(0px 1px 2px rgba(0, 0, 0, 0.3));\n",
              "      fill: #FFFFFF;\n",
              "    }\n",
              "  </style>\n",
              "\n",
              "      <script>\n",
              "        const buttonEl =\n",
              "          document.querySelector('#df-ee5851f4-b790-46f3-996d-ea8c8b247a4b button.colab-df-convert');\n",
              "        buttonEl.style.display =\n",
              "          google.colab.kernel.accessAllowed ? 'block' : 'none';\n",
              "\n",
              "        async function convertToInteractive(key) {\n",
              "          const element = document.querySelector('#df-ee5851f4-b790-46f3-996d-ea8c8b247a4b');\n",
              "          const dataTable =\n",
              "            await google.colab.kernel.invokeFunction('convertToInteractive',\n",
              "                                                     [key], {});\n",
              "          if (!dataTable) return;\n",
              "\n",
              "          const docLinkHtml = 'Like what you see? Visit the ' +\n",
              "            '<a target=\"_blank\" href=https://colab.research.google.com/notebooks/data_table.ipynb>data table notebook</a>'\n",
              "            + ' to learn more about interactive tables.';\n",
              "          element.innerHTML = '';\n",
              "          dataTable['output_type'] = 'display_data';\n",
              "          await google.colab.output.renderOutput(dataTable, element);\n",
              "          const docLink = document.createElement('div');\n",
              "          docLink.innerHTML = docLinkHtml;\n",
              "          element.appendChild(docLink);\n",
              "        }\n",
              "      </script>\n",
              "    </div>\n",
              "  </div>\n",
              "  "
            ],
            "text/plain": [
              "                   n_rows  pct_rows  ...  pct_transactions  median_revenue\n",
              "device.browser                       ...                                  \n",
              "Edge                 1020  0.011302  ...          0.009804          20.905\n",
              "Chrome              62130  0.688429  ...          0.017141          52.600\n",
              "Firefox              3569  0.039546  ...          0.004763          20.980\n",
              "Safari              18207  0.201742  ...          0.004064          26.450\n",
              "Android Webview       785  0.008698  ...          0.001274          49.990\n",
              "Others               1350  0.014959  ...          0.001481          63.240\n",
              "Internet Explorer    1930  0.021385  ...          0.004145          16.980\n",
              "\n",
              "[7 rows x 5 columns]"
            ]
          },
          "metadata": {},
          "execution_count": 79
        }
      ]
    },
    {
      "cell_type": "code",
      "source": [
        "#HACEMOS UN PLOTEO DEL CONTEO DE LOS USARIOS CON TALES SERVIDORES\n",
        "plt.figure(figsize = (15,5))\n",
        "sns.countplot(df['device.browser'])"
      ],
      "metadata": {
        "colab": {
          "base_uri": "https://localhost:8080/",
          "height": 406
        },
        "id": "eKFg9UzI01_p",
        "outputId": "367741e7-1a2b-4dc3-860e-fc351acb669c"
      },
      "execution_count": null,
      "outputs": [
        {
          "output_type": "stream",
          "name": "stderr",
          "text": [
            "/usr/local/lib/python3.7/dist-packages/seaborn/_decorators.py:43: FutureWarning: Pass the following variable as a keyword arg: x. From version 0.12, the only valid positional argument will be `data`, and passing other arguments without an explicit keyword will result in an error or misinterpretation.\n",
            "  FutureWarning\n"
          ]
        },
        {
          "output_type": "execute_result",
          "data": {
            "text/plain": [
              "<matplotlib.axes._subplots.AxesSubplot at 0x7f17354e9ed0>"
            ]
          },
          "metadata": {},
          "execution_count": 80
        },
        {
          "output_type": "display_data",
          "data": {
            "image/png": "[encoded data removed]",
            "text/plain": [
              "<Figure size 1080x360 with 1 Axes>"
            ]
          },
          "metadata": {
            "needs_background": "light"
          }
        }
      ]
    },
    {
      "cell_type": "code",
      "source": [
        "#AHORA HACEMOS UN BOXPLOT CON EL TARGET EN EL EJE Y PERO SOLO VOY A VER AQUELLOS QUE HAYAN HECHO TRANSACCIONES\n",
        "plt.figure(figsize = (15,5))\n",
        "sns.boxplot(data = df[df[TARGET]>0], x = 'device.browser', y = TARGET_LN )"
      ],
      "metadata": {
        "colab": {
          "base_uri": "https://localhost:8080/",
          "height": 351
        },
        "id": "W_5WN9GA1Dkk",
        "outputId": "0e4f4bf7-c9c3-43ad-b331-7221764cea24"
      },
      "execution_count": null,
      "outputs": [
        {
          "output_type": "execute_result",
          "data": {
            "text/plain": [
              "<matplotlib.axes._subplots.AxesSubplot at 0x7f1735d6de90>"
            ]
          },
          "metadata": {},
          "execution_count": 81
        },
        {
          "output_type": "display_data",
          "data": {
            "image/png": "[encoded data removed]",
            "text/plain": [
              "<Figure size 1080x360 with 1 Axes>"
            ]
          },
          "metadata": {
            "needs_background": "light"
          }
        }
      ]
    },
    {
      "cell_type": "code",
      "source": [
        "#CREO UNA FUNCION PARA PLOTEAR LAS VARIABLES CATEGORICAS MAS RAPIDO, DONDE PONGO EL NOMBRE DE DATAFRAME, LA COLUMNA QUE QUIERO VER Y EL TARGET EN LOG\n",
        "def plot_cat_values(dataframe, column,target_col):\n",
        "  plt.figure(figsize = (15,5))\n",
        "\n",
        "  ax1 = plt.subplot(2,1,1) # 2 filas, 1 columna, posicion 1\n",
        "  ax1 = sns.countplot(dataframe[column], order = list(dataframe[column].unique()) )\n",
        "\n",
        "  ax2 = plt.subplot(2,1,2)\n",
        "  ax2 = sns.boxplot(data = dataframe[dataframe[target_col]>0], x = column, y = target_col , order = list(dataframe[column].unique())  )\n",
        "  plt.show()"
      ],
      "metadata": {
        "id": "MYHTN4Qg1kEW"
      },
      "execution_count": null,
      "outputs": []
    },
    {
      "cell_type": "code",
      "source": [
        "#PRUEBO LA FUNCION CON \n",
        "plot_cat_values(df, 'device.browser',TARGET_LN)"
      ],
      "metadata": {
        "colab": {
          "base_uri": "https://localhost:8080/",
          "height": 388
        },
        "id": "OKB-Vz-B1S32",
        "outputId": "420fd357-f669-4df6-dd41-2069198d8d86"
      },
      "execution_count": null,
      "outputs": [
        {
          "output_type": "stream",
          "name": "stderr",
          "text": [
            "/usr/local/lib/python3.7/dist-packages/seaborn/_decorators.py:43: FutureWarning: Pass the following variable as a keyword arg: x. From version 0.12, the only valid positional argument will be `data`, and passing other arguments without an explicit keyword will result in an error or misinterpretation.\n",
            "  FutureWarning\n"
          ]
        },
        {
          "output_type": "display_data",
          "data": {
            "image/png": "[encoded data removed]",
            "text/plain": [
              "<Figure size 1080x360 with 2 Axes>"
            ]
          },
          "metadata": {
            "needs_background": "light"
          }
        }
      ]
    },
    {
      "cell_type": "code",
      "source": [
        "#CON ESTA FUNCION PARA EXPLORAR LAS VARIABLES CATEGORICAS\n",
        "#VAMOS A HACER LAS TABLAS COMPARATIVAS ENTRE LAS VARIABLES Y EL TARGET, TODO LO QUE HICIMOS ANTERIORMENTE\n",
        "#PRIMERO GENERAMOS UNA VARIABLE DATAFRAME DE RESULTADOS, CON EL TARGET  A CERO ES DECIR SOLO LOS QUE COMPRARON\n",
        "#COMPARADO CON LA COLUMNA Y EL TARGET, Y LAS FUNCIONES DE AGREGACION Q DAN LA CANTIDAD DE DATOS DE LA COLUMNA TOTAL Y LA MEDIANA\n",
        "#DESPUES LA RENOMBRA AL TOTAL DE TRANSACCIONES Y LA MEDIA DE LOS QUE SE GASTO\n",
        "#DESPUES EL NUMERO DE VALORES TOTALES POR CADA ETIQUETA CON EL VALUE COUNTS\n",
        "#DESPUES HAGO EL PORCENTAJE DE LA CANTIDAD DE FILAS\n",
        "#DESPUES EL PORCENTAJE DE TRANSACCIONES \n",
        "#LUEGO ORDENAR LOS RESULTADOS \n",
        "def explore_cat_values(dataframe, column,target_col):\n",
        "  results_df = dataframe[dataframe[target_col] >0].pivot_table(index = column, values = target_col, aggfunc = [len, np.median] )\n",
        "  results_df.columns = ['transactions', 'median_revenue']\n",
        "  results_df['n_rows'] = dataframe[column].value_counts()\n",
        "  results_df['pct_rows'] = dataframe[column].value_counts(normalize = True)\n",
        "  results_df['pct_transactions'] = results_df['transactions'] / results_df['n_rows']\n",
        "  return results_df[['n_rows','pct_rows','transactions','pct_transactions','median_revenue']]"
      ],
      "metadata": {
        "id": "hnfaJu412yr6"
      },
      "execution_count": null,
      "outputs": []
    },
    {
      "cell_type": "code",
      "source": [
        "explore_cat_values(df, 'device.browser',TARGET_LN)"
      ],
      "metadata": {
        "colab": {
          "base_uri": "https://localhost:8080/",
          "height": 300
        },
        "id": "bskYhdF-3kI-",
        "outputId": "c3d28650-f0e8-442c-aea6-4bdecdf700a3"
      },
      "execution_count": null,
      "outputs": [
        {
          "output_type": "execute_result",
          "data": {
            "text/html": [
              "\n",
              "  <div id=\"df-fd471148-0a84-4c81-b718-41dfa0ffd6ae\">\n",
              "    <div class=\"colab-df-container\">\n",
              "      <div>\n",
              "<style scoped>\n",
              "    .dataframe tbody tr th:only-of-type {\n",
              "        vertical-align: middle;\n",
              "    }\n",
              "\n",
              "    .dataframe tbody tr th {\n",
              "        vertical-align: top;\n",
              "    }\n",
              "\n",
              "    .dataframe thead th {\n",
              "        text-align: right;\n",
              "    }\n",
              "</style>\n",
              "<table border=\"1\" class=\"dataframe\">\n",
              "  <thead>\n",
              "    <tr style=\"text-align: right;\">\n",
              "      <th></th>\n",
              "      <th>n_rows</th>\n",
              "      <th>pct_rows</th>\n",
              "      <th>transactions</th>\n",
              "      <th>pct_transactions</th>\n",
              "      <th>median_revenue</th>\n",
              "    </tr>\n",
              "    <tr>\n",
              "      <th>device.browser</th>\n",
              "      <th></th>\n",
              "      <th></th>\n",
              "      <th></th>\n",
              "      <th></th>\n",
              "      <th></th>\n",
              "    </tr>\n",
              "  </thead>\n",
              "  <tbody>\n",
              "    <tr>\n",
              "      <th>Edge</th>\n",
              "      <td>1020</td>\n",
              "      <td>0.011302</td>\n",
              "      <td>10.0</td>\n",
              "      <td>0.009804</td>\n",
              "      <td>3.076698</td>\n",
              "    </tr>\n",
              "    <tr>\n",
              "      <th>Chrome</th>\n",
              "      <td>62130</td>\n",
              "      <td>0.688429</td>\n",
              "      <td>1065.0</td>\n",
              "      <td>0.017141</td>\n",
              "      <td>3.981549</td>\n",
              "    </tr>\n",
              "    <tr>\n",
              "      <th>Firefox</th>\n",
              "      <td>3569</td>\n",
              "      <td>0.039546</td>\n",
              "      <td>17.0</td>\n",
              "      <td>0.004763</td>\n",
              "      <td>3.090133</td>\n",
              "    </tr>\n",
              "    <tr>\n",
              "      <th>Safari</th>\n",
              "      <td>18207</td>\n",
              "      <td>0.201742</td>\n",
              "      <td>74.0</td>\n",
              "      <td>0.004064</td>\n",
              "      <td>3.312220</td>\n",
              "    </tr>\n",
              "    <tr>\n",
              "      <th>Android Webview</th>\n",
              "      <td>785</td>\n",
              "      <td>0.008698</td>\n",
              "      <td>1.0</td>\n",
              "      <td>0.001274</td>\n",
              "      <td>3.931630</td>\n",
              "    </tr>\n",
              "    <tr>\n",
              "      <th>Others</th>\n",
              "      <td>1350</td>\n",
              "      <td>0.014959</td>\n",
              "      <td>2.0</td>\n",
              "      <td>0.001481</td>\n",
              "      <td>4.006707</td>\n",
              "    </tr>\n",
              "    <tr>\n",
              "      <th>Internet Explorer</th>\n",
              "      <td>1930</td>\n",
              "      <td>0.021385</td>\n",
              "      <td>8.0</td>\n",
              "      <td>0.004145</td>\n",
              "      <td>2.888904</td>\n",
              "    </tr>\n",
              "  </tbody>\n",
              "</table>\n",
              "</div>\n",
              "      <button class=\"colab-df-convert\" onclick=\"convertToInteractive('df-fd471148-0a84-4c81-b718-41dfa0ffd6ae')\"\n",
              "              title=\"Convert this dataframe to an interactive table.\"\n",
              "              style=\"display:none;\">\n",
              "        \n",
              "  <svg xmlns=\"http://www.w3.org/2000/svg\" height=\"24px\"viewBox=\"0 0 24 24\"\n",
              "       width=\"24px\">\n",
              "    <path d=\"M0 0h24v24H0V0z\" fill=\"none\"/>\n",
              "    <path d=\"M18.56 5.44l.94 2.06.94-2.06 2.06-.94-2.06-.94-.94-2.06-.94 2.06-2.06.94zm-11 1L8.5 8.5l.94-2.06 2.06-.94-2.06-.94L8.5 2.5l-.94 2.06-2.06.94zm10 10l.94 2.06.94-2.06 2.06-.94-2.06-.94-.94-2.06-.94 2.06-2.06.94z\"/><path d=\"M17.41 7.96l-1.37-1.37c-.4-.4-.92-.59-1.43-.59-.52 0-1.04.2-1.43.59L10.3 9.45l-7.72 7.72c-.78.78-.78 2.05 0 2.83L4 21.41c.39.39.9.59 1.41.59.51 0 1.02-.2 1.41-.59l7.78-7.78 2.81-2.81c.8-.78.8-2.07 0-2.86zM5.41 20L4 18.59l7.72-7.72 1.47 1.35L5.41 20z\"/>\n",
              "  </svg>\n",
              "      </button>\n",
              "      \n",
              "  <style>\n",
              "    .colab-df-container {\n",
              "      display:flex;\n",
              "      flex-wrap:wrap;\n",
              "      gap: 12px;\n",
              "    }\n",
              "\n",
              "    .colab-df-convert {\n",
              "      background-color: #E8F0FE;\n",
              "      border: none;\n",
              "      border-radius: 50%;\n",
              "      cursor: pointer;\n",
              "      display: none;\n",
              "      fill: #1967D2;\n",
              "      height: 32px;\n",
              "      padding: 0 0 0 0;\n",
              "      width: 32px;\n",
              "    }\n",
              "\n",
              "    .colab-df-convert:hover {\n",
              "      background-color: #E2EBFA;\n",
              "      box-shadow: 0px 1px 2px rgba(60, 64, 67, 0.3), 0px 1px 3px 1px rgba(60, 64, 67, 0.15);\n",
              "      fill: #174EA6;\n",
              "    }\n",
              "\n",
              "    [theme=dark] .colab-df-convert {\n",
              "      background-color: #3B4455;\n",
              "      fill: #D2E3FC;\n",
              "    }\n",
              "\n",
              "    [theme=dark] .colab-df-convert:hover {\n",
              "      background-color: #434B5C;\n",
              "      box-shadow: 0px 1px 3px 1px rgba(0, 0, 0, 0.15);\n",
              "      filter: drop-shadow(0px 1px 2px rgba(0, 0, 0, 0.3));\n",
              "      fill: #FFFFFF;\n",
              "    }\n",
              "  </style>\n",
              "\n",
              "      <script>\n",
              "        const buttonEl =\n",
              "          document.querySelector('#df-fd471148-0a84-4c81-b718-41dfa0ffd6ae button.colab-df-convert');\n",
              "        buttonEl.style.display =\n",
              "          google.colab.kernel.accessAllowed ? 'block' : 'none';\n",
              "\n",
              "        async function convertToInteractive(key) {\n",
              "          const element = document.querySelector('#df-fd471148-0a84-4c81-b718-41dfa0ffd6ae');\n",
              "          const dataTable =\n",
              "            await google.colab.kernel.invokeFunction('convertToInteractive',\n",
              "                                                     [key], {});\n",
              "          if (!dataTable) return;\n",
              "\n",
              "          const docLinkHtml = 'Like what you see? Visit the ' +\n",
              "            '<a target=\"_blank\" href=https://colab.research.google.com/notebooks/data_table.ipynb>data table notebook</a>'\n",
              "            + ' to learn more about interactive tables.';\n",
              "          element.innerHTML = '';\n",
              "          dataTable['output_type'] = 'display_data';\n",
              "          await google.colab.output.renderOutput(dataTable, element);\n",
              "          const docLink = document.createElement('div');\n",
              "          docLink.innerHTML = docLinkHtml;\n",
              "          element.appendChild(docLink);\n",
              "        }\n",
              "      </script>\n",
              "    </div>\n",
              "  </div>\n",
              "  "
            ],
            "text/plain": [
              "                   n_rows  pct_rows  ...  pct_transactions  median_revenue\n",
              "device.browser                       ...                                  \n",
              "Edge                 1020  0.011302  ...          0.009804        3.076698\n",
              "Chrome              62130  0.688429  ...          0.017141        3.981549\n",
              "Firefox              3569  0.039546  ...          0.004763        3.090133\n",
              "Safari              18207  0.201742  ...          0.004064        3.312220\n",
              "Android Webview       785  0.008698  ...          0.001274        3.931630\n",
              "Others               1350  0.014959  ...          0.001481        4.006707\n",
              "Internet Explorer    1930  0.021385  ...          0.004145        2.888904\n",
              "\n",
              "[7 rows x 5 columns]"
            ]
          },
          "metadata": {},
          "execution_count": 85
        }
      ]
    },
    {
      "cell_type": "code",
      "source": [
        "#ESTA FUNCION ES LA QUE CREAMOS PARA UTILIZAR SOLO LAS ETIQUETAS QUE TENGAN MAYORES DATOS Y PONER \n",
        "#AQUELLOS CON DATOS POCO SIGNIFICANTES EN OTHERS\n",
        "def set_Other(dataframe, column, num_values):\n",
        "  top_browsers = dataframe[column].value_counts().head(num_values)\n",
        "  top_browsers_list = top_browsers.index.to_list()\n",
        "  top_browsers_list.append('Others')\n",
        "  dataframe[column] = pd.Categorical(dataframe[column], categories = top_browsers_list)\n",
        "  return dataframe[column].fillna('Others')\n"
      ],
      "metadata": {
        "id": "uJ0kExjX4HMn"
      },
      "execution_count": null,
      "outputs": []
    },
    {
      "cell_type": "markdown",
      "source": [
        "#### Sistema operativo\n"
      ],
      "metadata": {
        "id": "JsIQvrAP46Qy"
      }
    },
    {
      "cell_type": "code",
      "source": [
        "df['device.operatingSystem'].value_counts()"
      ],
      "metadata": {
        "colab": {
          "base_uri": "https://localhost:8080/"
        },
        "id": "1rcRMv0N419y",
        "outputId": "7982d98e-cff6-48df-bca5-329cc202f1d0"
      },
      "execution_count": null,
      "outputs": [
        {
          "output_type": "execute_result",
          "data": {
            "text/plain": [
              "Windows          34835\n",
              "Macintosh        25592\n",
              "Android          12428\n",
              "iOS              10620\n",
              "Linux             3461\n",
              "Chrome OS         2671\n",
              "(not set)          452\n",
              "Windows Phone      107\n",
              "BlackBerry          27\n",
              "Samsung             24\n",
              "Firefox OS          10\n",
              "Nintendo Wii         9\n",
              "Nintendo WiiU        7\n",
              "Xbox                 6\n",
              "Name: device.operatingSystem, dtype: int64"
            ]
          },
          "metadata": {},
          "execution_count": 87
        }
      ]
    },
    {
      "cell_type": "code",
      "source": [
        "df['device.operatingSystem'] = set_Other(df, 'device.operatingSystem', 6)"
      ],
      "metadata": {
        "id": "HiJy4UoH5SHj"
      },
      "execution_count": null,
      "outputs": []
    },
    {
      "cell_type": "code",
      "source": [
        "explore_cat_values(df, 'device.operatingSystem',TARGET)"
      ],
      "metadata": {
        "colab": {
          "base_uri": "https://localhost:8080/",
          "height": 268
        },
        "id": "LFasrtrE5bcV",
        "outputId": "68229549-66fc-4a8d-bd89-0223204e1e2f"
      },
      "execution_count": null,
      "outputs": [
        {
          "output_type": "execute_result",
          "data": {
            "text/html": [
              "\n",
              "  <div id=\"df-258f8ee6-44cd-4d4d-81cb-412c2b6fd8bc\">\n",
              "    <div class=\"colab-df-container\">\n",
              "      <div>\n",
              "<style scoped>\n",
              "    .dataframe tbody tr th:only-of-type {\n",
              "        vertical-align: middle;\n",
              "    }\n",
              "\n",
              "    .dataframe tbody tr th {\n",
              "        vertical-align: top;\n",
              "    }\n",
              "\n",
              "    .dataframe thead th {\n",
              "        text-align: right;\n",
              "    }\n",
              "</style>\n",
              "<table border=\"1\" class=\"dataframe\">\n",
              "  <thead>\n",
              "    <tr style=\"text-align: right;\">\n",
              "      <th></th>\n",
              "      <th>n_rows</th>\n",
              "      <th>pct_rows</th>\n",
              "      <th>transactions</th>\n",
              "      <th>pct_transactions</th>\n",
              "      <th>median_revenue</th>\n",
              "    </tr>\n",
              "    <tr>\n",
              "      <th>device.operatingSystem</th>\n",
              "      <th></th>\n",
              "      <th></th>\n",
              "      <th></th>\n",
              "      <th></th>\n",
              "      <th></th>\n",
              "    </tr>\n",
              "  </thead>\n",
              "  <tbody>\n",
              "    <tr>\n",
              "      <th>Windows</th>\n",
              "      <td>34835</td>\n",
              "      <td>0.385988</td>\n",
              "      <td>247.0</td>\n",
              "      <td>0.007091</td>\n",
              "      <td>46.840</td>\n",
              "    </tr>\n",
              "    <tr>\n",
              "      <th>Macintosh</th>\n",
              "      <td>25592</td>\n",
              "      <td>0.283571</td>\n",
              "      <td>652.0</td>\n",
              "      <td>0.025477</td>\n",
              "      <td>55.990</td>\n",
              "    </tr>\n",
              "    <tr>\n",
              "      <th>Android</th>\n",
              "      <td>12428</td>\n",
              "      <td>0.137708</td>\n",
              "      <td>48.0</td>\n",
              "      <td>0.003862</td>\n",
              "      <td>31.735</td>\n",
              "    </tr>\n",
              "    <tr>\n",
              "      <th>iOS</th>\n",
              "      <td>10620</td>\n",
              "      <td>0.117674</td>\n",
              "      <td>51.0</td>\n",
              "      <td>0.004802</td>\n",
              "      <td>21.990</td>\n",
              "    </tr>\n",
              "    <tr>\n",
              "      <th>Linux</th>\n",
              "      <td>3461</td>\n",
              "      <td>0.038349</td>\n",
              "      <td>65.0</td>\n",
              "      <td>0.018781</td>\n",
              "      <td>39.190</td>\n",
              "    </tr>\n",
              "    <tr>\n",
              "      <th>Chrome OS</th>\n",
              "      <td>2671</td>\n",
              "      <td>0.029596</td>\n",
              "      <td>114.0</td>\n",
              "      <td>0.042681</td>\n",
              "      <td>66.715</td>\n",
              "    </tr>\n",
              "  </tbody>\n",
              "</table>\n",
              "</div>\n",
              "      <button class=\"colab-df-convert\" onclick=\"convertToInteractive('df-258f8ee6-44cd-4d4d-81cb-412c2b6fd8bc')\"\n",
              "              title=\"Convert this dataframe to an interactive table.\"\n",
              "              style=\"display:none;\">\n",
              "        \n",
              "  <svg xmlns=\"http://www.w3.org/2000/svg\" height=\"24px\"viewBox=\"0 0 24 24\"\n",
              "       width=\"24px\">\n",
              "    <path d=\"M0 0h24v24H0V0z\" fill=\"none\"/>\n",
              "    <path d=\"M18.56 5.44l.94 2.06.94-2.06 2.06-.94-2.06-.94-.94-2.06-.94 2.06-2.06.94zm-11 1L8.5 8.5l.94-2.06 2.06-.94-2.06-.94L8.5 2.5l-.94 2.06-2.06.94zm10 10l.94 2.06.94-2.06 2.06-.94-2.06-.94-.94-2.06-.94 2.06-2.06.94z\"/><path d=\"M17.41 7.96l-1.37-1.37c-.4-.4-.92-.59-1.43-.59-.52 0-1.04.2-1.43.59L10.3 9.45l-7.72 7.72c-.78.78-.78 2.05 0 2.83L4 21.41c.39.39.9.59 1.41.59.51 0 1.02-.2 1.41-.59l7.78-7.78 2.81-2.81c.8-.78.8-2.07 0-2.86zM5.41 20L4 18.59l7.72-7.72 1.47 1.35L5.41 20z\"/>\n",
              "  </svg>\n",
              "      </button>\n",
              "      \n",
              "  <style>\n",
              "    .colab-df-container {\n",
              "      display:flex;\n",
              "      flex-wrap:wrap;\n",
              "      gap: 12px;\n",
              "    }\n",
              "\n",
              "    .colab-df-convert {\n",
              "      background-color: #E8F0FE;\n",
              "      border: none;\n",
              "      border-radius: 50%;\n",
              "      cursor: pointer;\n",
              "      display: none;\n",
              "      fill: #1967D2;\n",
              "      height: 32px;\n",
              "      padding: 0 0 0 0;\n",
              "      width: 32px;\n",
              "    }\n",
              "\n",
              "    .colab-df-convert:hover {\n",
              "      background-color: #E2EBFA;\n",
              "      box-shadow: 0px 1px 2px rgba(60, 64, 67, 0.3), 0px 1px 3px 1px rgba(60, 64, 67, 0.15);\n",
              "      fill: #174EA6;\n",
              "    }\n",
              "\n",
              "    [theme=dark] .colab-df-convert {\n",
              "      background-color: #3B4455;\n",
              "      fill: #D2E3FC;\n",
              "    }\n",
              "\n",
              "    [theme=dark] .colab-df-convert:hover {\n",
              "      background-color: #434B5C;\n",
              "      box-shadow: 0px 1px 3px 1px rgba(0, 0, 0, 0.15);\n",
              "      filter: drop-shadow(0px 1px 2px rgba(0, 0, 0, 0.3));\n",
              "      fill: #FFFFFF;\n",
              "    }\n",
              "  </style>\n",
              "\n",
              "      <script>\n",
              "        const buttonEl =\n",
              "          document.querySelector('#df-258f8ee6-44cd-4d4d-81cb-412c2b6fd8bc button.colab-df-convert');\n",
              "        buttonEl.style.display =\n",
              "          google.colab.kernel.accessAllowed ? 'block' : 'none';\n",
              "\n",
              "        async function convertToInteractive(key) {\n",
              "          const element = document.querySelector('#df-258f8ee6-44cd-4d4d-81cb-412c2b6fd8bc');\n",
              "          const dataTable =\n",
              "            await google.colab.kernel.invokeFunction('convertToInteractive',\n",
              "                                                     [key], {});\n",
              "          if (!dataTable) return;\n",
              "\n",
              "          const docLinkHtml = 'Like what you see? Visit the ' +\n",
              "            '<a target=\"_blank\" href=https://colab.research.google.com/notebooks/data_table.ipynb>data table notebook</a>'\n",
              "            + ' to learn more about interactive tables.';\n",
              "          element.innerHTML = '';\n",
              "          dataTable['output_type'] = 'display_data';\n",
              "          await google.colab.output.renderOutput(dataTable, element);\n",
              "          const docLink = document.createElement('div');\n",
              "          docLink.innerHTML = docLinkHtml;\n",
              "          element.appendChild(docLink);\n",
              "        }\n",
              "      </script>\n",
              "    </div>\n",
              "  </div>\n",
              "  "
            ],
            "text/plain": [
              "                        n_rows  pct_rows  ...  pct_transactions  median_revenue\n",
              "device.operatingSystem                    ...                                  \n",
              "Windows                  34835  0.385988  ...          0.007091          46.840\n",
              "Macintosh                25592  0.283571  ...          0.025477          55.990\n",
              "Android                  12428  0.137708  ...          0.003862          31.735\n",
              "iOS                      10620  0.117674  ...          0.004802          21.990\n",
              "Linux                     3461  0.038349  ...          0.018781          39.190\n",
              "Chrome OS                 2671  0.029596  ...          0.042681          66.715\n",
              "\n",
              "[6 rows x 5 columns]"
            ]
          },
          "metadata": {},
          "execution_count": 89
        }
      ]
    },
    {
      "cell_type": "markdown",
      "source": [
        "### is Mobile"
      ],
      "metadata": {
        "id": "ivuPvTJr6kwp"
      }
    },
    {
      "cell_type": "code",
      "source": [
        "explore_cat_values(df, 'device.isMobile',TARGET)"
      ],
      "metadata": {
        "colab": {
          "base_uri": "https://localhost:8080/",
          "height": 143
        },
        "id": "BBjYD8BB6mWC",
        "outputId": "3b0029ad-6b28-45d1-be1f-6e40aa889306"
      },
      "execution_count": null,
      "outputs": [
        {
          "output_type": "execute_result",
          "data": {
            "text/html": [
              "\n",
              "  <div id=\"df-c2574258-c152-403d-ae62-61d6be97344c\">\n",
              "    <div class=\"colab-df-container\">\n",
              "      <div>\n",
              "<style scoped>\n",
              "    .dataframe tbody tr th:only-of-type {\n",
              "        vertical-align: middle;\n",
              "    }\n",
              "\n",
              "    .dataframe tbody tr th {\n",
              "        vertical-align: top;\n",
              "    }\n",
              "\n",
              "    .dataframe thead th {\n",
              "        text-align: right;\n",
              "    }\n",
              "</style>\n",
              "<table border=\"1\" class=\"dataframe\">\n",
              "  <thead>\n",
              "    <tr style=\"text-align: right;\">\n",
              "      <th></th>\n",
              "      <th>n_rows</th>\n",
              "      <th>pct_rows</th>\n",
              "      <th>transactions</th>\n",
              "      <th>pct_transactions</th>\n",
              "      <th>median_revenue</th>\n",
              "    </tr>\n",
              "    <tr>\n",
              "      <th>device.isMobile</th>\n",
              "      <th></th>\n",
              "      <th></th>\n",
              "      <th></th>\n",
              "      <th></th>\n",
              "      <th></th>\n",
              "    </tr>\n",
              "  </thead>\n",
              "  <tbody>\n",
              "    <tr>\n",
              "      <th>False</th>\n",
              "      <td>66496</td>\n",
              "      <td>0.736806</td>\n",
              "      <td>1078</td>\n",
              "      <td>0.016212</td>\n",
              "      <td>52.66</td>\n",
              "    </tr>\n",
              "    <tr>\n",
              "      <th>True</th>\n",
              "      <td>23753</td>\n",
              "      <td>0.263194</td>\n",
              "      <td>99</td>\n",
              "      <td>0.004168</td>\n",
              "      <td>24.28</td>\n",
              "    </tr>\n",
              "  </tbody>\n",
              "</table>\n",
              "</div>\n",
              "      <button class=\"colab-df-convert\" onclick=\"convertToInteractive('df-c2574258-c152-403d-ae62-61d6be97344c')\"\n",
              "              title=\"Convert this dataframe to an interactive table.\"\n",
              "              style=\"display:none;\">\n",
              "        \n",
              "  <svg xmlns=\"http://www.w3.org/2000/svg\" height=\"24px\"viewBox=\"0 0 24 24\"\n",
              "       width=\"24px\">\n",
              "    <path d=\"M0 0h24v24H0V0z\" fill=\"none\"/>\n",
              "    <path d=\"M18.56 5.44l.94 2.06.94-2.06 2.06-.94-2.06-.94-.94-2.06-.94 2.06-2.06.94zm-11 1L8.5 8.5l.94-2.06 2.06-.94-2.06-.94L8.5 2.5l-.94 2.06-2.06.94zm10 10l.94 2.06.94-2.06 2.06-.94-2.06-.94-.94-2.06-.94 2.06-2.06.94z\"/><path d=\"M17.41 7.96l-1.37-1.37c-.4-.4-.92-.59-1.43-.59-.52 0-1.04.2-1.43.59L10.3 9.45l-7.72 7.72c-.78.78-.78 2.05 0 2.83L4 21.41c.39.39.9.59 1.41.59.51 0 1.02-.2 1.41-.59l7.78-7.78 2.81-2.81c.8-.78.8-2.07 0-2.86zM5.41 20L4 18.59l7.72-7.72 1.47 1.35L5.41 20z\"/>\n",
              "  </svg>\n",
              "      </button>\n",
              "      \n",
              "  <style>\n",
              "    .colab-df-container {\n",
              "      display:flex;\n",
              "      flex-wrap:wrap;\n",
              "      gap: 12px;\n",
              "    }\n",
              "\n",
              "    .colab-df-convert {\n",
              "      background-color: #E8F0FE;\n",
              "      border: none;\n",
              "      border-radius: 50%;\n",
              "      cursor: pointer;\n",
              "      display: none;\n",
              "      fill: #1967D2;\n",
              "      height: 32px;\n",
              "      padding: 0 0 0 0;\n",
              "      width: 32px;\n",
              "    }\n",
              "\n",
              "    .colab-df-convert:hover {\n",
              "      background-color: #E2EBFA;\n",
              "      box-shadow: 0px 1px 2px rgba(60, 64, 67, 0.3), 0px 1px 3px 1px rgba(60, 64, 67, 0.15);\n",
              "      fill: #174EA6;\n",
              "    }\n",
              "\n",
              "    [theme=dark] .colab-df-convert {\n",
              "      background-color: #3B4455;\n",
              "      fill: #D2E3FC;\n",
              "    }\n",
              "\n",
              "    [theme=dark] .colab-df-convert:hover {\n",
              "      background-color: #434B5C;\n",
              "      box-shadow: 0px 1px 3px 1px rgba(0, 0, 0, 0.15);\n",
              "      filter: drop-shadow(0px 1px 2px rgba(0, 0, 0, 0.3));\n",
              "      fill: #FFFFFF;\n",
              "    }\n",
              "  </style>\n",
              "\n",
              "      <script>\n",
              "        const buttonEl =\n",
              "          document.querySelector('#df-c2574258-c152-403d-ae62-61d6be97344c button.colab-df-convert');\n",
              "        buttonEl.style.display =\n",
              "          google.colab.kernel.accessAllowed ? 'block' : 'none';\n",
              "\n",
              "        async function convertToInteractive(key) {\n",
              "          const element = document.querySelector('#df-c2574258-c152-403d-ae62-61d6be97344c');\n",
              "          const dataTable =\n",
              "            await google.colab.kernel.invokeFunction('convertToInteractive',\n",
              "                                                     [key], {});\n",
              "          if (!dataTable) return;\n",
              "\n",
              "          const docLinkHtml = 'Like what you see? Visit the ' +\n",
              "            '<a target=\"_blank\" href=https://colab.research.google.com/notebooks/data_table.ipynb>data table notebook</a>'\n",
              "            + ' to learn more about interactive tables.';\n",
              "          element.innerHTML = '';\n",
              "          dataTable['output_type'] = 'display_data';\n",
              "          await google.colab.output.renderOutput(dataTable, element);\n",
              "          const docLink = document.createElement('div');\n",
              "          docLink.innerHTML = docLinkHtml;\n",
              "          element.appendChild(docLink);\n",
              "        }\n",
              "      </script>\n",
              "    </div>\n",
              "  </div>\n",
              "  "
            ],
            "text/plain": [
              "                 n_rows  pct_rows  ...  pct_transactions  median_revenue\n",
              "device.isMobile                    ...                                  \n",
              "False             66496  0.736806  ...          0.016212           52.66\n",
              "True              23753  0.263194  ...          0.004168           24.28\n",
              "\n",
              "[2 rows x 5 columns]"
            ]
          },
          "metadata": {},
          "execution_count": 90
        }
      ]
    },
    {
      "cell_type": "code",
      "source": [
        "# los que no vienen de móvil gasta más y convierte más"
      ],
      "metadata": {
        "id": "oPj1cXf66pJ1"
      },
      "execution_count": null,
      "outputs": []
    },
    {
      "cell_type": "code",
      "source": [
        "df['device.isMobile'] = df['device.isMobile'].astype(int)"
      ],
      "metadata": {
        "id": "blDWpW3863PS"
      },
      "execution_count": null,
      "outputs": []
    },
    {
      "cell_type": "markdown",
      "source": [
        "### Device category"
      ],
      "metadata": {
        "id": "6byR52827QXW"
      }
    },
    {
      "cell_type": "code",
      "source": [
        "explore_cat_values(df, 'device.deviceCategory',TARGET)"
      ],
      "metadata": {
        "colab": {
          "base_uri": "https://localhost:8080/",
          "height": 175
        },
        "id": "m398pt2N7X4N",
        "outputId": "26ddaad9-2426-411c-8836-0aeaa84037db"
      },
      "execution_count": null,
      "outputs": [
        {
          "output_type": "execute_result",
          "data": {
            "text/html": [
              "\n",
              "  <div id=\"df-ca48b4f2-cddc-4f49-a5de-84653d4f33d9\">\n",
              "    <div class=\"colab-df-container\">\n",
              "      <div>\n",
              "<style scoped>\n",
              "    .dataframe tbody tr th:only-of-type {\n",
              "        vertical-align: middle;\n",
              "    }\n",
              "\n",
              "    .dataframe tbody tr th {\n",
              "        vertical-align: top;\n",
              "    }\n",
              "\n",
              "    .dataframe thead th {\n",
              "        text-align: right;\n",
              "    }\n",
              "</style>\n",
              "<table border=\"1\" class=\"dataframe\">\n",
              "  <thead>\n",
              "    <tr style=\"text-align: right;\">\n",
              "      <th></th>\n",
              "      <th>n_rows</th>\n",
              "      <th>pct_rows</th>\n",
              "      <th>transactions</th>\n",
              "      <th>pct_transactions</th>\n",
              "      <th>median_revenue</th>\n",
              "    </tr>\n",
              "    <tr>\n",
              "      <th>device.deviceCategory</th>\n",
              "      <th></th>\n",
              "      <th></th>\n",
              "      <th></th>\n",
              "      <th></th>\n",
              "      <th></th>\n",
              "    </tr>\n",
              "  </thead>\n",
              "  <tbody>\n",
              "    <tr>\n",
              "      <th>desktop</th>\n",
              "      <td>66492</td>\n",
              "      <td>0.736762</td>\n",
              "      <td>1078</td>\n",
              "      <td>0.016212</td>\n",
              "      <td>52.66</td>\n",
              "    </tr>\n",
              "    <tr>\n",
              "      <th>mobile</th>\n",
              "      <td>20743</td>\n",
              "      <td>0.229842</td>\n",
              "      <td>90</td>\n",
              "      <td>0.004339</td>\n",
              "      <td>23.58</td>\n",
              "    </tr>\n",
              "    <tr>\n",
              "      <th>tablet</th>\n",
              "      <td>3014</td>\n",
              "      <td>0.033396</td>\n",
              "      <td>9</td>\n",
              "      <td>0.002986</td>\n",
              "      <td>24.99</td>\n",
              "    </tr>\n",
              "  </tbody>\n",
              "</table>\n",
              "</div>\n",
              "      <button class=\"colab-df-convert\" onclick=\"convertToInteractive('df-ca48b4f2-cddc-4f49-a5de-84653d4f33d9')\"\n",
              "              title=\"Convert this dataframe to an interactive table.\"\n",
              "              style=\"display:none;\">\n",
              "        \n",
              "  <svg xmlns=\"http://www.w3.org/2000/svg\" height=\"24px\"viewBox=\"0 0 24 24\"\n",
              "       width=\"24px\">\n",
              "    <path d=\"M0 0h24v24H0V0z\" fill=\"none\"/>\n",
              "    <path d=\"M18.56 5.44l.94 2.06.94-2.06 2.06-.94-2.06-.94-.94-2.06-.94 2.06-2.06.94zm-11 1L8.5 8.5l.94-2.06 2.06-.94-2.06-.94L8.5 2.5l-.94 2.06-2.06.94zm10 10l.94 2.06.94-2.06 2.06-.94-2.06-.94-.94-2.06-.94 2.06-2.06.94z\"/><path d=\"M17.41 7.96l-1.37-1.37c-.4-.4-.92-.59-1.43-.59-.52 0-1.04.2-1.43.59L10.3 9.45l-7.72 7.72c-.78.78-.78 2.05 0 2.83L4 21.41c.39.39.9.59 1.41.59.51 0 1.02-.2 1.41-.59l7.78-7.78 2.81-2.81c.8-.78.8-2.07 0-2.86zM5.41 20L4 18.59l7.72-7.72 1.47 1.35L5.41 20z\"/>\n",
              "  </svg>\n",
              "      </button>\n",
              "      \n",
              "  <style>\n",
              "    .colab-df-container {\n",
              "      display:flex;\n",
              "      flex-wrap:wrap;\n",
              "      gap: 12px;\n",
              "    }\n",
              "\n",
              "    .colab-df-convert {\n",
              "      background-color: #E8F0FE;\n",
              "      border: none;\n",
              "      border-radius: 50%;\n",
              "      cursor: pointer;\n",
              "      display: none;\n",
              "      fill: #1967D2;\n",
              "      height: 32px;\n",
              "      padding: 0 0 0 0;\n",
              "      width: 32px;\n",
              "    }\n",
              "\n",
              "    .colab-df-convert:hover {\n",
              "      background-color: #E2EBFA;\n",
              "      box-shadow: 0px 1px 2px rgba(60, 64, 67, 0.3), 0px 1px 3px 1px rgba(60, 64, 67, 0.15);\n",
              "      fill: #174EA6;\n",
              "    }\n",
              "\n",
              "    [theme=dark] .colab-df-convert {\n",
              "      background-color: #3B4455;\n",
              "      fill: #D2E3FC;\n",
              "    }\n",
              "\n",
              "    [theme=dark] .colab-df-convert:hover {\n",
              "      background-color: #434B5C;\n",
              "      box-shadow: 0px 1px 3px 1px rgba(0, 0, 0, 0.15);\n",
              "      filter: drop-shadow(0px 1px 2px rgba(0, 0, 0, 0.3));\n",
              "      fill: #FFFFFF;\n",
              "    }\n",
              "  </style>\n",
              "\n",
              "      <script>\n",
              "        const buttonEl =\n",
              "          document.querySelector('#df-ca48b4f2-cddc-4f49-a5de-84653d4f33d9 button.colab-df-convert');\n",
              "        buttonEl.style.display =\n",
              "          google.colab.kernel.accessAllowed ? 'block' : 'none';\n",
              "\n",
              "        async function convertToInteractive(key) {\n",
              "          const element = document.querySelector('#df-ca48b4f2-cddc-4f49-a5de-84653d4f33d9');\n",
              "          const dataTable =\n",
              "            await google.colab.kernel.invokeFunction('convertToInteractive',\n",
              "                                                     [key], {});\n",
              "          if (!dataTable) return;\n",
              "\n",
              "          const docLinkHtml = 'Like what you see? Visit the ' +\n",
              "            '<a target=\"_blank\" href=https://colab.research.google.com/notebooks/data_table.ipynb>data table notebook</a>'\n",
              "            + ' to learn more about interactive tables.';\n",
              "          element.innerHTML = '';\n",
              "          dataTable['output_type'] = 'display_data';\n",
              "          await google.colab.output.renderOutput(dataTable, element);\n",
              "          const docLink = document.createElement('div');\n",
              "          docLink.innerHTML = docLinkHtml;\n",
              "          element.appendChild(docLink);\n",
              "        }\n",
              "      </script>\n",
              "    </div>\n",
              "  </div>\n",
              "  "
            ],
            "text/plain": [
              "                       n_rows  pct_rows  ...  pct_transactions  median_revenue\n",
              "device.deviceCategory                    ...                                  \n",
              "desktop                 66492  0.736762  ...          0.016212           52.66\n",
              "mobile                  20743  0.229842  ...          0.004339           23.58\n",
              "tablet                   3014  0.033396  ...          0.002986           24.99\n",
              "\n",
              "[3 rows x 5 columns]"
            ]
          },
          "metadata": {},
          "execution_count": 93
        }
      ]
    },
    {
      "cell_type": "code",
      "source": [
        "pd.crosstab(df['device.isMobile'], df['device.deviceCategory'])"
      ],
      "metadata": {
        "colab": {
          "base_uri": "https://localhost:8080/",
          "height": 143
        },
        "id": "ZAnafsqy7q-s",
        "outputId": "75906cc4-02bc-4765-8745-ac7ef4e74c0d"
      },
      "execution_count": null,
      "outputs": [
        {
          "output_type": "execute_result",
          "data": {
            "text/html": [
              "\n",
              "  <div id=\"df-0f5c8fcc-cf57-41c7-9073-36076fc77cd4\">\n",
              "    <div class=\"colab-df-container\">\n",
              "      <div>\n",
              "<style scoped>\n",
              "    .dataframe tbody tr th:only-of-type {\n",
              "        vertical-align: middle;\n",
              "    }\n",
              "\n",
              "    .dataframe tbody tr th {\n",
              "        vertical-align: top;\n",
              "    }\n",
              "\n",
              "    .dataframe thead th {\n",
              "        text-align: right;\n",
              "    }\n",
              "</style>\n",
              "<table border=\"1\" class=\"dataframe\">\n",
              "  <thead>\n",
              "    <tr style=\"text-align: right;\">\n",
              "      <th>device.deviceCategory</th>\n",
              "      <th>desktop</th>\n",
              "      <th>mobile</th>\n",
              "      <th>tablet</th>\n",
              "    </tr>\n",
              "    <tr>\n",
              "      <th>device.isMobile</th>\n",
              "      <th></th>\n",
              "      <th></th>\n",
              "      <th></th>\n",
              "    </tr>\n",
              "  </thead>\n",
              "  <tbody>\n",
              "    <tr>\n",
              "      <th>0</th>\n",
              "      <td>66482</td>\n",
              "      <td>13</td>\n",
              "      <td>1</td>\n",
              "    </tr>\n",
              "    <tr>\n",
              "      <th>1</th>\n",
              "      <td>10</td>\n",
              "      <td>20730</td>\n",
              "      <td>3013</td>\n",
              "    </tr>\n",
              "  </tbody>\n",
              "</table>\n",
              "</div>\n",
              "      <button class=\"colab-df-convert\" onclick=\"convertToInteractive('df-0f5c8fcc-cf57-41c7-9073-36076fc77cd4')\"\n",
              "              title=\"Convert this dataframe to an interactive table.\"\n",
              "              style=\"display:none;\">\n",
              "        \n",
              "  <svg xmlns=\"http://www.w3.org/2000/svg\" height=\"24px\"viewBox=\"0 0 24 24\"\n",
              "       width=\"24px\">\n",
              "    <path d=\"M0 0h24v24H0V0z\" fill=\"none\"/>\n",
              "    <path d=\"M18.56 5.44l.94 2.06.94-2.06 2.06-.94-2.06-.94-.94-2.06-.94 2.06-2.06.94zm-11 1L8.5 8.5l.94-2.06 2.06-.94-2.06-.94L8.5 2.5l-.94 2.06-2.06.94zm10 10l.94 2.06.94-2.06 2.06-.94-2.06-.94-.94-2.06-.94 2.06-2.06.94z\"/><path d=\"M17.41 7.96l-1.37-1.37c-.4-.4-.92-.59-1.43-.59-.52 0-1.04.2-1.43.59L10.3 9.45l-7.72 7.72c-.78.78-.78 2.05 0 2.83L4 21.41c.39.39.9.59 1.41.59.51 0 1.02-.2 1.41-.59l7.78-7.78 2.81-2.81c.8-.78.8-2.07 0-2.86zM5.41 20L4 18.59l7.72-7.72 1.47 1.35L5.41 20z\"/>\n",
              "  </svg>\n",
              "      </button>\n",
              "      \n",
              "  <style>\n",
              "    .colab-df-container {\n",
              "      display:flex;\n",
              "      flex-wrap:wrap;\n",
              "      gap: 12px;\n",
              "    }\n",
              "\n",
              "    .colab-df-convert {\n",
              "      background-color: #E8F0FE;\n",
              "      border: none;\n",
              "      border-radius: 50%;\n",
              "      cursor: pointer;\n",
              "      display: none;\n",
              "      fill: #1967D2;\n",
              "      height: 32px;\n",
              "      padding: 0 0 0 0;\n",
              "      width: 32px;\n",
              "    }\n",
              "\n",
              "    .colab-df-convert:hover {\n",
              "      background-color: #E2EBFA;\n",
              "      box-shadow: 0px 1px 2px rgba(60, 64, 67, 0.3), 0px 1px 3px 1px rgba(60, 64, 67, 0.15);\n",
              "      fill: #174EA6;\n",
              "    }\n",
              "\n",
              "    [theme=dark] .colab-df-convert {\n",
              "      background-color: #3B4455;\n",
              "      fill: #D2E3FC;\n",
              "    }\n",
              "\n",
              "    [theme=dark] .colab-df-convert:hover {\n",
              "      background-color: #434B5C;\n",
              "      box-shadow: 0px 1px 3px 1px rgba(0, 0, 0, 0.15);\n",
              "      filter: drop-shadow(0px 1px 2px rgba(0, 0, 0, 0.3));\n",
              "      fill: #FFFFFF;\n",
              "    }\n",
              "  </style>\n",
              "\n",
              "      <script>\n",
              "        const buttonEl =\n",
              "          document.querySelector('#df-0f5c8fcc-cf57-41c7-9073-36076fc77cd4 button.colab-df-convert');\n",
              "        buttonEl.style.display =\n",
              "          google.colab.kernel.accessAllowed ? 'block' : 'none';\n",
              "\n",
              "        async function convertToInteractive(key) {\n",
              "          const element = document.querySelector('#df-0f5c8fcc-cf57-41c7-9073-36076fc77cd4');\n",
              "          const dataTable =\n",
              "            await google.colab.kernel.invokeFunction('convertToInteractive',\n",
              "                                                     [key], {});\n",
              "          if (!dataTable) return;\n",
              "\n",
              "          const docLinkHtml = 'Like what you see? Visit the ' +\n",
              "            '<a target=\"_blank\" href=https://colab.research.google.com/notebooks/data_table.ipynb>data table notebook</a>'\n",
              "            + ' to learn more about interactive tables.';\n",
              "          element.innerHTML = '';\n",
              "          dataTable['output_type'] = 'display_data';\n",
              "          await google.colab.output.renderOutput(dataTable, element);\n",
              "          const docLink = document.createElement('div');\n",
              "          docLink.innerHTML = docLinkHtml;\n",
              "          element.appendChild(docLink);\n",
              "        }\n",
              "      </script>\n",
              "    </div>\n",
              "  </div>\n",
              "  "
            ],
            "text/plain": [
              "device.deviceCategory  desktop  mobile  tablet\n",
              "device.isMobile                               \n",
              "0                        66482      13       1\n",
              "1                           10   20730    3013"
            ]
          },
          "metadata": {},
          "execution_count": 94
        }
      ]
    },
    {
      "cell_type": "markdown",
      "source": [
        "##### channelGrouping"
      ],
      "metadata": {
        "id": "xWwgYDwF9ii3"
      }
    },
    {
      "cell_type": "code",
      "source": [
        "explore_cat_values(df, 'channelGrouping',TARGET)"
      ],
      "metadata": {
        "colab": {
          "base_uri": "https://localhost:8080/",
          "height": 268
        },
        "id": "vmTYi9RX9kEi",
        "outputId": "ac5eb25c-2900-4fc0-db4b-bf84603af1cb"
      },
      "execution_count": null,
      "outputs": [
        {
          "output_type": "execute_result",
          "data": {
            "text/html": [
              "\n",
              "  <div id=\"df-b556895f-dbbe-4ea4-8a56-a30ca3abae5f\">\n",
              "    <div class=\"colab-df-container\">\n",
              "      <div>\n",
              "<style scoped>\n",
              "    .dataframe tbody tr th:only-of-type {\n",
              "        vertical-align: middle;\n",
              "    }\n",
              "\n",
              "    .dataframe tbody tr th {\n",
              "        vertical-align: top;\n",
              "    }\n",
              "\n",
              "    .dataframe thead th {\n",
              "        text-align: right;\n",
              "    }\n",
              "</style>\n",
              "<table border=\"1\" class=\"dataframe\">\n",
              "  <thead>\n",
              "    <tr style=\"text-align: right;\">\n",
              "      <th></th>\n",
              "      <th>n_rows</th>\n",
              "      <th>pct_rows</th>\n",
              "      <th>transactions</th>\n",
              "      <th>pct_transactions</th>\n",
              "      <th>median_revenue</th>\n",
              "    </tr>\n",
              "    <tr>\n",
              "      <th>channelGrouping</th>\n",
              "      <th></th>\n",
              "      <th></th>\n",
              "      <th></th>\n",
              "      <th></th>\n",
              "      <th></th>\n",
              "    </tr>\n",
              "  </thead>\n",
              "  <tbody>\n",
              "    <tr>\n",
              "      <th>Direct</th>\n",
              "      <td>14178</td>\n",
              "      <td>0.157099</td>\n",
              "      <td>233</td>\n",
              "      <td>0.016434</td>\n",
              "      <td>57.580</td>\n",
              "    </tr>\n",
              "    <tr>\n",
              "      <th>Display</th>\n",
              "      <td>615</td>\n",
              "      <td>0.006814</td>\n",
              "      <td>10</td>\n",
              "      <td>0.016260</td>\n",
              "      <td>57.975</td>\n",
              "    </tr>\n",
              "    <tr>\n",
              "      <th>Organic Search</th>\n",
              "      <td>37993</td>\n",
              "      <td>0.420980</td>\n",
              "      <td>360</td>\n",
              "      <td>0.009475</td>\n",
              "      <td>35.150</td>\n",
              "    </tr>\n",
              "    <tr>\n",
              "      <th>Paid Search</th>\n",
              "      <td>2599</td>\n",
              "      <td>0.028798</td>\n",
              "      <td>45</td>\n",
              "      <td>0.017314</td>\n",
              "      <td>42.850</td>\n",
              "    </tr>\n",
              "    <tr>\n",
              "      <th>Referral</th>\n",
              "      <td>10607</td>\n",
              "      <td>0.117530</td>\n",
              "      <td>520</td>\n",
              "      <td>0.049024</td>\n",
              "      <td>54.370</td>\n",
              "    </tr>\n",
              "    <tr>\n",
              "      <th>Social</th>\n",
              "      <td>22568</td>\n",
              "      <td>0.250064</td>\n",
              "      <td>9</td>\n",
              "      <td>0.000399</td>\n",
              "      <td>67.180</td>\n",
              "    </tr>\n",
              "  </tbody>\n",
              "</table>\n",
              "</div>\n",
              "      <button class=\"colab-df-convert\" onclick=\"convertToInteractive('df-b556895f-dbbe-4ea4-8a56-a30ca3abae5f')\"\n",
              "              title=\"Convert this dataframe to an interactive table.\"\n",
              "              style=\"display:none;\">\n",
              "        \n",
              "  <svg xmlns=\"http://www.w3.org/2000/svg\" height=\"24px\"viewBox=\"0 0 24 24\"\n",
              "       width=\"24px\">\n",
              "    <path d=\"M0 0h24v24H0V0z\" fill=\"none\"/>\n",
              "    <path d=\"M18.56 5.44l.94 2.06.94-2.06 2.06-.94-2.06-.94-.94-2.06-.94 2.06-2.06.94zm-11 1L8.5 8.5l.94-2.06 2.06-.94-2.06-.94L8.5 2.5l-.94 2.06-2.06.94zm10 10l.94 2.06.94-2.06 2.06-.94-2.06-.94-.94-2.06-.94 2.06-2.06.94z\"/><path d=\"M17.41 7.96l-1.37-1.37c-.4-.4-.92-.59-1.43-.59-.52 0-1.04.2-1.43.59L10.3 9.45l-7.72 7.72c-.78.78-.78 2.05 0 2.83L4 21.41c.39.39.9.59 1.41.59.51 0 1.02-.2 1.41-.59l7.78-7.78 2.81-2.81c.8-.78.8-2.07 0-2.86zM5.41 20L4 18.59l7.72-7.72 1.47 1.35L5.41 20z\"/>\n",
              "  </svg>\n",
              "      </button>\n",
              "      \n",
              "  <style>\n",
              "    .colab-df-container {\n",
              "      display:flex;\n",
              "      flex-wrap:wrap;\n",
              "      gap: 12px;\n",
              "    }\n",
              "\n",
              "    .colab-df-convert {\n",
              "      background-color: #E8F0FE;\n",
              "      border: none;\n",
              "      border-radius: 50%;\n",
              "      cursor: pointer;\n",
              "      display: none;\n",
              "      fill: #1967D2;\n",
              "      height: 32px;\n",
              "      padding: 0 0 0 0;\n",
              "      width: 32px;\n",
              "    }\n",
              "\n",
              "    .colab-df-convert:hover {\n",
              "      background-color: #E2EBFA;\n",
              "      box-shadow: 0px 1px 2px rgba(60, 64, 67, 0.3), 0px 1px 3px 1px rgba(60, 64, 67, 0.15);\n",
              "      fill: #174EA6;\n",
              "    }\n",
              "\n",
              "    [theme=dark] .colab-df-convert {\n",
              "      background-color: #3B4455;\n",
              "      fill: #D2E3FC;\n",
              "    }\n",
              "\n",
              "    [theme=dark] .colab-df-convert:hover {\n",
              "      background-color: #434B5C;\n",
              "      box-shadow: 0px 1px 3px 1px rgba(0, 0, 0, 0.15);\n",
              "      filter: drop-shadow(0px 1px 2px rgba(0, 0, 0, 0.3));\n",
              "      fill: #FFFFFF;\n",
              "    }\n",
              "  </style>\n",
              "\n",
              "      <script>\n",
              "        const buttonEl =\n",
              "          document.querySelector('#df-b556895f-dbbe-4ea4-8a56-a30ca3abae5f button.colab-df-convert');\n",
              "        buttonEl.style.display =\n",
              "          google.colab.kernel.accessAllowed ? 'block' : 'none';\n",
              "\n",
              "        async function convertToInteractive(key) {\n",
              "          const element = document.querySelector('#df-b556895f-dbbe-4ea4-8a56-a30ca3abae5f');\n",
              "          const dataTable =\n",
              "            await google.colab.kernel.invokeFunction('convertToInteractive',\n",
              "                                                     [key], {});\n",
              "          if (!dataTable) return;\n",
              "\n",
              "          const docLinkHtml = 'Like what you see? Visit the ' +\n",
              "            '<a target=\"_blank\" href=https://colab.research.google.com/notebooks/data_table.ipynb>data table notebook</a>'\n",
              "            + ' to learn more about interactive tables.';\n",
              "          element.innerHTML = '';\n",
              "          dataTable['output_type'] = 'display_data';\n",
              "          await google.colab.output.renderOutput(dataTable, element);\n",
              "          const docLink = document.createElement('div');\n",
              "          docLink.innerHTML = docLinkHtml;\n",
              "          element.appendChild(docLink);\n",
              "        }\n",
              "      </script>\n",
              "    </div>\n",
              "  </div>\n",
              "  "
            ],
            "text/plain": [
              "                 n_rows  pct_rows  ...  pct_transactions  median_revenue\n",
              "channelGrouping                    ...                                  \n",
              "Direct            14178  0.157099  ...          0.016434          57.580\n",
              "Display             615  0.006814  ...          0.016260          57.975\n",
              "Organic Search    37993  0.420980  ...          0.009475          35.150\n",
              "Paid Search        2599  0.028798  ...          0.017314          42.850\n",
              "Referral          10607  0.117530  ...          0.049024          54.370\n",
              "Social            22568  0.250064  ...          0.000399          67.180\n",
              "\n",
              "[6 rows x 5 columns]"
            ]
          },
          "metadata": {},
          "execution_count": 95
        }
      ]
    },
    {
      "cell_type": "code",
      "source": [
        "df['channelGrouping'].value_counts()"
      ],
      "metadata": {
        "colab": {
          "base_uri": "https://localhost:8080/"
        },
        "id": "Kamm0e2J9wWP",
        "outputId": "ac678f20-7f3d-4baf-bde8-1741b55dfc5e"
      },
      "execution_count": null,
      "outputs": [
        {
          "output_type": "execute_result",
          "data": {
            "text/plain": [
              "Organic Search    37993\n",
              "Social            22568\n",
              "Direct            14178\n",
              "Referral          10607\n",
              "Paid Search        2599\n",
              "Affiliates         1678\n",
              "Display             615\n",
              "(Other)              11\n",
              "Name: channelGrouping, dtype: int64"
            ]
          },
          "metadata": {},
          "execution_count": 96
        }
      ]
    },
    {
      "cell_type": "markdown",
      "source": [
        "## Date"
      ],
      "metadata": {
        "id": "WNzy6Ros_m7v"
      }
    },
    {
      "cell_type": "code",
      "source": [
        "df['date'] = pd.to_datetime(df['date'], format = '%Y%m%d')"
      ],
      "metadata": {
        "id": "tBivPWuR_oWN"
      },
      "execution_count": null,
      "outputs": []
    },
    {
      "cell_type": "code",
      "source": [
        "df['year'] = df['date'].dt.year\n",
        "df['month'] = df['date'].dt.month\n",
        "df['day'] = df['date'].dt.day\n",
        "df['weekday'] = df['date'].dt.weekday\n",
        "df['week'] = df['date'].dt.week\n",
        "df['trimestre'] = df['date'].dt.quarter"
      ],
      "metadata": {
        "colab": {
          "base_uri": "https://localhost:8080/"
        },
        "id": "XfptMfGH_uAg",
        "outputId": "662bb756-37d1-4208-d49d-620f901434b0"
      },
      "execution_count": null,
      "outputs": [
        {
          "output_type": "stream",
          "name": "stderr",
          "text": [
            "/usr/local/lib/python3.7/dist-packages/ipykernel_launcher.py:5: FutureWarning: Series.dt.weekofyear and Series.dt.week have been deprecated.  Please use Series.dt.isocalendar().week instead.\n",
            "  \"\"\"\n"
          ]
        }
      ]
    },
    {
      "cell_type": "code",
      "source": [
        "df.drop('date', axis = 1 , inplace = True)"
      ],
      "metadata": {
        "id": "APwObKO0FwEG"
      },
      "execution_count": null,
      "outputs": []
    },
    {
      "cell_type": "code",
      "source": [
        "explore_cat_values(df, 'weekday',TARGET)"
      ],
      "metadata": {
        "colab": {
          "base_uri": "https://localhost:8080/",
          "height": 300
        },
        "id": "LsmLcY8uF9qe",
        "outputId": "2e4db628-14b2-4947-bf90-a13768f5ff50"
      },
      "execution_count": null,
      "outputs": [
        {
          "output_type": "execute_result",
          "data": {
            "text/html": [
              "\n",
              "  <div id=\"df-c4ca2a31-efda-4ec6-b5a0-81bd582253a0\">\n",
              "    <div class=\"colab-df-container\">\n",
              "      <div>\n",
              "<style scoped>\n",
              "    .dataframe tbody tr th:only-of-type {\n",
              "        vertical-align: middle;\n",
              "    }\n",
              "\n",
              "    .dataframe tbody tr th {\n",
              "        vertical-align: top;\n",
              "    }\n",
              "\n",
              "    .dataframe thead th {\n",
              "        text-align: right;\n",
              "    }\n",
              "</style>\n",
              "<table border=\"1\" class=\"dataframe\">\n",
              "  <thead>\n",
              "    <tr style=\"text-align: right;\">\n",
              "      <th></th>\n",
              "      <th>n_rows</th>\n",
              "      <th>pct_rows</th>\n",
              "      <th>transactions</th>\n",
              "      <th>pct_transactions</th>\n",
              "      <th>median_revenue</th>\n",
              "    </tr>\n",
              "    <tr>\n",
              "      <th>weekday</th>\n",
              "      <th></th>\n",
              "      <th></th>\n",
              "      <th></th>\n",
              "      <th></th>\n",
              "      <th></th>\n",
              "    </tr>\n",
              "  </thead>\n",
              "  <tbody>\n",
              "    <tr>\n",
              "      <th>0</th>\n",
              "      <td>13959</td>\n",
              "      <td>0.154672</td>\n",
              "      <td>185</td>\n",
              "      <td>0.013253</td>\n",
              "      <td>55.240</td>\n",
              "    </tr>\n",
              "    <tr>\n",
              "      <th>1</th>\n",
              "      <td>14715</td>\n",
              "      <td>0.163049</td>\n",
              "      <td>220</td>\n",
              "      <td>0.014951</td>\n",
              "      <td>55.980</td>\n",
              "    </tr>\n",
              "    <tr>\n",
              "      <th>2</th>\n",
              "      <td>14697</td>\n",
              "      <td>0.162849</td>\n",
              "      <td>194</td>\n",
              "      <td>0.013200</td>\n",
              "      <td>47.395</td>\n",
              "    </tr>\n",
              "    <tr>\n",
              "      <th>3</th>\n",
              "      <td>14116</td>\n",
              "      <td>0.156412</td>\n",
              "      <td>211</td>\n",
              "      <td>0.014948</td>\n",
              "      <td>55.990</td>\n",
              "    </tr>\n",
              "    <tr>\n",
              "      <th>4</th>\n",
              "      <td>13032</td>\n",
              "      <td>0.144400</td>\n",
              "      <td>189</td>\n",
              "      <td>0.014503</td>\n",
              "      <td>52.070</td>\n",
              "    </tr>\n",
              "    <tr>\n",
              "      <th>5</th>\n",
              "      <td>9741</td>\n",
              "      <td>0.107935</td>\n",
              "      <td>81</td>\n",
              "      <td>0.008315</td>\n",
              "      <td>39.990</td>\n",
              "    </tr>\n",
              "    <tr>\n",
              "      <th>6</th>\n",
              "      <td>9989</td>\n",
              "      <td>0.110683</td>\n",
              "      <td>97</td>\n",
              "      <td>0.009711</td>\n",
              "      <td>42.600</td>\n",
              "    </tr>\n",
              "  </tbody>\n",
              "</table>\n",
              "</div>\n",
              "      <button class=\"colab-df-convert\" onclick=\"convertToInteractive('df-c4ca2a31-efda-4ec6-b5a0-81bd582253a0')\"\n",
              "              title=\"Convert this dataframe to an interactive table.\"\n",
              "              style=\"display:none;\">\n",
              "        \n",
              "  <svg xmlns=\"http://www.w3.org/2000/svg\" height=\"24px\"viewBox=\"0 0 24 24\"\n",
              "       width=\"24px\">\n",
              "    <path d=\"M0 0h24v24H0V0z\" fill=\"none\"/>\n",
              "    <path d=\"M18.56 5.44l.94 2.06.94-2.06 2.06-.94-2.06-.94-.94-2.06-.94 2.06-2.06.94zm-11 1L8.5 8.5l.94-2.06 2.06-.94-2.06-.94L8.5 2.5l-.94 2.06-2.06.94zm10 10l.94 2.06.94-2.06 2.06-.94-2.06-.94-.94-2.06-.94 2.06-2.06.94z\"/><path d=\"M17.41 7.96l-1.37-1.37c-.4-.4-.92-.59-1.43-.59-.52 0-1.04.2-1.43.59L10.3 9.45l-7.72 7.72c-.78.78-.78 2.05 0 2.83L4 21.41c.39.39.9.59 1.41.59.51 0 1.02-.2 1.41-.59l7.78-7.78 2.81-2.81c.8-.78.8-2.07 0-2.86zM5.41 20L4 18.59l7.72-7.72 1.47 1.35L5.41 20z\"/>\n",
              "  </svg>\n",
              "      </button>\n",
              "      \n",
              "  <style>\n",
              "    .colab-df-container {\n",
              "      display:flex;\n",
              "      flex-wrap:wrap;\n",
              "      gap: 12px;\n",
              "    }\n",
              "\n",
              "    .colab-df-convert {\n",
              "      background-color: #E8F0FE;\n",
              "      border: none;\n",
              "      border-radius: 50%;\n",
              "      cursor: pointer;\n",
              "      display: none;\n",
              "      fill: #1967D2;\n",
              "      height: 32px;\n",
              "      padding: 0 0 0 0;\n",
              "      width: 32px;\n",
              "    }\n",
              "\n",
              "    .colab-df-convert:hover {\n",
              "      background-color: #E2EBFA;\n",
              "      box-shadow: 0px 1px 2px rgba(60, 64, 67, 0.3), 0px 1px 3px 1px rgba(60, 64, 67, 0.15);\n",
              "      fill: #174EA6;\n",
              "    }\n",
              "\n",
              "    [theme=dark] .colab-df-convert {\n",
              "      background-color: #3B4455;\n",
              "      fill: #D2E3FC;\n",
              "    }\n",
              "\n",
              "    [theme=dark] .colab-df-convert:hover {\n",
              "      background-color: #434B5C;\n",
              "      box-shadow: 0px 1px 3px 1px rgba(0, 0, 0, 0.15);\n",
              "      filter: drop-shadow(0px 1px 2px rgba(0, 0, 0, 0.3));\n",
              "      fill: #FFFFFF;\n",
              "    }\n",
              "  </style>\n",
              "\n",
              "      <script>\n",
              "        const buttonEl =\n",
              "          document.querySelector('#df-c4ca2a31-efda-4ec6-b5a0-81bd582253a0 button.colab-df-convert');\n",
              "        buttonEl.style.display =\n",
              "          google.colab.kernel.accessAllowed ? 'block' : 'none';\n",
              "\n",
              "        async function convertToInteractive(key) {\n",
              "          const element = document.querySelector('#df-c4ca2a31-efda-4ec6-b5a0-81bd582253a0');\n",
              "          const dataTable =\n",
              "            await google.colab.kernel.invokeFunction('convertToInteractive',\n",
              "                                                     [key], {});\n",
              "          if (!dataTable) return;\n",
              "\n",
              "          const docLinkHtml = 'Like what you see? Visit the ' +\n",
              "            '<a target=\"_blank\" href=https://colab.research.google.com/notebooks/data_table.ipynb>data table notebook</a>'\n",
              "            + ' to learn more about interactive tables.';\n",
              "          element.innerHTML = '';\n",
              "          dataTable['output_type'] = 'display_data';\n",
              "          await google.colab.output.renderOutput(dataTable, element);\n",
              "          const docLink = document.createElement('div');\n",
              "          docLink.innerHTML = docLinkHtml;\n",
              "          element.appendChild(docLink);\n",
              "        }\n",
              "      </script>\n",
              "    </div>\n",
              "  </div>\n",
              "  "
            ],
            "text/plain": [
              "         n_rows  pct_rows  transactions  pct_transactions  median_revenue\n",
              "weekday                                                                  \n",
              "0         13959  0.154672           185          0.013253          55.240\n",
              "1         14715  0.163049           220          0.014951          55.980\n",
              "2         14697  0.162849           194          0.013200          47.395\n",
              "3         14116  0.156412           211          0.014948          55.990\n",
              "4         13032  0.144400           189          0.014503          52.070\n",
              "5          9741  0.107935            81          0.008315          39.990\n",
              "6          9989  0.110683            97          0.009711          42.600"
            ]
          },
          "metadata": {},
          "execution_count": 100
        }
      ]
    },
    {
      "cell_type": "markdown",
      "source": [
        "### Visit Start Time"
      ],
      "metadata": {
        "id": "dheFOuBAGhcH"
      }
    },
    {
      "cell_type": "code",
      "source": [
        "df['visitStartTime'].head()"
      ],
      "metadata": {
        "colab": {
          "base_uri": "https://localhost:8080/"
        },
        "id": "m6h1wDs-Gznw",
        "outputId": "790cec3e-6c78-480b-97e8-e97134b7ba73"
      },
      "execution_count": null,
      "outputs": [
        {
          "output_type": "execute_result",
          "data": {
            "text/plain": [
              "sessionId\n",
              "377306020877927890_1472880147     1472880147\n",
              "537222803633850821_1472812602     1472812602\n",
              "9499785259412240342_1472812272    1472812272\n",
              "357659889600827884_1472839882     1472839882\n",
              "3696906537737368442_1472856874    1472856874\n",
              "Name: visitStartTime, dtype: int64"
            ]
          },
          "metadata": {},
          "execution_count": 101
        }
      ]
    },
    {
      "cell_type": "code",
      "source": [
        "df['visitHour'] = df['visitStartTime'].apply(lambda x: datetime.fromtimestamp(x).hour)"
      ],
      "metadata": {
        "id": "3G39cJP9HHLP"
      },
      "execution_count": null,
      "outputs": []
    },
    {
      "cell_type": "code",
      "source": [
        "explore_cat_values(df[df['weekday']>=5], 'visitHour',TARGET)"
      ],
      "metadata": {
        "colab": {
          "base_uri": "https://localhost:8080/",
          "height": 833
        },
        "id": "79mMJk5QHSdg",
        "outputId": "d3593f1d-e451-4b13-acc8-a42184be8661"
      },
      "execution_count": null,
      "outputs": [
        {
          "output_type": "execute_result",
          "data": {
            "text/html": [
              "\n",
              "  <div id=\"df-92d47538-8111-4517-ad5f-4158d2309077\">\n",
              "    <div class=\"colab-df-container\">\n",
              "      <div>\n",
              "<style scoped>\n",
              "    .dataframe tbody tr th:only-of-type {\n",
              "        vertical-align: middle;\n",
              "    }\n",
              "\n",
              "    .dataframe tbody tr th {\n",
              "        vertical-align: top;\n",
              "    }\n",
              "\n",
              "    .dataframe thead th {\n",
              "        text-align: right;\n",
              "    }\n",
              "</style>\n",
              "<table border=\"1\" class=\"dataframe\">\n",
              "  <thead>\n",
              "    <tr style=\"text-align: right;\">\n",
              "      <th></th>\n",
              "      <th>n_rows</th>\n",
              "      <th>pct_rows</th>\n",
              "      <th>transactions</th>\n",
              "      <th>pct_transactions</th>\n",
              "      <th>median_revenue</th>\n",
              "    </tr>\n",
              "    <tr>\n",
              "      <th>visitHour</th>\n",
              "      <th></th>\n",
              "      <th></th>\n",
              "      <th></th>\n",
              "      <th></th>\n",
              "      <th></th>\n",
              "    </tr>\n",
              "  </thead>\n",
              "  <tbody>\n",
              "    <tr>\n",
              "      <th>0</th>\n",
              "      <td>664</td>\n",
              "      <td>0.033654</td>\n",
              "      <td>12</td>\n",
              "      <td>0.018072</td>\n",
              "      <td>54.030</td>\n",
              "    </tr>\n",
              "    <tr>\n",
              "      <th>1</th>\n",
              "      <td>790</td>\n",
              "      <td>0.040041</td>\n",
              "      <td>17</td>\n",
              "      <td>0.021519</td>\n",
              "      <td>42.950</td>\n",
              "    </tr>\n",
              "    <tr>\n",
              "      <th>2</th>\n",
              "      <td>752</td>\n",
              "      <td>0.038115</td>\n",
              "      <td>12</td>\n",
              "      <td>0.015957</td>\n",
              "      <td>44.790</td>\n",
              "    </tr>\n",
              "    <tr>\n",
              "      <th>3</th>\n",
              "      <td>814</td>\n",
              "      <td>0.041257</td>\n",
              "      <td>8</td>\n",
              "      <td>0.009828</td>\n",
              "      <td>44.690</td>\n",
              "    </tr>\n",
              "    <tr>\n",
              "      <th>4</th>\n",
              "      <td>746</td>\n",
              "      <td>0.037810</td>\n",
              "      <td>10</td>\n",
              "      <td>0.013405</td>\n",
              "      <td>32.185</td>\n",
              "    </tr>\n",
              "    <tr>\n",
              "      <th>5</th>\n",
              "      <td>729</td>\n",
              "      <td>0.036949</td>\n",
              "      <td>6</td>\n",
              "      <td>0.008230</td>\n",
              "      <td>27.185</td>\n",
              "    </tr>\n",
              "    <tr>\n",
              "      <th>6</th>\n",
              "      <td>705</td>\n",
              "      <td>0.035732</td>\n",
              "      <td>2</td>\n",
              "      <td>0.002837</td>\n",
              "      <td>47.185</td>\n",
              "    </tr>\n",
              "    <tr>\n",
              "      <th>7</th>\n",
              "      <td>773</td>\n",
              "      <td>0.039179</td>\n",
              "      <td>3</td>\n",
              "      <td>0.003881</td>\n",
              "      <td>102.930</td>\n",
              "    </tr>\n",
              "    <tr>\n",
              "      <th>8</th>\n",
              "      <td>757</td>\n",
              "      <td>0.038368</td>\n",
              "      <td>2</td>\n",
              "      <td>0.002642</td>\n",
              "      <td>205.350</td>\n",
              "    </tr>\n",
              "    <tr>\n",
              "      <th>9</th>\n",
              "      <td>678</td>\n",
              "      <td>0.034364</td>\n",
              "      <td>1</td>\n",
              "      <td>0.001475</td>\n",
              "      <td>68.980</td>\n",
              "    </tr>\n",
              "    <tr>\n",
              "      <th>10</th>\n",
              "      <td>631</td>\n",
              "      <td>0.031982</td>\n",
              "      <td>3</td>\n",
              "      <td>0.004754</td>\n",
              "      <td>41.970</td>\n",
              "    </tr>\n",
              "    <tr>\n",
              "      <th>11</th>\n",
              "      <td>718</td>\n",
              "      <td>0.036391</td>\n",
              "      <td>2</td>\n",
              "      <td>0.002786</td>\n",
              "      <td>165.025</td>\n",
              "    </tr>\n",
              "    <tr>\n",
              "      <th>12</th>\n",
              "      <td>783</td>\n",
              "      <td>0.039686</td>\n",
              "      <td>2</td>\n",
              "      <td>0.002554</td>\n",
              "      <td>34.385</td>\n",
              "    </tr>\n",
              "    <tr>\n",
              "      <th>13</th>\n",
              "      <td>865</td>\n",
              "      <td>0.043842</td>\n",
              "      <td>3</td>\n",
              "      <td>0.003468</td>\n",
              "      <td>63.420</td>\n",
              "    </tr>\n",
              "    <tr>\n",
              "      <th>14</th>\n",
              "      <td>959</td>\n",
              "      <td>0.048606</td>\n",
              "      <td>3</td>\n",
              "      <td>0.003128</td>\n",
              "      <td>79.990</td>\n",
              "    </tr>\n",
              "    <tr>\n",
              "      <th>15</th>\n",
              "      <td>994</td>\n",
              "      <td>0.050380</td>\n",
              "      <td>5</td>\n",
              "      <td>0.005030</td>\n",
              "      <td>18.990</td>\n",
              "    </tr>\n",
              "    <tr>\n",
              "      <th>16</th>\n",
              "      <td>986</td>\n",
              "      <td>0.049975</td>\n",
              "      <td>9</td>\n",
              "      <td>0.009128</td>\n",
              "      <td>40.480</td>\n",
              "    </tr>\n",
              "    <tr>\n",
              "      <th>17</th>\n",
              "      <td>1026</td>\n",
              "      <td>0.052002</td>\n",
              "      <td>11</td>\n",
              "      <td>0.010721</td>\n",
              "      <td>19.990</td>\n",
              "    </tr>\n",
              "    <tr>\n",
              "      <th>18</th>\n",
              "      <td>988</td>\n",
              "      <td>0.050076</td>\n",
              "      <td>13</td>\n",
              "      <td>0.013158</td>\n",
              "      <td>49.450</td>\n",
              "    </tr>\n",
              "    <tr>\n",
              "      <th>19</th>\n",
              "      <td>924</td>\n",
              "      <td>0.046832</td>\n",
              "      <td>12</td>\n",
              "      <td>0.012987</td>\n",
              "      <td>56.170</td>\n",
              "    </tr>\n",
              "    <tr>\n",
              "      <th>20</th>\n",
              "      <td>959</td>\n",
              "      <td>0.048606</td>\n",
              "      <td>8</td>\n",
              "      <td>0.008342</td>\n",
              "      <td>31.440</td>\n",
              "    </tr>\n",
              "    <tr>\n",
              "      <th>21</th>\n",
              "      <td>880</td>\n",
              "      <td>0.044602</td>\n",
              "      <td>14</td>\n",
              "      <td>0.015909</td>\n",
              "      <td>35.695</td>\n",
              "    </tr>\n",
              "    <tr>\n",
              "      <th>22</th>\n",
              "      <td>828</td>\n",
              "      <td>0.041967</td>\n",
              "      <td>8</td>\n",
              "      <td>0.009662</td>\n",
              "      <td>16.990</td>\n",
              "    </tr>\n",
              "    <tr>\n",
              "      <th>23</th>\n",
              "      <td>781</td>\n",
              "      <td>0.039584</td>\n",
              "      <td>12</td>\n",
              "      <td>0.015365</td>\n",
              "      <td>62.755</td>\n",
              "    </tr>\n",
              "  </tbody>\n",
              "</table>\n",
              "</div>\n",
              "      <button class=\"colab-df-convert\" onclick=\"convertToInteractive('df-92d47538-8111-4517-ad5f-4158d2309077')\"\n",
              "              title=\"Convert this dataframe to an interactive table.\"\n",
              "              style=\"display:none;\">\n",
              "        \n",
              "  <svg xmlns=\"http://www.w3.org/2000/svg\" height=\"24px\"viewBox=\"0 0 24 24\"\n",
              "       width=\"24px\">\n",
              "    <path d=\"M0 0h24v24H0V0z\" fill=\"none\"/>\n",
              "    <path d=\"M18.56 5.44l.94 2.06.94-2.06 2.06-.94-2.06-.94-.94-2.06-.94 2.06-2.06.94zm-11 1L8.5 8.5l.94-2.06 2.06-.94-2.06-.94L8.5 2.5l-.94 2.06-2.06.94zm10 10l.94 2.06.94-2.06 2.06-.94-2.06-.94-.94-2.06-.94 2.06-2.06.94z\"/><path d=\"M17.41 7.96l-1.37-1.37c-.4-.4-.92-.59-1.43-.59-.52 0-1.04.2-1.43.59L10.3 9.45l-7.72 7.72c-.78.78-.78 2.05 0 2.83L4 21.41c.39.39.9.59 1.41.59.51 0 1.02-.2 1.41-.59l7.78-7.78 2.81-2.81c.8-.78.8-2.07 0-2.86zM5.41 20L4 18.59l7.72-7.72 1.47 1.35L5.41 20z\"/>\n",
              "  </svg>\n",
              "      </button>\n",
              "      \n",
              "  <style>\n",
              "    .colab-df-container {\n",
              "      display:flex;\n",
              "      flex-wrap:wrap;\n",
              "      gap: 12px;\n",
              "    }\n",
              "\n",
              "    .colab-df-convert {\n",
              "      background-color: #E8F0FE;\n",
              "      border: none;\n",
              "      border-radius: 50%;\n",
              "      cursor: pointer;\n",
              "      display: none;\n",
              "      fill: #1967D2;\n",
              "      height: 32px;\n",
              "      padding: 0 0 0 0;\n",
              "      width: 32px;\n",
              "    }\n",
              "\n",
              "    .colab-df-convert:hover {\n",
              "      background-color: #E2EBFA;\n",
              "      box-shadow: 0px 1px 2px rgba(60, 64, 67, 0.3), 0px 1px 3px 1px rgba(60, 64, 67, 0.15);\n",
              "      fill: #174EA6;\n",
              "    }\n",
              "\n",
              "    [theme=dark] .colab-df-convert {\n",
              "      background-color: #3B4455;\n",
              "      fill: #D2E3FC;\n",
              "    }\n",
              "\n",
              "    [theme=dark] .colab-df-convert:hover {\n",
              "      background-color: #434B5C;\n",
              "      box-shadow: 0px 1px 3px 1px rgba(0, 0, 0, 0.15);\n",
              "      filter: drop-shadow(0px 1px 2px rgba(0, 0, 0, 0.3));\n",
              "      fill: #FFFFFF;\n",
              "    }\n",
              "  </style>\n",
              "\n",
              "      <script>\n",
              "        const buttonEl =\n",
              "          document.querySelector('#df-92d47538-8111-4517-ad5f-4158d2309077 button.colab-df-convert');\n",
              "        buttonEl.style.display =\n",
              "          google.colab.kernel.accessAllowed ? 'block' : 'none';\n",
              "\n",
              "        async function convertToInteractive(key) {\n",
              "          const element = document.querySelector('#df-92d47538-8111-4517-ad5f-4158d2309077');\n",
              "          const dataTable =\n",
              "            await google.colab.kernel.invokeFunction('convertToInteractive',\n",
              "                                                     [key], {});\n",
              "          if (!dataTable) return;\n",
              "\n",
              "          const docLinkHtml = 'Like what you see? Visit the ' +\n",
              "            '<a target=\"_blank\" href=https://colab.research.google.com/notebooks/data_table.ipynb>data table notebook</a>'\n",
              "            + ' to learn more about interactive tables.';\n",
              "          element.innerHTML = '';\n",
              "          dataTable['output_type'] = 'display_data';\n",
              "          await google.colab.output.renderOutput(dataTable, element);\n",
              "          const docLink = document.createElement('div');\n",
              "          docLink.innerHTML = docLinkHtml;\n",
              "          element.appendChild(docLink);\n",
              "        }\n",
              "      </script>\n",
              "    </div>\n",
              "  </div>\n",
              "  "
            ],
            "text/plain": [
              "           n_rows  pct_rows  transactions  pct_transactions  median_revenue\n",
              "visitHour                                                                  \n",
              "0             664  0.033654            12          0.018072          54.030\n",
              "1             790  0.040041            17          0.021519          42.950\n",
              "2             752  0.038115            12          0.015957          44.790\n",
              "3             814  0.041257             8          0.009828          44.690\n",
              "4             746  0.037810            10          0.013405          32.185\n",
              "5             729  0.036949             6          0.008230          27.185\n",
              "6             705  0.035732             2          0.002837          47.185\n",
              "7             773  0.039179             3          0.003881         102.930\n",
              "8             757  0.038368             2          0.002642         205.350\n",
              "9             678  0.034364             1          0.001475          68.980\n",
              "10            631  0.031982             3          0.004754          41.970\n",
              "11            718  0.036391             2          0.002786         165.025\n",
              "12            783  0.039686             2          0.002554          34.385\n",
              "13            865  0.043842             3          0.003468          63.420\n",
              "14            959  0.048606             3          0.003128          79.990\n",
              "15            994  0.050380             5          0.005030          18.990\n",
              "16            986  0.049975             9          0.009128          40.480\n",
              "17           1026  0.052002            11          0.010721          19.990\n",
              "18            988  0.050076            13          0.013158          49.450\n",
              "19            924  0.046832            12          0.012987          56.170\n",
              "20            959  0.048606             8          0.008342          31.440\n",
              "21            880  0.044602            14          0.015909          35.695\n",
              "22            828  0.041967             8          0.009662          16.990\n",
              "23            781  0.039584            12          0.015365          62.755"
            ]
          },
          "metadata": {},
          "execution_count": 103
        }
      ]
    },
    {
      "cell_type": "markdown",
      "source": [
        "#### Visit Number"
      ],
      "metadata": {
        "id": "mnCQkl1PJzrZ"
      }
    },
    {
      "cell_type": "code",
      "source": [
        "df['visitNumber'].describe()"
      ],
      "metadata": {
        "colab": {
          "base_uri": "https://localhost:8080/"
        },
        "id": "TRUNX-yrJ1Qe",
        "outputId": "6c46771d-238e-448e-c727-6199813f533b"
      },
      "execution_count": null,
      "outputs": [
        {
          "output_type": "execute_result",
          "data": {
            "text/plain": [
              "count    90249.000000\n",
              "mean         2.241920\n",
              "std          8.800759\n",
              "min          1.000000\n",
              "25%          1.000000\n",
              "50%          1.000000\n",
              "75%          1.000000\n",
              "max        393.000000\n",
              "Name: visitNumber, dtype: float64"
            ]
          },
          "metadata": {},
          "execution_count": 104
        }
      ]
    },
    {
      "cell_type": "code",
      "source": [
        "plt.figure(figsize = (15,5))\n",
        "\n",
        "sns.regplot(\n",
        "    data = df[df[TARGET_LN]>0],\n",
        "    x= 'visitNumber',\n",
        "    y = TARGET_LN\n",
        ")"
      ],
      "metadata": {
        "colab": {
          "base_uri": "https://localhost:8080/",
          "height": 351
        },
        "id": "B1IdIRdiKC--",
        "outputId": "e092eee7-b84c-493d-82ee-136c106594e4"
      },
      "execution_count": null,
      "outputs": [
        {
          "output_type": "execute_result",
          "data": {
            "text/plain": [
              "<matplotlib.axes._subplots.AxesSubplot at 0x7f1736174750>"
            ]
          },
          "metadata": {},
          "execution_count": 105
        },
        {
          "output_type": "display_data",
          "data": {
            "image/png": "[encoded data removed]",
            "text/plain": [
              "<Figure size 1080x360 with 1 Axes>"
            ]
          },
          "metadata": {
            "needs_background": "light"
          }
        }
      ]
    },
    {
      "cell_type": "code",
      "source": [
        " df['visitNumber_log'] = df['visitNumber'].apply(lambda x: np.log1p(x))"
      ],
      "metadata": {
        "id": "_GU-AOR0KryG"
      },
      "execution_count": null,
      "outputs": []
    },
    {
      "cell_type": "code",
      "source": [
        "plt.figure(figsize = (15,5))\n",
        "\n",
        "sns.regplot(\n",
        "    data = df[df[TARGET_LN]>0],\n",
        "    x= 'visitNumber_log',\n",
        "    y = TARGET_LN\n",
        ")"
      ],
      "metadata": {
        "colab": {
          "base_uri": "https://localhost:8080/",
          "height": 352
        },
        "id": "NR_3QUapLL9F",
        "outputId": "e6a2c60f-7873-4b52-e7a6-2a870c60aaa1"
      },
      "execution_count": null,
      "outputs": [
        {
          "output_type": "execute_result",
          "data": {
            "text/plain": [
              "<matplotlib.axes._subplots.AxesSubplot at 0x7f173623c690>"
            ]
          },
          "metadata": {},
          "execution_count": 107
        },
        {
          "output_type": "display_data",
          "data": {
            "image/png": "[encoded data removed]",
            "text/plain": [
              "<Figure size 1080x360 with 1 Axes>"
            ]
          },
          "metadata": {
            "needs_background": "light"
          }
        }
      ]
    },
    {
      "cell_type": "code",
      "source": [
        "df[[TARGET,'visitNumber' ]].corr()"
      ],
      "metadata": {
        "colab": {
          "base_uri": "https://localhost:8080/",
          "height": 112
        },
        "id": "LXtlbphQLiJ0",
        "outputId": "10698812-c013-4ed9-b7ee-1b210cc9cfcc"
      },
      "execution_count": null,
      "outputs": [
        {
          "output_type": "execute_result",
          "data": {
            "text/html": [
              "\n",
              "  <div id=\"df-ee65d569-a3f4-4fec-ab37-5e8682841b78\">\n",
              "    <div class=\"colab-df-container\">\n",
              "      <div>\n",
              "<style scoped>\n",
              "    .dataframe tbody tr th:only-of-type {\n",
              "        vertical-align: middle;\n",
              "    }\n",
              "\n",
              "    .dataframe tbody tr th {\n",
              "        vertical-align: top;\n",
              "    }\n",
              "\n",
              "    .dataframe thead th {\n",
              "        text-align: right;\n",
              "    }\n",
              "</style>\n",
              "<table border=\"1\" class=\"dataframe\">\n",
              "  <thead>\n",
              "    <tr style=\"text-align: right;\">\n",
              "      <th></th>\n",
              "      <th>totals.transactionRevenue</th>\n",
              "      <th>visitNumber</th>\n",
              "    </tr>\n",
              "  </thead>\n",
              "  <tbody>\n",
              "    <tr>\n",
              "      <th>totals.transactionRevenue</th>\n",
              "      <td>1.000000</td>\n",
              "      <td>0.037356</td>\n",
              "    </tr>\n",
              "    <tr>\n",
              "      <th>visitNumber</th>\n",
              "      <td>0.037356</td>\n",
              "      <td>1.000000</td>\n",
              "    </tr>\n",
              "  </tbody>\n",
              "</table>\n",
              "</div>\n",
              "      <button class=\"colab-df-convert\" onclick=\"convertToInteractive('df-ee65d569-a3f4-4fec-ab37-5e8682841b78')\"\n",
              "              title=\"Convert this dataframe to an interactive table.\"\n",
              "              style=\"display:none;\">\n",
              "        \n",
              "  <svg xmlns=\"http://www.w3.org/2000/svg\" height=\"24px\"viewBox=\"0 0 24 24\"\n",
              "       width=\"24px\">\n",
              "    <path d=\"M0 0h24v24H0V0z\" fill=\"none\"/>\n",
              "    <path d=\"M18.56 5.44l.94 2.06.94-2.06 2.06-.94-2.06-.94-.94-2.06-.94 2.06-2.06.94zm-11 1L8.5 8.5l.94-2.06 2.06-.94-2.06-.94L8.5 2.5l-.94 2.06-2.06.94zm10 10l.94 2.06.94-2.06 2.06-.94-2.06-.94-.94-2.06-.94 2.06-2.06.94z\"/><path d=\"M17.41 7.96l-1.37-1.37c-.4-.4-.92-.59-1.43-.59-.52 0-1.04.2-1.43.59L10.3 9.45l-7.72 7.72c-.78.78-.78 2.05 0 2.83L4 21.41c.39.39.9.59 1.41.59.51 0 1.02-.2 1.41-.59l7.78-7.78 2.81-2.81c.8-.78.8-2.07 0-2.86zM5.41 20L4 18.59l7.72-7.72 1.47 1.35L5.41 20z\"/>\n",
              "  </svg>\n",
              "      </button>\n",
              "      \n",
              "  <style>\n",
              "    .colab-df-container {\n",
              "      display:flex;\n",
              "      flex-wrap:wrap;\n",
              "      gap: 12px;\n",
              "    }\n",
              "\n",
              "    .colab-df-convert {\n",
              "      background-color: #E8F0FE;\n",
              "      border: none;\n",
              "      border-radius: 50%;\n",
              "      cursor: pointer;\n",
              "      display: none;\n",
              "      fill: #1967D2;\n",
              "      height: 32px;\n",
              "      padding: 0 0 0 0;\n",
              "      width: 32px;\n",
              "    }\n",
              "\n",
              "    .colab-df-convert:hover {\n",
              "      background-color: #E2EBFA;\n",
              "      box-shadow: 0px 1px 2px rgba(60, 64, 67, 0.3), 0px 1px 3px 1px rgba(60, 64, 67, 0.15);\n",
              "      fill: #174EA6;\n",
              "    }\n",
              "\n",
              "    [theme=dark] .colab-df-convert {\n",
              "      background-color: #3B4455;\n",
              "      fill: #D2E3FC;\n",
              "    }\n",
              "\n",
              "    [theme=dark] .colab-df-convert:hover {\n",
              "      background-color: #434B5C;\n",
              "      box-shadow: 0px 1px 3px 1px rgba(0, 0, 0, 0.15);\n",
              "      filter: drop-shadow(0px 1px 2px rgba(0, 0, 0, 0.3));\n",
              "      fill: #FFFFFF;\n",
              "    }\n",
              "  </style>\n",
              "\n",
              "      <script>\n",
              "        const buttonEl =\n",
              "          document.querySelector('#df-ee65d569-a3f4-4fec-ab37-5e8682841b78 button.colab-df-convert');\n",
              "        buttonEl.style.display =\n",
              "          google.colab.kernel.accessAllowed ? 'block' : 'none';\n",
              "\n",
              "        async function convertToInteractive(key) {\n",
              "          const element = document.querySelector('#df-ee65d569-a3f4-4fec-ab37-5e8682841b78');\n",
              "          const dataTable =\n",
              "            await google.colab.kernel.invokeFunction('convertToInteractive',\n",
              "                                                     [key], {});\n",
              "          if (!dataTable) return;\n",
              "\n",
              "          const docLinkHtml = 'Like what you see? Visit the ' +\n",
              "            '<a target=\"_blank\" href=https://colab.research.google.com/notebooks/data_table.ipynb>data table notebook</a>'\n",
              "            + ' to learn more about interactive tables.';\n",
              "          element.innerHTML = '';\n",
              "          dataTable['output_type'] = 'display_data';\n",
              "          await google.colab.output.renderOutput(dataTable, element);\n",
              "          const docLink = document.createElement('div');\n",
              "          docLink.innerHTML = docLinkHtml;\n",
              "          element.appendChild(docLink);\n",
              "        }\n",
              "      </script>\n",
              "    </div>\n",
              "  </div>\n",
              "  "
            ],
            "text/plain": [
              "                           totals.transactionRevenue  visitNumber\n",
              "totals.transactionRevenue                   1.000000     0.037356\n",
              "visitNumber                                 0.037356     1.000000"
            ]
          },
          "metadata": {},
          "execution_count": 108
        }
      ]
    },
    {
      "cell_type": "code",
      "source": [
        "df[[TARGET_LN,'visitNumber_log' ]].corr()"
      ],
      "metadata": {
        "colab": {
          "base_uri": "https://localhost:8080/",
          "height": 112
        },
        "id": "Tt_HosbmLteo",
        "outputId": "e4955e8b-eb2b-4345-ec29-de35b0951e14"
      },
      "execution_count": null,
      "outputs": [
        {
          "output_type": "execute_result",
          "data": {
            "text/html": [
              "\n",
              "  <div id=\"df-6348e2fa-fc03-42c7-b8ee-41e400fc8fa8\">\n",
              "    <div class=\"colab-df-container\">\n",
              "      <div>\n",
              "<style scoped>\n",
              "    .dataframe tbody tr th:only-of-type {\n",
              "        vertical-align: middle;\n",
              "    }\n",
              "\n",
              "    .dataframe tbody tr th {\n",
              "        vertical-align: top;\n",
              "    }\n",
              "\n",
              "    .dataframe thead th {\n",
              "        text-align: right;\n",
              "    }\n",
              "</style>\n",
              "<table border=\"1\" class=\"dataframe\">\n",
              "  <thead>\n",
              "    <tr style=\"text-align: right;\">\n",
              "      <th></th>\n",
              "      <th>totals.transactionRevenueLN</th>\n",
              "      <th>visitNumber_log</th>\n",
              "    </tr>\n",
              "  </thead>\n",
              "  <tbody>\n",
              "    <tr>\n",
              "      <th>totals.transactionRevenueLN</th>\n",
              "      <td>1.000000</td>\n",
              "      <td>0.102183</td>\n",
              "    </tr>\n",
              "    <tr>\n",
              "      <th>visitNumber_log</th>\n",
              "      <td>0.102183</td>\n",
              "      <td>1.000000</td>\n",
              "    </tr>\n",
              "  </tbody>\n",
              "</table>\n",
              "</div>\n",
              "      <button class=\"colab-df-convert\" onclick=\"convertToInteractive('df-6348e2fa-fc03-42c7-b8ee-41e400fc8fa8')\"\n",
              "              title=\"Convert this dataframe to an interactive table.\"\n",
              "              style=\"display:none;\">\n",
              "        \n",
              "  <svg xmlns=\"http://www.w3.org/2000/svg\" height=\"24px\"viewBox=\"0 0 24 24\"\n",
              "       width=\"24px\">\n",
              "    <path d=\"M0 0h24v24H0V0z\" fill=\"none\"/>\n",
              "    <path d=\"M18.56 5.44l.94 2.06.94-2.06 2.06-.94-2.06-.94-.94-2.06-.94 2.06-2.06.94zm-11 1L8.5 8.5l.94-2.06 2.06-.94-2.06-.94L8.5 2.5l-.94 2.06-2.06.94zm10 10l.94 2.06.94-2.06 2.06-.94-2.06-.94-.94-2.06-.94 2.06-2.06.94z\"/><path d=\"M17.41 7.96l-1.37-1.37c-.4-.4-.92-.59-1.43-.59-.52 0-1.04.2-1.43.59L10.3 9.45l-7.72 7.72c-.78.78-.78 2.05 0 2.83L4 21.41c.39.39.9.59 1.41.59.51 0 1.02-.2 1.41-.59l7.78-7.78 2.81-2.81c.8-.78.8-2.07 0-2.86zM5.41 20L4 18.59l7.72-7.72 1.47 1.35L5.41 20z\"/>\n",
              "  </svg>\n",
              "      </button>\n",
              "      \n",
              "  <style>\n",
              "    .colab-df-container {\n",
              "      display:flex;\n",
              "      flex-wrap:wrap;\n",
              "      gap: 12px;\n",
              "    }\n",
              "\n",
              "    .colab-df-convert {\n",
              "      background-color: #E8F0FE;\n",
              "      border: none;\n",
              "      border-radius: 50%;\n",
              "      cursor: pointer;\n",
              "      display: none;\n",
              "      fill: #1967D2;\n",
              "      height: 32px;\n",
              "      padding: 0 0 0 0;\n",
              "      width: 32px;\n",
              "    }\n",
              "\n",
              "    .colab-df-convert:hover {\n",
              "      background-color: #E2EBFA;\n",
              "      box-shadow: 0px 1px 2px rgba(60, 64, 67, 0.3), 0px 1px 3px 1px rgba(60, 64, 67, 0.15);\n",
              "      fill: #174EA6;\n",
              "    }\n",
              "\n",
              "    [theme=dark] .colab-df-convert {\n",
              "      background-color: #3B4455;\n",
              "      fill: #D2E3FC;\n",
              "    }\n",
              "\n",
              "    [theme=dark] .colab-df-convert:hover {\n",
              "      background-color: #434B5C;\n",
              "      box-shadow: 0px 1px 3px 1px rgba(0, 0, 0, 0.15);\n",
              "      filter: drop-shadow(0px 1px 2px rgba(0, 0, 0, 0.3));\n",
              "      fill: #FFFFFF;\n",
              "    }\n",
              "  </style>\n",
              "\n",
              "      <script>\n",
              "        const buttonEl =\n",
              "          document.querySelector('#df-6348e2fa-fc03-42c7-b8ee-41e400fc8fa8 button.colab-df-convert');\n",
              "        buttonEl.style.display =\n",
              "          google.colab.kernel.accessAllowed ? 'block' : 'none';\n",
              "\n",
              "        async function convertToInteractive(key) {\n",
              "          const element = document.querySelector('#df-6348e2fa-fc03-42c7-b8ee-41e400fc8fa8');\n",
              "          const dataTable =\n",
              "            await google.colab.kernel.invokeFunction('convertToInteractive',\n",
              "                                                     [key], {});\n",
              "          if (!dataTable) return;\n",
              "\n",
              "          const docLinkHtml = 'Like what you see? Visit the ' +\n",
              "            '<a target=\"_blank\" href=https://colab.research.google.com/notebooks/data_table.ipynb>data table notebook</a>'\n",
              "            + ' to learn more about interactive tables.';\n",
              "          element.innerHTML = '';\n",
              "          dataTable['output_type'] = 'display_data';\n",
              "          await google.colab.output.renderOutput(dataTable, element);\n",
              "          const docLink = document.createElement('div');\n",
              "          docLink.innerHTML = docLinkHtml;\n",
              "          element.appendChild(docLink);\n",
              "        }\n",
              "      </script>\n",
              "    </div>\n",
              "  </div>\n",
              "  "
            ],
            "text/plain": [
              "                             totals.transactionRevenueLN  visitNumber_log\n",
              "totals.transactionRevenueLN                     1.000000         0.102183\n",
              "visitNumber_log                                 0.102183         1.000000"
            ]
          },
          "metadata": {},
          "execution_count": 109
        }
      ]
    },
    {
      "cell_type": "markdown",
      "source": [
        "## Hits"
      ],
      "metadata": {
        "id": "4KTzZsAAMHMw"
      }
    },
    {
      "cell_type": "code",
      "source": [
        "df['totals.hits'].describe()"
      ],
      "metadata": {
        "colab": {
          "base_uri": "https://localhost:8080/"
        },
        "id": "UT7qLFm0MIYh",
        "outputId": "07e09d2a-4f54-4b53-8526-d3b2e8202620"
      },
      "execution_count": null,
      "outputs": [
        {
          "output_type": "execute_result",
          "data": {
            "text/plain": [
              "count     90249\n",
              "unique      162\n",
              "top           1\n",
              "freq      44737\n",
              "Name: totals.hits, dtype: object"
            ]
          },
          "metadata": {},
          "execution_count": 110
        }
      ]
    },
    {
      "cell_type": "code",
      "source": [
        "df['totals.hits'] = df['totals.hits'].astype(int)"
      ],
      "metadata": {
        "id": "5BiYX8UXMPzy"
      },
      "execution_count": null,
      "outputs": []
    },
    {
      "cell_type": "code",
      "source": [
        "df['totals.hits'].describe()"
      ],
      "metadata": {
        "colab": {
          "base_uri": "https://localhost:8080/"
        },
        "id": "Ivn1kA7AMRth",
        "outputId": "f8e728a7-0d45-4e06-a9e8-d26db508204e"
      },
      "execution_count": null,
      "outputs": [
        {
          "output_type": "execute_result",
          "data": {
            "text/plain": [
              "count    90249.000000\n",
              "mean         4.572771\n",
              "std          9.600290\n",
              "min          1.000000\n",
              "25%          1.000000\n",
              "50%          2.000000\n",
              "75%          4.000000\n",
              "max        500.000000\n",
              "Name: totals.hits, dtype: float64"
            ]
          },
          "metadata": {},
          "execution_count": 112
        }
      ]
    },
    {
      "cell_type": "code",
      "source": [
        "plt.figure(figsize = (15,5))\n",
        "\n",
        "sns.regplot(\n",
        "    data = df[df[TARGET_LN]>0],\n",
        "    x= 'totals.hits',\n",
        "    y = TARGET_LN\n",
        ")"
      ],
      "metadata": {
        "colab": {
          "base_uri": "https://localhost:8080/",
          "height": 351
        },
        "id": "niPUU1NmMgMV",
        "outputId": "acc21df1-77ba-4cc3-eb38-da2af611d30d"
      },
      "execution_count": null,
      "outputs": [
        {
          "output_type": "execute_result",
          "data": {
            "text/plain": [
              "<matplotlib.axes._subplots.AxesSubplot at 0x7f172e42db10>"
            ]
          },
          "metadata": {},
          "execution_count": 113
        },
        {
          "output_type": "display_data",
          "data": {
            "image/png": "[encoded data removed]",
            "text/plain": [
              "<Figure size 1080x360 with 1 Axes>"
            ]
          },
          "metadata": {
            "needs_background": "light"
          }
        }
      ]
    },
    {
      "cell_type": "code",
      "source": [
        " df['totals.hits_log'] = df['totals.hits'].apply(lambda x: np.log1p(x))"
      ],
      "metadata": {
        "id": "niDAG73eM1aN"
      },
      "execution_count": null,
      "outputs": []
    },
    {
      "cell_type": "code",
      "source": [
        "plt.figure(figsize = (15,5))\n",
        "\n",
        "sns.regplot(\n",
        "    data = df,\n",
        "    x= 'totals.hits_log',\n",
        "    y = TARGET_LN\n",
        ")"
      ],
      "metadata": {
        "colab": {
          "base_uri": "https://localhost:8080/",
          "height": 352
        },
        "id": "mIoSinw2M6u0",
        "outputId": "89becfa5-bd8a-494a-8d69-b98121462d4e"
      },
      "execution_count": null,
      "outputs": [
        {
          "output_type": "execute_result",
          "data": {
            "text/plain": [
              "<matplotlib.axes._subplots.AxesSubplot at 0x7f172e89ec90>"
            ]
          },
          "metadata": {},
          "execution_count": 115
        },
        {
          "output_type": "display_data",
          "data": {
            "image/png": "[encoded data removed]",
            "text/plain": [
              "<Figure size 1080x360 with 1 Axes>"
            ]
          },
          "metadata": {
            "needs_background": "light"
          }
        }
      ]
    },
    {
      "cell_type": "code",
      "source": [
        "df[[TARGET_LN,'totals.hits_log']].corr()"
      ],
      "metadata": {
        "colab": {
          "base_uri": "https://localhost:8080/",
          "height": 112
        },
        "id": "sx3CcgSYNliG",
        "outputId": "848e7a04-95f5-47a6-e75d-bdf595baa3bb"
      },
      "execution_count": null,
      "outputs": [
        {
          "output_type": "execute_result",
          "data": {
            "text/html": [
              "\n",
              "  <div id=\"df-ee7f8aa2-85ce-479b-b91e-c5ac95379a7d\">\n",
              "    <div class=\"colab-df-container\">\n",
              "      <div>\n",
              "<style scoped>\n",
              "    .dataframe tbody tr th:only-of-type {\n",
              "        vertical-align: middle;\n",
              "    }\n",
              "\n",
              "    .dataframe tbody tr th {\n",
              "        vertical-align: top;\n",
              "    }\n",
              "\n",
              "    .dataframe thead th {\n",
              "        text-align: right;\n",
              "    }\n",
              "</style>\n",
              "<table border=\"1\" class=\"dataframe\">\n",
              "  <thead>\n",
              "    <tr style=\"text-align: right;\">\n",
              "      <th></th>\n",
              "      <th>totals.transactionRevenueLN</th>\n",
              "      <th>totals.hits_log</th>\n",
              "    </tr>\n",
              "  </thead>\n",
              "  <tbody>\n",
              "    <tr>\n",
              "      <th>totals.transactionRevenueLN</th>\n",
              "      <td>1.000000</td>\n",
              "      <td>0.308658</td>\n",
              "    </tr>\n",
              "    <tr>\n",
              "      <th>totals.hits_log</th>\n",
              "      <td>0.308658</td>\n",
              "      <td>1.000000</td>\n",
              "    </tr>\n",
              "  </tbody>\n",
              "</table>\n",
              "</div>\n",
              "      <button class=\"colab-df-convert\" onclick=\"convertToInteractive('df-ee7f8aa2-85ce-479b-b91e-c5ac95379a7d')\"\n",
              "              title=\"Convert this dataframe to an interactive table.\"\n",
              "              style=\"display:none;\">\n",
              "        \n",
              "  <svg xmlns=\"http://www.w3.org/2000/svg\" height=\"24px\"viewBox=\"0 0 24 24\"\n",
              "       width=\"24px\">\n",
              "    <path d=\"M0 0h24v24H0V0z\" fill=\"none\"/>\n",
              "    <path d=\"M18.56 5.44l.94 2.06.94-2.06 2.06-.94-2.06-.94-.94-2.06-.94 2.06-2.06.94zm-11 1L8.5 8.5l.94-2.06 2.06-.94-2.06-.94L8.5 2.5l-.94 2.06-2.06.94zm10 10l.94 2.06.94-2.06 2.06-.94-2.06-.94-.94-2.06-.94 2.06-2.06.94z\"/><path d=\"M17.41 7.96l-1.37-1.37c-.4-.4-.92-.59-1.43-.59-.52 0-1.04.2-1.43.59L10.3 9.45l-7.72 7.72c-.78.78-.78 2.05 0 2.83L4 21.41c.39.39.9.59 1.41.59.51 0 1.02-.2 1.41-.59l7.78-7.78 2.81-2.81c.8-.78.8-2.07 0-2.86zM5.41 20L4 18.59l7.72-7.72 1.47 1.35L5.41 20z\"/>\n",
              "  </svg>\n",
              "      </button>\n",
              "      \n",
              "  <style>\n",
              "    .colab-df-container {\n",
              "      display:flex;\n",
              "      flex-wrap:wrap;\n",
              "      gap: 12px;\n",
              "    }\n",
              "\n",
              "    .colab-df-convert {\n",
              "      background-color: #E8F0FE;\n",
              "      border: none;\n",
              "      border-radius: 50%;\n",
              "      cursor: pointer;\n",
              "      display: none;\n",
              "      fill: #1967D2;\n",
              "      height: 32px;\n",
              "      padding: 0 0 0 0;\n",
              "      width: 32px;\n",
              "    }\n",
              "\n",
              "    .colab-df-convert:hover {\n",
              "      background-color: #E2EBFA;\n",
              "      box-shadow: 0px 1px 2px rgba(60, 64, 67, 0.3), 0px 1px 3px 1px rgba(60, 64, 67, 0.15);\n",
              "      fill: #174EA6;\n",
              "    }\n",
              "\n",
              "    [theme=dark] .colab-df-convert {\n",
              "      background-color: #3B4455;\n",
              "      fill: #D2E3FC;\n",
              "    }\n",
              "\n",
              "    [theme=dark] .colab-df-convert:hover {\n",
              "      background-color: #434B5C;\n",
              "      box-shadow: 0px 1px 3px 1px rgba(0, 0, 0, 0.15);\n",
              "      filter: drop-shadow(0px 1px 2px rgba(0, 0, 0, 0.3));\n",
              "      fill: #FFFFFF;\n",
              "    }\n",
              "  </style>\n",
              "\n",
              "      <script>\n",
              "        const buttonEl =\n",
              "          document.querySelector('#df-ee7f8aa2-85ce-479b-b91e-c5ac95379a7d button.colab-df-convert');\n",
              "        buttonEl.style.display =\n",
              "          google.colab.kernel.accessAllowed ? 'block' : 'none';\n",
              "\n",
              "        async function convertToInteractive(key) {\n",
              "          const element = document.querySelector('#df-ee7f8aa2-85ce-479b-b91e-c5ac95379a7d');\n",
              "          const dataTable =\n",
              "            await google.colab.kernel.invokeFunction('convertToInteractive',\n",
              "                                                     [key], {});\n",
              "          if (!dataTable) return;\n",
              "\n",
              "          const docLinkHtml = 'Like what you see? Visit the ' +\n",
              "            '<a target=\"_blank\" href=https://colab.research.google.com/notebooks/data_table.ipynb>data table notebook</a>'\n",
              "            + ' to learn more about interactive tables.';\n",
              "          element.innerHTML = '';\n",
              "          dataTable['output_type'] = 'display_data';\n",
              "          await google.colab.output.renderOutput(dataTable, element);\n",
              "          const docLink = document.createElement('div');\n",
              "          docLink.innerHTML = docLinkHtml;\n",
              "          element.appendChild(docLink);\n",
              "        }\n",
              "      </script>\n",
              "    </div>\n",
              "  </div>\n",
              "  "
            ],
            "text/plain": [
              "                             totals.transactionRevenueLN  totals.hits_log\n",
              "totals.transactionRevenueLN                     1.000000         0.308658\n",
              "totals.hits_log                                 0.308658         1.000000"
            ]
          },
          "metadata": {},
          "execution_count": 116
        }
      ]
    },
    {
      "cell_type": "code",
      "source": [
        "\n",
        "#### Pageviews"
      ],
      "metadata": {
        "id": "EBDM94DWOZsZ"
      },
      "execution_count": null,
      "outputs": []
    },
    {
      "cell_type": "code",
      "source": [
        "df['totals.pageviews'].describe()"
      ],
      "metadata": {
        "colab": {
          "base_uri": "https://localhost:8080/"
        },
        "id": "6gPx1YyFOa42",
        "outputId": "ecd69070-273b-416b-d4af-4ff5f035b48b"
      },
      "execution_count": null,
      "outputs": [
        {
          "output_type": "execute_result",
          "data": {
            "text/plain": [
              "count     90236\n",
              "unique      123\n",
              "top           1\n",
              "freq      45320\n",
              "Name: totals.pageviews, dtype: object"
            ]
          },
          "metadata": {},
          "execution_count": 118
        }
      ]
    },
    {
      "cell_type": "code",
      "source": [
        "df['totals.pageviews'].fillna(0, inplace = True)"
      ],
      "metadata": {
        "id": "Dx4Jbsx-OsmC"
      },
      "execution_count": null,
      "outputs": []
    },
    {
      "cell_type": "code",
      "source": [
        "df['totals.pageviews'] = df['totals.pageviews'].astype(int)"
      ],
      "metadata": {
        "id": "rVz0f6RhQAU1"
      },
      "execution_count": null,
      "outputs": []
    },
    {
      "cell_type": "code",
      "source": [
        "df['totals.pageviews'].describe()"
      ],
      "metadata": {
        "colab": {
          "base_uri": "https://localhost:8080/"
        },
        "id": "d_I3z3aaQFcw",
        "outputId": "2e78e614-1087-4925-8277-3427f61fc6dc"
      },
      "execution_count": null,
      "outputs": [
        {
          "output_type": "execute_result",
          "data": {
            "text/plain": [
              "count    90249.000000\n",
              "mean         3.833450\n",
              "std          6.996651\n",
              "min          0.000000\n",
              "25%          1.000000\n",
              "50%          1.000000\n",
              "75%          4.000000\n",
              "max        333.000000\n",
              "Name: totals.pageviews, dtype: float64"
            ]
          },
          "metadata": {},
          "execution_count": 121
        }
      ]
    },
    {
      "cell_type": "code",
      "source": [
        "plt.figure(figsize = (15,5))\n",
        "\n",
        "sns.regplot(\n",
        "    data = df[df[TARGET_LN]>0],\n",
        "    x= 'totals.pageviews',\n",
        "    y = TARGET_LN\n",
        ")"
      ],
      "metadata": {
        "colab": {
          "base_uri": "https://localhost:8080/",
          "height": 351
        },
        "id": "GQxZ9yWlQNFl",
        "outputId": "45b8ecef-d280-41af-caff-ed17b3533c55"
      },
      "execution_count": null,
      "outputs": [
        {
          "output_type": "execute_result",
          "data": {
            "text/plain": [
              "<matplotlib.axes._subplots.AxesSubplot at 0x7f172e4dd390>"
            ]
          },
          "metadata": {},
          "execution_count": 122
        },
        {
          "output_type": "display_data",
          "data": {
            "image/png": "[encoded data removed]",
            "text/plain": [
              "<Figure size 1080x360 with 1 Axes>"
            ]
          },
          "metadata": {
            "needs_background": "light"
          }
        }
      ]
    },
    {
      "cell_type": "code",
      "source": [
        "df[['totals.pageviews','totals.hits']].corr() #mucha correlacion, podemos eliminar una de las dos"
      ],
      "metadata": {
        "colab": {
          "base_uri": "https://localhost:8080/",
          "height": 112
        },
        "id": "i9PV4L1FQcXh",
        "outputId": "6a33012c-6d44-424c-cfd7-80becdda75b8"
      },
      "execution_count": null,
      "outputs": [
        {
          "output_type": "execute_result",
          "data": {
            "text/html": [
              "\n",
              "  <div id=\"df-a7779cd0-119f-4cd4-b75e-5955792c76df\">\n",
              "    <div class=\"colab-df-container\">\n",
              "      <div>\n",
              "<style scoped>\n",
              "    .dataframe tbody tr th:only-of-type {\n",
              "        vertical-align: middle;\n",
              "    }\n",
              "\n",
              "    .dataframe tbody tr th {\n",
              "        vertical-align: top;\n",
              "    }\n",
              "\n",
              "    .dataframe thead th {\n",
              "        text-align: right;\n",
              "    }\n",
              "</style>\n",
              "<table border=\"1\" class=\"dataframe\">\n",
              "  <thead>\n",
              "    <tr style=\"text-align: right;\">\n",
              "      <th></th>\n",
              "      <th>totals.pageviews</th>\n",
              "      <th>totals.hits</th>\n",
              "    </tr>\n",
              "  </thead>\n",
              "  <tbody>\n",
              "    <tr>\n",
              "      <th>totals.pageviews</th>\n",
              "      <td>1.000000</td>\n",
              "      <td>0.986006</td>\n",
              "    </tr>\n",
              "    <tr>\n",
              "      <th>totals.hits</th>\n",
              "      <td>0.986006</td>\n",
              "      <td>1.000000</td>\n",
              "    </tr>\n",
              "  </tbody>\n",
              "</table>\n",
              "</div>\n",
              "      <button class=\"colab-df-convert\" onclick=\"convertToInteractive('df-a7779cd0-119f-4cd4-b75e-5955792c76df')\"\n",
              "              title=\"Convert this dataframe to an interactive table.\"\n",
              "              style=\"display:none;\">\n",
              "        \n",
              "  <svg xmlns=\"http://www.w3.org/2000/svg\" height=\"24px\"viewBox=\"0 0 24 24\"\n",
              "       width=\"24px\">\n",
              "    <path d=\"M0 0h24v24H0V0z\" fill=\"none\"/>\n",
              "    <path d=\"M18.56 5.44l.94 2.06.94-2.06 2.06-.94-2.06-.94-.94-2.06-.94 2.06-2.06.94zm-11 1L8.5 8.5l.94-2.06 2.06-.94-2.06-.94L8.5 2.5l-.94 2.06-2.06.94zm10 10l.94 2.06.94-2.06 2.06-.94-2.06-.94-.94-2.06-.94 2.06-2.06.94z\"/><path d=\"M17.41 7.96l-1.37-1.37c-.4-.4-.92-.59-1.43-.59-.52 0-1.04.2-1.43.59L10.3 9.45l-7.72 7.72c-.78.78-.78 2.05 0 2.83L4 21.41c.39.39.9.59 1.41.59.51 0 1.02-.2 1.41-.59l7.78-7.78 2.81-2.81c.8-.78.8-2.07 0-2.86zM5.41 20L4 18.59l7.72-7.72 1.47 1.35L5.41 20z\"/>\n",
              "  </svg>\n",
              "      </button>\n",
              "      \n",
              "  <style>\n",
              "    .colab-df-container {\n",
              "      display:flex;\n",
              "      flex-wrap:wrap;\n",
              "      gap: 12px;\n",
              "    }\n",
              "\n",
              "    .colab-df-convert {\n",
              "      background-color: #E8F0FE;\n",
              "      border: none;\n",
              "      border-radius: 50%;\n",
              "      cursor: pointer;\n",
              "      display: none;\n",
              "      fill: #1967D2;\n",
              "      height: 32px;\n",
              "      padding: 0 0 0 0;\n",
              "      width: 32px;\n",
              "    }\n",
              "\n",
              "    .colab-df-convert:hover {\n",
              "      background-color: #E2EBFA;\n",
              "      box-shadow: 0px 1px 2px rgba(60, 64, 67, 0.3), 0px 1px 3px 1px rgba(60, 64, 67, 0.15);\n",
              "      fill: #174EA6;\n",
              "    }\n",
              "\n",
              "    [theme=dark] .colab-df-convert {\n",
              "      background-color: #3B4455;\n",
              "      fill: #D2E3FC;\n",
              "    }\n",
              "\n",
              "    [theme=dark] .colab-df-convert:hover {\n",
              "      background-color: #434B5C;\n",
              "      box-shadow: 0px 1px 3px 1px rgba(0, 0, 0, 0.15);\n",
              "      filter: drop-shadow(0px 1px 2px rgba(0, 0, 0, 0.3));\n",
              "      fill: #FFFFFF;\n",
              "    }\n",
              "  </style>\n",
              "\n",
              "      <script>\n",
              "        const buttonEl =\n",
              "          document.querySelector('#df-a7779cd0-119f-4cd4-b75e-5955792c76df button.colab-df-convert');\n",
              "        buttonEl.style.display =\n",
              "          google.colab.kernel.accessAllowed ? 'block' : 'none';\n",
              "\n",
              "        async function convertToInteractive(key) {\n",
              "          const element = document.querySelector('#df-a7779cd0-119f-4cd4-b75e-5955792c76df');\n",
              "          const dataTable =\n",
              "            await google.colab.kernel.invokeFunction('convertToInteractive',\n",
              "                                                     [key], {});\n",
              "          if (!dataTable) return;\n",
              "\n",
              "          const docLinkHtml = 'Like what you see? Visit the ' +\n",
              "            '<a target=\"_blank\" href=https://colab.research.google.com/notebooks/data_table.ipynb>data table notebook</a>'\n",
              "            + ' to learn more about interactive tables.';\n",
              "          element.innerHTML = '';\n",
              "          dataTable['output_type'] = 'display_data';\n",
              "          await google.colab.output.renderOutput(dataTable, element);\n",
              "          const docLink = document.createElement('div');\n",
              "          docLink.innerHTML = docLinkHtml;\n",
              "          element.appendChild(docLink);\n",
              "        }\n",
              "      </script>\n",
              "    </div>\n",
              "  </div>\n",
              "  "
            ],
            "text/plain": [
              "                  totals.pageviews  totals.hits\n",
              "totals.pageviews          1.000000     0.986006\n",
              "totals.hits               0.986006     1.000000"
            ]
          },
          "metadata": {},
          "execution_count": 123
        }
      ]
    },
    {
      "cell_type": "markdown",
      "source": [
        "### GeoNetwork - continents"
      ],
      "metadata": {
        "id": "jYMgej4FQ9KV"
      }
    },
    {
      "cell_type": "code",
      "source": [
        "explore_cat_values(df, 'geoNetwork.continent',TARGET)"
      ],
      "metadata": {
        "colab": {
          "base_uri": "https://localhost:8080/",
          "height": 206
        },
        "id": "rXV2DzUoRAbd",
        "outputId": "a59addaa-eb92-405f-87eb-dd2d2aaa224b"
      },
      "execution_count": null,
      "outputs": [
        {
          "output_type": "execute_result",
          "data": {
            "text/html": [
              "\n",
              "  <div id=\"df-85f51a11-d9da-4423-beae-9f41ce594de1\">\n",
              "    <div class=\"colab-df-container\">\n",
              "      <div>\n",
              "<style scoped>\n",
              "    .dataframe tbody tr th:only-of-type {\n",
              "        vertical-align: middle;\n",
              "    }\n",
              "\n",
              "    .dataframe tbody tr th {\n",
              "        vertical-align: top;\n",
              "    }\n",
              "\n",
              "    .dataframe thead th {\n",
              "        text-align: right;\n",
              "    }\n",
              "</style>\n",
              "<table border=\"1\" class=\"dataframe\">\n",
              "  <thead>\n",
              "    <tr style=\"text-align: right;\">\n",
              "      <th></th>\n",
              "      <th>n_rows</th>\n",
              "      <th>pct_rows</th>\n",
              "      <th>transactions</th>\n",
              "      <th>pct_transactions</th>\n",
              "      <th>median_revenue</th>\n",
              "    </tr>\n",
              "    <tr>\n",
              "      <th>geoNetwork.continent</th>\n",
              "      <th></th>\n",
              "      <th></th>\n",
              "      <th></th>\n",
              "      <th></th>\n",
              "      <th></th>\n",
              "    </tr>\n",
              "  </thead>\n",
              "  <tbody>\n",
              "    <tr>\n",
              "      <th>Americas</th>\n",
              "      <td>44972</td>\n",
              "      <td>0.498310</td>\n",
              "      <td>1154</td>\n",
              "      <td>0.025660</td>\n",
              "      <td>50.01</td>\n",
              "    </tr>\n",
              "    <tr>\n",
              "      <th>Asia</th>\n",
              "      <td>22414</td>\n",
              "      <td>0.248357</td>\n",
              "      <td>14</td>\n",
              "      <td>0.000625</td>\n",
              "      <td>55.47</td>\n",
              "    </tr>\n",
              "    <tr>\n",
              "      <th>Europe</th>\n",
              "      <td>19627</td>\n",
              "      <td>0.217476</td>\n",
              "      <td>8</td>\n",
              "      <td>0.000408</td>\n",
              "      <td>47.29</td>\n",
              "    </tr>\n",
              "    <tr>\n",
              "      <th>Oceania</th>\n",
              "      <td>1564</td>\n",
              "      <td>0.017330</td>\n",
              "      <td>1</td>\n",
              "      <td>0.000639</td>\n",
              "      <td>47.97</td>\n",
              "    </tr>\n",
              "  </tbody>\n",
              "</table>\n",
              "</div>\n",
              "      <button class=\"colab-df-convert\" onclick=\"convertToInteractive('df-85f51a11-d9da-4423-beae-9f41ce594de1')\"\n",
              "              title=\"Convert this dataframe to an interactive table.\"\n",
              "              style=\"display:none;\">\n",
              "        \n",
              "  <svg xmlns=\"http://www.w3.org/2000/svg\" height=\"24px\"viewBox=\"0 0 24 24\"\n",
              "       width=\"24px\">\n",
              "    <path d=\"M0 0h24v24H0V0z\" fill=\"none\"/>\n",
              "    <path d=\"M18.56 5.44l.94 2.06.94-2.06 2.06-.94-2.06-.94-.94-2.06-.94 2.06-2.06.94zm-11 1L8.5 8.5l.94-2.06 2.06-.94-2.06-.94L8.5 2.5l-.94 2.06-2.06.94zm10 10l.94 2.06.94-2.06 2.06-.94-2.06-.94-.94-2.06-.94 2.06-2.06.94z\"/><path d=\"M17.41 7.96l-1.37-1.37c-.4-.4-.92-.59-1.43-.59-.52 0-1.04.2-1.43.59L10.3 9.45l-7.72 7.72c-.78.78-.78 2.05 0 2.83L4 21.41c.39.39.9.59 1.41.59.51 0 1.02-.2 1.41-.59l7.78-7.78 2.81-2.81c.8-.78.8-2.07 0-2.86zM5.41 20L4 18.59l7.72-7.72 1.47 1.35L5.41 20z\"/>\n",
              "  </svg>\n",
              "      </button>\n",
              "      \n",
              "  <style>\n",
              "    .colab-df-container {\n",
              "      display:flex;\n",
              "      flex-wrap:wrap;\n",
              "      gap: 12px;\n",
              "    }\n",
              "\n",
              "    .colab-df-convert {\n",
              "      background-color: #E8F0FE;\n",
              "      border: none;\n",
              "      border-radius: 50%;\n",
              "      cursor: pointer;\n",
              "      display: none;\n",
              "      fill: #1967D2;\n",
              "      height: 32px;\n",
              "      padding: 0 0 0 0;\n",
              "      width: 32px;\n",
              "    }\n",
              "\n",
              "    .colab-df-convert:hover {\n",
              "      background-color: #E2EBFA;\n",
              "      box-shadow: 0px 1px 2px rgba(60, 64, 67, 0.3), 0px 1px 3px 1px rgba(60, 64, 67, 0.15);\n",
              "      fill: #174EA6;\n",
              "    }\n",
              "\n",
              "    [theme=dark] .colab-df-convert {\n",
              "      background-color: #3B4455;\n",
              "      fill: #D2E3FC;\n",
              "    }\n",
              "\n",
              "    [theme=dark] .colab-df-convert:hover {\n",
              "      background-color: #434B5C;\n",
              "      box-shadow: 0px 1px 3px 1px rgba(0, 0, 0, 0.15);\n",
              "      filter: drop-shadow(0px 1px 2px rgba(0, 0, 0, 0.3));\n",
              "      fill: #FFFFFF;\n",
              "    }\n",
              "  </style>\n",
              "\n",
              "      <script>\n",
              "        const buttonEl =\n",
              "          document.querySelector('#df-85f51a11-d9da-4423-beae-9f41ce594de1 button.colab-df-convert');\n",
              "        buttonEl.style.display =\n",
              "          google.colab.kernel.accessAllowed ? 'block' : 'none';\n",
              "\n",
              "        async function convertToInteractive(key) {\n",
              "          const element = document.querySelector('#df-85f51a11-d9da-4423-beae-9f41ce594de1');\n",
              "          const dataTable =\n",
              "            await google.colab.kernel.invokeFunction('convertToInteractive',\n",
              "                                                     [key], {});\n",
              "          if (!dataTable) return;\n",
              "\n",
              "          const docLinkHtml = 'Like what you see? Visit the ' +\n",
              "            '<a target=\"_blank\" href=https://colab.research.google.com/notebooks/data_table.ipynb>data table notebook</a>'\n",
              "            + ' to learn more about interactive tables.';\n",
              "          element.innerHTML = '';\n",
              "          dataTable['output_type'] = 'display_data';\n",
              "          await google.colab.output.renderOutput(dataTable, element);\n",
              "          const docLink = document.createElement('div');\n",
              "          docLink.innerHTML = docLinkHtml;\n",
              "          element.appendChild(docLink);\n",
              "        }\n",
              "      </script>\n",
              "    </div>\n",
              "  </div>\n",
              "  "
            ],
            "text/plain": [
              "                      n_rows  pct_rows  ...  pct_transactions  median_revenue\n",
              "geoNetwork.continent                    ...                                  \n",
              "Americas               44972  0.498310  ...          0.025660           50.01\n",
              "Asia                   22414  0.248357  ...          0.000625           55.47\n",
              "Europe                 19627  0.217476  ...          0.000408           47.29\n",
              "Oceania                 1564  0.017330  ...          0.000639           47.97\n",
              "\n",
              "[4 rows x 5 columns]"
            ]
          },
          "metadata": {},
          "execution_count": 124
        }
      ]
    },
    {
      "cell_type": "code",
      "source": [
        "df['geoNetwork.continent'].value_counts()"
      ],
      "metadata": {
        "colab": {
          "base_uri": "https://localhost:8080/"
        },
        "id": "5QqjgEkpRPdT",
        "outputId": "833b5224-9ffa-40c8-8c2b-b5d80640a5e7"
      },
      "execution_count": null,
      "outputs": [
        {
          "output_type": "execute_result",
          "data": {
            "text/plain": [
              "Americas     44972\n",
              "Asia         22414\n",
              "Europe       19627\n",
              "Oceania       1564\n",
              "Africa        1525\n",
              "(not set)      147\n",
              "Name: geoNetwork.continent, dtype: int64"
            ]
          },
          "metadata": {},
          "execution_count": 125
        }
      ]
    },
    {
      "cell_type": "markdown",
      "source": [
        "### Subcontinent"
      ],
      "metadata": {
        "id": "-3yRiDtPRpd2"
      }
    },
    {
      "cell_type": "code",
      "source": [
        "explore_cat_values(df, 'geoNetwork.subContinent',TARGET)"
      ],
      "metadata": {
        "colab": {
          "base_uri": "https://localhost:8080/",
          "height": 488
        },
        "id": "tyxyMQ1bRrul",
        "outputId": "531be0fe-a751-4e79-be37-59de77aeb2bd"
      },
      "execution_count": null,
      "outputs": [
        {
          "output_type": "execute_result",
          "data": {
            "text/html": [
              "\n",
              "  <div id=\"df-f5c2a0fe-c707-47e1-9cbf-7762a62b1bec\">\n",
              "    <div class=\"colab-df-container\">\n",
              "      <div>\n",
              "<style scoped>\n",
              "    .dataframe tbody tr th:only-of-type {\n",
              "        vertical-align: middle;\n",
              "    }\n",
              "\n",
              "    .dataframe tbody tr th {\n",
              "        vertical-align: top;\n",
              "    }\n",
              "\n",
              "    .dataframe thead th {\n",
              "        text-align: right;\n",
              "    }\n",
              "</style>\n",
              "<table border=\"1\" class=\"dataframe\">\n",
              "  <thead>\n",
              "    <tr style=\"text-align: right;\">\n",
              "      <th></th>\n",
              "      <th>n_rows</th>\n",
              "      <th>pct_rows</th>\n",
              "      <th>transactions</th>\n",
              "      <th>pct_transactions</th>\n",
              "      <th>median_revenue</th>\n",
              "    </tr>\n",
              "    <tr>\n",
              "      <th>geoNetwork.subContinent</th>\n",
              "      <th></th>\n",
              "      <th></th>\n",
              "      <th></th>\n",
              "      <th></th>\n",
              "      <th></th>\n",
              "    </tr>\n",
              "  </thead>\n",
              "  <tbody>\n",
              "    <tr>\n",
              "      <th>Australasia</th>\n",
              "      <td>1549</td>\n",
              "      <td>0.017164</td>\n",
              "      <td>1</td>\n",
              "      <td>0.000646</td>\n",
              "      <td>47.970</td>\n",
              "    </tr>\n",
              "    <tr>\n",
              "      <th>Caribbean</th>\n",
              "      <td>274</td>\n",
              "      <td>0.003036</td>\n",
              "      <td>2</td>\n",
              "      <td>0.007299</td>\n",
              "      <td>51.085</td>\n",
              "    </tr>\n",
              "    <tr>\n",
              "      <th>Central America</th>\n",
              "      <td>1566</td>\n",
              "      <td>0.017352</td>\n",
              "      <td>2</td>\n",
              "      <td>0.001277</td>\n",
              "      <td>66.940</td>\n",
              "    </tr>\n",
              "    <tr>\n",
              "      <th>Eastern Asia</th>\n",
              "      <td>4691</td>\n",
              "      <td>0.051978</td>\n",
              "      <td>6</td>\n",
              "      <td>0.001279</td>\n",
              "      <td>77.985</td>\n",
              "    </tr>\n",
              "    <tr>\n",
              "      <th>Eastern Europe</th>\n",
              "      <td>4489</td>\n",
              "      <td>0.049740</td>\n",
              "      <td>2</td>\n",
              "      <td>0.000446</td>\n",
              "      <td>46.225</td>\n",
              "    </tr>\n",
              "    <tr>\n",
              "      <th>Northern America</th>\n",
              "      <td>39026</td>\n",
              "      <td>0.432426</td>\n",
              "      <td>1143</td>\n",
              "      <td>0.029288</td>\n",
              "      <td>49.990</td>\n",
              "    </tr>\n",
              "    <tr>\n",
              "      <th>Northern Europe</th>\n",
              "      <td>5788</td>\n",
              "      <td>0.064134</td>\n",
              "      <td>3</td>\n",
              "      <td>0.000518</td>\n",
              "      <td>62.600</td>\n",
              "    </tr>\n",
              "    <tr>\n",
              "      <th>South America</th>\n",
              "      <td>4106</td>\n",
              "      <td>0.045496</td>\n",
              "      <td>7</td>\n",
              "      <td>0.001705</td>\n",
              "      <td>83.770</td>\n",
              "    </tr>\n",
              "    <tr>\n",
              "      <th>Southeast Asia</th>\n",
              "      <td>7842</td>\n",
              "      <td>0.086893</td>\n",
              "      <td>3</td>\n",
              "      <td>0.000383</td>\n",
              "      <td>127.120</td>\n",
              "    </tr>\n",
              "    <tr>\n",
              "      <th>Southern Asia</th>\n",
              "      <td>5900</td>\n",
              "      <td>0.065375</td>\n",
              "      <td>3</td>\n",
              "      <td>0.000508</td>\n",
              "      <td>28.610</td>\n",
              "    </tr>\n",
              "    <tr>\n",
              "      <th>Southern Europe</th>\n",
              "      <td>3495</td>\n",
              "      <td>0.038726</td>\n",
              "      <td>2</td>\n",
              "      <td>0.000572</td>\n",
              "      <td>24.485</td>\n",
              "    </tr>\n",
              "    <tr>\n",
              "      <th>Western Asia</th>\n",
              "      <td>3863</td>\n",
              "      <td>0.042804</td>\n",
              "      <td>2</td>\n",
              "      <td>0.000518</td>\n",
              "      <td>18.225</td>\n",
              "    </tr>\n",
              "    <tr>\n",
              "      <th>Western Europe</th>\n",
              "      <td>5855</td>\n",
              "      <td>0.064876</td>\n",
              "      <td>1</td>\n",
              "      <td>0.000171</td>\n",
              "      <td>68.980</td>\n",
              "    </tr>\n",
              "  </tbody>\n",
              "</table>\n",
              "</div>\n",
              "      <button class=\"colab-df-convert\" onclick=\"convertToInteractive('df-f5c2a0fe-c707-47e1-9cbf-7762a62b1bec')\"\n",
              "              title=\"Convert this dataframe to an interactive table.\"\n",
              "              style=\"display:none;\">\n",
              "        \n",
              "  <svg xmlns=\"http://www.w3.org/2000/svg\" height=\"24px\"viewBox=\"0 0 24 24\"\n",
              "       width=\"24px\">\n",
              "    <path d=\"M0 0h24v24H0V0z\" fill=\"none\"/>\n",
              "    <path d=\"M18.56 5.44l.94 2.06.94-2.06 2.06-.94-2.06-.94-.94-2.06-.94 2.06-2.06.94zm-11 1L8.5 8.5l.94-2.06 2.06-.94-2.06-.94L8.5 2.5l-.94 2.06-2.06.94zm10 10l.94 2.06.94-2.06 2.06-.94-2.06-.94-.94-2.06-.94 2.06-2.06.94z\"/><path d=\"M17.41 7.96l-1.37-1.37c-.4-.4-.92-.59-1.43-.59-.52 0-1.04.2-1.43.59L10.3 9.45l-7.72 7.72c-.78.78-.78 2.05 0 2.83L4 21.41c.39.39.9.59 1.41.59.51 0 1.02-.2 1.41-.59l7.78-7.78 2.81-2.81c.8-.78.8-2.07 0-2.86zM5.41 20L4 18.59l7.72-7.72 1.47 1.35L5.41 20z\"/>\n",
              "  </svg>\n",
              "      </button>\n",
              "      \n",
              "  <style>\n",
              "    .colab-df-container {\n",
              "      display:flex;\n",
              "      flex-wrap:wrap;\n",
              "      gap: 12px;\n",
              "    }\n",
              "\n",
              "    .colab-df-convert {\n",
              "      background-color: #E8F0FE;\n",
              "      border: none;\n",
              "      border-radius: 50%;\n",
              "      cursor: pointer;\n",
              "      display: none;\n",
              "      fill: #1967D2;\n",
              "      height: 32px;\n",
              "      padding: 0 0 0 0;\n",
              "      width: 32px;\n",
              "    }\n",
              "\n",
              "    .colab-df-convert:hover {\n",
              "      background-color: #E2EBFA;\n",
              "      box-shadow: 0px 1px 2px rgba(60, 64, 67, 0.3), 0px 1px 3px 1px rgba(60, 64, 67, 0.15);\n",
              "      fill: #174EA6;\n",
              "    }\n",
              "\n",
              "    [theme=dark] .colab-df-convert {\n",
              "      background-color: #3B4455;\n",
              "      fill: #D2E3FC;\n",
              "    }\n",
              "\n",
              "    [theme=dark] .colab-df-convert:hover {\n",
              "      background-color: #434B5C;\n",
              "      box-shadow: 0px 1px 3px 1px rgba(0, 0, 0, 0.15);\n",
              "      filter: drop-shadow(0px 1px 2px rgba(0, 0, 0, 0.3));\n",
              "      fill: #FFFFFF;\n",
              "    }\n",
              "  </style>\n",
              "\n",
              "      <script>\n",
              "        const buttonEl =\n",
              "          document.querySelector('#df-f5c2a0fe-c707-47e1-9cbf-7762a62b1bec button.colab-df-convert');\n",
              "        buttonEl.style.display =\n",
              "          google.colab.kernel.accessAllowed ? 'block' : 'none';\n",
              "\n",
              "        async function convertToInteractive(key) {\n",
              "          const element = document.querySelector('#df-f5c2a0fe-c707-47e1-9cbf-7762a62b1bec');\n",
              "          const dataTable =\n",
              "            await google.colab.kernel.invokeFunction('convertToInteractive',\n",
              "                                                     [key], {});\n",
              "          if (!dataTable) return;\n",
              "\n",
              "          const docLinkHtml = 'Like what you see? Visit the ' +\n",
              "            '<a target=\"_blank\" href=https://colab.research.google.com/notebooks/data_table.ipynb>data table notebook</a>'\n",
              "            + ' to learn more about interactive tables.';\n",
              "          element.innerHTML = '';\n",
              "          dataTable['output_type'] = 'display_data';\n",
              "          await google.colab.output.renderOutput(dataTable, element);\n",
              "          const docLink = document.createElement('div');\n",
              "          docLink.innerHTML = docLinkHtml;\n",
              "          element.appendChild(docLink);\n",
              "        }\n",
              "      </script>\n",
              "    </div>\n",
              "  </div>\n",
              "  "
            ],
            "text/plain": [
              "                         n_rows  pct_rows  ...  pct_transactions  median_revenue\n",
              "geoNetwork.subContinent                    ...                                  \n",
              "Australasia                1549  0.017164  ...          0.000646          47.970\n",
              "Caribbean                   274  0.003036  ...          0.007299          51.085\n",
              "Central America            1566  0.017352  ...          0.001277          66.940\n",
              "Eastern Asia               4691  0.051978  ...          0.001279          77.985\n",
              "Eastern Europe             4489  0.049740  ...          0.000446          46.225\n",
              "Northern America          39026  0.432426  ...          0.029288          49.990\n",
              "Northern Europe            5788  0.064134  ...          0.000518          62.600\n",
              "South America              4106  0.045496  ...          0.001705          83.770\n",
              "Southeast Asia             7842  0.086893  ...          0.000383         127.120\n",
              "Southern Asia              5900  0.065375  ...          0.000508          28.610\n",
              "Southern Europe            3495  0.038726  ...          0.000572          24.485\n",
              "Western Asia               3863  0.042804  ...          0.000518          18.225\n",
              "Western Europe             5855  0.064876  ...          0.000171          68.980\n",
              "\n",
              "[13 rows x 5 columns]"
            ]
          },
          "metadata": {},
          "execution_count": 126
        }
      ]
    },
    {
      "cell_type": "markdown",
      "source": [
        "### Country"
      ],
      "metadata": {
        "id": "Z5WYUqLnSTCj"
      }
    },
    {
      "cell_type": "code",
      "source": [
        "results_df_country = explore_cat_values(df, 'geoNetwork.country',TARGET)"
      ],
      "metadata": {
        "id": "iyTh2pu9RvWK"
      },
      "execution_count": null,
      "outputs": []
    },
    {
      "cell_type": "code",
      "source": [
        "last_countries = results_df_country[results_df_country['n_rows'] > 500].sort_values(by = 'pct_transactions' ).head(4).index.to_list()"
      ],
      "metadata": {
        "id": "9eJYSiWUTD4K"
      },
      "execution_count": null,
      "outputs": []
    },
    {
      "cell_type": "code",
      "source": [
        "best_countries = results_df_country[results_df_country['n_rows'] > 500].sort_values(by = 'pct_transactions' ).tail(4).index.to_list()"
      ],
      "metadata": {
        "id": "PCkuiy7VUC_l"
      },
      "execution_count": null,
      "outputs": []
    },
    {
      "cell_type": "code",
      "source": [
        "country_list = last_countries + best_countries"
      ],
      "metadata": {
        "id": "RBb_44HCUcxL"
      },
      "execution_count": null,
      "outputs": []
    },
    {
      "cell_type": "code",
      "source": [
        "country_list #lista definitiva de los paises a los que quiero en el OHE"
      ],
      "metadata": {
        "colab": {
          "base_uri": "https://localhost:8080/"
        },
        "id": "q8e6NsxqUicu",
        "outputId": "5bcf418c-660d-42fb-a280-9329a9cb8927"
      },
      "execution_count": null,
      "outputs": [
        {
          "output_type": "execute_result",
          "data": {
            "text/plain": [
              "['United Kingdom',\n",
              " 'India',\n",
              " 'Turkey',\n",
              " 'Germany',\n",
              " 'Sweden',\n",
              " 'Singapore',\n",
              " 'Canada',\n",
              " 'United States']"
            ]
          },
          "metadata": {},
          "execution_count": 131
        }
      ]
    },
    {
      "cell_type": "code",
      "source": [
        "def set_Other_PataNegra(dataframe, column,target_col, num_min_rows,top_n):\n",
        "\n",
        "  results_df_cat = explore_cat_values(dataframe, column,target_col)\n",
        "  last_countries = results_df_cat[results_df_cat['n_rows'] > num_min_rows].sort_values(by = 'pct_transactions' ).head(top_n).index.to_list()\n",
        "  best_countries = results_df_cat[results_df_cat['n_rows'] > num_min_rows].sort_values(by = 'pct_transactions' ).tail(top_n).index.to_list()\n",
        "  country_list = list(set(last_countries + best_countries)) # hago que tenga valores distintos siempre, porque sino me puede petar\n",
        "\n",
        "  country_list.append('Others')\n",
        "  dataframe[column] = pd.Categorical(dataframe[column], categories = country_list)\n",
        "  return dataframe[column].fillna('Others')"
      ],
      "metadata": {
        "id": "znb-GpqOi7hr"
      },
      "execution_count": null,
      "outputs": []
    },
    {
      "cell_type": "code",
      "source": [
        "df['geoNetwork.country'] = set_Other_PataNegra(df,'geoNetwork.country',TARGET, 500,4)"
      ],
      "metadata": {
        "id": "icBu-uaxkN3g"
      },
      "execution_count": null,
      "outputs": []
    },
    {
      "cell_type": "code",
      "source": [
        "explore_cat_values(df, 'geoNetwork.country',TARGET)"
      ],
      "metadata": {
        "colab": {
          "base_uri": "https://localhost:8080/",
          "height": 362
        },
        "id": "HQigb108kWGT",
        "outputId": "b61fe0f9-252f-4fea-c7d8-8722cc44deb9"
      },
      "execution_count": null,
      "outputs": [
        {
          "output_type": "execute_result",
          "data": {
            "text/html": [
              "\n",
              "  <div id=\"df-c75a44e9-efa3-4b1f-b7b3-b064ff9b918d\">\n",
              "    <div class=\"colab-df-container\">\n",
              "      <div>\n",
              "<style scoped>\n",
              "    .dataframe tbody tr th:only-of-type {\n",
              "        vertical-align: middle;\n",
              "    }\n",
              "\n",
              "    .dataframe tbody tr th {\n",
              "        vertical-align: top;\n",
              "    }\n",
              "\n",
              "    .dataframe thead th {\n",
              "        text-align: right;\n",
              "    }\n",
              "</style>\n",
              "<table border=\"1\" class=\"dataframe\">\n",
              "  <thead>\n",
              "    <tr style=\"text-align: right;\">\n",
              "      <th></th>\n",
              "      <th>n_rows</th>\n",
              "      <th>pct_rows</th>\n",
              "      <th>transactions</th>\n",
              "      <th>pct_transactions</th>\n",
              "      <th>median_revenue</th>\n",
              "    </tr>\n",
              "    <tr>\n",
              "      <th>geoNetwork.country</th>\n",
              "      <th></th>\n",
              "      <th></th>\n",
              "      <th></th>\n",
              "      <th></th>\n",
              "      <th></th>\n",
              "    </tr>\n",
              "  </thead>\n",
              "  <tbody>\n",
              "    <tr>\n",
              "      <th>Canada</th>\n",
              "      <td>2568</td>\n",
              "      <td>0.028455</td>\n",
              "      <td>21</td>\n",
              "      <td>0.008178</td>\n",
              "      <td>34.480</td>\n",
              "    </tr>\n",
              "    <tr>\n",
              "      <th>Turkey</th>\n",
              "      <td>2069</td>\n",
              "      <td>0.022925</td>\n",
              "      <td>1</td>\n",
              "      <td>0.000483</td>\n",
              "      <td>17.460</td>\n",
              "    </tr>\n",
              "    <tr>\n",
              "      <th>United Kingdom</th>\n",
              "      <td>3776</td>\n",
              "      <td>0.041840</td>\n",
              "      <td>1</td>\n",
              "      <td>0.000265</td>\n",
              "      <td>277.530</td>\n",
              "    </tr>\n",
              "    <tr>\n",
              "      <th>Germany</th>\n",
              "      <td>1998</td>\n",
              "      <td>0.022139</td>\n",
              "      <td>1</td>\n",
              "      <td>0.000501</td>\n",
              "      <td>68.980</td>\n",
              "    </tr>\n",
              "    <tr>\n",
              "      <th>United States</th>\n",
              "      <td>36452</td>\n",
              "      <td>0.403905</td>\n",
              "      <td>1122</td>\n",
              "      <td>0.030780</td>\n",
              "      <td>49.995</td>\n",
              "    </tr>\n",
              "    <tr>\n",
              "      <th>India</th>\n",
              "      <td>5109</td>\n",
              "      <td>0.056610</td>\n",
              "      <td>2</td>\n",
              "      <td>0.000391</td>\n",
              "      <td>26.020</td>\n",
              "    </tr>\n",
              "    <tr>\n",
              "      <th>Sweden</th>\n",
              "      <td>523</td>\n",
              "      <td>0.005795</td>\n",
              "      <td>1</td>\n",
              "      <td>0.001912</td>\n",
              "      <td>62.600</td>\n",
              "    </tr>\n",
              "    <tr>\n",
              "      <th>Singapore</th>\n",
              "      <td>723</td>\n",
              "      <td>0.008011</td>\n",
              "      <td>2</td>\n",
              "      <td>0.002766</td>\n",
              "      <td>128.540</td>\n",
              "    </tr>\n",
              "    <tr>\n",
              "      <th>Others</th>\n",
              "      <td>37031</td>\n",
              "      <td>0.410320</td>\n",
              "      <td>26</td>\n",
              "      <td>0.000702</td>\n",
              "      <td>55.470</td>\n",
              "    </tr>\n",
              "  </tbody>\n",
              "</table>\n",
              "</div>\n",
              "      <button class=\"colab-df-convert\" onclick=\"convertToInteractive('df-c75a44e9-efa3-4b1f-b7b3-b064ff9b918d')\"\n",
              "              title=\"Convert this dataframe to an interactive table.\"\n",
              "              style=\"display:none;\">\n",
              "        \n",
              "  <svg xmlns=\"http://www.w3.org/2000/svg\" height=\"24px\"viewBox=\"0 0 24 24\"\n",
              "       width=\"24px\">\n",
              "    <path d=\"M0 0h24v24H0V0z\" fill=\"none\"/>\n",
              "    <path d=\"M18.56 5.44l.94 2.06.94-2.06 2.06-.94-2.06-.94-.94-2.06-.94 2.06-2.06.94zm-11 1L8.5 8.5l.94-2.06 2.06-.94-2.06-.94L8.5 2.5l-.94 2.06-2.06.94zm10 10l.94 2.06.94-2.06 2.06-.94-2.06-.94-.94-2.06-.94 2.06-2.06.94z\"/><path d=\"M17.41 7.96l-1.37-1.37c-.4-.4-.92-.59-1.43-.59-.52 0-1.04.2-1.43.59L10.3 9.45l-7.72 7.72c-.78.78-.78 2.05 0 2.83L4 21.41c.39.39.9.59 1.41.59.51 0 1.02-.2 1.41-.59l7.78-7.78 2.81-2.81c.8-.78.8-2.07 0-2.86zM5.41 20L4 18.59l7.72-7.72 1.47 1.35L5.41 20z\"/>\n",
              "  </svg>\n",
              "      </button>\n",
              "      \n",
              "  <style>\n",
              "    .colab-df-container {\n",
              "      display:flex;\n",
              "      flex-wrap:wrap;\n",
              "      gap: 12px;\n",
              "    }\n",
              "\n",
              "    .colab-df-convert {\n",
              "      background-color: #E8F0FE;\n",
              "      border: none;\n",
              "      border-radius: 50%;\n",
              "      cursor: pointer;\n",
              "      display: none;\n",
              "      fill: #1967D2;\n",
              "      height: 32px;\n",
              "      padding: 0 0 0 0;\n",
              "      width: 32px;\n",
              "    }\n",
              "\n",
              "    .colab-df-convert:hover {\n",
              "      background-color: #E2EBFA;\n",
              "      box-shadow: 0px 1px 2px rgba(60, 64, 67, 0.3), 0px 1px 3px 1px rgba(60, 64, 67, 0.15);\n",
              "      fill: #174EA6;\n",
              "    }\n",
              "\n",
              "    [theme=dark] .colab-df-convert {\n",
              "      background-color: #3B4455;\n",
              "      fill: #D2E3FC;\n",
              "    }\n",
              "\n",
              "    [theme=dark] .colab-df-convert:hover {\n",
              "      background-color: #434B5C;\n",
              "      box-shadow: 0px 1px 3px 1px rgba(0, 0, 0, 0.15);\n",
              "      filter: drop-shadow(0px 1px 2px rgba(0, 0, 0, 0.3));\n",
              "      fill: #FFFFFF;\n",
              "    }\n",
              "  </style>\n",
              "\n",
              "      <script>\n",
              "        const buttonEl =\n",
              "          document.querySelector('#df-c75a44e9-efa3-4b1f-b7b3-b064ff9b918d button.colab-df-convert');\n",
              "        buttonEl.style.display =\n",
              "          google.colab.kernel.accessAllowed ? 'block' : 'none';\n",
              "\n",
              "        async function convertToInteractive(key) {\n",
              "          const element = document.querySelector('#df-c75a44e9-efa3-4b1f-b7b3-b064ff9b918d');\n",
              "          const dataTable =\n",
              "            await google.colab.kernel.invokeFunction('convertToInteractive',\n",
              "                                                     [key], {});\n",
              "          if (!dataTable) return;\n",
              "\n",
              "          const docLinkHtml = 'Like what you see? Visit the ' +\n",
              "            '<a target=\"_blank\" href=https://colab.research.google.com/notebooks/data_table.ipynb>data table notebook</a>'\n",
              "            + ' to learn more about interactive tables.';\n",
              "          element.innerHTML = '';\n",
              "          dataTable['output_type'] = 'display_data';\n",
              "          await google.colab.output.renderOutput(dataTable, element);\n",
              "          const docLink = document.createElement('div');\n",
              "          docLink.innerHTML = docLinkHtml;\n",
              "          element.appendChild(docLink);\n",
              "        }\n",
              "      </script>\n",
              "    </div>\n",
              "  </div>\n",
              "  "
            ],
            "text/plain": [
              "                    n_rows  pct_rows  ...  pct_transactions  median_revenue\n",
              "geoNetwork.country                    ...                                  \n",
              "Canada                2568  0.028455  ...          0.008178          34.480\n",
              "Turkey                2069  0.022925  ...          0.000483          17.460\n",
              "United Kingdom        3776  0.041840  ...          0.000265         277.530\n",
              "Germany               1998  0.022139  ...          0.000501          68.980\n",
              "United States        36452  0.403905  ...          0.030780          49.995\n",
              "India                 5109  0.056610  ...          0.000391          26.020\n",
              "Sweden                 523  0.005795  ...          0.001912          62.600\n",
              "Singapore              723  0.008011  ...          0.002766         128.540\n",
              "Others               37031  0.410320  ...          0.000702          55.470\n",
              "\n",
              "[9 rows x 5 columns]"
            ]
          },
          "metadata": {},
          "execution_count": 134
        }
      ]
    },
    {
      "cell_type": "markdown",
      "source": [
        "## Ciudad"
      ],
      "metadata": {
        "id": "GM6IpEtqkuJ4"
      }
    },
    {
      "cell_type": "code",
      "source": [
        "explore_cat_values(df, 'geoNetwork.city',TARGET)"
      ],
      "metadata": {
        "colab": {
          "base_uri": "https://localhost:8080/",
          "height": 1000
        },
        "id": "t6EvUyYalB0o",
        "outputId": "aee11839-6fe4-4cc5-d8a7-83c6b216c15f"
      },
      "execution_count": null,
      "outputs": [
        {
          "output_type": "execute_result",
          "data": {
            "text/html": [
              "\n",
              "  <div id=\"df-2b89779b-faca-4d20-926c-e9ff38d182e2\">\n",
              "    <div class=\"colab-df-container\">\n",
              "      <div>\n",
              "<style scoped>\n",
              "    .dataframe tbody tr th:only-of-type {\n",
              "        vertical-align: middle;\n",
              "    }\n",
              "\n",
              "    .dataframe tbody tr th {\n",
              "        vertical-align: top;\n",
              "    }\n",
              "\n",
              "    .dataframe thead th {\n",
              "        text-align: right;\n",
              "    }\n",
              "</style>\n",
              "<table border=\"1\" class=\"dataframe\">\n",
              "  <thead>\n",
              "    <tr style=\"text-align: right;\">\n",
              "      <th></th>\n",
              "      <th>n_rows</th>\n",
              "      <th>pct_rows</th>\n",
              "      <th>transactions</th>\n",
              "      <th>pct_transactions</th>\n",
              "      <th>median_revenue</th>\n",
              "    </tr>\n",
              "    <tr>\n",
              "      <th>geoNetwork.city</th>\n",
              "      <th></th>\n",
              "      <th></th>\n",
              "      <th></th>\n",
              "      <th></th>\n",
              "      <th></th>\n",
              "    </tr>\n",
              "  </thead>\n",
              "  <tbody>\n",
              "    <tr>\n",
              "      <th>(not set)</th>\n",
              "      <td>3402</td>\n",
              "      <td>0.037696</td>\n",
              "      <td>3</td>\n",
              "      <td>0.000882</td>\n",
              "      <td>79.930</td>\n",
              "    </tr>\n",
              "    <tr>\n",
              "      <th>Ahmedabad</th>\n",
              "      <td>96</td>\n",
              "      <td>0.001064</td>\n",
              "      <td>1</td>\n",
              "      <td>0.010417</td>\n",
              "      <td>23.430</td>\n",
              "    </tr>\n",
              "    <tr>\n",
              "      <th>Ann Arbor</th>\n",
              "      <td>233</td>\n",
              "      <td>0.002582</td>\n",
              "      <td>22</td>\n",
              "      <td>0.094421</td>\n",
              "      <td>39.980</td>\n",
              "    </tr>\n",
              "    <tr>\n",
              "      <th>Atlanta</th>\n",
              "      <td>220</td>\n",
              "      <td>0.002438</td>\n",
              "      <td>10</td>\n",
              "      <td>0.045455</td>\n",
              "      <td>60.380</td>\n",
              "    </tr>\n",
              "    <tr>\n",
              "      <th>Atwater</th>\n",
              "      <td>1</td>\n",
              "      <td>0.000011</td>\n",
              "      <td>1</td>\n",
              "      <td>1.000000</td>\n",
              "      <td>31.890</td>\n",
              "    </tr>\n",
              "    <tr>\n",
              "      <th>Austin</th>\n",
              "      <td>377</td>\n",
              "      <td>0.004177</td>\n",
              "      <td>18</td>\n",
              "      <td>0.047745</td>\n",
              "      <td>62.710</td>\n",
              "    </tr>\n",
              "    <tr>\n",
              "      <th>Berkeley</th>\n",
              "      <td>6</td>\n",
              "      <td>0.000066</td>\n",
              "      <td>1</td>\n",
              "      <td>0.166667</td>\n",
              "      <td>89.970</td>\n",
              "    </tr>\n",
              "    <tr>\n",
              "      <th>Boulder</th>\n",
              "      <td>49</td>\n",
              "      <td>0.000543</td>\n",
              "      <td>6</td>\n",
              "      <td>0.122449</td>\n",
              "      <td>37.585</td>\n",
              "    </tr>\n",
              "    <tr>\n",
              "      <th>Bucharest</th>\n",
              "      <td>151</td>\n",
              "      <td>0.001673</td>\n",
              "      <td>1</td>\n",
              "      <td>0.006623</td>\n",
              "      <td>75.960</td>\n",
              "    </tr>\n",
              "    <tr>\n",
              "      <th>Cambridge</th>\n",
              "      <td>151</td>\n",
              "      <td>0.001673</td>\n",
              "      <td>11</td>\n",
              "      <td>0.072848</td>\n",
              "      <td>42.370</td>\n",
              "    </tr>\n",
              "    <tr>\n",
              "      <th>Charlotte</th>\n",
              "      <td>63</td>\n",
              "      <td>0.000698</td>\n",
              "      <td>1</td>\n",
              "      <td>0.015873</td>\n",
              "      <td>389.460</td>\n",
              "    </tr>\n",
              "    <tr>\n",
              "      <th>Chicago</th>\n",
              "      <td>780</td>\n",
              "      <td>0.008643</td>\n",
              "      <td>51</td>\n",
              "      <td>0.065385</td>\n",
              "      <td>100.350</td>\n",
              "    </tr>\n",
              "    <tr>\n",
              "      <th>Council Bluffs</th>\n",
              "      <td>7</td>\n",
              "      <td>0.000078</td>\n",
              "      <td>1</td>\n",
              "      <td>0.142857</td>\n",
              "      <td>51.930</td>\n",
              "    </tr>\n",
              "    <tr>\n",
              "      <th>Cupertino</th>\n",
              "      <td>71</td>\n",
              "      <td>0.000787</td>\n",
              "      <td>2</td>\n",
              "      <td>0.028169</td>\n",
              "      <td>46.840</td>\n",
              "    </tr>\n",
              "    <tr>\n",
              "      <th>Dallas</th>\n",
              "      <td>180</td>\n",
              "      <td>0.001994</td>\n",
              "      <td>3</td>\n",
              "      <td>0.016667</td>\n",
              "      <td>111.980</td>\n",
              "    </tr>\n",
              "    <tr>\n",
              "      <th>Denver</th>\n",
              "      <td>46</td>\n",
              "      <td>0.000510</td>\n",
              "      <td>1</td>\n",
              "      <td>0.021739</td>\n",
              "      <td>56.970</td>\n",
              "    </tr>\n",
              "    <tr>\n",
              "      <th>Dublin</th>\n",
              "      <td>467</td>\n",
              "      <td>0.005175</td>\n",
              "      <td>1</td>\n",
              "      <td>0.002141</td>\n",
              "      <td>9.990</td>\n",
              "    </tr>\n",
              "    <tr>\n",
              "      <th>Fort Collins</th>\n",
              "      <td>2</td>\n",
              "      <td>0.000022</td>\n",
              "      <td>1</td>\n",
              "      <td>0.500000</td>\n",
              "      <td>794.560</td>\n",
              "    </tr>\n",
              "    <tr>\n",
              "      <th>Fremont</th>\n",
              "      <td>84</td>\n",
              "      <td>0.000931</td>\n",
              "      <td>2</td>\n",
              "      <td>0.023810</td>\n",
              "      <td>21.280</td>\n",
              "    </tr>\n",
              "    <tr>\n",
              "      <th>Hong Kong</th>\n",
              "      <td>339</td>\n",
              "      <td>0.003756</td>\n",
              "      <td>3</td>\n",
              "      <td>0.008850</td>\n",
              "      <td>54.970</td>\n",
              "    </tr>\n",
              "    <tr>\n",
              "      <th>Houston</th>\n",
              "      <td>271</td>\n",
              "      <td>0.003003</td>\n",
              "      <td>9</td>\n",
              "      <td>0.033210</td>\n",
              "      <td>82.200</td>\n",
              "    </tr>\n",
              "    <tr>\n",
              "      <th>Irvine</th>\n",
              "      <td>92</td>\n",
              "      <td>0.001019</td>\n",
              "      <td>3</td>\n",
              "      <td>0.032609</td>\n",
              "      <td>86.340</td>\n",
              "    </tr>\n",
              "    <tr>\n",
              "      <th>Istanbul</th>\n",
              "      <td>608</td>\n",
              "      <td>0.006737</td>\n",
              "      <td>1</td>\n",
              "      <td>0.001645</td>\n",
              "      <td>17.460</td>\n",
              "    </tr>\n",
              "    <tr>\n",
              "      <th>Kirkland</th>\n",
              "      <td>237</td>\n",
              "      <td>0.002626</td>\n",
              "      <td>12</td>\n",
              "      <td>0.050633</td>\n",
              "      <td>41.990</td>\n",
              "    </tr>\n",
              "    <tr>\n",
              "      <th>Kuala Lumpur</th>\n",
              "      <td>227</td>\n",
              "      <td>0.002515</td>\n",
              "      <td>1</td>\n",
              "      <td>0.004405</td>\n",
              "      <td>32.000</td>\n",
              "    </tr>\n",
              "    <tr>\n",
              "      <th>London</th>\n",
              "      <td>1261</td>\n",
              "      <td>0.013972</td>\n",
              "      <td>1</td>\n",
              "      <td>0.000793</td>\n",
              "      <td>277.530</td>\n",
              "    </tr>\n",
              "    <tr>\n",
              "      <th>Los Angeles</th>\n",
              "      <td>896</td>\n",
              "      <td>0.009928</td>\n",
              "      <td>35</td>\n",
              "      <td>0.039062</td>\n",
              "      <td>44.790</td>\n",
              "    </tr>\n",
              "    <tr>\n",
              "      <th>Maracaibo</th>\n",
              "      <td>22</td>\n",
              "      <td>0.000244</td>\n",
              "      <td>4</td>\n",
              "      <td>0.181818</td>\n",
              "      <td>198.965</td>\n",
              "    </tr>\n",
              "    <tr>\n",
              "      <th>Menlo Park</th>\n",
              "      <td>7</td>\n",
              "      <td>0.000078</td>\n",
              "      <td>1</td>\n",
              "      <td>0.142857</td>\n",
              "      <td>74.380</td>\n",
              "    </tr>\n",
              "    <tr>\n",
              "      <th>Milpitas</th>\n",
              "      <td>54</td>\n",
              "      <td>0.000598</td>\n",
              "      <td>1</td>\n",
              "      <td>0.018519</td>\n",
              "      <td>106.360</td>\n",
              "    </tr>\n",
              "    <tr>\n",
              "      <th>Minneapolis</th>\n",
              "      <td>14</td>\n",
              "      <td>0.000155</td>\n",
              "      <td>1</td>\n",
              "      <td>0.071429</td>\n",
              "      <td>28.980</td>\n",
              "    </tr>\n",
              "    <tr>\n",
              "      <th>Montreal</th>\n",
              "      <td>220</td>\n",
              "      <td>0.002438</td>\n",
              "      <td>2</td>\n",
              "      <td>0.009091</td>\n",
              "      <td>66.710</td>\n",
              "    </tr>\n",
              "    <tr>\n",
              "      <th>Mountain View</th>\n",
              "      <td>4095</td>\n",
              "      <td>0.045374</td>\n",
              "      <td>106</td>\n",
              "      <td>0.025885</td>\n",
              "      <td>56.465</td>\n",
              "    </tr>\n",
              "    <tr>\n",
              "      <th>New York</th>\n",
              "      <td>2593</td>\n",
              "      <td>0.028732</td>\n",
              "      <td>158</td>\n",
              "      <td>0.060933</td>\n",
              "      <td>49.665</td>\n",
              "    </tr>\n",
              "    <tr>\n",
              "      <th>Oakland</th>\n",
              "      <td>35</td>\n",
              "      <td>0.000388</td>\n",
              "      <td>2</td>\n",
              "      <td>0.057143</td>\n",
              "      <td>179.090</td>\n",
              "    </tr>\n",
              "    <tr>\n",
              "      <th>Palo Alto</th>\n",
              "      <td>295</td>\n",
              "      <td>0.003269</td>\n",
              "      <td>5</td>\n",
              "      <td>0.016949</td>\n",
              "      <td>59.950</td>\n",
              "    </tr>\n",
              "    <tr>\n",
              "      <th>Phoenix</th>\n",
              "      <td>52</td>\n",
              "      <td>0.000576</td>\n",
              "      <td>2</td>\n",
              "      <td>0.038462</td>\n",
              "      <td>496.345</td>\n",
              "    </tr>\n",
              "    <tr>\n",
              "      <th>Pittsburgh</th>\n",
              "      <td>105</td>\n",
              "      <td>0.001163</td>\n",
              "      <td>2</td>\n",
              "      <td>0.019048</td>\n",
              "      <td>26.495</td>\n",
              "    </tr>\n",
              "    <tr>\n",
              "      <th>Redwood City</th>\n",
              "      <td>29</td>\n",
              "      <td>0.000321</td>\n",
              "      <td>1</td>\n",
              "      <td>0.034483</td>\n",
              "      <td>98.240</td>\n",
              "    </tr>\n",
              "    <tr>\n",
              "      <th>Rio de Janeiro</th>\n",
              "      <td>61</td>\n",
              "      <td>0.000676</td>\n",
              "      <td>1</td>\n",
              "      <td>0.016393</td>\n",
              "      <td>37.980</td>\n",
              "    </tr>\n",
              "    <tr>\n",
              "      <th>Salem</th>\n",
              "      <td>233</td>\n",
              "      <td>0.002582</td>\n",
              "      <td>7</td>\n",
              "      <td>0.030043</td>\n",
              "      <td>41.990</td>\n",
              "    </tr>\n",
              "    <tr>\n",
              "      <th>San Antonio</th>\n",
              "      <td>47</td>\n",
              "      <td>0.000521</td>\n",
              "      <td>2</td>\n",
              "      <td>0.042553</td>\n",
              "      <td>38.820</td>\n",
              "    </tr>\n",
              "    <tr>\n",
              "      <th>San Bruno</th>\n",
              "      <td>146</td>\n",
              "      <td>0.001618</td>\n",
              "      <td>12</td>\n",
              "      <td>0.082192</td>\n",
              "      <td>43.625</td>\n",
              "    </tr>\n",
              "    <tr>\n",
              "      <th>San Diego</th>\n",
              "      <td>145</td>\n",
              "      <td>0.001607</td>\n",
              "      <td>3</td>\n",
              "      <td>0.020690</td>\n",
              "      <td>199.900</td>\n",
              "    </tr>\n",
              "    <tr>\n",
              "      <th>San Francisco</th>\n",
              "      <td>2110</td>\n",
              "      <td>0.023380</td>\n",
              "      <td>70</td>\n",
              "      <td>0.033175</td>\n",
              "      <td>59.575</td>\n",
              "    </tr>\n",
              "    <tr>\n",
              "      <th>San Jose</th>\n",
              "      <td>982</td>\n",
              "      <td>0.010881</td>\n",
              "      <td>20</td>\n",
              "      <td>0.020367</td>\n",
              "      <td>62.420</td>\n",
              "    </tr>\n",
              "    <tr>\n",
              "      <th>San Mateo</th>\n",
              "      <td>31</td>\n",
              "      <td>0.000343</td>\n",
              "      <td>2</td>\n",
              "      <td>0.064516</td>\n",
              "      <td>52.120</td>\n",
              "    </tr>\n",
              "    <tr>\n",
              "      <th>Santa Clara</th>\n",
              "      <td>348</td>\n",
              "      <td>0.003856</td>\n",
              "      <td>6</td>\n",
              "      <td>0.017241</td>\n",
              "      <td>47.990</td>\n",
              "    </tr>\n",
              "    <tr>\n",
              "      <th>Sao Paulo</th>\n",
              "      <td>389</td>\n",
              "      <td>0.004310</td>\n",
              "      <td>1</td>\n",
              "      <td>0.002571</td>\n",
              "      <td>2.160</td>\n",
              "    </tr>\n",
              "    <tr>\n",
              "      <th>Seattle</th>\n",
              "      <td>492</td>\n",
              "      <td>0.005452</td>\n",
              "      <td>26</td>\n",
              "      <td>0.052846</td>\n",
              "      <td>64.005</td>\n",
              "    </tr>\n",
              "    <tr>\n",
              "      <th>Singapore</th>\n",
              "      <td>330</td>\n",
              "      <td>0.003657</td>\n",
              "      <td>1</td>\n",
              "      <td>0.003030</td>\n",
              "      <td>127.120</td>\n",
              "    </tr>\n",
              "    <tr>\n",
              "      <th>Stockholm</th>\n",
              "      <td>124</td>\n",
              "      <td>0.001374</td>\n",
              "      <td>1</td>\n",
              "      <td>0.008065</td>\n",
              "      <td>62.600</td>\n",
              "    </tr>\n",
              "    <tr>\n",
              "      <th>Sunnyvale</th>\n",
              "      <td>1317</td>\n",
              "      <td>0.014593</td>\n",
              "      <td>41</td>\n",
              "      <td>0.031131</td>\n",
              "      <td>36.580</td>\n",
              "    </tr>\n",
              "    <tr>\n",
              "      <th>Tel Aviv-Yafo</th>\n",
              "      <td>360</td>\n",
              "      <td>0.003989</td>\n",
              "      <td>1</td>\n",
              "      <td>0.002778</td>\n",
              "      <td>18.990</td>\n",
              "    </tr>\n",
              "    <tr>\n",
              "      <th>Tigard</th>\n",
              "      <td>3</td>\n",
              "      <td>0.000033</td>\n",
              "      <td>1</td>\n",
              "      <td>0.333333</td>\n",
              "      <td>10.990</td>\n",
              "    </tr>\n",
              "    <tr>\n",
              "      <th>Toronto</th>\n",
              "      <td>516</td>\n",
              "      <td>0.005718</td>\n",
              "      <td>6</td>\n",
              "      <td>0.011628</td>\n",
              "      <td>74.765</td>\n",
              "    </tr>\n",
              "    <tr>\n",
              "      <th>Washington</th>\n",
              "      <td>253</td>\n",
              "      <td>0.002803</td>\n",
              "      <td>8</td>\n",
              "      <td>0.031621</td>\n",
              "      <td>103.940</td>\n",
              "    </tr>\n",
              "    <tr>\n",
              "      <th>not available in demo dataset</th>\n",
              "      <td>50610</td>\n",
              "      <td>0.560782</td>\n",
              "      <td>481</td>\n",
              "      <td>0.009504</td>\n",
              "      <td>42.950</td>\n",
              "    </tr>\n",
              "  </tbody>\n",
              "</table>\n",
              "</div>\n",
              "      <button class=\"colab-df-convert\" onclick=\"convertToInteractive('df-2b89779b-faca-4d20-926c-e9ff38d182e2')\"\n",
              "              title=\"Convert this dataframe to an interactive table.\"\n",
              "              style=\"display:none;\">\n",
              "        \n",
              "  <svg xmlns=\"http://www.w3.org/2000/svg\" height=\"24px\"viewBox=\"0 0 24 24\"\n",
              "       width=\"24px\">\n",
              "    <path d=\"M0 0h24v24H0V0z\" fill=\"none\"/>\n",
              "    <path d=\"M18.56 5.44l.94 2.06.94-2.06 2.06-.94-2.06-.94-.94-2.06-.94 2.06-2.06.94zm-11 1L8.5 8.5l.94-2.06 2.06-.94-2.06-.94L8.5 2.5l-.94 2.06-2.06.94zm10 10l.94 2.06.94-2.06 2.06-.94-2.06-.94-.94-2.06-.94 2.06-2.06.94z\"/><path d=\"M17.41 7.96l-1.37-1.37c-.4-.4-.92-.59-1.43-.59-.52 0-1.04.2-1.43.59L10.3 9.45l-7.72 7.72c-.78.78-.78 2.05 0 2.83L4 21.41c.39.39.9.59 1.41.59.51 0 1.02-.2 1.41-.59l7.78-7.78 2.81-2.81c.8-.78.8-2.07 0-2.86zM5.41 20L4 18.59l7.72-7.72 1.47 1.35L5.41 20z\"/>\n",
              "  </svg>\n",
              "      </button>\n",
              "      \n",
              "  <style>\n",
              "    .colab-df-container {\n",
              "      display:flex;\n",
              "      flex-wrap:wrap;\n",
              "      gap: 12px;\n",
              "    }\n",
              "\n",
              "    .colab-df-convert {\n",
              "      background-color: #E8F0FE;\n",
              "      border: none;\n",
              "      border-radius: 50%;\n",
              "      cursor: pointer;\n",
              "      display: none;\n",
              "      fill: #1967D2;\n",
              "      height: 32px;\n",
              "      padding: 0 0 0 0;\n",
              "      width: 32px;\n",
              "    }\n",
              "\n",
              "    .colab-df-convert:hover {\n",
              "      background-color: #E2EBFA;\n",
              "      box-shadow: 0px 1px 2px rgba(60, 64, 67, 0.3), 0px 1px 3px 1px rgba(60, 64, 67, 0.15);\n",
              "      fill: #174EA6;\n",
              "    }\n",
              "\n",
              "    [theme=dark] .colab-df-convert {\n",
              "      background-color: #3B4455;\n",
              "      fill: #D2E3FC;\n",
              "    }\n",
              "\n",
              "    [theme=dark] .colab-df-convert:hover {\n",
              "      background-color: #434B5C;\n",
              "      box-shadow: 0px 1px 3px 1px rgba(0, 0, 0, 0.15);\n",
              "      filter: drop-shadow(0px 1px 2px rgba(0, 0, 0, 0.3));\n",
              "      fill: #FFFFFF;\n",
              "    }\n",
              "  </style>\n",
              "\n",
              "      <script>\n",
              "        const buttonEl =\n",
              "          document.querySelector('#df-2b89779b-faca-4d20-926c-e9ff38d182e2 button.colab-df-convert');\n",
              "        buttonEl.style.display =\n",
              "          google.colab.kernel.accessAllowed ? 'block' : 'none';\n",
              "\n",
              "        async function convertToInteractive(key) {\n",
              "          const element = document.querySelector('#df-2b89779b-faca-4d20-926c-e9ff38d182e2');\n",
              "          const dataTable =\n",
              "            await google.colab.kernel.invokeFunction('convertToInteractive',\n",
              "                                                     [key], {});\n",
              "          if (!dataTable) return;\n",
              "\n",
              "          const docLinkHtml = 'Like what you see? Visit the ' +\n",
              "            '<a target=\"_blank\" href=https://colab.research.google.com/notebooks/data_table.ipynb>data table notebook</a>'\n",
              "            + ' to learn more about interactive tables.';\n",
              "          element.innerHTML = '';\n",
              "          dataTable['output_type'] = 'display_data';\n",
              "          await google.colab.output.renderOutput(dataTable, element);\n",
              "          const docLink = document.createElement('div');\n",
              "          docLink.innerHTML = docLinkHtml;\n",
              "          element.appendChild(docLink);\n",
              "        }\n",
              "      </script>\n",
              "    </div>\n",
              "  </div>\n",
              "  "
            ],
            "text/plain": [
              "                               n_rows  ...  median_revenue\n",
              "geoNetwork.city                        ...                \n",
              "(not set)                        3402  ...          79.930\n",
              "Ahmedabad                          96  ...          23.430\n",
              "Ann Arbor                         233  ...          39.980\n",
              "Atlanta                           220  ...          60.380\n",
              "Atwater                             1  ...          31.890\n",
              "Austin                            377  ...          62.710\n",
              "Berkeley                            6  ...          89.970\n",
              "Boulder                            49  ...          37.585\n",
              "Bucharest                         151  ...          75.960\n",
              "Cambridge                         151  ...          42.370\n",
              "Charlotte                          63  ...         389.460\n",
              "Chicago                           780  ...         100.350\n",
              "Council Bluffs                      7  ...          51.930\n",
              "Cupertino                          71  ...          46.840\n",
              "Dallas                            180  ...         111.980\n",
              "Denver                             46  ...          56.970\n",
              "Dublin                            467  ...           9.990\n",
              "Fort Collins                        2  ...         794.560\n",
              "Fremont                            84  ...          21.280\n",
              "Hong Kong                         339  ...          54.970\n",
              "Houston                           271  ...          82.200\n",
              "Irvine                             92  ...          86.340\n",
              "Istanbul                          608  ...          17.460\n",
              "Kirkland                          237  ...          41.990\n",
              "Kuala Lumpur                      227  ...          32.000\n",
              "London                           1261  ...         277.530\n",
              "Los Angeles                       896  ...          44.790\n",
              "Maracaibo                          22  ...         198.965\n",
              "Menlo Park                          7  ...          74.380\n",
              "Milpitas                           54  ...         106.360\n",
              "Minneapolis                        14  ...          28.980\n",
              "Montreal                          220  ...          66.710\n",
              "Mountain View                    4095  ...          56.465\n",
              "New York                         2593  ...          49.665\n",
              "Oakland                            35  ...         179.090\n",
              "Palo Alto                         295  ...          59.950\n",
              "Phoenix                            52  ...         496.345\n",
              "Pittsburgh                        105  ...          26.495\n",
              "Redwood City                       29  ...          98.240\n",
              "Rio de Janeiro                     61  ...          37.980\n",
              "Salem                             233  ...          41.990\n",
              "San Antonio                        47  ...          38.820\n",
              "San Bruno                         146  ...          43.625\n",
              "San Diego                         145  ...         199.900\n",
              "San Francisco                    2110  ...          59.575\n",
              "San Jose                          982  ...          62.420\n",
              "San Mateo                          31  ...          52.120\n",
              "Santa Clara                       348  ...          47.990\n",
              "Sao Paulo                         389  ...           2.160\n",
              "Seattle                           492  ...          64.005\n",
              "Singapore                         330  ...         127.120\n",
              "Stockholm                         124  ...          62.600\n",
              "Sunnyvale                        1317  ...          36.580\n",
              "Tel Aviv-Yafo                     360  ...          18.990\n",
              "Tigard                              3  ...          10.990\n",
              "Toronto                           516  ...          74.765\n",
              "Washington                        253  ...         103.940\n",
              "not available in demo dataset   50610  ...          42.950\n",
              "\n",
              "[58 rows x 5 columns]"
            ]
          },
          "metadata": {},
          "execution_count": 135
        }
      ]
    },
    {
      "cell_type": "code",
      "source": [
        "df[['geoNetwork.city']].nunique()"
      ],
      "metadata": {
        "colab": {
          "base_uri": "https://localhost:8080/"
        },
        "id": "PAeb0RoVlErl",
        "outputId": "47d40773-ebb6-434f-f505-e7bebe6af46f"
      },
      "execution_count": null,
      "outputs": [
        {
          "output_type": "execute_result",
          "data": {
            "text/plain": [
              "geoNetwork.city    546\n",
              "dtype: int64"
            ]
          },
          "metadata": {},
          "execution_count": 136
        }
      ]
    },
    {
      "cell_type": "code",
      "source": [
        "df['geoNetwork.city'] = set_Other_PataNegra(df,'geoNetwork.city',TARGET, 300,8)"
      ],
      "metadata": {
        "id": "w7CNSe6tlLiv"
      },
      "execution_count": null,
      "outputs": []
    },
    {
      "cell_type": "code",
      "source": [
        "explore_cat_values(df, 'geoNetwork.city',TARGET)"
      ],
      "metadata": {
        "colab": {
          "base_uri": "https://localhost:8080/",
          "height": 613
        },
        "id": "FDQrnp2UliNS",
        "outputId": "d7e899a0-c632-402e-89f7-020f4853e7e1"
      },
      "execution_count": null,
      "outputs": [
        {
          "output_type": "execute_result",
          "data": {
            "text/html": [
              "\n",
              "  <div id=\"df-aab06896-c1fe-4545-90e7-1ccf508aa268\">\n",
              "    <div class=\"colab-df-container\">\n",
              "      <div>\n",
              "<style scoped>\n",
              "    .dataframe tbody tr th:only-of-type {\n",
              "        vertical-align: middle;\n",
              "    }\n",
              "\n",
              "    .dataframe tbody tr th {\n",
              "        vertical-align: top;\n",
              "    }\n",
              "\n",
              "    .dataframe thead th {\n",
              "        text-align: right;\n",
              "    }\n",
              "</style>\n",
              "<table border=\"1\" class=\"dataframe\">\n",
              "  <thead>\n",
              "    <tr style=\"text-align: right;\">\n",
              "      <th></th>\n",
              "      <th>n_rows</th>\n",
              "      <th>pct_rows</th>\n",
              "      <th>transactions</th>\n",
              "      <th>pct_transactions</th>\n",
              "      <th>median_revenue</th>\n",
              "    </tr>\n",
              "    <tr>\n",
              "      <th>geoNetwork.city</th>\n",
              "      <th></th>\n",
              "      <th></th>\n",
              "      <th></th>\n",
              "      <th></th>\n",
              "      <th></th>\n",
              "    </tr>\n",
              "  </thead>\n",
              "  <tbody>\n",
              "    <tr>\n",
              "      <th>Sunnyvale</th>\n",
              "      <td>1317</td>\n",
              "      <td>0.014593</td>\n",
              "      <td>41</td>\n",
              "      <td>0.031131</td>\n",
              "      <td>36.580</td>\n",
              "    </tr>\n",
              "    <tr>\n",
              "      <th>Chicago</th>\n",
              "      <td>780</td>\n",
              "      <td>0.008643</td>\n",
              "      <td>51</td>\n",
              "      <td>0.065385</td>\n",
              "      <td>100.350</td>\n",
              "    </tr>\n",
              "    <tr>\n",
              "      <th>Mountain View</th>\n",
              "      <td>4095</td>\n",
              "      <td>0.045374</td>\n",
              "      <td>106</td>\n",
              "      <td>0.025885</td>\n",
              "      <td>56.465</td>\n",
              "    </tr>\n",
              "    <tr>\n",
              "      <th>Los Angeles</th>\n",
              "      <td>896</td>\n",
              "      <td>0.009928</td>\n",
              "      <td>35</td>\n",
              "      <td>0.039062</td>\n",
              "      <td>44.790</td>\n",
              "    </tr>\n",
              "    <tr>\n",
              "      <th>New York</th>\n",
              "      <td>2593</td>\n",
              "      <td>0.028732</td>\n",
              "      <td>158</td>\n",
              "      <td>0.060933</td>\n",
              "      <td>49.665</td>\n",
              "    </tr>\n",
              "    <tr>\n",
              "      <th>Sao Paulo</th>\n",
              "      <td>389</td>\n",
              "      <td>0.004310</td>\n",
              "      <td>1</td>\n",
              "      <td>0.002571</td>\n",
              "      <td>2.160</td>\n",
              "    </tr>\n",
              "    <tr>\n",
              "      <th>Tel Aviv-Yafo</th>\n",
              "      <td>360</td>\n",
              "      <td>0.003989</td>\n",
              "      <td>1</td>\n",
              "      <td>0.002778</td>\n",
              "      <td>18.990</td>\n",
              "    </tr>\n",
              "    <tr>\n",
              "      <th>Hong Kong</th>\n",
              "      <td>339</td>\n",
              "      <td>0.003756</td>\n",
              "      <td>3</td>\n",
              "      <td>0.008850</td>\n",
              "      <td>54.970</td>\n",
              "    </tr>\n",
              "    <tr>\n",
              "      <th>Seattle</th>\n",
              "      <td>492</td>\n",
              "      <td>0.005452</td>\n",
              "      <td>26</td>\n",
              "      <td>0.052846</td>\n",
              "      <td>64.005</td>\n",
              "    </tr>\n",
              "    <tr>\n",
              "      <th>Istanbul</th>\n",
              "      <td>608</td>\n",
              "      <td>0.006737</td>\n",
              "      <td>1</td>\n",
              "      <td>0.001645</td>\n",
              "      <td>17.460</td>\n",
              "    </tr>\n",
              "    <tr>\n",
              "      <th>Austin</th>\n",
              "      <td>377</td>\n",
              "      <td>0.004177</td>\n",
              "      <td>18</td>\n",
              "      <td>0.047745</td>\n",
              "      <td>62.710</td>\n",
              "    </tr>\n",
              "    <tr>\n",
              "      <th>London</th>\n",
              "      <td>1261</td>\n",
              "      <td>0.013972</td>\n",
              "      <td>1</td>\n",
              "      <td>0.000793</td>\n",
              "      <td>277.530</td>\n",
              "    </tr>\n",
              "    <tr>\n",
              "      <th>Dublin</th>\n",
              "      <td>467</td>\n",
              "      <td>0.005175</td>\n",
              "      <td>1</td>\n",
              "      <td>0.002141</td>\n",
              "      <td>9.990</td>\n",
              "    </tr>\n",
              "    <tr>\n",
              "      <th>(not set)</th>\n",
              "      <td>3402</td>\n",
              "      <td>0.037696</td>\n",
              "      <td>3</td>\n",
              "      <td>0.000882</td>\n",
              "      <td>79.930</td>\n",
              "    </tr>\n",
              "    <tr>\n",
              "      <th>San Francisco</th>\n",
              "      <td>2110</td>\n",
              "      <td>0.023380</td>\n",
              "      <td>70</td>\n",
              "      <td>0.033175</td>\n",
              "      <td>59.575</td>\n",
              "    </tr>\n",
              "    <tr>\n",
              "      <th>Singapore</th>\n",
              "      <td>330</td>\n",
              "      <td>0.003657</td>\n",
              "      <td>1</td>\n",
              "      <td>0.003030</td>\n",
              "      <td>127.120</td>\n",
              "    </tr>\n",
              "    <tr>\n",
              "      <th>Others</th>\n",
              "      <td>70433</td>\n",
              "      <td>0.780430</td>\n",
              "      <td>660</td>\n",
              "      <td>0.009371</td>\n",
              "      <td>45.570</td>\n",
              "    </tr>\n",
              "  </tbody>\n",
              "</table>\n",
              "</div>\n",
              "      <button class=\"colab-df-convert\" onclick=\"convertToInteractive('df-aab06896-c1fe-4545-90e7-1ccf508aa268')\"\n",
              "              title=\"Convert this dataframe to an interactive table.\"\n",
              "              style=\"display:none;\">\n",
              "        \n",
              "  <svg xmlns=\"http://www.w3.org/2000/svg\" height=\"24px\"viewBox=\"0 0 24 24\"\n",
              "       width=\"24px\">\n",
              "    <path d=\"M0 0h24v24H0V0z\" fill=\"none\"/>\n",
              "    <path d=\"M18.56 5.44l.94 2.06.94-2.06 2.06-.94-2.06-.94-.94-2.06-.94 2.06-2.06.94zm-11 1L8.5 8.5l.94-2.06 2.06-.94-2.06-.94L8.5 2.5l-.94 2.06-2.06.94zm10 10l.94 2.06.94-2.06 2.06-.94-2.06-.94-.94-2.06-.94 2.06-2.06.94z\"/><path d=\"M17.41 7.96l-1.37-1.37c-.4-.4-.92-.59-1.43-.59-.52 0-1.04.2-1.43.59L10.3 9.45l-7.72 7.72c-.78.78-.78 2.05 0 2.83L4 21.41c.39.39.9.59 1.41.59.51 0 1.02-.2 1.41-.59l7.78-7.78 2.81-2.81c.8-.78.8-2.07 0-2.86zM5.41 20L4 18.59l7.72-7.72 1.47 1.35L5.41 20z\"/>\n",
              "  </svg>\n",
              "      </button>\n",
              "      \n",
              "  <style>\n",
              "    .colab-df-container {\n",
              "      display:flex;\n",
              "      flex-wrap:wrap;\n",
              "      gap: 12px;\n",
              "    }\n",
              "\n",
              "    .colab-df-convert {\n",
              "      background-color: #E8F0FE;\n",
              "      border: none;\n",
              "      border-radius: 50%;\n",
              "      cursor: pointer;\n",
              "      display: none;\n",
              "      fill: #1967D2;\n",
              "      height: 32px;\n",
              "      padding: 0 0 0 0;\n",
              "      width: 32px;\n",
              "    }\n",
              "\n",
              "    .colab-df-convert:hover {\n",
              "      background-color: #E2EBFA;\n",
              "      box-shadow: 0px 1px 2px rgba(60, 64, 67, 0.3), 0px 1px 3px 1px rgba(60, 64, 67, 0.15);\n",
              "      fill: #174EA6;\n",
              "    }\n",
              "\n",
              "    [theme=dark] .colab-df-convert {\n",
              "      background-color: #3B4455;\n",
              "      fill: #D2E3FC;\n",
              "    }\n",
              "\n",
              "    [theme=dark] .colab-df-convert:hover {\n",
              "      background-color: #434B5C;\n",
              "      box-shadow: 0px 1px 3px 1px rgba(0, 0, 0, 0.15);\n",
              "      filter: drop-shadow(0px 1px 2px rgba(0, 0, 0, 0.3));\n",
              "      fill: #FFFFFF;\n",
              "    }\n",
              "  </style>\n",
              "\n",
              "      <script>\n",
              "        const buttonEl =\n",
              "          document.querySelector('#df-aab06896-c1fe-4545-90e7-1ccf508aa268 button.colab-df-convert');\n",
              "        buttonEl.style.display =\n",
              "          google.colab.kernel.accessAllowed ? 'block' : 'none';\n",
              "\n",
              "        async function convertToInteractive(key) {\n",
              "          const element = document.querySelector('#df-aab06896-c1fe-4545-90e7-1ccf508aa268');\n",
              "          const dataTable =\n",
              "            await google.colab.kernel.invokeFunction('convertToInteractive',\n",
              "                                                     [key], {});\n",
              "          if (!dataTable) return;\n",
              "\n",
              "          const docLinkHtml = 'Like what you see? Visit the ' +\n",
              "            '<a target=\"_blank\" href=https://colab.research.google.com/notebooks/data_table.ipynb>data table notebook</a>'\n",
              "            + ' to learn more about interactive tables.';\n",
              "          element.innerHTML = '';\n",
              "          dataTable['output_type'] = 'display_data';\n",
              "          await google.colab.output.renderOutput(dataTable, element);\n",
              "          const docLink = document.createElement('div');\n",
              "          docLink.innerHTML = docLinkHtml;\n",
              "          element.appendChild(docLink);\n",
              "        }\n",
              "      </script>\n",
              "    </div>\n",
              "  </div>\n",
              "  "
            ],
            "text/plain": [
              "                 n_rows  pct_rows  ...  pct_transactions  median_revenue\n",
              "geoNetwork.city                    ...                                  \n",
              "Sunnyvale          1317  0.014593  ...          0.031131          36.580\n",
              "Chicago             780  0.008643  ...          0.065385         100.350\n",
              "Mountain View      4095  0.045374  ...          0.025885          56.465\n",
              "Los Angeles         896  0.009928  ...          0.039062          44.790\n",
              "New York           2593  0.028732  ...          0.060933          49.665\n",
              "Sao Paulo           389  0.004310  ...          0.002571           2.160\n",
              "Tel Aviv-Yafo       360  0.003989  ...          0.002778          18.990\n",
              "Hong Kong           339  0.003756  ...          0.008850          54.970\n",
              "Seattle             492  0.005452  ...          0.052846          64.005\n",
              "Istanbul            608  0.006737  ...          0.001645          17.460\n",
              "Austin              377  0.004177  ...          0.047745          62.710\n",
              "London             1261  0.013972  ...          0.000793         277.530\n",
              "Dublin              467  0.005175  ...          0.002141           9.990\n",
              "(not set)          3402  0.037696  ...          0.000882          79.930\n",
              "San Francisco      2110  0.023380  ...          0.033175          59.575\n",
              "Singapore           330  0.003657  ...          0.003030         127.120\n",
              "Others            70433  0.780430  ...          0.009371          45.570\n",
              "\n",
              "[17 rows x 5 columns]"
            ]
          },
          "metadata": {},
          "execution_count": 273
        }
      ]
    },
    {
      "cell_type": "markdown",
      "source": [
        "plt.figure(figsize = (40,25))\n",
        "sns.countplot(df_mmp['CountryIdentifier'])\n",
        "plt.xticks(rotation=80)\n",
        "\n",
        "---\n",
        "\n"
      ],
      "metadata": {
        "id": "Joq6Ej2hvmcO"
      }
    },
    {
      "cell_type": "code",
      "source": [
        "# si yo tengo suficientes observaciones me interesa dejar los origenes originales \n",
        "plt.figure(figsize = (10,5))\n",
        "sns.countplot(df['geoNetwork.city'])\n",
        "plt.xticks(rotation=80)\n"
      ],
      "metadata": {
        "id": "Xz4ysdjCmJmp",
        "colab": {
          "base_uri": "https://localhost:8080/",
          "height": 487
        },
        "outputId": "99156ed0-0485-45b8-9ae0-e1a497e5e631"
      },
      "execution_count": null,
      "outputs": [
        {
          "output_type": "stream",
          "name": "stderr",
          "text": [
            "/usr/local/lib/python3.7/dist-packages/seaborn/_decorators.py:43: FutureWarning: Pass the following variable as a keyword arg: x. From version 0.12, the only valid positional argument will be `data`, and passing other arguments without an explicit keyword will result in an error or misinterpretation.\n",
            "  FutureWarning\n"
          ]
        },
        {
          "output_type": "execute_result",
          "data": {
            "text/plain": [
              "(array([ 0,  1,  2,  3,  4,  5,  6,  7,  8,  9, 10, 11, 12, 13, 14, 15, 16]),\n",
              " <a list of 17 Text major ticklabel objects>)"
            ]
          },
          "metadata": {},
          "execution_count": 275
        },
        {
          "output_type": "display_data",
          "data": {
            "image/png": "[encoded data removed]",
            "text/plain": [
              "<Figure size 720x360 with 1 Axes>"
            ]
          },
          "metadata": {
            "needs_background": "light"
          }
        }
      ]
    },
    {
      "cell_type": "markdown",
      "source": [
        "## Geonetwork. network domain"
      ],
      "metadata": {
        "id": "btVmiqman457"
      }
    },
    {
      "cell_type": "code",
      "source": [
        "df['geoNetwork.networkDomain'].value_counts()\n",
        "\n"
      ],
      "metadata": {
        "colab": {
          "base_uri": "https://localhost:8080/"
        },
        "id": "t1MibfJFt7dk",
        "outputId": "37b68254-3f66-416d-8ee5-2c87642dae79"
      },
      "execution_count": null,
      "outputs": [
        {
          "output_type": "execute_result",
          "data": {
            "text/plain": [
              "(not set)          24439\n",
              "unknown.unknown    14447\n",
              "comcast.net         2927\n",
              "rr.com              1500\n",
              "ttnet.com.tr        1369\n",
              "                   ...  \n",
              "asisystem.com          1\n",
              "dbedt.net              1\n",
              "n-kokudo.co.jp         1\n",
              "dcs.co.zm              1\n",
              "hyogo-c.ed.jp          1\n",
              "Name: geoNetwork.networkDomain, Length: 7110, dtype: int64"
            ]
          },
          "metadata": {},
          "execution_count": 269
        }
      ]
    },
    {
      "cell_type": "code",
      "source": [
        "df['geoNetwork.networkDomain'].value_counts().head(5)"
      ],
      "metadata": {
        "colab": {
          "base_uri": "https://localhost:8080/"
        },
        "id": "TpYAw5ttn8f7",
        "outputId": "dcd3169b-837f-4615-b011-5f6bbad438e3"
      },
      "execution_count": null,
      "outputs": [
        {
          "output_type": "execute_result",
          "data": {
            "text/plain": [
              "(not set)          24439\n",
              "unknown.unknown    14447\n",
              "comcast.net         2927\n",
              "rr.com              1500\n",
              "ttnet.com.tr        1369\n",
              "Name: geoNetwork.networkDomain, dtype: int64"
            ]
          },
          "metadata": {},
          "execution_count": 140
        }
      ]
    },
    {
      "cell_type": "code",
      "source": [
        "df['network_net'] = df['geoNetwork.networkDomain'].str.contains('.net', case = False).astype(int)"
      ],
      "metadata": {
        "id": "KYxQgS76om47"
      },
      "execution_count": null,
      "outputs": []
    },
    {
      "cell_type": "code",
      "source": [
        "df['network_com'] = df['geoNetwork.networkDomain'].str.contains('.com', case = False).astype(int)"
      ],
      "metadata": {
        "id": "qIZ6tA5IpDB4"
      },
      "execution_count": null,
      "outputs": []
    },
    {
      "cell_type": "code",
      "source": [
        "df.drop('geoNetwork.networkDomain', axis =1 , inplace = True)"
      ],
      "metadata": {
        "id": "NxS0wzmfpFtI"
      },
      "execution_count": null,
      "outputs": []
    },
    {
      "cell_type": "code",
      "source": [
        "explore_cat_values(df, 'network_net',TARGET)"
      ],
      "metadata": {
        "colab": {
          "base_uri": "https://localhost:8080/",
          "height": 143
        },
        "id": "0cyllUi4pNJP",
        "outputId": "d590c3af-89d0-484a-99f7-1a23eccb4573"
      },
      "execution_count": null,
      "outputs": [
        {
          "output_type": "execute_result",
          "data": {
            "text/html": [
              "\n",
              "  <div id=\"df-ed491165-81d6-4636-b0ae-902f6b0a04b9\">\n",
              "    <div class=\"colab-df-container\">\n",
              "      <div>\n",
              "<style scoped>\n",
              "    .dataframe tbody tr th:only-of-type {\n",
              "        vertical-align: middle;\n",
              "    }\n",
              "\n",
              "    .dataframe tbody tr th {\n",
              "        vertical-align: top;\n",
              "    }\n",
              "\n",
              "    .dataframe thead th {\n",
              "        text-align: right;\n",
              "    }\n",
              "</style>\n",
              "<table border=\"1\" class=\"dataframe\">\n",
              "  <thead>\n",
              "    <tr style=\"text-align: right;\">\n",
              "      <th></th>\n",
              "      <th>n_rows</th>\n",
              "      <th>pct_rows</th>\n",
              "      <th>transactions</th>\n",
              "      <th>pct_transactions</th>\n",
              "      <th>median_revenue</th>\n",
              "    </tr>\n",
              "    <tr>\n",
              "      <th>network_net</th>\n",
              "      <th></th>\n",
              "      <th></th>\n",
              "      <th></th>\n",
              "      <th></th>\n",
              "      <th></th>\n",
              "    </tr>\n",
              "  </thead>\n",
              "  <tbody>\n",
              "    <tr>\n",
              "      <th>0</th>\n",
              "      <td>64344</td>\n",
              "      <td>0.712961</td>\n",
              "      <td>848</td>\n",
              "      <td>0.013179</td>\n",
              "      <td>50.56</td>\n",
              "    </tr>\n",
              "    <tr>\n",
              "      <th>1</th>\n",
              "      <td>25905</td>\n",
              "      <td>0.287039</td>\n",
              "      <td>329</td>\n",
              "      <td>0.012700</td>\n",
              "      <td>49.96</td>\n",
              "    </tr>\n",
              "  </tbody>\n",
              "</table>\n",
              "</div>\n",
              "      <button class=\"colab-df-convert\" onclick=\"convertToInteractive('df-ed491165-81d6-4636-b0ae-902f6b0a04b9')\"\n",
              "              title=\"Convert this dataframe to an interactive table.\"\n",
              "              style=\"display:none;\">\n",
              "        \n",
              "  <svg xmlns=\"http://www.w3.org/2000/svg\" height=\"24px\"viewBox=\"0 0 24 24\"\n",
              "       width=\"24px\">\n",
              "    <path d=\"M0 0h24v24H0V0z\" fill=\"none\"/>\n",
              "    <path d=\"M18.56 5.44l.94 2.06.94-2.06 2.06-.94-2.06-.94-.94-2.06-.94 2.06-2.06.94zm-11 1L8.5 8.5l.94-2.06 2.06-.94-2.06-.94L8.5 2.5l-.94 2.06-2.06.94zm10 10l.94 2.06.94-2.06 2.06-.94-2.06-.94-.94-2.06-.94 2.06-2.06.94z\"/><path d=\"M17.41 7.96l-1.37-1.37c-.4-.4-.92-.59-1.43-.59-.52 0-1.04.2-1.43.59L10.3 9.45l-7.72 7.72c-.78.78-.78 2.05 0 2.83L4 21.41c.39.39.9.59 1.41.59.51 0 1.02-.2 1.41-.59l7.78-7.78 2.81-2.81c.8-.78.8-2.07 0-2.86zM5.41 20L4 18.59l7.72-7.72 1.47 1.35L5.41 20z\"/>\n",
              "  </svg>\n",
              "      </button>\n",
              "      \n",
              "  <style>\n",
              "    .colab-df-container {\n",
              "      display:flex;\n",
              "      flex-wrap:wrap;\n",
              "      gap: 12px;\n",
              "    }\n",
              "\n",
              "    .colab-df-convert {\n",
              "      background-color: #E8F0FE;\n",
              "      border: none;\n",
              "      border-radius: 50%;\n",
              "      cursor: pointer;\n",
              "      display: none;\n",
              "      fill: #1967D2;\n",
              "      height: 32px;\n",
              "      padding: 0 0 0 0;\n",
              "      width: 32px;\n",
              "    }\n",
              "\n",
              "    .colab-df-convert:hover {\n",
              "      background-color: #E2EBFA;\n",
              "      box-shadow: 0px 1px 2px rgba(60, 64, 67, 0.3), 0px 1px 3px 1px rgba(60, 64, 67, 0.15);\n",
              "      fill: #174EA6;\n",
              "    }\n",
              "\n",
              "    [theme=dark] .colab-df-convert {\n",
              "      background-color: #3B4455;\n",
              "      fill: #D2E3FC;\n",
              "    }\n",
              "\n",
              "    [theme=dark] .colab-df-convert:hover {\n",
              "      background-color: #434B5C;\n",
              "      box-shadow: 0px 1px 3px 1px rgba(0, 0, 0, 0.15);\n",
              "      filter: drop-shadow(0px 1px 2px rgba(0, 0, 0, 0.3));\n",
              "      fill: #FFFFFF;\n",
              "    }\n",
              "  </style>\n",
              "\n",
              "      <script>\n",
              "        const buttonEl =\n",
              "          document.querySelector('#df-ed491165-81d6-4636-b0ae-902f6b0a04b9 button.colab-df-convert');\n",
              "        buttonEl.style.display =\n",
              "          google.colab.kernel.accessAllowed ? 'block' : 'none';\n",
              "\n",
              "        async function convertToInteractive(key) {\n",
              "          const element = document.querySelector('#df-ed491165-81d6-4636-b0ae-902f6b0a04b9');\n",
              "          const dataTable =\n",
              "            await google.colab.kernel.invokeFunction('convertToInteractive',\n",
              "                                                     [key], {});\n",
              "          if (!dataTable) return;\n",
              "\n",
              "          const docLinkHtml = 'Like what you see? Visit the ' +\n",
              "            '<a target=\"_blank\" href=https://colab.research.google.com/notebooks/data_table.ipynb>data table notebook</a>'\n",
              "            + ' to learn more about interactive tables.';\n",
              "          element.innerHTML = '';\n",
              "          dataTable['output_type'] = 'display_data';\n",
              "          await google.colab.output.renderOutput(dataTable, element);\n",
              "          const docLink = document.createElement('div');\n",
              "          docLink.innerHTML = docLinkHtml;\n",
              "          element.appendChild(docLink);\n",
              "        }\n",
              "      </script>\n",
              "    </div>\n",
              "  </div>\n",
              "  "
            ],
            "text/plain": [
              "             n_rows  pct_rows  transactions  pct_transactions  median_revenue\n",
              "network_net                                                                  \n",
              "0             64344  0.712961           848          0.013179           50.56\n",
              "1             25905  0.287039           329          0.012700           49.96"
            ]
          },
          "metadata": {},
          "execution_count": 144
        }
      ]
    },
    {
      "cell_type": "code",
      "source": [
        "explore_cat_values(df, 'network_com',TARGET)"
      ],
      "metadata": {
        "colab": {
          "base_uri": "https://localhost:8080/",
          "height": 143
        },
        "id": "aOCrSl01pR7-",
        "outputId": "1fc22ba1-05ab-4b0c-b0e4-908581d37320"
      },
      "execution_count": null,
      "outputs": [
        {
          "output_type": "execute_result",
          "data": {
            "text/html": [
              "\n",
              "  <div id=\"df-8e5ff671-66e8-4f9e-85b6-215299b65684\">\n",
              "    <div class=\"colab-df-container\">\n",
              "      <div>\n",
              "<style scoped>\n",
              "    .dataframe tbody tr th:only-of-type {\n",
              "        vertical-align: middle;\n",
              "    }\n",
              "\n",
              "    .dataframe tbody tr th {\n",
              "        vertical-align: top;\n",
              "    }\n",
              "\n",
              "    .dataframe thead th {\n",
              "        text-align: right;\n",
              "    }\n",
              "</style>\n",
              "<table border=\"1\" class=\"dataframe\">\n",
              "  <thead>\n",
              "    <tr style=\"text-align: right;\">\n",
              "      <th></th>\n",
              "      <th>n_rows</th>\n",
              "      <th>pct_rows</th>\n",
              "      <th>transactions</th>\n",
              "      <th>pct_transactions</th>\n",
              "      <th>median_revenue</th>\n",
              "    </tr>\n",
              "    <tr>\n",
              "      <th>network_com</th>\n",
              "      <th></th>\n",
              "      <th></th>\n",
              "      <th></th>\n",
              "      <th></th>\n",
              "      <th></th>\n",
              "    </tr>\n",
              "  </thead>\n",
              "  <tbody>\n",
              "    <tr>\n",
              "      <th>0</th>\n",
              "      <td>76068</td>\n",
              "      <td>0.842868</td>\n",
              "      <td>1076</td>\n",
              "      <td>0.014145</td>\n",
              "      <td>51.92</td>\n",
              "    </tr>\n",
              "    <tr>\n",
              "      <th>1</th>\n",
              "      <td>14181</td>\n",
              "      <td>0.157132</td>\n",
              "      <td>101</td>\n",
              "      <td>0.007122</td>\n",
              "      <td>37.98</td>\n",
              "    </tr>\n",
              "  </tbody>\n",
              "</table>\n",
              "</div>\n",
              "      <button class=\"colab-df-convert\" onclick=\"convertToInteractive('df-8e5ff671-66e8-4f9e-85b6-215299b65684')\"\n",
              "              title=\"Convert this dataframe to an interactive table.\"\n",
              "              style=\"display:none;\">\n",
              "        \n",
              "  <svg xmlns=\"http://www.w3.org/2000/svg\" height=\"24px\"viewBox=\"0 0 24 24\"\n",
              "       width=\"24px\">\n",
              "    <path d=\"M0 0h24v24H0V0z\" fill=\"none\"/>\n",
              "    <path d=\"M18.56 5.44l.94 2.06.94-2.06 2.06-.94-2.06-.94-.94-2.06-.94 2.06-2.06.94zm-11 1L8.5 8.5l.94-2.06 2.06-.94-2.06-.94L8.5 2.5l-.94 2.06-2.06.94zm10 10l.94 2.06.94-2.06 2.06-.94-2.06-.94-.94-2.06-.94 2.06-2.06.94z\"/><path d=\"M17.41 7.96l-1.37-1.37c-.4-.4-.92-.59-1.43-.59-.52 0-1.04.2-1.43.59L10.3 9.45l-7.72 7.72c-.78.78-.78 2.05 0 2.83L4 21.41c.39.39.9.59 1.41.59.51 0 1.02-.2 1.41-.59l7.78-7.78 2.81-2.81c.8-.78.8-2.07 0-2.86zM5.41 20L4 18.59l7.72-7.72 1.47 1.35L5.41 20z\"/>\n",
              "  </svg>\n",
              "      </button>\n",
              "      \n",
              "  <style>\n",
              "    .colab-df-container {\n",
              "      display:flex;\n",
              "      flex-wrap:wrap;\n",
              "      gap: 12px;\n",
              "    }\n",
              "\n",
              "    .colab-df-convert {\n",
              "      background-color: #E8F0FE;\n",
              "      border: none;\n",
              "      border-radius: 50%;\n",
              "      cursor: pointer;\n",
              "      display: none;\n",
              "      fill: #1967D2;\n",
              "      height: 32px;\n",
              "      padding: 0 0 0 0;\n",
              "      width: 32px;\n",
              "    }\n",
              "\n",
              "    .colab-df-convert:hover {\n",
              "      background-color: #E2EBFA;\n",
              "      box-shadow: 0px 1px 2px rgba(60, 64, 67, 0.3), 0px 1px 3px 1px rgba(60, 64, 67, 0.15);\n",
              "      fill: #174EA6;\n",
              "    }\n",
              "\n",
              "    [theme=dark] .colab-df-convert {\n",
              "      background-color: #3B4455;\n",
              "      fill: #D2E3FC;\n",
              "    }\n",
              "\n",
              "    [theme=dark] .colab-df-convert:hover {\n",
              "      background-color: #434B5C;\n",
              "      box-shadow: 0px 1px 3px 1px rgba(0, 0, 0, 0.15);\n",
              "      filter: drop-shadow(0px 1px 2px rgba(0, 0, 0, 0.3));\n",
              "      fill: #FFFFFF;\n",
              "    }\n",
              "  </style>\n",
              "\n",
              "      <script>\n",
              "        const buttonEl =\n",
              "          document.querySelector('#df-8e5ff671-66e8-4f9e-85b6-215299b65684 button.colab-df-convert');\n",
              "        buttonEl.style.display =\n",
              "          google.colab.kernel.accessAllowed ? 'block' : 'none';\n",
              "\n",
              "        async function convertToInteractive(key) {\n",
              "          const element = document.querySelector('#df-8e5ff671-66e8-4f9e-85b6-215299b65684');\n",
              "          const dataTable =\n",
              "            await google.colab.kernel.invokeFunction('convertToInteractive',\n",
              "                                                     [key], {});\n",
              "          if (!dataTable) return;\n",
              "\n",
              "          const docLinkHtml = 'Like what you see? Visit the ' +\n",
              "            '<a target=\"_blank\" href=https://colab.research.google.com/notebooks/data_table.ipynb>data table notebook</a>'\n",
              "            + ' to learn more about interactive tables.';\n",
              "          element.innerHTML = '';\n",
              "          dataTable['output_type'] = 'display_data';\n",
              "          await google.colab.output.renderOutput(dataTable, element);\n",
              "          const docLink = document.createElement('div');\n",
              "          docLink.innerHTML = docLinkHtml;\n",
              "          element.appendChild(docLink);\n",
              "        }\n",
              "      </script>\n",
              "    </div>\n",
              "  </div>\n",
              "  "
            ],
            "text/plain": [
              "             n_rows  pct_rows  transactions  pct_transactions  median_revenue\n",
              "network_com                                                                  \n",
              "0             76068  0.842868          1076          0.014145           51.92\n",
              "1             14181  0.157132           101          0.007122           37.98"
            ]
          },
          "metadata": {},
          "execution_count": 145
        }
      ]
    },
    {
      "cell_type": "markdown",
      "source": [
        "## New visits"
      ],
      "metadata": {
        "id": "1yNqd-MPpdLB"
      }
    },
    {
      "cell_type": "code",
      "source": [
        "df['totals.newVisits'].describe()"
      ],
      "metadata": {
        "colab": {
          "base_uri": "https://localhost:8080/"
        },
        "id": "5v_KBGjpt_oF",
        "outputId": "9fd1af74-82e3-492a-83c0-a5cf48a05255"
      },
      "execution_count": null,
      "outputs": [
        {
          "output_type": "execute_result",
          "data": {
            "text/plain": [
              "count     69990\n",
              "unique        1\n",
              "top           1\n",
              "freq      69990\n",
              "Name: totals.newVisits, dtype: object"
            ]
          },
          "metadata": {},
          "execution_count": 146
        }
      ]
    },
    {
      "cell_type": "code",
      "source": [
        "df['totals.newVisits'].fillna(0, inplace = True)"
      ],
      "metadata": {
        "id": "zSceNYm4uF4y"
      },
      "execution_count": null,
      "outputs": []
    },
    {
      "cell_type": "code",
      "source": [
        "df['totals.newVisits'] = df['totals.newVisits'].astype(int)"
      ],
      "metadata": {
        "id": "UxmVbwd8uMQG"
      },
      "execution_count": null,
      "outputs": []
    },
    {
      "cell_type": "code",
      "source": [
        "explore_cat_values(df, 'totals.newVisits',TARGET)"
      ],
      "metadata": {
        "colab": {
          "base_uri": "https://localhost:8080/",
          "height": 143
        },
        "id": "j0KnObEAuSAd",
        "outputId": "5baffe51-3f5d-405c-a323-73705a725bcb"
      },
      "execution_count": null,
      "outputs": [
        {
          "output_type": "execute_result",
          "data": {
            "text/html": [
              "\n",
              "  <div id=\"df-725ab575-16ff-4047-8231-739a2a647c59\">\n",
              "    <div class=\"colab-df-container\">\n",
              "      <div>\n",
              "<style scoped>\n",
              "    .dataframe tbody tr th:only-of-type {\n",
              "        vertical-align: middle;\n",
              "    }\n",
              "\n",
              "    .dataframe tbody tr th {\n",
              "        vertical-align: top;\n",
              "    }\n",
              "\n",
              "    .dataframe thead th {\n",
              "        text-align: right;\n",
              "    }\n",
              "</style>\n",
              "<table border=\"1\" class=\"dataframe\">\n",
              "  <thead>\n",
              "    <tr style=\"text-align: right;\">\n",
              "      <th></th>\n",
              "      <th>n_rows</th>\n",
              "      <th>pct_rows</th>\n",
              "      <th>transactions</th>\n",
              "      <th>pct_transactions</th>\n",
              "      <th>median_revenue</th>\n",
              "    </tr>\n",
              "    <tr>\n",
              "      <th>totals.newVisits</th>\n",
              "      <th></th>\n",
              "      <th></th>\n",
              "      <th></th>\n",
              "      <th></th>\n",
              "      <th></th>\n",
              "    </tr>\n",
              "  </thead>\n",
              "  <tbody>\n",
              "    <tr>\n",
              "      <th>0</th>\n",
              "      <td>20259</td>\n",
              "      <td>0.224479</td>\n",
              "      <td>733</td>\n",
              "      <td>0.036181</td>\n",
              "      <td>58.93</td>\n",
              "    </tr>\n",
              "    <tr>\n",
              "      <th>1</th>\n",
              "      <td>69990</td>\n",
              "      <td>0.775521</td>\n",
              "      <td>444</td>\n",
              "      <td>0.006344</td>\n",
              "      <td>36.88</td>\n",
              "    </tr>\n",
              "  </tbody>\n",
              "</table>\n",
              "</div>\n",
              "      <button class=\"colab-df-convert\" onclick=\"convertToInteractive('df-725ab575-16ff-4047-8231-739a2a647c59')\"\n",
              "              title=\"Convert this dataframe to an interactive table.\"\n",
              "              style=\"display:none;\">\n",
              "        \n",
              "  <svg xmlns=\"http://www.w3.org/2000/svg\" height=\"24px\"viewBox=\"0 0 24 24\"\n",
              "       width=\"24px\">\n",
              "    <path d=\"M0 0h24v24H0V0z\" fill=\"none\"/>\n",
              "    <path d=\"M18.56 5.44l.94 2.06.94-2.06 2.06-.94-2.06-.94-.94-2.06-.94 2.06-2.06.94zm-11 1L8.5 8.5l.94-2.06 2.06-.94-2.06-.94L8.5 2.5l-.94 2.06-2.06.94zm10 10l.94 2.06.94-2.06 2.06-.94-2.06-.94-.94-2.06-.94 2.06-2.06.94z\"/><path d=\"M17.41 7.96l-1.37-1.37c-.4-.4-.92-.59-1.43-.59-.52 0-1.04.2-1.43.59L10.3 9.45l-7.72 7.72c-.78.78-.78 2.05 0 2.83L4 21.41c.39.39.9.59 1.41.59.51 0 1.02-.2 1.41-.59l7.78-7.78 2.81-2.81c.8-.78.8-2.07 0-2.86zM5.41 20L4 18.59l7.72-7.72 1.47 1.35L5.41 20z\"/>\n",
              "  </svg>\n",
              "      </button>\n",
              "      \n",
              "  <style>\n",
              "    .colab-df-container {\n",
              "      display:flex;\n",
              "      flex-wrap:wrap;\n",
              "      gap: 12px;\n",
              "    }\n",
              "\n",
              "    .colab-df-convert {\n",
              "      background-color: #E8F0FE;\n",
              "      border: none;\n",
              "      border-radius: 50%;\n",
              "      cursor: pointer;\n",
              "      display: none;\n",
              "      fill: #1967D2;\n",
              "      height: 32px;\n",
              "      padding: 0 0 0 0;\n",
              "      width: 32px;\n",
              "    }\n",
              "\n",
              "    .colab-df-convert:hover {\n",
              "      background-color: #E2EBFA;\n",
              "      box-shadow: 0px 1px 2px rgba(60, 64, 67, 0.3), 0px 1px 3px 1px rgba(60, 64, 67, 0.15);\n",
              "      fill: #174EA6;\n",
              "    }\n",
              "\n",
              "    [theme=dark] .colab-df-convert {\n",
              "      background-color: #3B4455;\n",
              "      fill: #D2E3FC;\n",
              "    }\n",
              "\n",
              "    [theme=dark] .colab-df-convert:hover {\n",
              "      background-color: #434B5C;\n",
              "      box-shadow: 0px 1px 3px 1px rgba(0, 0, 0, 0.15);\n",
              "      filter: drop-shadow(0px 1px 2px rgba(0, 0, 0, 0.3));\n",
              "      fill: #FFFFFF;\n",
              "    }\n",
              "  </style>\n",
              "\n",
              "      <script>\n",
              "        const buttonEl =\n",
              "          document.querySelector('#df-725ab575-16ff-4047-8231-739a2a647c59 button.colab-df-convert');\n",
              "        buttonEl.style.display =\n",
              "          google.colab.kernel.accessAllowed ? 'block' : 'none';\n",
              "\n",
              "        async function convertToInteractive(key) {\n",
              "          const element = document.querySelector('#df-725ab575-16ff-4047-8231-739a2a647c59');\n",
              "          const dataTable =\n",
              "            await google.colab.kernel.invokeFunction('convertToInteractive',\n",
              "                                                     [key], {});\n",
              "          if (!dataTable) return;\n",
              "\n",
              "          const docLinkHtml = 'Like what you see? Visit the ' +\n",
              "            '<a target=\"_blank\" href=https://colab.research.google.com/notebooks/data_table.ipynb>data table notebook</a>'\n",
              "            + ' to learn more about interactive tables.';\n",
              "          element.innerHTML = '';\n",
              "          dataTable['output_type'] = 'display_data';\n",
              "          await google.colab.output.renderOutput(dataTable, element);\n",
              "          const docLink = document.createElement('div');\n",
              "          docLink.innerHTML = docLinkHtml;\n",
              "          element.appendChild(docLink);\n",
              "        }\n",
              "      </script>\n",
              "    </div>\n",
              "  </div>\n",
              "  "
            ],
            "text/plain": [
              "                  n_rows  pct_rows  ...  pct_transactions  median_revenue\n",
              "totals.newVisits                    ...                                  \n",
              "0                  20259  0.224479  ...          0.036181           58.93\n",
              "1                  69990  0.775521  ...          0.006344           36.88\n",
              "\n",
              "[2 rows x 5 columns]"
            ]
          },
          "metadata": {},
          "execution_count": 149
        }
      ]
    },
    {
      "cell_type": "markdown",
      "source": [
        "## Bounces"
      ],
      "metadata": {
        "id": "OIyDE8c7ua7x"
      }
    },
    {
      "cell_type": "code",
      "source": [
        "df['totals.bounces'].describe()"
      ],
      "metadata": {
        "colab": {
          "base_uri": "https://localhost:8080/"
        },
        "id": "AksOGm0aufWD",
        "outputId": "ea653ecb-3421-4d37-863f-09e8095e27dc"
      },
      "execution_count": null,
      "outputs": [
        {
          "output_type": "execute_result",
          "data": {
            "text/plain": [
              "count     45130\n",
              "unique        1\n",
              "top           1\n",
              "freq      45130\n",
              "Name: totals.bounces, dtype: object"
            ]
          },
          "metadata": {},
          "execution_count": 150
        }
      ]
    },
    {
      "cell_type": "code",
      "source": [
        "df['totals.bounces'].fillna(0, inplace = True)"
      ],
      "metadata": {
        "id": "YoMspk5tujA_"
      },
      "execution_count": null,
      "outputs": []
    },
    {
      "cell_type": "code",
      "source": [
        "df['totals.bounces'] = df['totals.bounces'].astype(int)"
      ],
      "metadata": {
        "id": "wuHBFN4LunQw"
      },
      "execution_count": null,
      "outputs": []
    },
    {
      "cell_type": "code",
      "source": [
        "explore_cat_values(df, 'totals.bounces',TARGET)"
      ],
      "metadata": {
        "colab": {
          "base_uri": "https://localhost:8080/",
          "height": 112
        },
        "id": "RmoohkCIupnE",
        "outputId": "6f93615b-848e-45e7-ef9e-1ae462ca5bad"
      },
      "execution_count": null,
      "outputs": [
        {
          "output_type": "execute_result",
          "data": {
            "text/html": [
              "\n",
              "  <div id=\"df-4bea0135-e729-41d4-a9ad-321888281723\">\n",
              "    <div class=\"colab-df-container\">\n",
              "      <div>\n",
              "<style scoped>\n",
              "    .dataframe tbody tr th:only-of-type {\n",
              "        vertical-align: middle;\n",
              "    }\n",
              "\n",
              "    .dataframe tbody tr th {\n",
              "        vertical-align: top;\n",
              "    }\n",
              "\n",
              "    .dataframe thead th {\n",
              "        text-align: right;\n",
              "    }\n",
              "</style>\n",
              "<table border=\"1\" class=\"dataframe\">\n",
              "  <thead>\n",
              "    <tr style=\"text-align: right;\">\n",
              "      <th></th>\n",
              "      <th>n_rows</th>\n",
              "      <th>pct_rows</th>\n",
              "      <th>transactions</th>\n",
              "      <th>pct_transactions</th>\n",
              "      <th>median_revenue</th>\n",
              "    </tr>\n",
              "    <tr>\n",
              "      <th>totals.bounces</th>\n",
              "      <th></th>\n",
              "      <th></th>\n",
              "      <th></th>\n",
              "      <th></th>\n",
              "      <th></th>\n",
              "    </tr>\n",
              "  </thead>\n",
              "  <tbody>\n",
              "    <tr>\n",
              "      <th>0</th>\n",
              "      <td>45119</td>\n",
              "      <td>0.499939</td>\n",
              "      <td>1177</td>\n",
              "      <td>0.026087</td>\n",
              "      <td>50.02</td>\n",
              "    </tr>\n",
              "  </tbody>\n",
              "</table>\n",
              "</div>\n",
              "      <button class=\"colab-df-convert\" onclick=\"convertToInteractive('df-4bea0135-e729-41d4-a9ad-321888281723')\"\n",
              "              title=\"Convert this dataframe to an interactive table.\"\n",
              "              style=\"display:none;\">\n",
              "        \n",
              "  <svg xmlns=\"http://www.w3.org/2000/svg\" height=\"24px\"viewBox=\"0 0 24 24\"\n",
              "       width=\"24px\">\n",
              "    <path d=\"M0 0h24v24H0V0z\" fill=\"none\"/>\n",
              "    <path d=\"M18.56 5.44l.94 2.06.94-2.06 2.06-.94-2.06-.94-.94-2.06-.94 2.06-2.06.94zm-11 1L8.5 8.5l.94-2.06 2.06-.94-2.06-.94L8.5 2.5l-.94 2.06-2.06.94zm10 10l.94 2.06.94-2.06 2.06-.94-2.06-.94-.94-2.06-.94 2.06-2.06.94z\"/><path d=\"M17.41 7.96l-1.37-1.37c-.4-.4-.92-.59-1.43-.59-.52 0-1.04.2-1.43.59L10.3 9.45l-7.72 7.72c-.78.78-.78 2.05 0 2.83L4 21.41c.39.39.9.59 1.41.59.51 0 1.02-.2 1.41-.59l7.78-7.78 2.81-2.81c.8-.78.8-2.07 0-2.86zM5.41 20L4 18.59l7.72-7.72 1.47 1.35L5.41 20z\"/>\n",
              "  </svg>\n",
              "      </button>\n",
              "      \n",
              "  <style>\n",
              "    .colab-df-container {\n",
              "      display:flex;\n",
              "      flex-wrap:wrap;\n",
              "      gap: 12px;\n",
              "    }\n",
              "\n",
              "    .colab-df-convert {\n",
              "      background-color: #E8F0FE;\n",
              "      border: none;\n",
              "      border-radius: 50%;\n",
              "      cursor: pointer;\n",
              "      display: none;\n",
              "      fill: #1967D2;\n",
              "      height: 32px;\n",
              "      padding: 0 0 0 0;\n",
              "      width: 32px;\n",
              "    }\n",
              "\n",
              "    .colab-df-convert:hover {\n",
              "      background-color: #E2EBFA;\n",
              "      box-shadow: 0px 1px 2px rgba(60, 64, 67, 0.3), 0px 1px 3px 1px rgba(60, 64, 67, 0.15);\n",
              "      fill: #174EA6;\n",
              "    }\n",
              "\n",
              "    [theme=dark] .colab-df-convert {\n",
              "      background-color: #3B4455;\n",
              "      fill: #D2E3FC;\n",
              "    }\n",
              "\n",
              "    [theme=dark] .colab-df-convert:hover {\n",
              "      background-color: #434B5C;\n",
              "      box-shadow: 0px 1px 3px 1px rgba(0, 0, 0, 0.15);\n",
              "      filter: drop-shadow(0px 1px 2px rgba(0, 0, 0, 0.3));\n",
              "      fill: #FFFFFF;\n",
              "    }\n",
              "  </style>\n",
              "\n",
              "      <script>\n",
              "        const buttonEl =\n",
              "          document.querySelector('#df-4bea0135-e729-41d4-a9ad-321888281723 button.colab-df-convert');\n",
              "        buttonEl.style.display =\n",
              "          google.colab.kernel.accessAllowed ? 'block' : 'none';\n",
              "\n",
              "        async function convertToInteractive(key) {\n",
              "          const element = document.querySelector('#df-4bea0135-e729-41d4-a9ad-321888281723');\n",
              "          const dataTable =\n",
              "            await google.colab.kernel.invokeFunction('convertToInteractive',\n",
              "                                                     [key], {});\n",
              "          if (!dataTable) return;\n",
              "\n",
              "          const docLinkHtml = 'Like what you see? Visit the ' +\n",
              "            '<a target=\"_blank\" href=https://colab.research.google.com/notebooks/data_table.ipynb>data table notebook</a>'\n",
              "            + ' to learn more about interactive tables.';\n",
              "          element.innerHTML = '';\n",
              "          dataTable['output_type'] = 'display_data';\n",
              "          await google.colab.output.renderOutput(dataTable, element);\n",
              "          const docLink = document.createElement('div');\n",
              "          docLink.innerHTML = docLinkHtml;\n",
              "          element.appendChild(docLink);\n",
              "        }\n",
              "      </script>\n",
              "    </div>\n",
              "  </div>\n",
              "  "
            ],
            "text/plain": [
              "                n_rows  pct_rows  ...  pct_transactions  median_revenue\n",
              "totals.bounces                    ...                                  \n",
              "0                45119  0.499939  ...          0.026087           50.02\n",
              "\n",
              "[1 rows x 5 columns]"
            ]
          },
          "metadata": {},
          "execution_count": 153
        }
      ]
    },
    {
      "cell_type": "code",
      "source": [
        "df.drop('totals.bounces', axis = 1, inplace = True)"
      ],
      "metadata": {
        "id": "Io6sHb31uvTm"
      },
      "execution_count": null,
      "outputs": []
    },
    {
      "cell_type": "code",
      "source": [
        "df.describe(exclude = np.number).T"
      ],
      "metadata": {
        "colab": {
          "base_uri": "https://localhost:8080/",
          "height": 362
        },
        "id": "uOlRGjwZvLMd",
        "outputId": "8bc146c6-eb61-47af-c1ec-d0a163ba7abe"
      },
      "execution_count": null,
      "outputs": [
        {
          "output_type": "execute_result",
          "data": {
            "text/html": [
              "\n",
              "  <div id=\"df-4dceb9b5-f7d9-46f4-af56-d8944d7a4e77\">\n",
              "    <div class=\"colab-df-container\">\n",
              "      <div>\n",
              "<style scoped>\n",
              "    .dataframe tbody tr th:only-of-type {\n",
              "        vertical-align: middle;\n",
              "    }\n",
              "\n",
              "    .dataframe tbody tr th {\n",
              "        vertical-align: top;\n",
              "    }\n",
              "\n",
              "    .dataframe thead th {\n",
              "        text-align: right;\n",
              "    }\n",
              "</style>\n",
              "<table border=\"1\" class=\"dataframe\">\n",
              "  <thead>\n",
              "    <tr style=\"text-align: right;\">\n",
              "      <th></th>\n",
              "      <th>count</th>\n",
              "      <th>unique</th>\n",
              "      <th>top</th>\n",
              "      <th>freq</th>\n",
              "    </tr>\n",
              "  </thead>\n",
              "  <tbody>\n",
              "    <tr>\n",
              "      <th>channelGrouping</th>\n",
              "      <td>90249</td>\n",
              "      <td>8</td>\n",
              "      <td>Organic Search</td>\n",
              "      <td>37993</td>\n",
              "    </tr>\n",
              "    <tr>\n",
              "      <th>device.browser</th>\n",
              "      <td>90249</td>\n",
              "      <td>9</td>\n",
              "      <td>Chrome</td>\n",
              "      <td>62130</td>\n",
              "    </tr>\n",
              "    <tr>\n",
              "      <th>device.operatingSystem</th>\n",
              "      <td>90249</td>\n",
              "      <td>7</td>\n",
              "      <td>Windows</td>\n",
              "      <td>34835</td>\n",
              "    </tr>\n",
              "    <tr>\n",
              "      <th>device.deviceCategory</th>\n",
              "      <td>90249</td>\n",
              "      <td>3</td>\n",
              "      <td>desktop</td>\n",
              "      <td>66492</td>\n",
              "    </tr>\n",
              "    <tr>\n",
              "      <th>geoNetwork.continent</th>\n",
              "      <td>90249</td>\n",
              "      <td>6</td>\n",
              "      <td>Americas</td>\n",
              "      <td>44972</td>\n",
              "    </tr>\n",
              "    <tr>\n",
              "      <th>geoNetwork.subContinent</th>\n",
              "      <td>90249</td>\n",
              "      <td>23</td>\n",
              "      <td>Northern America</td>\n",
              "      <td>39026</td>\n",
              "    </tr>\n",
              "    <tr>\n",
              "      <th>geoNetwork.country</th>\n",
              "      <td>90249</td>\n",
              "      <td>9</td>\n",
              "      <td>Others</td>\n",
              "      <td>37031</td>\n",
              "    </tr>\n",
              "    <tr>\n",
              "      <th>geoNetwork.region</th>\n",
              "      <td>90249</td>\n",
              "      <td>339</td>\n",
              "      <td>not available in demo dataset</td>\n",
              "      <td>50610</td>\n",
              "    </tr>\n",
              "    <tr>\n",
              "      <th>geoNetwork.metro</th>\n",
              "      <td>90249</td>\n",
              "      <td>82</td>\n",
              "      <td>not available in demo dataset</td>\n",
              "      <td>50610</td>\n",
              "    </tr>\n",
              "    <tr>\n",
              "      <th>geoNetwork.city</th>\n",
              "      <td>90249</td>\n",
              "      <td>17</td>\n",
              "      <td>Others</td>\n",
              "      <td>70433</td>\n",
              "    </tr>\n",
              "  </tbody>\n",
              "</table>\n",
              "</div>\n",
              "      <button class=\"colab-df-convert\" onclick=\"convertToInteractive('df-4dceb9b5-f7d9-46f4-af56-d8944d7a4e77')\"\n",
              "              title=\"Convert this dataframe to an interactive table.\"\n",
              "              style=\"display:none;\">\n",
              "        \n",
              "  <svg xmlns=\"http://www.w3.org/2000/svg\" height=\"24px\"viewBox=\"0 0 24 24\"\n",
              "       width=\"24px\">\n",
              "    <path d=\"M0 0h24v24H0V0z\" fill=\"none\"/>\n",
              "    <path d=\"M18.56 5.44l.94 2.06.94-2.06 2.06-.94-2.06-.94-.94-2.06-.94 2.06-2.06.94zm-11 1L8.5 8.5l.94-2.06 2.06-.94-2.06-.94L8.5 2.5l-.94 2.06-2.06.94zm10 10l.94 2.06.94-2.06 2.06-.94-2.06-.94-.94-2.06-.94 2.06-2.06.94z\"/><path d=\"M17.41 7.96l-1.37-1.37c-.4-.4-.92-.59-1.43-.59-.52 0-1.04.2-1.43.59L10.3 9.45l-7.72 7.72c-.78.78-.78 2.05 0 2.83L4 21.41c.39.39.9.59 1.41.59.51 0 1.02-.2 1.41-.59l7.78-7.78 2.81-2.81c.8-.78.8-2.07 0-2.86zM5.41 20L4 18.59l7.72-7.72 1.47 1.35L5.41 20z\"/>\n",
              "  </svg>\n",
              "      </button>\n",
              "      \n",
              "  <style>\n",
              "    .colab-df-container {\n",
              "      display:flex;\n",
              "      flex-wrap:wrap;\n",
              "      gap: 12px;\n",
              "    }\n",
              "\n",
              "    .colab-df-convert {\n",
              "      background-color: #E8F0FE;\n",
              "      border: none;\n",
              "      border-radius: 50%;\n",
              "      cursor: pointer;\n",
              "      display: none;\n",
              "      fill: #1967D2;\n",
              "      height: 32px;\n",
              "      padding: 0 0 0 0;\n",
              "      width: 32px;\n",
              "    }\n",
              "\n",
              "    .colab-df-convert:hover {\n",
              "      background-color: #E2EBFA;\n",
              "      box-shadow: 0px 1px 2px rgba(60, 64, 67, 0.3), 0px 1px 3px 1px rgba(60, 64, 67, 0.15);\n",
              "      fill: #174EA6;\n",
              "    }\n",
              "\n",
              "    [theme=dark] .colab-df-convert {\n",
              "      background-color: #3B4455;\n",
              "      fill: #D2E3FC;\n",
              "    }\n",
              "\n",
              "    [theme=dark] .colab-df-convert:hover {\n",
              "      background-color: #434B5C;\n",
              "      box-shadow: 0px 1px 3px 1px rgba(0, 0, 0, 0.15);\n",
              "      filter: drop-shadow(0px 1px 2px rgba(0, 0, 0, 0.3));\n",
              "      fill: #FFFFFF;\n",
              "    }\n",
              "  </style>\n",
              "\n",
              "      <script>\n",
              "        const buttonEl =\n",
              "          document.querySelector('#df-4dceb9b5-f7d9-46f4-af56-d8944d7a4e77 button.colab-df-convert');\n",
              "        buttonEl.style.display =\n",
              "          google.colab.kernel.accessAllowed ? 'block' : 'none';\n",
              "\n",
              "        async function convertToInteractive(key) {\n",
              "          const element = document.querySelector('#df-4dceb9b5-f7d9-46f4-af56-d8944d7a4e77');\n",
              "          const dataTable =\n",
              "            await google.colab.kernel.invokeFunction('convertToInteractive',\n",
              "                                                     [key], {});\n",
              "          if (!dataTable) return;\n",
              "\n",
              "          const docLinkHtml = 'Like what you see? Visit the ' +\n",
              "            '<a target=\"_blank\" href=https://colab.research.google.com/notebooks/data_table.ipynb>data table notebook</a>'\n",
              "            + ' to learn more about interactive tables.';\n",
              "          element.innerHTML = '';\n",
              "          dataTable['output_type'] = 'display_data';\n",
              "          await google.colab.output.renderOutput(dataTable, element);\n",
              "          const docLink = document.createElement('div');\n",
              "          docLink.innerHTML = docLinkHtml;\n",
              "          element.appendChild(docLink);\n",
              "        }\n",
              "      </script>\n",
              "    </div>\n",
              "  </div>\n",
              "  "
            ],
            "text/plain": [
              "                         count unique                            top   freq\n",
              "channelGrouping          90249      8                 Organic Search  37993\n",
              "device.browser           90249      9                         Chrome  62130\n",
              "device.operatingSystem   90249      7                        Windows  34835\n",
              "device.deviceCategory    90249      3                        desktop  66492\n",
              "geoNetwork.continent     90249      6                       Americas  44972\n",
              "geoNetwork.subContinent  90249     23               Northern America  39026\n",
              "geoNetwork.country       90249      9                         Others  37031\n",
              "geoNetwork.region        90249    339  not available in demo dataset  50610\n",
              "geoNetwork.metro         90249     82  not available in demo dataset  50610\n",
              "geoNetwork.city          90249     17                         Others  70433"
            ]
          },
          "metadata": {},
          "execution_count": 155
        }
      ]
    },
    {
      "cell_type": "code",
      "source": [
        "df.drop(['geoNetwork.region','geoNetwork.metro'], axis = 1, inplace = True)"
      ],
      "metadata": {
        "id": "ozaWopyZvuUQ"
      },
      "execution_count": null,
      "outputs": []
    },
    {
      "cell_type": "code",
      "source": [
        "def OHE(col_name,dataframe):\n",
        "  _dummy_dataset = pd.get_dummies(dataframe[col_name], prefix = col_name)\n",
        "  dataframe = pd.concat([dataframe,_dummy_dataset], axis = 1)\n",
        "  return dataframe.drop([col_name], axis =1)"
      ],
      "metadata": {
        "id": "tG7RBNJev28L"
      },
      "execution_count": null,
      "outputs": []
    },
    {
      "cell_type": "code",
      "source": [
        "for col in df.describe(exclude = np.number).columns:\n",
        "  df = OHE(col,df)"
      ],
      "metadata": {
        "id": "KaIoCGg5v7yK"
      },
      "execution_count": null,
      "outputs": []
    },
    {
      "cell_type": "code",
      "source": [
        "df.shape"
      ],
      "metadata": {
        "colab": {
          "base_uri": "https://localhost:8080/"
        },
        "id": "szRoHbwcwANK",
        "outputId": "aab557f3-ebf2-4c42-d317-964a14137859"
      },
      "execution_count": null,
      "outputs": [
        {
          "output_type": "execute_result",
          "data": {
            "text/plain": [
              "(90249, 102)"
            ]
          },
          "metadata": {},
          "execution_count": 159
        }
      ]
    },
    {
      "cell_type": "markdown",
      "source": [
        "## Modelling"
      ],
      "metadata": {
        "id": "ZgiTvg4uwWGT"
      }
    },
    {
      "cell_type": "code",
      "source": [
        "df[['visitWithTransaction',TARGET]]"
      ],
      "metadata": {
        "colab": {
          "base_uri": "https://localhost:8080/",
          "height": 455
        },
        "id": "hLSm3u7YwbzD",
        "outputId": "6c0fe453-b5bc-4281-f90e-5c71ab6dd4da"
      },
      "execution_count": null,
      "outputs": [
        {
          "output_type": "execute_result",
          "data": {
            "text/html": [
              "\n",
              "  <div id=\"df-467e7581-b3fd-4c53-a40a-179ae0f5b6a8\">\n",
              "    <div class=\"colab-df-container\">\n",
              "      <div>\n",
              "<style scoped>\n",
              "    .dataframe tbody tr th:only-of-type {\n",
              "        vertical-align: middle;\n",
              "    }\n",
              "\n",
              "    .dataframe tbody tr th {\n",
              "        vertical-align: top;\n",
              "    }\n",
              "\n",
              "    .dataframe thead th {\n",
              "        text-align: right;\n",
              "    }\n",
              "</style>\n",
              "<table border=\"1\" class=\"dataframe\">\n",
              "  <thead>\n",
              "    <tr style=\"text-align: right;\">\n",
              "      <th></th>\n",
              "      <th>visitWithTransaction</th>\n",
              "      <th>totals.transactionRevenue</th>\n",
              "    </tr>\n",
              "    <tr>\n",
              "      <th>sessionId</th>\n",
              "      <th></th>\n",
              "      <th></th>\n",
              "    </tr>\n",
              "  </thead>\n",
              "  <tbody>\n",
              "    <tr>\n",
              "      <th>377306020877927890_1472880147</th>\n",
              "      <td>0</td>\n",
              "      <td>0.0</td>\n",
              "    </tr>\n",
              "    <tr>\n",
              "      <th>537222803633850821_1472812602</th>\n",
              "      <td>0</td>\n",
              "      <td>0.0</td>\n",
              "    </tr>\n",
              "    <tr>\n",
              "      <th>9499785259412240342_1472812272</th>\n",
              "      <td>0</td>\n",
              "      <td>0.0</td>\n",
              "    </tr>\n",
              "    <tr>\n",
              "      <th>357659889600827884_1472839882</th>\n",
              "      <td>0</td>\n",
              "      <td>0.0</td>\n",
              "    </tr>\n",
              "    <tr>\n",
              "      <th>3696906537737368442_1472856874</th>\n",
              "      <td>0</td>\n",
              "      <td>0.0</td>\n",
              "    </tr>\n",
              "    <tr>\n",
              "      <th>...</th>\n",
              "      <td>...</td>\n",
              "      <td>...</td>\n",
              "    </tr>\n",
              "    <tr>\n",
              "      <th>533119567408419467_1483573456</th>\n",
              "      <td>0</td>\n",
              "      <td>0.0</td>\n",
              "    </tr>\n",
              "    <tr>\n",
              "      <th>0617024530428033097_1483561021</th>\n",
              "      <td>0</td>\n",
              "      <td>0.0</td>\n",
              "    </tr>\n",
              "    <tr>\n",
              "      <th>469840327005431380_1483573235</th>\n",
              "      <td>0</td>\n",
              "      <td>0.0</td>\n",
              "    </tr>\n",
              "    <tr>\n",
              "      <th>5744576632396406899_1483526434</th>\n",
              "      <td>0</td>\n",
              "      <td>0.0</td>\n",
              "    </tr>\n",
              "    <tr>\n",
              "      <th>2709355455991750775_1483592857</th>\n",
              "      <td>0</td>\n",
              "      <td>0.0</td>\n",
              "    </tr>\n",
              "  </tbody>\n",
              "</table>\n",
              "<p>90249 rows × 2 columns</p>\n",
              "</div>\n",
              "      <button class=\"colab-df-convert\" onclick=\"convertToInteractive('df-467e7581-b3fd-4c53-a40a-179ae0f5b6a8')\"\n",
              "              title=\"Convert this dataframe to an interactive table.\"\n",
              "              style=\"display:none;\">\n",
              "        \n",
              "  <svg xmlns=\"http://www.w3.org/2000/svg\" height=\"24px\"viewBox=\"0 0 24 24\"\n",
              "       width=\"24px\">\n",
              "    <path d=\"M0 0h24v24H0V0z\" fill=\"none\"/>\n",
              "    <path d=\"M18.56 5.44l.94 2.06.94-2.06 2.06-.94-2.06-.94-.94-2.06-.94 2.06-2.06.94zm-11 1L8.5 8.5l.94-2.06 2.06-.94-2.06-.94L8.5 2.5l-.94 2.06-2.06.94zm10 10l.94 2.06.94-2.06 2.06-.94-2.06-.94-.94-2.06-.94 2.06-2.06.94z\"/><path d=\"M17.41 7.96l-1.37-1.37c-.4-.4-.92-.59-1.43-.59-.52 0-1.04.2-1.43.59L10.3 9.45l-7.72 7.72c-.78.78-.78 2.05 0 2.83L4 21.41c.39.39.9.59 1.41.59.51 0 1.02-.2 1.41-.59l7.78-7.78 2.81-2.81c.8-.78.8-2.07 0-2.86zM5.41 20L4 18.59l7.72-7.72 1.47 1.35L5.41 20z\"/>\n",
              "  </svg>\n",
              "      </button>\n",
              "      \n",
              "  <style>\n",
              "    .colab-df-container {\n",
              "      display:flex;\n",
              "      flex-wrap:wrap;\n",
              "      gap: 12px;\n",
              "    }\n",
              "\n",
              "    .colab-df-convert {\n",
              "      background-color: #E8F0FE;\n",
              "      border: none;\n",
              "      border-radius: 50%;\n",
              "      cursor: pointer;\n",
              "      display: none;\n",
              "      fill: #1967D2;\n",
              "      height: 32px;\n",
              "      padding: 0 0 0 0;\n",
              "      width: 32px;\n",
              "    }\n",
              "\n",
              "    .colab-df-convert:hover {\n",
              "      background-color: #E2EBFA;\n",
              "      box-shadow: 0px 1px 2px rgba(60, 64, 67, 0.3), 0px 1px 3px 1px rgba(60, 64, 67, 0.15);\n",
              "      fill: #174EA6;\n",
              "    }\n",
              "\n",
              "    [theme=dark] .colab-df-convert {\n",
              "      background-color: #3B4455;\n",
              "      fill: #D2E3FC;\n",
              "    }\n",
              "\n",
              "    [theme=dark] .colab-df-convert:hover {\n",
              "      background-color: #434B5C;\n",
              "      box-shadow: 0px 1px 3px 1px rgba(0, 0, 0, 0.15);\n",
              "      filter: drop-shadow(0px 1px 2px rgba(0, 0, 0, 0.3));\n",
              "      fill: #FFFFFF;\n",
              "    }\n",
              "  </style>\n",
              "\n",
              "      <script>\n",
              "        const buttonEl =\n",
              "          document.querySelector('#df-467e7581-b3fd-4c53-a40a-179ae0f5b6a8 button.colab-df-convert');\n",
              "        buttonEl.style.display =\n",
              "          google.colab.kernel.accessAllowed ? 'block' : 'none';\n",
              "\n",
              "        async function convertToInteractive(key) {\n",
              "          const element = document.querySelector('#df-467e7581-b3fd-4c53-a40a-179ae0f5b6a8');\n",
              "          const dataTable =\n",
              "            await google.colab.kernel.invokeFunction('convertToInteractive',\n",
              "                                                     [key], {});\n",
              "          if (!dataTable) return;\n",
              "\n",
              "          const docLinkHtml = 'Like what you see? Visit the ' +\n",
              "            '<a target=\"_blank\" href=https://colab.research.google.com/notebooks/data_table.ipynb>data table notebook</a>'\n",
              "            + ' to learn more about interactive tables.';\n",
              "          element.innerHTML = '';\n",
              "          dataTable['output_type'] = 'display_data';\n",
              "          await google.colab.output.renderOutput(dataTable, element);\n",
              "          const docLink = document.createElement('div');\n",
              "          docLink.innerHTML = docLinkHtml;\n",
              "          element.appendChild(docLink);\n",
              "        }\n",
              "      </script>\n",
              "    </div>\n",
              "  </div>\n",
              "  "
            ],
            "text/plain": [
              "                                visitWithTransaction  totals.transactionRevenue\n",
              "sessionId                                                                      \n",
              "377306020877927890_1472880147                      0                        0.0\n",
              "537222803633850821_1472812602                      0                        0.0\n",
              "9499785259412240342_1472812272                     0                        0.0\n",
              "357659889600827884_1472839882                      0                        0.0\n",
              "3696906537737368442_1472856874                     0                        0.0\n",
              "...                                              ...                        ...\n",
              "533119567408419467_1483573456                      0                        0.0\n",
              "0617024530428033097_1483561021                     0                        0.0\n",
              "469840327005431380_1483573235                      0                        0.0\n",
              "5744576632396406899_1483526434                     0                        0.0\n",
              "2709355455991750775_1483592857                     0                        0.0\n",
              "\n",
              "[90249 rows x 2 columns]"
            ]
          },
          "metadata": {},
          "execution_count": 160
        }
      ]
    },
    {
      "cell_type": "code",
      "source": [
        "df.drop(['visitWithTransaction',TARGET], axis = 1, inplace = True)"
      ],
      "metadata": {
        "id": "zDUC4tH_wzSa"
      },
      "execution_count": null,
      "outputs": []
    },
    {
      "cell_type": "markdown",
      "source": [
        "### Particion entre development y validation"
      ],
      "metadata": {
        "id": "Rahh1QAuwe20"
      }
    },
    {
      "cell_type": "code",
      "source": [
        "df.pivot_table(index = ['year','month'], values = TARGET_LN, aggfunc = len)"
      ],
      "metadata": {
        "colab": {
          "base_uri": "https://localhost:8080/",
          "height": 488
        },
        "id": "cjASZ4UCxMlp",
        "outputId": "c20fe85f-e600-435f-a96c-7aff5b8e04f5"
      },
      "execution_count": null,
      "outputs": [
        {
          "output_type": "execute_result",
          "data": {
            "text/html": [
              "\n",
              "  <div id=\"df-99d471dc-f768-4a5c-9a5b-607437bbe2a6\">\n",
              "    <div class=\"colab-df-container\">\n",
              "      <div>\n",
              "<style scoped>\n",
              "    .dataframe tbody tr th:only-of-type {\n",
              "        vertical-align: middle;\n",
              "    }\n",
              "\n",
              "    .dataframe tbody tr th {\n",
              "        vertical-align: top;\n",
              "    }\n",
              "\n",
              "    .dataframe thead th {\n",
              "        text-align: right;\n",
              "    }\n",
              "</style>\n",
              "<table border=\"1\" class=\"dataframe\">\n",
              "  <thead>\n",
              "    <tr style=\"text-align: right;\">\n",
              "      <th></th>\n",
              "      <th></th>\n",
              "      <th>totals.transactionRevenueLN</th>\n",
              "    </tr>\n",
              "    <tr>\n",
              "      <th>year</th>\n",
              "      <th>month</th>\n",
              "      <th></th>\n",
              "    </tr>\n",
              "  </thead>\n",
              "  <tbody>\n",
              "    <tr>\n",
              "      <th rowspan=\"5\" valign=\"top\">2016</th>\n",
              "      <th>8</th>\n",
              "      <td>7418</td>\n",
              "    </tr>\n",
              "    <tr>\n",
              "      <th>9</th>\n",
              "      <td>7134</td>\n",
              "    </tr>\n",
              "    <tr>\n",
              "      <th>10</th>\n",
              "      <td>9803</td>\n",
              "    </tr>\n",
              "    <tr>\n",
              "      <th>11</th>\n",
              "      <td>11304</td>\n",
              "    </tr>\n",
              "    <tr>\n",
              "      <th>12</th>\n",
              "      <td>8037</td>\n",
              "    </tr>\n",
              "    <tr>\n",
              "      <th rowspan=\"8\" valign=\"top\">2017</th>\n",
              "      <th>1</th>\n",
              "      <td>6506</td>\n",
              "    </tr>\n",
              "    <tr>\n",
              "      <th>2</th>\n",
              "      <td>6226</td>\n",
              "    </tr>\n",
              "    <tr>\n",
              "      <th>3</th>\n",
              "      <td>6878</td>\n",
              "    </tr>\n",
              "    <tr>\n",
              "      <th>4</th>\n",
              "      <td>6598</td>\n",
              "    </tr>\n",
              "    <tr>\n",
              "      <th>5</th>\n",
              "      <td>6539</td>\n",
              "    </tr>\n",
              "    <tr>\n",
              "      <th>6</th>\n",
              "      <td>6403</td>\n",
              "    </tr>\n",
              "    <tr>\n",
              "      <th>7</th>\n",
              "      <td>7138</td>\n",
              "    </tr>\n",
              "    <tr>\n",
              "      <th>8</th>\n",
              "      <td>265</td>\n",
              "    </tr>\n",
              "  </tbody>\n",
              "</table>\n",
              "</div>\n",
              "      <button class=\"colab-df-convert\" onclick=\"convertToInteractive('df-99d471dc-f768-4a5c-9a5b-607437bbe2a6')\"\n",
              "              title=\"Convert this dataframe to an interactive table.\"\n",
              "              style=\"display:none;\">\n",
              "        \n",
              "  <svg xmlns=\"http://www.w3.org/2000/svg\" height=\"24px\"viewBox=\"0 0 24 24\"\n",
              "       width=\"24px\">\n",
              "    <path d=\"M0 0h24v24H0V0z\" fill=\"none\"/>\n",
              "    <path d=\"M18.56 5.44l.94 2.06.94-2.06 2.06-.94-2.06-.94-.94-2.06-.94 2.06-2.06.94zm-11 1L8.5 8.5l.94-2.06 2.06-.94-2.06-.94L8.5 2.5l-.94 2.06-2.06.94zm10 10l.94 2.06.94-2.06 2.06-.94-2.06-.94-.94-2.06-.94 2.06-2.06.94z\"/><path d=\"M17.41 7.96l-1.37-1.37c-.4-.4-.92-.59-1.43-.59-.52 0-1.04.2-1.43.59L10.3 9.45l-7.72 7.72c-.78.78-.78 2.05 0 2.83L4 21.41c.39.39.9.59 1.41.59.51 0 1.02-.2 1.41-.59l7.78-7.78 2.81-2.81c.8-.78.8-2.07 0-2.86zM5.41 20L4 18.59l7.72-7.72 1.47 1.35L5.41 20z\"/>\n",
              "  </svg>\n",
              "      </button>\n",
              "      \n",
              "  <style>\n",
              "    .colab-df-container {\n",
              "      display:flex;\n",
              "      flex-wrap:wrap;\n",
              "      gap: 12px;\n",
              "    }\n",
              "\n",
              "    .colab-df-convert {\n",
              "      background-color: #E8F0FE;\n",
              "      border: none;\n",
              "      border-radius: 50%;\n",
              "      cursor: pointer;\n",
              "      display: none;\n",
              "      fill: #1967D2;\n",
              "      height: 32px;\n",
              "      padding: 0 0 0 0;\n",
              "      width: 32px;\n",
              "    }\n",
              "\n",
              "    .colab-df-convert:hover {\n",
              "      background-color: #E2EBFA;\n",
              "      box-shadow: 0px 1px 2px rgba(60, 64, 67, 0.3), 0px 1px 3px 1px rgba(60, 64, 67, 0.15);\n",
              "      fill: #174EA6;\n",
              "    }\n",
              "\n",
              "    [theme=dark] .colab-df-convert {\n",
              "      background-color: #3B4455;\n",
              "      fill: #D2E3FC;\n",
              "    }\n",
              "\n",
              "    [theme=dark] .colab-df-convert:hover {\n",
              "      background-color: #434B5C;\n",
              "      box-shadow: 0px 1px 3px 1px rgba(0, 0, 0, 0.15);\n",
              "      filter: drop-shadow(0px 1px 2px rgba(0, 0, 0, 0.3));\n",
              "      fill: #FFFFFF;\n",
              "    }\n",
              "  </style>\n",
              "\n",
              "      <script>\n",
              "        const buttonEl =\n",
              "          document.querySelector('#df-99d471dc-f768-4a5c-9a5b-607437bbe2a6 button.colab-df-convert');\n",
              "        buttonEl.style.display =\n",
              "          google.colab.kernel.accessAllowed ? 'block' : 'none';\n",
              "\n",
              "        async function convertToInteractive(key) {\n",
              "          const element = document.querySelector('#df-99d471dc-f768-4a5c-9a5b-607437bbe2a6');\n",
              "          const dataTable =\n",
              "            await google.colab.kernel.invokeFunction('convertToInteractive',\n",
              "                                                     [key], {});\n",
              "          if (!dataTable) return;\n",
              "\n",
              "          const docLinkHtml = 'Like what you see? Visit the ' +\n",
              "            '<a target=\"_blank\" href=https://colab.research.google.com/notebooks/data_table.ipynb>data table notebook</a>'\n",
              "            + ' to learn more about interactive tables.';\n",
              "          element.innerHTML = '';\n",
              "          dataTable['output_type'] = 'display_data';\n",
              "          await google.colab.output.renderOutput(dataTable, element);\n",
              "          const docLink = document.createElement('div');\n",
              "          docLink.innerHTML = docLinkHtml;\n",
              "          element.appendChild(docLink);\n",
              "        }\n",
              "      </script>\n",
              "    </div>\n",
              "  </div>\n",
              "  "
            ],
            "text/plain": [
              "            totals.transactionRevenueLN\n",
              "year month                             \n",
              "2016 8                             7418\n",
              "     9                             7134\n",
              "     10                            9803\n",
              "     11                           11304\n",
              "     12                            8037\n",
              "2017 1                             6506\n",
              "     2                             6226\n",
              "     3                             6878\n",
              "     4                             6598\n",
              "     5                             6539\n",
              "     6                             6403\n",
              "     7                             7138\n",
              "     8                              265"
            ]
          },
          "metadata": {},
          "execution_count": 162
        }
      ]
    },
    {
      "cell_type": "code",
      "source": [
        "# tenemos solo un año completo, ago'17 tiene muy pocos dias , 201600 + mes , 201609 (sep'16)"
      ],
      "metadata": {
        "id": "uQQdt3T3xYzs"
      },
      "execution_count": null,
      "outputs": []
    },
    {
      "cell_type": "code",
      "source": [
        "df_val = df[df['year']*100 + df['month'] >= 201706]\n",
        "df_dev = df[df['year']*100 + df['month'] < 201706]\n",
        "#estrategia de validacion es coger meses mas recientes"
      ],
      "metadata": {
        "id": "hBldgdcoxqGr"
      },
      "execution_count": null,
      "outputs": []
    },
    {
      "cell_type": "code",
      "source": [
        "df_val.shape"
      ],
      "metadata": {
        "colab": {
          "base_uri": "https://localhost:8080/"
        },
        "id": "rwXVYG0eyWn7",
        "outputId": "ed055acc-bf91-459b-ba89-f90feced85fc"
      },
      "execution_count": null,
      "outputs": [
        {
          "output_type": "execute_result",
          "data": {
            "text/plain": [
              "(13806, 100)"
            ]
          },
          "metadata": {},
          "execution_count": 165
        }
      ]
    },
    {
      "cell_type": "code",
      "source": [
        "df_val_X = df_val.drop(TARGET_LN, axis = 1)\n",
        "df_val_y = df_val[[TARGET_LN]]\n",
        "\n",
        "df_dev_X = df_dev.drop(TARGET_LN, axis = 1)\n",
        "df_dev_y = df_dev[[TARGET_LN]]"
      ],
      "metadata": {
        "id": "6hkStkV5ycbv"
      },
      "execution_count": null,
      "outputs": []
    },
    {
      "cell_type": "markdown",
      "source": [
        "### division entre train y test destro del development"
      ],
      "metadata": {
        "id": "aoDoyrsJy0E9"
      }
    },
    {
      "cell_type": "code",
      "source": [
        "X_train, X_test, y_train, y_test = model_selection.train_test_split(\n",
        "    df_dev_X,\n",
        "    df_dev_y,\n",
        "    random_state= 42,\n",
        "    test_size = 0.2\n",
        ")"
      ],
      "metadata": {
        "id": "KWuRJQiGy4Zk"
      },
      "execution_count": null,
      "outputs": []
    },
    {
      "cell_type": "code",
      "source": [
        "df_dev_X.shape"
      ],
      "metadata": {
        "colab": {
          "base_uri": "https://localhost:8080/"
        },
        "id": "VSpGmG1mzG42",
        "outputId": "59747808-759b-4d48-cca3-566b28d5aa8c"
      },
      "execution_count": null,
      "outputs": [
        {
          "output_type": "execute_result",
          "data": {
            "text/plain": [
              "(76443, 99)"
            ]
          },
          "metadata": {},
          "execution_count": 168
        }
      ]
    },
    {
      "cell_type": "markdown",
      "source": [
        "### lanzar nuestro primer modelo"
      ],
      "metadata": {
        "id": "3NCtU5eszTEd"
      }
    },
    {
      "cell_type": "code",
      "source": [
        "# Instanciar el modelo\n",
        "first_model = xgb.XGBRegressor(random_state = 42, max_depth = 4,min_child_weight= 20, n_estimators= 80)\n",
        "#n_estimators: numero de iteraciones, a mas iteraciones más probable es el overfitting"
      ],
      "metadata": {
        "id": "TJIxjIzQzWOb"
      },
      "execution_count": null,
      "outputs": []
    },
    {
      "cell_type": "code",
      "source": [
        "%%time\n",
        "#entrenar el modelo\n",
        "first_model.fit(X_train, y_train)"
      ],
      "metadata": {
        "colab": {
          "base_uri": "https://localhost:8080/"
        },
        "id": "2GL3CxU-0cO1",
        "outputId": "cf74dc7d-557e-408a-dcfa-97c10667b806"
      },
      "execution_count": null,
      "outputs": [
        {
          "output_type": "stream",
          "name": "stdout",
          "text": [
            "[19:49:22] WARNING: /workspace/src/objective/regression_obj.cu:152: reg:linear is now deprecated in favor of reg:squarederror.\n",
            "CPU times: user 13.6 s, sys: 148 ms, total: 13.8 s\n",
            "Wall time: 13.8 s\n"
          ]
        },
        {
          "output_type": "execute_result",
          "data": {
            "text/plain": [
              "XGBRegressor(max_depth=4, min_child_weight=20, n_estimators=80, random_state=42)"
            ]
          },
          "metadata": {},
          "execution_count": 170
        }
      ]
    },
    {
      "cell_type": "code",
      "source": [
        "# prediccion modelo"
      ],
      "metadata": {
        "id": "VfbNH5T-0mq3"
      },
      "execution_count": null,
      "outputs": []
    },
    {
      "cell_type": "code",
      "source": [
        "test_prediction = pd.DataFrame(first_model.predict(X_test), columns = ['Prediction'], index = X_test.index)"
      ],
      "metadata": {
        "id": "Qk3YxQaV0tfx"
      },
      "execution_count": null,
      "outputs": []
    },
    {
      "cell_type": "code",
      "source": [
        "#evaluar"
      ],
      "metadata": {
        "id": "HDlffgxb06Tp"
      },
      "execution_count": null,
      "outputs": []
    },
    {
      "cell_type": "code",
      "source": [
        "results_df = y_test.join(test_prediction)"
      ],
      "metadata": {
        "id": "MP04XK3Z1Oc5"
      },
      "execution_count": null,
      "outputs": []
    },
    {
      "cell_type": "code",
      "source": [
        "results_df.sort_values(by = TARGET_LN, ascending = False ).head()"
      ],
      "metadata": {
        "colab": {
          "base_uri": "https://localhost:8080/",
          "height": 237
        },
        "id": "hePJOHXd1UwF",
        "outputId": "01137a2e-beb3-48e5-c501-a502010a377f"
      },
      "execution_count": null,
      "outputs": [
        {
          "output_type": "execute_result",
          "data": {
            "text/html": [
              "\n",
              "  <div id=\"df-4a7f6792-8ac5-4851-afe1-edc83a95793d\">\n",
              "    <div class=\"colab-df-container\">\n",
              "      <div>\n",
              "<style scoped>\n",
              "    .dataframe tbody tr th:only-of-type {\n",
              "        vertical-align: middle;\n",
              "    }\n",
              "\n",
              "    .dataframe tbody tr th {\n",
              "        vertical-align: top;\n",
              "    }\n",
              "\n",
              "    .dataframe thead th {\n",
              "        text-align: right;\n",
              "    }\n",
              "</style>\n",
              "<table border=\"1\" class=\"dataframe\">\n",
              "  <thead>\n",
              "    <tr style=\"text-align: right;\">\n",
              "      <th></th>\n",
              "      <th>totals.transactionRevenueLN</th>\n",
              "      <th>Prediction</th>\n",
              "    </tr>\n",
              "    <tr>\n",
              "      <th>sessionId</th>\n",
              "      <th></th>\n",
              "      <th></th>\n",
              "    </tr>\n",
              "  </thead>\n",
              "  <tbody>\n",
              "    <tr>\n",
              "      <th>1957458976293878100_1492616459</th>\n",
              "      <td>8.208470</td>\n",
              "      <td>2.306387</td>\n",
              "    </tr>\n",
              "    <tr>\n",
              "      <th>244535803596038100_1470682666</th>\n",
              "      <td>7.205286</td>\n",
              "      <td>0.104655</td>\n",
              "    </tr>\n",
              "    <tr>\n",
              "      <th>1740516675967625074_1484791498</th>\n",
              "      <td>6.779808</td>\n",
              "      <td>0.444278</td>\n",
              "    </tr>\n",
              "    <tr>\n",
              "      <th>1665883834078021725_1480472776</th>\n",
              "      <td>6.636786</td>\n",
              "      <td>1.877519</td>\n",
              "    </tr>\n",
              "    <tr>\n",
              "      <th>7311242886083854158_1481924344</th>\n",
              "      <td>6.482710</td>\n",
              "      <td>3.297914</td>\n",
              "    </tr>\n",
              "  </tbody>\n",
              "</table>\n",
              "</div>\n",
              "      <button class=\"colab-df-convert\" onclick=\"convertToInteractive('df-4a7f6792-8ac5-4851-afe1-edc83a95793d')\"\n",
              "              title=\"Convert this dataframe to an interactive table.\"\n",
              "              style=\"display:none;\">\n",
              "        \n",
              "  <svg xmlns=\"http://www.w3.org/2000/svg\" height=\"24px\"viewBox=\"0 0 24 24\"\n",
              "       width=\"24px\">\n",
              "    <path d=\"M0 0h24v24H0V0z\" fill=\"none\"/>\n",
              "    <path d=\"M18.56 5.44l.94 2.06.94-2.06 2.06-.94-2.06-.94-.94-2.06-.94 2.06-2.06.94zm-11 1L8.5 8.5l.94-2.06 2.06-.94-2.06-.94L8.5 2.5l-.94 2.06-2.06.94zm10 10l.94 2.06.94-2.06 2.06-.94-2.06-.94-.94-2.06-.94 2.06-2.06.94z\"/><path d=\"M17.41 7.96l-1.37-1.37c-.4-.4-.92-.59-1.43-.59-.52 0-1.04.2-1.43.59L10.3 9.45l-7.72 7.72c-.78.78-.78 2.05 0 2.83L4 21.41c.39.39.9.59 1.41.59.51 0 1.02-.2 1.41-.59l7.78-7.78 2.81-2.81c.8-.78.8-2.07 0-2.86zM5.41 20L4 18.59l7.72-7.72 1.47 1.35L5.41 20z\"/>\n",
              "  </svg>\n",
              "      </button>\n",
              "      \n",
              "  <style>\n",
              "    .colab-df-container {\n",
              "      display:flex;\n",
              "      flex-wrap:wrap;\n",
              "      gap: 12px;\n",
              "    }\n",
              "\n",
              "    .colab-df-convert {\n",
              "      background-color: #E8F0FE;\n",
              "      border: none;\n",
              "      border-radius: 50%;\n",
              "      cursor: pointer;\n",
              "      display: none;\n",
              "      fill: #1967D2;\n",
              "      height: 32px;\n",
              "      padding: 0 0 0 0;\n",
              "      width: 32px;\n",
              "    }\n",
              "\n",
              "    .colab-df-convert:hover {\n",
              "      background-color: #E2EBFA;\n",
              "      box-shadow: 0px 1px 2px rgba(60, 64, 67, 0.3), 0px 1px 3px 1px rgba(60, 64, 67, 0.15);\n",
              "      fill: #174EA6;\n",
              "    }\n",
              "\n",
              "    [theme=dark] .colab-df-convert {\n",
              "      background-color: #3B4455;\n",
              "      fill: #D2E3FC;\n",
              "    }\n",
              "\n",
              "    [theme=dark] .colab-df-convert:hover {\n",
              "      background-color: #434B5C;\n",
              "      box-shadow: 0px 1px 3px 1px rgba(0, 0, 0, 0.15);\n",
              "      filter: drop-shadow(0px 1px 2px rgba(0, 0, 0, 0.3));\n",
              "      fill: #FFFFFF;\n",
              "    }\n",
              "  </style>\n",
              "\n",
              "      <script>\n",
              "        const buttonEl =\n",
              "          document.querySelector('#df-4a7f6792-8ac5-4851-afe1-edc83a95793d button.colab-df-convert');\n",
              "        buttonEl.style.display =\n",
              "          google.colab.kernel.accessAllowed ? 'block' : 'none';\n",
              "\n",
              "        async function convertToInteractive(key) {\n",
              "          const element = document.querySelector('#df-4a7f6792-8ac5-4851-afe1-edc83a95793d');\n",
              "          const dataTable =\n",
              "            await google.colab.kernel.invokeFunction('convertToInteractive',\n",
              "                                                     [key], {});\n",
              "          if (!dataTable) return;\n",
              "\n",
              "          const docLinkHtml = 'Like what you see? Visit the ' +\n",
              "            '<a target=\"_blank\" href=https://colab.research.google.com/notebooks/data_table.ipynb>data table notebook</a>'\n",
              "            + ' to learn more about interactive tables.';\n",
              "          element.innerHTML = '';\n",
              "          dataTable['output_type'] = 'display_data';\n",
              "          await google.colab.output.renderOutput(dataTable, element);\n",
              "          const docLink = document.createElement('div');\n",
              "          docLink.innerHTML = docLinkHtml;\n",
              "          element.appendChild(docLink);\n",
              "        }\n",
              "      </script>\n",
              "    </div>\n",
              "  </div>\n",
              "  "
            ],
            "text/plain": [
              "                                totals.transactionRevenueLN  Prediction\n",
              "sessionId                                                              \n",
              "1957458976293878100_1492616459                     8.208470    2.306387\n",
              "244535803596038100_1470682666                      7.205286    0.104655\n",
              "1740516675967625074_1484791498                     6.779808    0.444278\n",
              "1665883834078021725_1480472776                     6.636786    1.877519\n",
              "7311242886083854158_1481924344                     6.482710    3.297914"
            ]
          },
          "metadata": {},
          "execution_count": 175
        }
      ]
    },
    {
      "cell_type": "code",
      "source": [
        "#top 5 sesiones que mas han gastado\n",
        "# el dataset esta muy desbalanceado , el algoritmo solo ve ejemplos de gente que no compra o compra poco importe\n",
        "#el resultado es que sistemáticamente, el valor predicho es menor al valor real"
      ],
      "metadata": {
        "id": "1JNoSmnl1WIx"
      },
      "execution_count": null,
      "outputs": []
    },
    {
      "cell_type": "code",
      "source": [
        "results_df.columns = ['Target','Prediction']"
      ],
      "metadata": {
        "id": "bNnb4d5y24tT"
      },
      "execution_count": null,
      "outputs": []
    },
    {
      "cell_type": "code",
      "source": [
        "results_df['error'] = results_df['Target'] - results_df['Prediction']"
      ],
      "metadata": {
        "id": "7gpM4UVq2_nq"
      },
      "execution_count": null,
      "outputs": []
    },
    {
      "cell_type": "code",
      "source": [
        "results_df['squarred_error'] = results_df['error'] ** 2"
      ],
      "metadata": {
        "id": "d4sp2yv53Km3"
      },
      "execution_count": null,
      "outputs": []
    },
    {
      "cell_type": "code",
      "source": [
        "results_df"
      ],
      "metadata": {
        "colab": {
          "base_uri": "https://localhost:8080/",
          "height": 455
        },
        "id": "0YvpjPvH3RS8",
        "outputId": "3ba73b51-e9f7-4c15-e98d-fb869b0c6c75"
      },
      "execution_count": null,
      "outputs": [
        {
          "output_type": "execute_result",
          "data": {
            "text/html": [
              "\n",
              "  <div id=\"df-c8a6280b-bf86-4d91-bfa1-bc6c1647eedd\">\n",
              "    <div class=\"colab-df-container\">\n",
              "      <div>\n",
              "<style scoped>\n",
              "    .dataframe tbody tr th:only-of-type {\n",
              "        vertical-align: middle;\n",
              "    }\n",
              "\n",
              "    .dataframe tbody tr th {\n",
              "        vertical-align: top;\n",
              "    }\n",
              "\n",
              "    .dataframe thead th {\n",
              "        text-align: right;\n",
              "    }\n",
              "</style>\n",
              "<table border=\"1\" class=\"dataframe\">\n",
              "  <thead>\n",
              "    <tr style=\"text-align: right;\">\n",
              "      <th></th>\n",
              "      <th>Target</th>\n",
              "      <th>Prediction</th>\n",
              "      <th>error</th>\n",
              "      <th>squarred_error</th>\n",
              "    </tr>\n",
              "    <tr>\n",
              "      <th>sessionId</th>\n",
              "      <th></th>\n",
              "      <th></th>\n",
              "      <th></th>\n",
              "      <th></th>\n",
              "    </tr>\n",
              "  </thead>\n",
              "  <tbody>\n",
              "    <tr>\n",
              "      <th>4813739199903315053_1493762891</th>\n",
              "      <td>0.0</td>\n",
              "      <td>0.081284</td>\n",
              "      <td>-0.081284</td>\n",
              "      <td>6.607038e-03</td>\n",
              "    </tr>\n",
              "    <tr>\n",
              "      <th>9999906724458612544_1488943249</th>\n",
              "      <td>0.0</td>\n",
              "      <td>0.000515</td>\n",
              "      <td>-0.000515</td>\n",
              "      <td>2.656078e-07</td>\n",
              "    </tr>\n",
              "    <tr>\n",
              "      <th>8013426547904286270_1491031969</th>\n",
              "      <td>0.0</td>\n",
              "      <td>0.000515</td>\n",
              "      <td>-0.000515</td>\n",
              "      <td>2.656078e-07</td>\n",
              "    </tr>\n",
              "    <tr>\n",
              "      <th>763390296085540505_1487718155</th>\n",
              "      <td>0.0</td>\n",
              "      <td>0.000508</td>\n",
              "      <td>-0.000508</td>\n",
              "      <td>2.584380e-07</td>\n",
              "    </tr>\n",
              "    <tr>\n",
              "      <th>4691788681189750512_1484143098</th>\n",
              "      <td>0.0</td>\n",
              "      <td>0.000515</td>\n",
              "      <td>-0.000515</td>\n",
              "      <td>2.656078e-07</td>\n",
              "    </tr>\n",
              "    <tr>\n",
              "      <th>...</th>\n",
              "      <td>...</td>\n",
              "      <td>...</td>\n",
              "      <td>...</td>\n",
              "      <td>...</td>\n",
              "    </tr>\n",
              "    <tr>\n",
              "      <th>6652890707114235755_1490056776</th>\n",
              "      <td>0.0</td>\n",
              "      <td>0.000515</td>\n",
              "      <td>-0.000515</td>\n",
              "      <td>2.656078e-07</td>\n",
              "    </tr>\n",
              "    <tr>\n",
              "      <th>068535038137025654_1472420190</th>\n",
              "      <td>0.0</td>\n",
              "      <td>0.114853</td>\n",
              "      <td>-0.114853</td>\n",
              "      <td>1.319132e-02</td>\n",
              "    </tr>\n",
              "    <tr>\n",
              "      <th>7624640672598132042_1486712497</th>\n",
              "      <td>0.0</td>\n",
              "      <td>0.000515</td>\n",
              "      <td>-0.000515</td>\n",
              "      <td>2.656078e-07</td>\n",
              "    </tr>\n",
              "    <tr>\n",
              "      <th>639405852322670030_1480902659</th>\n",
              "      <td>0.0</td>\n",
              "      <td>0.000515</td>\n",
              "      <td>-0.000515</td>\n",
              "      <td>2.656078e-07</td>\n",
              "    </tr>\n",
              "    <tr>\n",
              "      <th>0774560801141150551_1481471136</th>\n",
              "      <td>0.0</td>\n",
              "      <td>0.000508</td>\n",
              "      <td>-0.000508</td>\n",
              "      <td>2.584380e-07</td>\n",
              "    </tr>\n",
              "  </tbody>\n",
              "</table>\n",
              "<p>15289 rows × 4 columns</p>\n",
              "</div>\n",
              "      <button class=\"colab-df-convert\" onclick=\"convertToInteractive('df-c8a6280b-bf86-4d91-bfa1-bc6c1647eedd')\"\n",
              "              title=\"Convert this dataframe to an interactive table.\"\n",
              "              style=\"display:none;\">\n",
              "        \n",
              "  <svg xmlns=\"http://www.w3.org/2000/svg\" height=\"24px\"viewBox=\"0 0 24 24\"\n",
              "       width=\"24px\">\n",
              "    <path d=\"M0 0h24v24H0V0z\" fill=\"none\"/>\n",
              "    <path d=\"M18.56 5.44l.94 2.06.94-2.06 2.06-.94-2.06-.94-.94-2.06-.94 2.06-2.06.94zm-11 1L8.5 8.5l.94-2.06 2.06-.94-2.06-.94L8.5 2.5l-.94 2.06-2.06.94zm10 10l.94 2.06.94-2.06 2.06-.94-2.06-.94-.94-2.06-.94 2.06-2.06.94z\"/><path d=\"M17.41 7.96l-1.37-1.37c-.4-.4-.92-.59-1.43-.59-.52 0-1.04.2-1.43.59L10.3 9.45l-7.72 7.72c-.78.78-.78 2.05 0 2.83L4 21.41c.39.39.9.59 1.41.59.51 0 1.02-.2 1.41-.59l7.78-7.78 2.81-2.81c.8-.78.8-2.07 0-2.86zM5.41 20L4 18.59l7.72-7.72 1.47 1.35L5.41 20z\"/>\n",
              "  </svg>\n",
              "      </button>\n",
              "      \n",
              "  <style>\n",
              "    .colab-df-container {\n",
              "      display:flex;\n",
              "      flex-wrap:wrap;\n",
              "      gap: 12px;\n",
              "    }\n",
              "\n",
              "    .colab-df-convert {\n",
              "      background-color: #E8F0FE;\n",
              "      border: none;\n",
              "      border-radius: 50%;\n",
              "      cursor: pointer;\n",
              "      display: none;\n",
              "      fill: #1967D2;\n",
              "      height: 32px;\n",
              "      padding: 0 0 0 0;\n",
              "      width: 32px;\n",
              "    }\n",
              "\n",
              "    .colab-df-convert:hover {\n",
              "      background-color: #E2EBFA;\n",
              "      box-shadow: 0px 1px 2px rgba(60, 64, 67, 0.3), 0px 1px 3px 1px rgba(60, 64, 67, 0.15);\n",
              "      fill: #174EA6;\n",
              "    }\n",
              "\n",
              "    [theme=dark] .colab-df-convert {\n",
              "      background-color: #3B4455;\n",
              "      fill: #D2E3FC;\n",
              "    }\n",
              "\n",
              "    [theme=dark] .colab-df-convert:hover {\n",
              "      background-color: #434B5C;\n",
              "      box-shadow: 0px 1px 3px 1px rgba(0, 0, 0, 0.15);\n",
              "      filter: drop-shadow(0px 1px 2px rgba(0, 0, 0, 0.3));\n",
              "      fill: #FFFFFF;\n",
              "    }\n",
              "  </style>\n",
              "\n",
              "      <script>\n",
              "        const buttonEl =\n",
              "          document.querySelector('#df-c8a6280b-bf86-4d91-bfa1-bc6c1647eedd button.colab-df-convert');\n",
              "        buttonEl.style.display =\n",
              "          google.colab.kernel.accessAllowed ? 'block' : 'none';\n",
              "\n",
              "        async function convertToInteractive(key) {\n",
              "          const element = document.querySelector('#df-c8a6280b-bf86-4d91-bfa1-bc6c1647eedd');\n",
              "          const dataTable =\n",
              "            await google.colab.kernel.invokeFunction('convertToInteractive',\n",
              "                                                     [key], {});\n",
              "          if (!dataTable) return;\n",
              "\n",
              "          const docLinkHtml = 'Like what you see? Visit the ' +\n",
              "            '<a target=\"_blank\" href=https://colab.research.google.com/notebooks/data_table.ipynb>data table notebook</a>'\n",
              "            + ' to learn more about interactive tables.';\n",
              "          element.innerHTML = '';\n",
              "          dataTable['output_type'] = 'display_data';\n",
              "          await google.colab.output.renderOutput(dataTable, element);\n",
              "          const docLink = document.createElement('div');\n",
              "          docLink.innerHTML = docLinkHtml;\n",
              "          element.appendChild(docLink);\n",
              "        }\n",
              "      </script>\n",
              "    </div>\n",
              "  </div>\n",
              "  "
            ],
            "text/plain": [
              "                                Target  Prediction     error  squarred_error\n",
              "sessionId                                                                   \n",
              "4813739199903315053_1493762891     0.0    0.081284 -0.081284    6.607038e-03\n",
              "9999906724458612544_1488943249     0.0    0.000515 -0.000515    2.656078e-07\n",
              "8013426547904286270_1491031969     0.0    0.000515 -0.000515    2.656078e-07\n",
              "763390296085540505_1487718155      0.0    0.000508 -0.000508    2.584380e-07\n",
              "4691788681189750512_1484143098     0.0    0.000515 -0.000515    2.656078e-07\n",
              "...                                ...         ...       ...             ...\n",
              "6652890707114235755_1490056776     0.0    0.000515 -0.000515    2.656078e-07\n",
              "068535038137025654_1472420190      0.0    0.114853 -0.114853    1.319132e-02\n",
              "7624640672598132042_1486712497     0.0    0.000515 -0.000515    2.656078e-07\n",
              "639405852322670030_1480902659      0.0    0.000515 -0.000515    2.656078e-07\n",
              "0774560801141150551_1481471136     0.0    0.000508 -0.000508    2.584380e-07\n",
              "\n",
              "[15289 rows x 4 columns]"
            ]
          },
          "metadata": {},
          "execution_count": 180
        }
      ]
    },
    {
      "cell_type": "code",
      "source": [
        "results_df['root_squarred_error'] = np.sqrt(results_df['squarred_error'])"
      ],
      "metadata": {
        "id": "JW3UBdXW5Rel"
      },
      "execution_count": null,
      "outputs": []
    },
    {
      "cell_type": "code",
      "source": [
        "mse = results_df['squarred_error'].mean()\n",
        "rmse = results_df['root_squarred_error'].mean()"
      ],
      "metadata": {
        "id": "8lbuuF_x5bFE"
      },
      "execution_count": null,
      "outputs": []
    },
    {
      "cell_type": "code",
      "source": [
        "mse"
      ],
      "metadata": {
        "colab": {
          "base_uri": "https://localhost:8080/"
        },
        "id": "kgYGIkD-5jDl",
        "outputId": "2003c587-93c6-4459-e44c-4763596a0cd2"
      },
      "execution_count": null,
      "outputs": [
        {
          "output_type": "execute_result",
          "data": {
            "text/plain": [
              "0.1597751393929077"
            ]
          },
          "metadata": {},
          "execution_count": 183
        }
      ]
    },
    {
      "cell_type": "code",
      "source": [
        "rmse"
      ],
      "metadata": {
        "colab": {
          "base_uri": "https://localhost:8080/"
        },
        "id": "Fl7hU5K35lKz",
        "outputId": "603095a2-ab42-4700-b2f4-a97454ed4ffb"
      },
      "execution_count": null,
      "outputs": [
        {
          "output_type": "execute_result",
          "data": {
            "text/plain": [
              "0.07127785842152405"
            ]
          },
          "metadata": {},
          "execution_count": 184
        }
      ]
    },
    {
      "cell_type": "code",
      "source": [
        "# modelo más tonto target = 0 - el error de este modelo es igual al target "
      ],
      "metadata": {
        "id": "LYyzNZ_95nqB"
      },
      "execution_count": null,
      "outputs": []
    },
    {
      "cell_type": "code",
      "source": [
        "results_df['sqr_error_tonto'] = results_df['Target'] ** 2"
      ],
      "metadata": {
        "id": "cIKEwZBI500M"
      },
      "execution_count": null,
      "outputs": []
    },
    {
      "cell_type": "code",
      "source": [
        "mse_tonto = results_df['sqr_error_tonto'].mean()"
      ],
      "metadata": {
        "id": "RBCLHcjW6EwJ"
      },
      "execution_count": null,
      "outputs": []
    },
    {
      "cell_type": "code",
      "source": [
        "mse_tonto"
      ],
      "metadata": {
        "colab": {
          "base_uri": "https://localhost:8080/"
        },
        "id": "XHIZTAuC6NK6",
        "outputId": "c380348b-fa8c-4352-8435-b1dcd73b0b69"
      },
      "execution_count": null,
      "outputs": [
        {
          "output_type": "execute_result",
          "data": {
            "text/plain": [
              "0.23122847374437394"
            ]
          },
          "metadata": {},
          "execution_count": 188
        }
      ]
    },
    {
      "cell_type": "code",
      "source": [],
      "metadata": {
        "id": "44O3u4Ph6QX8"
      },
      "execution_count": null,
      "outputs": []
    },
    {
      "cell_type": "markdown",
      "source": [
        "## Rebalancear el dataset"
      ],
      "metadata": {
        "id": "qw2If_jn6XFL"
      }
    },
    {
      "cell_type": "code",
      "source": [
        "#undersamplig\n",
        "df_dev_nonzero = df_dev[df_dev[TARGET_LN]> 0 ] #se queda igual\n",
        "df_dev_zero = df_dev[df_dev[TARGET_LN]== 0 ] # vamos a coger valores random "
      ],
      "metadata": {
        "id": "lPdN8rIf6bqV"
      },
      "execution_count": null,
      "outputs": []
    },
    {
      "cell_type": "code",
      "source": [
        "n_zeros = len(df_dev_nonzero)*4"
      ],
      "metadata": {
        "id": "zYzjaUEw6vph"
      },
      "execution_count": null,
      "outputs": []
    },
    {
      "cell_type": "code",
      "source": [
        "#80% zeros, 20% non zeros"
      ],
      "metadata": {
        "id": "M3fZbQSZ650V"
      },
      "execution_count": null,
      "outputs": []
    },
    {
      "cell_type": "code",
      "source": [
        "# cuanto mas parecido al 50%-50%, pero el undersampling nos quita observaciones"
      ],
      "metadata": {
        "id": "c0YisJOj7LCc"
      },
      "execution_count": null,
      "outputs": []
    },
    {
      "cell_type": "code",
      "source": [
        "df_dev_zero_sample = df_dev_zero.sample(n =n_zeros, random_state= 42 )"
      ],
      "metadata": {
        "id": "U46BUNDz7UW0"
      },
      "execution_count": null,
      "outputs": []
    },
    {
      "cell_type": "code",
      "source": [
        "df_dev_zero_sample.shape"
      ],
      "metadata": {
        "colab": {
          "base_uri": "https://localhost:8080/"
        },
        "id": "Hn1P8iEC7q1a",
        "outputId": "da5a24c6-75d5-444a-845d-113741fb41ed"
      },
      "execution_count": null,
      "outputs": [
        {
          "output_type": "execute_result",
          "data": {
            "text/plain": [
              "(3900, 100)"
            ]
          },
          "metadata": {},
          "execution_count": 194
        }
      ]
    },
    {
      "cell_type": "code",
      "source": [
        "df_dev_sample=pd.concat([df_dev_zero_sample,df_dev_nonzero])"
      ],
      "metadata": {
        "id": "6LkTeh_i7sdi"
      },
      "execution_count": null,
      "outputs": []
    },
    {
      "cell_type": "markdown",
      "source": [
        "### lanzar un nuevo modelo con la verison rebalanceada"
      ],
      "metadata": {
        "id": "85RJgqqS709D"
      }
    },
    {
      "cell_type": "code",
      "source": [
        "df_dev_sample_X = df_dev_sample.drop(TARGET_LN, axis = 1)\n",
        "df_dev_sample_y = df_dev_sample[[TARGET_LN]]"
      ],
      "metadata": {
        "id": "yEBS27xq8BxU"
      },
      "execution_count": null,
      "outputs": []
    },
    {
      "cell_type": "code",
      "source": [
        "X_train_r, X_test_r, y_train_r, y_test_r = model_selection.train_test_split(\n",
        "    df_dev_sample_X,\n",
        "    df_dev_sample_y,\n",
        "    random_state= 42,\n",
        "    test_size = 0.2\n",
        ")"
      ],
      "metadata": {
        "id": "QjfI7Qjm8IBs"
      },
      "execution_count": null,
      "outputs": []
    },
    {
      "cell_type": "code",
      "source": [
        "# Instanciar el modelo\n",
        "reduced_model = xgb.XGBRegressor(random_state = 42, max_depth = 4,min_child_weight= 20, n_estimators= 80)\n",
        "#n_estimators: numero de iteraciones, a mas iteraciones más probable es el overfitting"
      ],
      "metadata": {
        "id": "cWkwHGHr8PZO"
      },
      "execution_count": null,
      "outputs": []
    },
    {
      "cell_type": "code",
      "source": [
        "reduced_model.fit(X_train_r,y_train_r)"
      ],
      "metadata": {
        "colab": {
          "base_uri": "https://localhost:8080/"
        },
        "id": "V_Q13dqc8eAD",
        "outputId": "73ca69ec-8fa0-4d8b-ee66-22192f0e1a0c"
      },
      "execution_count": null,
      "outputs": [
        {
          "output_type": "stream",
          "name": "stdout",
          "text": [
            "[19:49:37] WARNING: /workspace/src/objective/regression_obj.cu:152: reg:linear is now deprecated in favor of reg:squarederror.\n"
          ]
        },
        {
          "output_type": "execute_result",
          "data": {
            "text/plain": [
              "XGBRegressor(max_depth=4, min_child_weight=20, n_estimators=80, random_state=42)"
            ]
          },
          "metadata": {},
          "execution_count": 199
        }
      ]
    },
    {
      "cell_type": "code",
      "source": [
        "test_prediction_r = pd.DataFrame(reduced_model.predict(X_test_r), columns = ['Prediction'], index = X_test_r.index)"
      ],
      "metadata": {
        "id": "XleApX928VLO"
      },
      "execution_count": null,
      "outputs": []
    },
    {
      "cell_type": "code",
      "source": [
        "results_df_r = y_test_r.join(test_prediction_r)"
      ],
      "metadata": {
        "id": "xxgGvKX28l30"
      },
      "execution_count": null,
      "outputs": []
    },
    {
      "cell_type": "code",
      "source": [
        "results_df_r.sort_values(by = 'Target', ascending = False).head()"
      ],
      "metadata": {
        "colab": {
          "base_uri": "https://localhost:8080/",
          "height": 311
        },
        "id": "a4PL0DPL8sz_",
        "outputId": "7607a017-4abf-408a-8049-d3e718aad8ee"
      },
      "execution_count": null,
      "outputs": [
        {
          "output_type": "error",
          "ename": "KeyError",
          "evalue": "ignored",
          "traceback": [
            "\u001b[0;31m---------------------------------------------------------------------------\u001b[0m",
            "\u001b[0;31mKeyError\u001b[0m                                  Traceback (most recent call last)",
            "\u001b[0;32m<ipython-input-202-88a334e0471b>\u001b[0m in \u001b[0;36m<module>\u001b[0;34m()\u001b[0m\n\u001b[0;32m----> 1\u001b[0;31m \u001b[0mresults_df_r\u001b[0m\u001b[0;34m.\u001b[0m\u001b[0msort_values\u001b[0m\u001b[0;34m(\u001b[0m\u001b[0mby\u001b[0m \u001b[0;34m=\u001b[0m \u001b[0;34m'Target'\u001b[0m\u001b[0;34m,\u001b[0m \u001b[0mascending\u001b[0m \u001b[0;34m=\u001b[0m \u001b[0;32mFalse\u001b[0m\u001b[0;34m)\u001b[0m\u001b[0;34m.\u001b[0m\u001b[0mhead\u001b[0m\u001b[0;34m(\u001b[0m\u001b[0;34m)\u001b[0m\u001b[0;34m\u001b[0m\u001b[0;34m\u001b[0m\u001b[0m\n\u001b[0m",
            "\u001b[0;32m/usr/local/lib/python3.7/dist-packages/pandas/util/_decorators.py\u001b[0m in \u001b[0;36mwrapper\u001b[0;34m(*args, **kwargs)\u001b[0m\n\u001b[1;32m    309\u001b[0m                     \u001b[0mstacklevel\u001b[0m\u001b[0;34m=\u001b[0m\u001b[0mstacklevel\u001b[0m\u001b[0;34m,\u001b[0m\u001b[0;34m\u001b[0m\u001b[0;34m\u001b[0m\u001b[0m\n\u001b[1;32m    310\u001b[0m                 )\n\u001b[0;32m--> 311\u001b[0;31m             \u001b[0;32mreturn\u001b[0m \u001b[0mfunc\u001b[0m\u001b[0;34m(\u001b[0m\u001b[0;34m*\u001b[0m\u001b[0margs\u001b[0m\u001b[0;34m,\u001b[0m \u001b[0;34m**\u001b[0m\u001b[0mkwargs\u001b[0m\u001b[0;34m)\u001b[0m\u001b[0;34m\u001b[0m\u001b[0;34m\u001b[0m\u001b[0m\n\u001b[0m\u001b[1;32m    312\u001b[0m \u001b[0;34m\u001b[0m\u001b[0m\n\u001b[1;32m    313\u001b[0m         \u001b[0;32mreturn\u001b[0m \u001b[0mwrapper\u001b[0m\u001b[0;34m\u001b[0m\u001b[0;34m\u001b[0m\u001b[0m\n",
            "\u001b[0;32m/usr/local/lib/python3.7/dist-packages/pandas/core/frame.py\u001b[0m in \u001b[0;36msort_values\u001b[0;34m(self, by, axis, ascending, inplace, kind, na_position, ignore_index, key)\u001b[0m\n\u001b[1;32m   6257\u001b[0m \u001b[0;34m\u001b[0m\u001b[0m\n\u001b[1;32m   6258\u001b[0m             \u001b[0mby\u001b[0m \u001b[0;34m=\u001b[0m \u001b[0mby\u001b[0m\u001b[0;34m[\u001b[0m\u001b[0;36m0\u001b[0m\u001b[0;34m]\u001b[0m\u001b[0;34m\u001b[0m\u001b[0;34m\u001b[0m\u001b[0m\n\u001b[0;32m-> 6259\u001b[0;31m             \u001b[0mk\u001b[0m \u001b[0;34m=\u001b[0m \u001b[0mself\u001b[0m\u001b[0;34m.\u001b[0m\u001b[0m_get_label_or_level_values\u001b[0m\u001b[0;34m(\u001b[0m\u001b[0mby\u001b[0m\u001b[0;34m,\u001b[0m \u001b[0maxis\u001b[0m\u001b[0;34m=\u001b[0m\u001b[0maxis\u001b[0m\u001b[0;34m)\u001b[0m\u001b[0;34m\u001b[0m\u001b[0;34m\u001b[0m\u001b[0m\n\u001b[0m\u001b[1;32m   6260\u001b[0m \u001b[0;34m\u001b[0m\u001b[0m\n\u001b[1;32m   6261\u001b[0m             \u001b[0;31m# need to rewrap column in Series to apply key function\u001b[0m\u001b[0;34m\u001b[0m\u001b[0;34m\u001b[0m\u001b[0;34m\u001b[0m\u001b[0m\n",
            "\u001b[0;32m/usr/local/lib/python3.7/dist-packages/pandas/core/generic.py\u001b[0m in \u001b[0;36m_get_label_or_level_values\u001b[0;34m(self, key, axis)\u001b[0m\n\u001b[1;32m   1777\u001b[0m             \u001b[0mvalues\u001b[0m \u001b[0;34m=\u001b[0m \u001b[0mself\u001b[0m\u001b[0;34m.\u001b[0m\u001b[0maxes\u001b[0m\u001b[0;34m[\u001b[0m\u001b[0maxis\u001b[0m\u001b[0;34m]\u001b[0m\u001b[0;34m.\u001b[0m\u001b[0mget_level_values\u001b[0m\u001b[0;34m(\u001b[0m\u001b[0mkey\u001b[0m\u001b[0;34m)\u001b[0m\u001b[0;34m.\u001b[0m\u001b[0m_values\u001b[0m\u001b[0;34m\u001b[0m\u001b[0;34m\u001b[0m\u001b[0m\n\u001b[1;32m   1778\u001b[0m         \u001b[0;32melse\u001b[0m\u001b[0;34m:\u001b[0m\u001b[0;34m\u001b[0m\u001b[0;34m\u001b[0m\u001b[0m\n\u001b[0;32m-> 1779\u001b[0;31m             \u001b[0;32mraise\u001b[0m \u001b[0mKeyError\u001b[0m\u001b[0;34m(\u001b[0m\u001b[0mkey\u001b[0m\u001b[0;34m)\u001b[0m\u001b[0;34m\u001b[0m\u001b[0;34m\u001b[0m\u001b[0m\n\u001b[0m\u001b[1;32m   1780\u001b[0m \u001b[0;34m\u001b[0m\u001b[0m\n\u001b[1;32m   1781\u001b[0m         \u001b[0;31m# Check for duplicates\u001b[0m\u001b[0;34m\u001b[0m\u001b[0;34m\u001b[0m\u001b[0;34m\u001b[0m\u001b[0m\n",
            "\u001b[0;31mKeyError\u001b[0m: 'Target'"
          ]
        }
      ]
    },
    {
      "cell_type": "code",
      "source": [
        "# todavia estamos en una situacion en que predecimos por debajo del valor real del target\n",
        "# necesitamos rebalancear mas el dataset"
      ],
      "metadata": {
        "id": "KXVxJF5X81r4"
      },
      "execution_count": null,
      "outputs": []
    },
    {
      "cell_type": "code",
      "source": [
        "results_df_r.columns = ['Target','Prediction']"
      ],
      "metadata": {
        "id": "u92xufbn9MTo"
      },
      "execution_count": null,
      "outputs": []
    },
    {
      "cell_type": "code",
      "source": [
        "results_df_r['Error'] = results_df_r['Target'] - results_df_r['Prediction']"
      ],
      "metadata": {
        "id": "73U3H6Yr9T2H"
      },
      "execution_count": null,
      "outputs": []
    },
    {
      "cell_type": "code",
      "source": [
        "results_df_r['sq_Error'] = results_df_r['Error'] ** 2"
      ],
      "metadata": {
        "id": "tYApw8hi9m98"
      },
      "execution_count": null,
      "outputs": []
    },
    {
      "cell_type": "code",
      "source": [
        "mse_r = results_df_r['sq_Error'].mean()"
      ],
      "metadata": {
        "id": "PvzgWEAK9uww"
      },
      "execution_count": null,
      "outputs": []
    },
    {
      "cell_type": "code",
      "source": [
        "mse_r"
      ],
      "metadata": {
        "id": "Ld47DaI-9yRc"
      },
      "execution_count": null,
      "outputs": []
    },
    {
      "cell_type": "code",
      "source": [
        "## mse_r mucho más alto, porque la distribucion ha cambiado\n",
        "## modelo tonto, predice siempre 0, se va a equivocar un 20% de las veces "
      ],
      "metadata": {
        "id": "lyVHh77m939O"
      },
      "execution_count": null,
      "outputs": []
    },
    {
      "cell_type": "code",
      "source": [
        "results_df_r['error_tonto'] = results_df_r['Target'] ** 2"
      ],
      "metadata": {
        "id": "detXGkuE-Luo"
      },
      "execution_count": null,
      "outputs": []
    },
    {
      "cell_type": "code",
      "source": [
        "results_df_r['error_tonto'].mean()"
      ],
      "metadata": {
        "id": "-pbbDiHb-Q_n"
      },
      "execution_count": null,
      "outputs": []
    },
    {
      "cell_type": "code",
      "source": [],
      "metadata": {
        "id": "ZOsOKaJe-bsx"
      },
      "execution_count": null,
      "outputs": []
    }
  ]
}